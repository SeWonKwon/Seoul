{
 "cells": [
  {
   "cell_type": "markdown",
   "id": "eaed3936",
   "metadata": {},
   "source": [
    "<a href='https://github.com/SeWonKwon' ><div> <img src ='https://slid-capture.s3.ap-northeast-2.amazonaws.com/public/image_upload/6556674324ed41a289a354258718280d/964e5a8b-75ad-41fc-ae75-0ca66d06fbc7.png' align='left' /> </div></a>\n"
   ]
  },
  {
   "cell_type": "markdown",
   "id": "5ccb4ab6",
   "metadata": {},
   "source": [
    "목표: 서울시 상권을 분석하여 비즈니스 모델 및 추천 시스템 구성"
   ]
  },
  {
   "cell_type": "markdown",
   "id": "d5518066",
   "metadata": {},
   "source": [
    "1. 서울시에서 선정한 상권분리를 기초로 하여 각 상권을 시각화 및 특성 파악\n",
    "    * 관련 자료: 상권.geojson\n",
    "    * 관련 코드: A001, \n",
    "\n",
    "\n",
    "2. 상권의 특징을 나타 낼수 있는 자료 수집,전처리 및 EDA\n",
    "    * 관련 자료:\n",
    "    * 관련 코드: 리뷰수집폴더, \n",
    "    1. 상권 자료 전처리\n",
    "    2. 지리 자료 전처리 및 수집\n",
    "    3. 웹 스크롤링을 통한 상권 정보 수집"
   ]
  },
  {
   "cell_type": "code",
   "execution_count": null,
   "id": "7a17fd50",
   "metadata": {},
   "outputs": [],
   "source": []
  }
 ],
 "metadata": {
  "kernelspec": {
   "display_name": "Python 3 (ipykernel)",
   "language": "python",
   "name": "python3"
  },
  "language_info": {
   "codemirror_mode": {
    "name": "ipython",
    "version": 3
   },
   "file_extension": ".py",
   "mimetype": "text/x-python",
   "name": "python",
   "nbconvert_exporter": "python",
   "pygments_lexer": "ipython3",
   "version": "3.8.11"
  },
  "toc": {
   "base_numbering": 1,
   "nav_menu": {},
   "number_sections": true,
   "sideBar": true,
   "skip_h1_title": false,
   "title_cell": "Table of Contents",
   "title_sidebar": "Contents",
   "toc_cell": false,
   "toc_position": {},
   "toc_section_display": true,
   "toc_window_display": false
  }
 },
 "nbformat": 4,
 "nbformat_minor": 5
}
