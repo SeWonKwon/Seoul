{
 "cells": [
  {
   "cell_type": "markdown",
   "id": "aa5f0011",
   "metadata": {},
   "source": [
    "<a href='https://github.com/SeWonKwon' ><div> <img src ='https://slid-capture.s3.ap-northeast-2.amazonaws.com/public/image_upload/6556674324ed41a289a354258718280d/964e5a8b-75ad-41fc-ae75-0ca66d06fbc7.png' align='left' /> </div></a>\n"
   ]
  },
  {
   "cell_type": "markdown",
   "id": "9df620d6",
   "metadata": {},
   "source": [
    "# 관련 라이브러 및 함수 정의"
   ]
  },
  {
   "cell_type": "markdown",
   "id": "d1b1214c",
   "metadata": {},
   "source": [
    "## 라이브러리 로드"
   ]
  },
  {
   "cell_type": "code",
   "execution_count": 1,
   "id": "b0096727",
   "metadata": {
    "ExecuteTime": {
     "end_time": "2021-10-26T15:59:33.414949Z",
     "start_time": "2021-10-26T15:59:29.704576Z"
    }
   },
   "outputs": [],
   "source": [
    "# 기초 전처리\n",
    "import pandas as pd\n",
    "import numpy as np\n",
    "import geopandas as gpd\n",
    "# from tqdm import tqdm\n",
    "%matplotlib inline\n",
    "\n",
    "# 시각화\n",
    "import matplotlib.pyplot as plt\n",
    "import seaborn as sns\n",
    "import folium\n",
    "import os\n",
    "\n",
    "# 캔버스 사이즈 적용\n",
    "plt.rcParams['figure.figsize'] = (12, 9)\n",
    "\n",
    "# 컬럼 전체 확인 가능하도록 출력 범위 설정\n",
    "pd.set_option('display.max_columns', 500)\n",
    "pd.set_option('display.width', 10000)\n",
    "\n",
    "# 불필요한 경고 표시 생략\n",
    "import warnings\n",
    "warnings.filterwarnings(action = 'ignore')"
   ]
  },
  {
   "cell_type": "code",
   "execution_count": 2,
   "id": "068049ef",
   "metadata": {
    "ExecuteTime": {
     "end_time": "2021-10-26T15:59:33.505031Z",
     "start_time": "2021-10-26T15:59:33.415949Z"
    }
   },
   "outputs": [],
   "source": [
    "# 지도 시각화\n",
    "import folium\n",
    "from folium import plugins"
   ]
  },
  {
   "cell_type": "markdown",
   "id": "bc4e6c9c",
   "metadata": {},
   "source": [
    "## 필요 함수 로드"
   ]
  },
  {
   "cell_type": "markdown",
   "id": "009d00b9",
   "metadata": {},
   "source": [
    "### 데이타 테이블 처리 함수"
   ]
  },
  {
   "cell_type": "code",
   "execution_count": 3,
   "id": "9e32ee95",
   "metadata": {
    "ExecuteTime": {
     "end_time": "2021-10-26T15:59:33.520045Z",
     "start_time": "2021-10-26T15:59:33.506033Z"
    }
   },
   "outputs": [],
   "source": [
    "def get_str(x):\n",
    "    return str(x)\n",
    "\n",
    "def get_object_type(df):\n",
    "    df['상권_코드'] = df['상권_코드'].apply(get_str)\n",
    "    df.astype({'상권_코드':object})\n",
    "    try:\n",
    "        df.drop('상권_이름', inplace=True, axis=1)\n",
    "    except:\n",
    "        pass\n",
    "    return df"
   ]
  },
  {
   "cell_type": "code",
   "execution_count": 4,
   "id": "149ea52c",
   "metadata": {
    "ExecuteTime": {
     "end_time": "2021-10-26T15:59:33.535057Z",
     "start_time": "2021-10-26T15:59:33.521046Z"
    }
   },
   "outputs": [],
   "source": [
    "def get_base(only_골목=True):\n",
    "    bs_area = gpd.read_file('data/geojson/상권_geometry_좌표.geojson', driver= 'GeoJSON')\n",
    "    if only_골목:\n",
    "        bs_area= bs_area[bs_area['TRDAR_SE_C'] == 'A']\n",
    "\n",
    "    df_base = bs_area[['TRDAR_CD','TRDAR_SE_1']].sort_values('TRDAR_CD').reset_index(drop=True)\n",
    "    df_base.columns = ['상권_코드', '상권_이름']\n",
    "    df_base = get_object_type(df_base)\n",
    "    return df_base"
   ]
  },
  {
   "cell_type": "markdown",
   "id": "4f6b6a17",
   "metadata": {},
   "source": [
    "### 상권 시각화 코드"
   ]
  },
  {
   "cell_type": "code",
   "execution_count": 5,
   "id": "9b4a9f27",
   "metadata": {
    "ExecuteTime": {
     "end_time": "2021-10-26T15:59:33.550072Z",
     "start_time": "2021-10-26T15:59:33.536059Z"
    }
   },
   "outputs": [],
   "source": [
    "# 리스트 담은 상권 코드 시각화\n",
    "\n",
    "def vis_by_selected_상권_코드(selected_list_상권코드):\n",
    "    bs_cd = bs_area[bs_area['TRDAR_CD'].isin(selected_list_상권코드)]\n",
    "    data = np.array(bs_cd[['y','x']])\n",
    "    popups1 = bs_cd['TRDAR_CD_N'].to_list()\n",
    "    popups2 = bs_cd['TRDAR_SE_1'].to_list()\n",
    "\n",
    "    popups = [a + '_' + b for a, b in zip(popups1, popups2)]\n",
    "    m = folium.Map(location=[37.52915424294603, 126.98045169603408],\n",
    "    #                tiles='Stamen Toner',\n",
    "    #                tiles='Stamen Watercolor',\n",
    "    #                tiles='Stamen Terrain',\n",
    "                   zoom_start=11)\n",
    "\n",
    "    folium.Choropleth( geo_data=seoul_lay,\n",
    "                       fill_color=cmaps3[0],\n",
    "                       fill_opacity=0.2,\n",
    "                       line_opacity=0.5).add_to(m)\n",
    "\n",
    "    for idx, se in  enumerate(bs_area['TRDAR_SE_C'].unique()):\n",
    "        folium.Choropleth( geo_data=bs_area[bs_area['TRDAR_SE_C']==se],\n",
    "                           fill_color=cmaps3[idx+1],\n",
    "                           fill_opacity=0.5,\n",
    "                           line_opacity=0.3 ).add_to(m)\n",
    "\n",
    "    plugins.MarkerCluster(data, popups=popups).add_to(m)\n",
    "\n",
    "    folium.LayerControl().add_to(m)\n",
    "    \n",
    "    return m"
   ]
  },
  {
   "cell_type": "markdown",
   "id": "dff0dca0",
   "metadata": {},
   "source": [
    "# 기본 데이터 로드"
   ]
  },
  {
   "cell_type": "markdown",
   "id": "ef8d48c8",
   "metadata": {},
   "source": [
    "## 서울시 골목상권 및 상권 관련 자료 리스트"
   ]
  },
  {
   "cell_type": "markdown",
   "id": "b5dc9c92",
   "metadata": {},
   "source": [
    "* 골목상권 분석 사이트 : https://golmok.seoul.go.kr/main.do"
   ]
  },
  {
   "cell_type": "markdown",
   "id": "afe42abd",
   "metadata": {},
   "source": [
    "**용어 정리**\n",
    "\n",
    "* 배후지란? 상권 영역으로 부터 200m 안"
   ]
  },
  {
   "attachments": {},
   "cell_type": "markdown",
   "id": "27b54368",
   "metadata": {},
   "source": [
    "1. 상권-추정매출(2014~2021_2분기) /배후지 추정매출(동일) : \n",
    "\n",
    "2. 생활인구 *상권/배후지* : \n",
    "\n",
    "6. 상주인구 *상권/배후지* :\n",
    "\n",
    "7. 직장인구 *상권/배후지* : \n",
    "\n",
    "3. 점포 *상권/배후지* :\n",
    "\n",
    "4. 아파트 *상권/배후지* :\n",
    "\n",
    "5. 집객시설 *상권/배후지* :\n",
    "\n",
    "8. 소득소비 *배후지* :\n",
    "\n",
    "9. 상권별 생존률 :  https://golmok.seoul.go.kr/businessAreaAnalysis.do"
   ]
  },
  {
   "cell_type": "markdown",
   "id": "ceefbcf9",
   "metadata": {},
   "source": [
    "## 상권 지리 테이블 로드"
   ]
  },
  {
   "cell_type": "code",
   "execution_count": 6,
   "id": "0623afaa",
   "metadata": {
    "ExecuteTime": {
     "end_time": "2021-10-26T15:59:34.015495Z",
     "start_time": "2021-10-26T15:59:33.551072Z"
    }
   },
   "outputs": [],
   "source": [
    "bs_area = gpd.read_file('data/geojson/상권_geometry_좌표.geojson', driver= 'GeoJSON')"
   ]
  },
  {
   "cell_type": "code",
   "execution_count": 7,
   "id": "1b79006e",
   "metadata": {
    "ExecuteTime": {
     "end_time": "2021-10-26T15:59:34.751196Z",
     "start_time": "2021-10-26T15:59:34.016497Z"
    }
   },
   "outputs": [],
   "source": [
    "url='https://raw.githubusercontent.com/suanlab/dataset/master'\n",
    "seoul_geo = f'{url}/seoul_municipalities_geo_simple.json'\n",
    "seoul_lay = gpd.read_file(seoul_geo)"
   ]
  },
  {
   "cell_type": "code",
   "execution_count": 8,
   "id": "de205c61",
   "metadata": {
    "ExecuteTime": {
     "end_time": "2021-10-26T15:59:34.766212Z",
     "start_time": "2021-10-26T15:59:34.752196Z"
    }
   },
   "outputs": [
    {
     "data": {
      "text/html": [
       "<div>\n",
       "<style scoped>\n",
       "    .dataframe tbody tr th:only-of-type {\n",
       "        vertical-align: middle;\n",
       "    }\n",
       "\n",
       "    .dataframe tbody tr th {\n",
       "        vertical-align: top;\n",
       "    }\n",
       "\n",
       "    .dataframe thead th {\n",
       "        text-align: right;\n",
       "    }\n",
       "</style>\n",
       "<table border=\"1\" class=\"dataframe\">\n",
       "  <thead>\n",
       "    <tr style=\"text-align: right;\">\n",
       "      <th></th>\n",
       "      <th>TRDAR_SE_C</th>\n",
       "      <th>TRDAR_SE_1</th>\n",
       "      <th>TRDAR_CD</th>\n",
       "      <th>TRDAR_CD_N</th>\n",
       "      <th>XCNTS_VALU</th>\n",
       "      <th>YDNTS_VALU</th>\n",
       "      <th>SIGNGU_CD</th>\n",
       "      <th>ADSTRD_CD</th>\n",
       "      <th>STDR_YM_CD</th>\n",
       "      <th>area</th>\n",
       "      <th>perimeter</th>\n",
       "      <th>x</th>\n",
       "      <th>y</th>\n",
       "      <th>geometry</th>\n",
       "    </tr>\n",
       "  </thead>\n",
       "  <tbody>\n",
       "    <tr>\n",
       "      <th>0</th>\n",
       "      <td>R</td>\n",
       "      <td>전통시장</td>\n",
       "      <td>1001453</td>\n",
       "      <td>낙성대시장</td>\n",
       "      <td>196121</td>\n",
       "      <td>442084</td>\n",
       "      <td>11620</td>\n",
       "      <td>11620585</td>\n",
       "      <td>201810</td>\n",
       "      <td>15720.885857</td>\n",
       "      <td>614.725259</td>\n",
       "      <td>126.956149</td>\n",
       "      <td>37.478185</td>\n",
       "      <td>MULTIPOLYGON (((126.95719 37.47880, 126.95689 ...</td>\n",
       "    </tr>\n",
       "    <tr>\n",
       "      <th>1</th>\n",
       "      <td>R</td>\n",
       "      <td>전통시장</td>\n",
       "      <td>1001454</td>\n",
       "      <td>봉천제일종합시장</td>\n",
       "      <td>195147</td>\n",
       "      <td>442413</td>\n",
       "      <td>11620</td>\n",
       "      <td>11620595</td>\n",
       "      <td>201810</td>\n",
       "      <td>9643.280304</td>\n",
       "      <td>478.077580</td>\n",
       "      <td>126.945127</td>\n",
       "      <td>37.481142</td>\n",
       "      <td>MULTIPOLYGON (((126.94621 37.48127, 126.94614 ...</td>\n",
       "    </tr>\n",
       "  </tbody>\n",
       "</table>\n",
       "</div>"
      ],
      "text/plain": [
       "  TRDAR_SE_C TRDAR_SE_1 TRDAR_CD TRDAR_CD_N  XCNTS_VALU  YDNTS_VALU SIGNGU_CD ADSTRD_CD STDR_YM_CD          area   perimeter           x          y                                           geometry\n",
       "0          R       전통시장  1001453      낙성대시장      196121      442084     11620  11620585     201810  15720.885857  614.725259  126.956149  37.478185  MULTIPOLYGON (((126.95719 37.47880, 126.95689 ...\n",
       "1          R       전통시장  1001454   봉천제일종합시장      195147      442413     11620  11620595     201810   9643.280304  478.077580  126.945127  37.481142  MULTIPOLYGON (((126.94621 37.48127, 126.94614 ..."
      ]
     },
     "execution_count": 8,
     "metadata": {},
     "output_type": "execute_result"
    }
   ],
   "source": [
    "bs_area.head(2)"
   ]
  },
  {
   "cell_type": "markdown",
   "id": "d871f31b",
   "metadata": {},
   "source": [
    "## 추정 매출 상권/배후지"
   ]
  },
  {
   "cell_type": "code",
   "execution_count": 27,
   "id": "96abc32c",
   "metadata": {
    "ExecuteTime": {
     "end_time": "2021-10-26T16:12:29.799960Z",
     "start_time": "2021-10-26T16:12:22.614427Z"
    }
   },
   "outputs": [],
   "source": [
    "df_rev_14 = pd.read_csv('data/seoul-raw/상권/추정매출/서울시 우리마을가게 상권분석서비스(상권-추정매출)_2014.csv', encoding='cp949')\n",
    "df_rev_15 = pd.read_csv('data/seoul-raw/상권/추정매출/서울시 우리마을가게 상권분석서비스(상권-추정매출)_2015.csv', encoding='cp949')\n",
    "df_rev_16 = pd.read_csv('data/seoul-raw/상권/추정매출/서울시 우리마을가게 상권분석서비스(상권-추정매출)_2016.csv', encoding='cp949')\n",
    "df_rev_17 = pd.read_csv('data/seoul-raw/상권/추정매출/서울시 우리마을가게 상권분석서비스(상권-추정매출)_2017.csv', encoding='cp949')\n",
    "df_rev_18 = pd.read_csv('data/seoul-raw/상권/추정매출/서울시 우리마을가게 상권분석서비스(상권-추정매출)_2018.csv', encoding='cp949')\n",
    "df_rev_19 = pd.read_csv('data/seoul-raw/상권/추정매출/서울시 우리마을가게 상권분석서비스(상권-추정매출)_2019.csv', encoding='cp949')\n",
    "df_rev_20 = pd.read_csv('data/seoul-raw/상권/추정매출/서울시 우리마을가게 상권분석서비스(상권-추정매출)_2020.csv', encoding='cp949')\n",
    "df_rev_21 = pd.read_csv('data/seoul-raw/상권/추정매출/서울시 우리마을가게 상권분석서비스(상권-추정매출)_2021.csv', encoding='cp949')"
   ]
  },
  {
   "cell_type": "code",
   "execution_count": 37,
   "id": "a7cee84c",
   "metadata": {
    "ExecuteTime": {
     "end_time": "2021-10-26T16:21:08.491544Z",
     "start_time": "2021-10-26T16:20:58.373050Z"
    }
   },
   "outputs": [],
   "source": [
    "df_b_rev_14 = pd.read_csv('data/seoul-raw/상권/추정매출/2014년_우리마을가게_상권서비스_상권배후지-추정매출.csv', encoding='cp949')\n",
    "df_b_rev_15 = pd.read_csv('data/seoul-raw/상권/추정매출/2015년_우리마을가게_상권서비스_상권배후지-추정매출.csv', encoding='cp949')\n",
    "df_b_rev_16 = pd.read_csv('data/seoul-raw/상권/추정매출/2016년_우리마을가게_상권서비스_상권배후지-추정매출.csv', encoding='cp949')\n",
    "df_b_rev_17 = pd.read_csv('data/seoul-raw/상권/추정매출/2017년_우리마을가게_상권서비스_상권배후지-추정매출.csv', encoding='cp949')\n",
    "df_b_rev_18 = pd.read_csv('data/seoul-raw/상권/추정매출/2018년_우리마을가게_상권서비스_상권배후지-추정매출.csv', encoding='cp949')\n",
    "df_b_rev_19 = pd.read_csv('data/seoul-raw/상권/추정매출/2019년_우리마을가게_상권서비스_상권배후지-추정매출.csv', encoding='cp949')\n",
    "df_b_rev_20 = pd.read_csv('data/seoul-raw/상권/추정매출/2020년_우리마을가게_상권서비스_상권배후지-추정매출.csv', encoding='cp949')\n",
    "df_b_rev_21 = pd.read_csv('data/seoul-raw/상권/추정매출/2021년_서울시 우리마을가게 상권분석서비스(상권배후지-추정매출).csv', encoding='cp949')"
   ]
  },
  {
   "cell_type": "markdown",
   "id": "63cccc3f",
   "metadata": {},
   "source": [
    "## 생활인구 상권/배후지"
   ]
  },
  {
   "cell_type": "code",
   "execution_count": null,
   "id": "6854a551",
   "metadata": {},
   "outputs": [],
   "source": []
  },
  {
   "cell_type": "markdown",
   "id": "c2d4bc31",
   "metadata": {},
   "source": [
    "## 점포 상권/배후지"
   ]
  },
  {
   "cell_type": "code",
   "execution_count": 40,
   "id": "9a3a6109",
   "metadata": {
    "ExecuteTime": {
     "end_time": "2021-10-26T17:15:40.407189Z",
     "start_time": "2021-10-26T17:15:39.848910Z"
    }
   },
   "outputs": [],
   "source": [
    "df_store = pd.read_csv('data/seoul-raw/상권/서울시 우리마을가게 상권분석서비스(상권-점포).csv', encoding='cp949')"
   ]
  },
  {
   "cell_type": "code",
   "execution_count": 46,
   "id": "c1a56a6c",
   "metadata": {
    "ExecuteTime": {
     "end_time": "2021-10-26T17:16:29.912244Z",
     "start_time": "2021-10-26T17:16:29.764110Z"
    }
   },
   "outputs": [
    {
     "data": {
      "text/plain": [
       "기준_년_코드           2\n",
       "기준_분기_코드          4\n",
       "상권_구분_코드          4\n",
       "상권_구분_코드_명        4\n",
       "상권_코드          1496\n",
       "상권_코드_명        1496\n",
       "서비스_업종_코드       100\n",
       "서비스_업종_코드_명     100\n",
       "점포_수            493\n",
       "유사_업종_점포_수      510\n",
       "개업_율             51\n",
       "개업_점포_수          32\n",
       "폐업_률             50\n",
       "폐업_점포_수          59\n",
       "프랜차이즈_점포_수       85\n",
       "dtype: int64"
      ]
     },
     "execution_count": 46,
     "metadata": {},
     "output_type": "execute_result"
    }
   ],
   "source": [
    "df_store.nunique()"
   ]
  },
  {
   "cell_type": "markdown",
   "id": "971c5730",
   "metadata": {},
   "source": [
    "## 아파트 상권/배후지"
   ]
  },
  {
   "cell_type": "markdown",
   "id": "ca626ca6",
   "metadata": {},
   "source": [
    "집객시설 상권/배후지"
   ]
  },
  {
   "cell_type": "markdown",
   "id": "47169912",
   "metadata": {},
   "source": [
    "상주인구 상권/배후지"
   ]
  },
  {
   "cell_type": "markdown",
   "id": "42876e1e",
   "metadata": {},
   "source": [
    "직장인구 상권/배후지"
   ]
  },
  {
   "cell_type": "markdown",
   "id": "3b05d32f",
   "metadata": {},
   "source": [
    "소득소비 배후지"
   ]
  },
  {
   "cell_type": "code",
   "execution_count": null,
   "id": "fb9f3671",
   "metadata": {},
   "outputs": [],
   "source": []
  },
  {
   "cell_type": "code",
   "execution_count": null,
   "id": "406e9932",
   "metadata": {},
   "outputs": [],
   "source": []
  }
 ],
 "metadata": {
  "kernelspec": {
   "display_name": "Python 3 (ipykernel)",
   "language": "python",
   "name": "python3"
  },
  "language_info": {
   "codemirror_mode": {
    "name": "ipython",
    "version": 3
   },
   "file_extension": ".py",
   "mimetype": "text/x-python",
   "name": "python",
   "nbconvert_exporter": "python",
   "pygments_lexer": "ipython3",
   "version": "3.8.11"
  },
  "toc": {
   "base_numbering": 1,
   "nav_menu": {},
   "number_sections": true,
   "sideBar": true,
   "skip_h1_title": false,
   "title_cell": "Table of Contents",
   "title_sidebar": "Contents",
   "toc_cell": false,
   "toc_position": {
    "height": "calc(100% - 180px)",
    "left": "10px",
    "top": "150px",
    "width": "293.447px"
   },
   "toc_section_display": true,
   "toc_window_display": true
  }
 },
 "nbformat": 4,
 "nbformat_minor": 5
}
