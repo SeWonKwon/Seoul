{
 "cells": [
  {
   "cell_type": "markdown",
   "metadata": {},
   "source": [
    "<a href='https://github.com/SeWonKwon' ><div> <img src ='https://slid-capture.s3.ap-northeast-2.amazonaws.com/public/image_upload/6556674324ed41a289a354258718280d/964e5a8b-75ad-41fc-ae75-0ca66d06fbc7.png' align='left' /> </div></a>\n"
   ]
  },
  {
   "cell_type": "markdown",
   "metadata": {},
   "source": [
    "1. 네이버 자료\n",
    "\n",
    "2. 네이버 Place 코드\n",
    "    * 기준: 서울시 동별, 업종별\n",
    "    \n",
    "    \n",
    "3. 가게정보, 리뷰 정도 겟\n",
    "\n"
   ]
  },
  {
   "cell_type": "markdown",
   "metadata": {},
   "source": [
    "# 필요함수 및 라이브러리"
   ]
  },
  {
   "cell_type": "code",
   "execution_count": 1,
   "metadata": {
    "ExecuteTime": {
     "end_time": "2021-10-30T10:44:30.965916Z",
     "start_time": "2021-10-30T10:44:30.262754Z"
    }
   },
   "outputs": [],
   "source": [
    "import time\n",
    "import pandas as pd\n",
    "import numpy as np\n",
    "import json\n",
    "\n",
    "from selenium import webdriver\n",
    "from tqdm import tqdm_notebook\n",
    "from selenium.webdriver.common.keys import Keys\n",
    "from selenium.common.exceptions import NoSuchElementException\n",
    "from selenium.common.exceptions import ElementNotInteractableException\n",
    "from selenium.common.exceptions import StaleElementReferenceException\n",
    "from selenium.common.exceptions import ElementClickInterceptedException\n",
    "from webdriver_manager.chrome import ChromeDriverManager\n",
    "from selenium.webdriver.common.by import By\n",
    "\n",
    "import warnings\n",
    "warnings.filterwarnings(action = 'ignore')\n"
   ]
  },
  {
   "cell_type": "markdown",
   "metadata": {},
   "source": [
    "## 파일 관련"
   ]
  },
  {
   "cell_type": "code",
   "execution_count": 2,
   "metadata": {
    "ExecuteTime": {
     "end_time": "2021-10-30T10:44:30.981902Z",
     "start_time": "2021-10-30T10:44:30.968899Z"
    }
   },
   "outputs": [],
   "source": [
    "def get_today():\n",
    "    import datetime\n",
    "    now = datetime.datetime.now()\n",
    "    \n",
    "    nowDate = now.strftime('%Y-%m-%d')\n",
    "#     print(nowDate)      # 2015-04-19\n",
    " \n",
    "    nowTime = now.strftime('%H:%M:%S')\n",
    "#     print(nowTime)      # 12:11:32\n",
    "\n",
    "    nowDatetime = now.strftime('%Y-%m-%d %H:%M:%S')\n",
    "    return nowDate"
   ]
  },
  {
   "cell_type": "code",
   "execution_count": 3,
   "metadata": {
    "ExecuteTime": {
     "end_time": "2021-10-30T10:44:30.997920Z",
     "start_time": "2021-10-30T10:44:30.987904Z"
    }
   },
   "outputs": [],
   "source": [
    "import os\n",
    "def check_file(file_path, file_name):\n",
    "    return os.path.isfile(file_path+file_name)"
   ]
  },
  {
   "cell_type": "code",
   "execution_count": 4,
   "metadata": {
    "ExecuteTime": {
     "end_time": "2021-10-30T10:44:31.013908Z",
     "start_time": "2021-10-30T10:44:31.000906Z"
    }
   },
   "outputs": [],
   "source": [
    "def save_df(df, path, file_name):\n",
    "    df.to_csv(path+file_name, index=False)\n",
    "    print(f'{path+file_name} 저장 완료')"
   ]
  },
  {
   "cell_type": "code",
   "execution_count": 5,
   "metadata": {
    "ExecuteTime": {
     "end_time": "2021-10-30T10:44:31.029912Z",
     "start_time": "2021-10-30T10:44:31.016909Z"
    }
   },
   "outputs": [],
   "source": [
    "def read_csv_코드정보(code_path , code_file):\n",
    "    df = pd.read_csv(code_path + code_file )\n",
    "    return df"
   ]
  },
  {
   "cell_type": "code",
   "execution_count": 6,
   "metadata": {
    "ExecuteTime": {
     "end_time": "2021-10-30T10:44:31.045915Z",
     "start_time": "2021-10-30T10:44:31.032913Z"
    }
   },
   "outputs": [
    {
     "data": {
      "text/plain": [
       "'음식점:DINING, 카페: CAFE, 쇼핑: SHOPPING, 숙박: ACCOMMODATION, 병원의료: HOSPITAL, 은행: BANK,\\n   주요소:OIL, 마트슈퍼: MART, 편의점: STORE, 생활편의: CONVENIENCE, 명소: SIGHTS, 체육시설: SPORT, \\n   영화공연:CINEMA, 관공서:GOVERNMENT'"
      ]
     },
     "execution_count": 6,
     "metadata": {},
     "output_type": "execute_result"
    }
   ],
   "source": [
    "'''음식점:DINING, 카페: CAFE, 쇼핑: SHOPPING, 숙박: ACCOMMODATION, 병원의료: HOSPITAL, 은행: BANK,\n",
    "   주요소:OIL, 마트슈퍼: MART, 편의점: STORE, 생활편의: CONVENIENCE, 명소: SIGHTS, 체육시설: SPORT, \n",
    "   영화공연:CINEMA, 관공서:GOVERNMENT'''"
   ]
  },
  {
   "cell_type": "markdown",
   "metadata": {},
   "source": [
    "###### 서울시 동 load 관련"
   ]
  },
  {
   "cell_type": "code",
   "execution_count": 7,
   "metadata": {
    "ExecuteTime": {
     "end_time": "2021-10-30T10:44:31.061920Z",
     "start_time": "2021-10-30T10:44:31.047916Z"
    }
   },
   "outputs": [],
   "source": [
    "import pickle\n",
    "import collections\n",
    "\n",
    "def get_seoul_dong():\n",
    "    with open('data/서울시_구별_동정리.pickle','rb') as fw:\n",
    "        dong_dict = pickle.load( fw)\n",
    "\n",
    "    dong_key_list = list(dong_dict.keys())\n",
    "    dong_key_list.sort()\n",
    "    # dong_key_list\n",
    "\n",
    "    for 구이름 in dong_key_list:\n",
    "        dong_dict[구이름] = sorted(dong_dict[구이름])\n",
    "    \n",
    "    return dong_dict"
   ]
  },
  {
   "cell_type": "code",
   "execution_count": 8,
   "metadata": {
    "ExecuteTime": {
     "end_time": "2021-10-30T10:44:31.077922Z",
     "start_time": "2021-10-30T10:44:31.064920Z"
    }
   },
   "outputs": [],
   "source": [
    "dong_dict = get_seoul_dong()"
   ]
  },
  {
   "cell_type": "markdown",
   "metadata": {},
   "source": [
    "## 웹 조정 관련"
   ]
  },
  {
   "cell_type": "code",
   "execution_count": 9,
   "metadata": {
    "ExecuteTime": {
     "end_time": "2021-10-30T10:44:31.093927Z",
     "start_time": "2021-10-30T10:44:31.080923Z"
    }
   },
   "outputs": [],
   "source": [
    "def is_clickable(wd):\n",
    "    return wd.is_enabled() and wd.is_displayed()"
   ]
  },
  {
   "cell_type": "code",
   "execution_count": 10,
   "metadata": {
    "ExecuteTime": {
     "end_time": "2021-10-30T10:44:31.109929Z",
     "start_time": "2021-10-30T10:44:31.095926Z"
    }
   },
   "outputs": [],
   "source": [
    "def scroll_down(wd,SCROLL_PAUSE_SEC = 1):\n",
    "\n",
    "    # 스크롤 높이 가져옴\n",
    "    last_height = wd.execute_script(\"return document.body.scrollHeight\")\n",
    "#     print(last_height)\n",
    "    while True:\n",
    "        # 끝까지 스크롤 다운\n",
    "        wd.execute_script(\"window.scrollTo(0, document.body.scrollHeight);\")\n",
    "\n",
    "        # 1초 대기\n",
    "        time.sleep(SCROLL_PAUSE_SEC)\n",
    "\n",
    "        # 스크롤 다운 후 스크롤 높이 다시 가져옴\n",
    "        new_height = wd.execute_script(\"return document.body.scrollHeight\")\n",
    "        if new_height == last_height:\n",
    "            break\n",
    "        last_height = new_height"
   ]
  },
  {
   "cell_type": "markdown",
   "metadata": {},
   "source": [
    "## 크롤링 에러 방지 관련"
   ]
  },
  {
   "cell_type": "code",
   "execution_count": 11,
   "metadata": {
    "ExecuteTime": {
     "end_time": "2021-10-30T10:44:31.124933Z",
     "start_time": "2021-10-30T10:44:31.111930Z"
    }
   },
   "outputs": [],
   "source": [
    "def try_none_text_by_class_name(wd,class_name, col='col'):\n",
    "    try:\n",
    "        return wd.find_element_by_class_name(class_name).text\n",
    "    except NoSuchElementException:\n",
    "        print(col, end=' ')\n",
    "        return np.NaN\n",
    "        "
   ]
  },
  {
   "cell_type": "code",
   "execution_count": 12,
   "metadata": {
    "ExecuteTime": {
     "end_time": "2021-10-30T10:44:31.139937Z",
     "start_time": "2021-10-30T10:44:31.126934Z"
    }
   },
   "outputs": [],
   "source": [
    "def strong_try_none_text_by_class_name(wd,class_name, col='col'):\n",
    "    try:\n",
    "        temps = wd.find_elements_by_class_name(class_name)\n",
    "        for temp in temps:\n",
    "            if temp.text.startswith('편의'):\n",
    "                return temp.text.split('\\n')[1]\n",
    "        else:\n",
    "            return np.NaN\n",
    "    except NoSuchElementException:\n",
    "#         print(col, end='')\n",
    "        return np.NaN\n",
    "        "
   ]
  },
  {
   "cell_type": "code",
   "execution_count": 13,
   "metadata": {
    "ExecuteTime": {
     "end_time": "2021-10-30T10:44:31.155941Z",
     "start_time": "2021-10-30T10:44:31.141937Z"
    }
   },
   "outputs": [],
   "source": [
    "def review_dict(s):\n",
    "    review_dict = {}\n",
    "#     print(s.split('평균 별점'))\n",
    "    s = s.split('평균 별점')\n",
    "    review_dict['평균_별점'] = s[-1].strip()\n",
    "    s = s[0].split('사진')\n",
    "    if len(s) >= 2:\n",
    "        review_dict['사진'] = int(s[-1])\n",
    "        review_dict['리뷰'] = s[0].split()[-1]\n",
    "    else:\n",
    "        review_dict['사진'] = np.NaN\n",
    "        review_dict['리뷰'] = s[0].split()[-1]\n",
    "# print(s)\n",
    "    return review_dict"
   ]
  },
  {
   "cell_type": "markdown",
   "metadata": {},
   "source": [
    "## get_store_info from naver.place by place_code"
   ]
  },
  {
   "cell_type": "code",
   "execution_count": 14,
   "metadata": {
    "ExecuteTime": {
     "end_time": "2021-10-30T10:44:31.219955Z",
     "start_time": "2021-10-30T10:44:31.157941Z"
    }
   },
   "outputs": [],
   "source": [
    "def get_store_info(wd, code_no):\n",
    "    name = wd.find_element_by_class_name('_3XamX').text\n",
    "#     print(name)\n",
    "    r_type = try_none_text_by_class_name(wd,'_3ocDE','ty')\n",
    "#     print(r_type)\n",
    "    address = try_none_text_by_class_name(wd,'_2yqUQ','ad')\n",
    "#     print(address)\n",
    "    tel = try_none_text_by_class_name(wd,'_3ZA0S','tel') \n",
    "#     print(tel)\n",
    "    utility, detail = np.NaN, np.NaN\n",
    "    for i in wd.find_elements_by_class_name('_1M_Iz'):\n",
    "#         print(i.text)\n",
    "        if '편의' in i.text :\n",
    "            utility = i.text.replace('편의\\n','')\n",
    "        elif '설명' in i.text :\n",
    "            detail = i.text.replace('설명\\n', '')\n",
    "    \n",
    "#     print(code_no, utility, detail)\n",
    "    \n",
    "    nums_list = wd.find_elements_by_class_name('_1Y6hi')\n",
    "    try:\n",
    "        score = nums_list[0].find_element_by_tag_name('em').text\n",
    "    except:\n",
    "        score = np.NaN\n",
    "    try:\n",
    "        review_num = nums_list[1].find_element_by_tag_name('em').text\n",
    "    except:\n",
    "        review_num = np.NaN\n",
    "        \n",
    "    try:\n",
    "        blog_nums = nums_list[2].find_element_by_tag_name('em').text\n",
    "    except:\n",
    "        blog_nums = np.NaN\n",
    "#     print(score, review_num, blog_nums)\n",
    "    collected_date = get_today()\n",
    "\n",
    "    # 데이터 렙 펼치기\n",
    "    for i in wd.find_elements_by_class_name('_3iTUo'):\n",
    "        if i.text=='더보기':\n",
    "            i.send_keys('\\n')\n",
    "        else:\n",
    "            pass\n",
    "            \n",
    "    try:\n",
    "        datalab_1 = {}\n",
    "        datalab_list = wd.find_elements_by_class_name('_3Ryhx')\n",
    "        for datalab in datalab_list:\n",
    "            datalab_1[datalab.find_element_by_class_name('_3hvd9').text] = [x.text for x in datalab.find_elements_by_class_name('_2irYJ') if x.text != '']\n",
    "    except:\n",
    "        datalab_1 = np.NaN\n",
    "        print('d_1', end='')\n",
    "#     print(name, datalab_1)\n",
    "\n",
    "    try:\n",
    "        datalab_g = {}\n",
    "        datalab_block = wd.find_element_by_class_name('_250cA')\n",
    "        datalab_age_list = datalab_block.find_elements_by_class_name('_1Nyv0')\n",
    "        for age_info in datalab_age_list:\n",
    "            age = age_info.find_element_by_class_name('iO1iA').text\n",
    "            preference = age_info.find_element_by_class_name('place_blind').text.replace('%','')\n",
    "            datalab_g[age] = preference\n",
    "            \n",
    "        gender_preferance = wd.find_element_by_class_name('c3-chart-arc.c3-target.c3-target-female').text.replace('%',\"\")\n",
    "        datalab_g['female_pref'] = gender_preferance\n",
    "    except:\n",
    "        datalab_g = np.NaN\n",
    "        print('d_g', end=\"\")\n",
    "#     print(datalab_1, datalab_g)\n",
    "\n",
    "    return name, code_no, r_type, address, tel, score, utility, detail, datalab_1, datalab_g, review_num, blog_nums, collected_date"
   ]
  },
  {
   "cell_type": "code",
   "execution_count": 15,
   "metadata": {
    "ExecuteTime": {
     "end_time": "2021-10-30T10:44:31.235958Z",
     "start_time": "2021-10-30T10:44:31.221955Z"
    }
   },
   "outputs": [],
   "source": [
    "def get_store_info_as_NaN(wd, code_no):\n",
    "    collected_date = get_today()\n",
    "    return '삭제된 페이지', code_no, np.NaN, np.NaN, np.NaN, np.NaN, np.NaN, np.NaN, np.NaN, np.NaN, np.NaN, np.NaN, collected_date"
   ]
  },
  {
   "cell_type": "code",
   "execution_count": null,
   "metadata": {},
   "outputs": [],
   "source": []
  },
  {
   "cell_type": "code",
   "execution_count": 16,
   "metadata": {
    "ExecuteTime": {
     "end_time": "2021-10-30T10:44:31.251963Z",
     "start_time": "2021-10-30T10:44:31.237959Z"
    }
   },
   "outputs": [],
   "source": [
    "code_path = 'data/코드/'\n",
    "구이름 = '강남구'\n",
    "업종 = 'DINING'\n",
    "code_file = '가게코드_' + 구이름 + '_'+ 업종 + '.csv'"
   ]
  },
  {
   "cell_type": "code",
   "execution_count": 17,
   "metadata": {
    "ExecuteTime": {
     "end_time": "2021-10-30T10:44:31.283969Z",
     "start_time": "2021-10-30T10:44:31.253962Z"
    }
   },
   "outputs": [],
   "source": [
    "code_df = read_csv_코드정보(code_path, code_file)"
   ]
  },
  {
   "cell_type": "code",
   "execution_count": 18,
   "metadata": {
    "ExecuteTime": {
     "end_time": "2021-10-30T10:44:31.299972Z",
     "start_time": "2021-10-30T10:44:31.285969Z"
    }
   },
   "outputs": [
    {
     "data": {
      "text/plain": [
       "(6995, 2)"
      ]
     },
     "execution_count": 18,
     "metadata": {},
     "output_type": "execute_result"
    }
   ],
   "source": [
    "code_df.shape"
   ]
  },
  {
   "cell_type": "code",
   "execution_count": 19,
   "metadata": {
    "ExecuteTime": {
     "end_time": "2021-10-30T10:44:31.315977Z",
     "start_time": "2021-10-30T10:44:31.301974Z"
    }
   },
   "outputs": [],
   "source": [
    "def naver_map_store_scrapping( 구이름, 업종, slow= 1):\n",
    "    start_time = time.time()\n",
    "\n",
    "    options = webdriver.ChromeOptions()\n",
    "\n",
    "    options.add_argument(\"--start-maximized\")\n",
    "    wd = webdriver.Chrome(ChromeDriverManager().install(), options= options)  # chromedriver 열기\n",
    "    wd.implicitly_wait(1*slow)\n",
    "    \n",
    "    code_path = 'data/코드/'\n",
    "    review_path = 'data/리뷰/'\n",
    "    store_path = 'data/가게/'\n",
    "\n",
    "    code_file = '가게코드_' + 구이름 + '_'+ 업종 + '.csv'\n",
    "    review_file = '리뷰정보_' + 구이름 + '_'+ 업종 + '.csv'\n",
    "    store_file = '가게정보_' + 구이름 + '_'+ 업종 + '.csv'\n",
    "    \n",
    "    store_idx = 0\n",
    "    store_df = pd.DataFrame(columns=(\"name\", \"code_no\", \"r_type\",\"address\",\"tel\",\n",
    "                                     \"score\",\"utility\",\"detail\",\"datalab_1\", \"datalab_g\", \"review_num\",\n",
    "                                     \"blog_num\", \"collected_date\"))\n",
    "    \n",
    "    if check_file(store_path, store_file):\n",
    "        store_df = pd.read_csv(store_path+store_file)\n",
    "        store_idx = store_df.shape[0]\n",
    "    done_list = list(store_df['code_no'].apply(lambda x: str(x)).values)\n",
    "#     print(done_list)\n",
    "    code_df = pd.read_csv(code_path+code_file, dtype='str')\n",
    "    code_list = code_df['store_code'].to_list()\n",
    "    \n",
    "    print(f'{구이름}  {업종} 업종 의 가게 정보 스크래핑을 시작합니다.')\n",
    "\n",
    "    print(f'{code_df.shape[0]}개의 가게코드가 있습니다.')\n",
    "    \n",
    "    print(f'{store_idx}가 이전에 완료 되었었습니다. 이어서 진행합니다.')\n",
    "\n",
    "    for code_no_ in tqdm_notebook(code_list):\n",
    "        code_no = str(code_no_)\n",
    "        if code_no in done_list:\n",
    "#             print(code_no, '중복중복!!')\n",
    "            continue\n",
    "            \n",
    "        place_url = 'https://pcmap.place.naver.com/restaurant/'+str(code_no)\n",
    "\n",
    "        wd.get(place_url)\n",
    "        time.sleep(1*slow)\n",
    "        scroll_down(wd,0.5)\n",
    "        cnt_idx = 0\n",
    "        \n",
    "        # 삭제되거나 없어진 페이지 널값 처리\n",
    "        try:\n",
    "            if wd.find_element(By.CLASS_NAME, '_1--tV').text.startswith('요청하신'):\n",
    "                store_df.loc[store_idx] = get_store_info_as_NaN(wd,code_no)\n",
    "                wd.implicitly_wait(1*slow)\n",
    "                store_idx += 1\n",
    "                time.sleep(5)\n",
    "                print(store_idx, '삭',end='#')\n",
    "                continue\n",
    "        except:\n",
    "            pass\n",
    "        \n",
    "        try:\n",
    "            wd.implicitly_wait(0.001*slow)\n",
    "            store_df.loc[store_idx] = get_store_info(wd,code_no)\n",
    "            wd.implicitly_wait(1*slow)\n",
    "            print(store_idx, end='#')\n",
    "            store_idx += 1\n",
    "            time.sleep(3*slow)\n",
    "            \n",
    "        except:\n",
    "            print(store_idx, end='!!')\n",
    "            pass\n",
    "        \n",
    "        ##################### cooling down\n",
    "        if store_idx%100 == 0 :\n",
    "            wd.close()\n",
    "            wd = webdriver.Chrome(ChromeDriverManager().install(), options= options)  # chromedriver 열기\n",
    "            wd.implicitly_wait(1*slow)\n",
    "            time.sleep(1*slow)\n",
    "            print('chrome reboot')\n",
    "            print('수집된 정보 확인하세요')\n",
    "            display(store_df.tail(3))\n",
    "            \n",
    "        ##################### save just in case:\n",
    "        if store_idx%30 == 0 :\n",
    "            store_df.to_csv(store_path+store_file, index=False)\n",
    "            print(구이름, 업종, f'가게 {store_idx}개 중간저장')\n",
    "            print(f'{time.time()-start_time} 소요')\n",
    "#         ##################### Test Test Test\n",
    "#         if store_idx%10==0:\n",
    "#             store_df.to_csv(store_path+store_file, index=False)\n",
    "#             print(구이름,업종, f'가게 {store_idx}개 완료' )\n",
    "#             print(f'{time.time()-start_time} 소요')\n",
    "#             wd.close()\n",
    "#             break\n",
    "    else:\n",
    "        store_df.to_csv(store_path+store_file, index=False)\n",
    "        print(구이름, 업종, f'가게 {store_idx}개 완료' )\n",
    "        print(f'{time.time()-start_time} 소요')\n",
    "        wd.close()\n",
    "        \n",
    "#     return store_df"
   ]
  },
  {
   "cell_type": "markdown",
   "metadata": {
    "ExecuteTime": {
     "end_time": "2021-10-30T10:26:06.469452Z",
     "start_time": "2021-10-30T10:25:51.109088Z"
    }
   },
   "source": [
    "구이름='강남구'\n",
    "업종='DINING'\n",
    "naver_map_store_scrapping( 구이름, 업종, slow= 1)"
   ]
  },
  {
   "cell_type": "markdown",
   "metadata": {},
   "source": [
    "# 셋팅"
   ]
  },
  {
   "cell_type": "code",
   "execution_count": 20,
   "metadata": {
    "ExecuteTime": {
     "end_time": "2021-10-30T10:44:31.331980Z",
     "start_time": "2021-10-30T10:44:31.317977Z"
    }
   },
   "outputs": [],
   "source": [
    "# code_path = 'data/코드/'\n",
    "# review_path = 'data/리뷰/'\n",
    "# store_path = 'data/가게/'\n",
    "\n",
    "# code_file = '가게코드_' + 구이름 + '_' + 동이름+ '_'+ 업종 + '.csv'\n",
    "# review_file = '리뷰정보_' + 구이름 + '_' + 동이름+ '_'+ 업종 + '.csv'\n",
    "# store_file = '가게정보_' + 구이름 + '_' + 동이름+ '_'+ 업종 + '.csv'"
   ]
  },
  {
   "cell_type": "code",
   "execution_count": 21,
   "metadata": {
    "ExecuteTime": {
     "end_time": "2021-10-30T10:44:31.347984Z",
     "start_time": "2021-10-30T10:44:31.333980Z"
    }
   },
   "outputs": [],
   "source": [
    "code_path = 'data/코드/'\n",
    "store_path = 'data/가게/'\n",
    "# code_file = '가게코드_' + 구이름 + '_'+ 업종 + '.csv'\n",
    "# store_file = '가게정보_' + 구이름 +  '_'+ 업종 + '.csv'"
   ]
  },
  {
   "cell_type": "code",
   "execution_count": 22,
   "metadata": {
    "ExecuteTime": {
     "end_time": "2021-10-30T10:44:31.364002Z",
     "start_time": "2021-10-30T10:44:31.349986Z"
    }
   },
   "outputs": [],
   "source": [
    "detail= True\n",
    "slow=1"
   ]
  },
  {
   "cell_type": "markdown",
   "metadata": {},
   "source": [
    "#  코드 수집 및 저장"
   ]
  },
  {
   "cell_type": "code",
   "execution_count": null,
   "metadata": {
    "ExecuteTime": {
     "start_time": "2021-10-30T10:44:30.345Z"
    },
    "scrolled": false
   },
   "outputs": [
    {
     "name": "stderr",
     "output_type": "stream",
     "text": [
      "[WDM] - \n",
      "\n",
      "[WDM] - ====== WebDriver manager ======\n",
      "[WDM] - Current google-chrome version is 95.0.4638\n",
      "[WDM] - Get LATEST driver version for 95.0.4638\n",
      "[WDM] - Driver [C:\\Users\\N\\.wdm\\drivers\\chromedriver\\win32\\95.0.4638.54\\chromedriver.exe] found in cache\n"
     ]
    },
    {
     "name": "stdout",
     "output_type": "stream",
     "text": [
      "강남구  DINING 업종 의 가게 정보 스크래핑을 시작합니다.\n",
      "6995개의 가게코드가 있습니다.\n",
      "6995가 이전에 완료 되었었습니다. 이어서 진행합니다.\n"
     ]
    },
    {
     "data": {
      "application/vnd.jupyter.widget-view+json": {
       "model_id": "47e62bb71ded4146bebf6f510aeba526",
       "version_major": 2,
       "version_minor": 0
      },
      "text/plain": [
       "HBox(children=(HTML(value=''), FloatProgress(value=0.0, max=6995.0), HTML(value='')))"
      ]
     },
     "metadata": {},
     "output_type": "display_data"
    },
    {
     "name": "stderr",
     "output_type": "stream",
     "text": [
      "[WDM] - \n",
      "\n",
      "[WDM] - ====== WebDriver manager ======\n",
      "[WDM] - Current google-chrome version is 95.0.4638\n",
      "[WDM] - Get LATEST driver version for 95.0.4638\n"
     ]
    },
    {
     "name": "stdout",
     "output_type": "stream",
     "text": [
      "\n",
      "강남구 DINING 가게 6995개 완료\n",
      "2.2154924869537354 소요\n"
     ]
    },
    {
     "name": "stderr",
     "output_type": "stream",
     "text": [
      "[WDM] - Driver [C:\\Users\\N\\.wdm\\drivers\\chromedriver\\win32\\95.0.4638.54\\chromedriver.exe] found in cache\n"
     ]
    },
    {
     "name": "stdout",
     "output_type": "stream",
     "text": [
      "강동구  DINING 업종 의 가게 정보 스크래핑을 시작합니다.\n",
      "3348개의 가게코드가 있습니다.\n",
      "3348가 이전에 완료 되었었습니다. 이어서 진행합니다.\n"
     ]
    },
    {
     "data": {
      "application/vnd.jupyter.widget-view+json": {
       "model_id": "365a3c1684eb454b9013c1d4b93d7c4b",
       "version_major": 2,
       "version_minor": 0
      },
      "text/plain": [
       "HBox(children=(HTML(value=''), FloatProgress(value=0.0, max=3348.0), HTML(value='')))"
      ]
     },
     "metadata": {},
     "output_type": "display_data"
    },
    {
     "name": "stderr",
     "output_type": "stream",
     "text": [
      "[WDM] - \n",
      "\n",
      "[WDM] - ====== WebDriver manager ======\n"
     ]
    },
    {
     "name": "stdout",
     "output_type": "stream",
     "text": [
      "\n",
      "강동구 DINING 가게 3348개 완료\n",
      "1.803422212600708 소요\n"
     ]
    },
    {
     "name": "stderr",
     "output_type": "stream",
     "text": [
      "[WDM] - Current google-chrome version is 95.0.4638\n",
      "[WDM] - Get LATEST driver version for 95.0.4638\n",
      "[WDM] - Driver [C:\\Users\\N\\.wdm\\drivers\\chromedriver\\win32\\95.0.4638.54\\chromedriver.exe] found in cache\n"
     ]
    },
    {
     "name": "stdout",
     "output_type": "stream",
     "text": [
      "강북구  DINING 업종 의 가게 정보 스크래핑을 시작합니다.\n",
      "3067개의 가게코드가 있습니다.\n",
      "3067가 이전에 완료 되었었습니다. 이어서 진행합니다.\n"
     ]
    },
    {
     "data": {
      "application/vnd.jupyter.widget-view+json": {
       "model_id": "4c623ad02e434ffdaf20b32236571735",
       "version_major": 2,
       "version_minor": 0
      },
      "text/plain": [
       "HBox(children=(HTML(value=''), FloatProgress(value=0.0, max=3067.0), HTML(value='')))"
      ]
     },
     "metadata": {},
     "output_type": "display_data"
    },
    {
     "name": "stdout",
     "output_type": "stream",
     "text": [
      "\n",
      "강북구 DINING 가게 3067개 완료\n",
      "1.7652614116668701 소요\n"
     ]
    },
    {
     "name": "stderr",
     "output_type": "stream",
     "text": [
      "[WDM] - \n",
      "\n",
      "[WDM] - ====== WebDriver manager ======\n",
      "[WDM] - Current google-chrome version is 95.0.4638\n",
      "[WDM] - Get LATEST driver version for 95.0.4638\n",
      "[WDM] - Driver [C:\\Users\\N\\.wdm\\drivers\\chromedriver\\win32\\95.0.4638.54\\chromedriver.exe] found in cache\n"
     ]
    },
    {
     "name": "stdout",
     "output_type": "stream",
     "text": [
      "강서구  DINING 업종 의 가게 정보 스크래핑을 시작합니다.\n",
      "4767개의 가게코드가 있습니다.\n",
      "4767가 이전에 완료 되었었습니다. 이어서 진행합니다.\n"
     ]
    },
    {
     "data": {
      "application/vnd.jupyter.widget-view+json": {
       "model_id": "6d5f6520f12d4e7698d6b6027bbdcf35",
       "version_major": 2,
       "version_minor": 0
      },
      "text/plain": [
       "HBox(children=(HTML(value=''), FloatProgress(value=0.0, max=4767.0), HTML(value='')))"
      ]
     },
     "metadata": {},
     "output_type": "display_data"
    },
    {
     "name": "stderr",
     "output_type": "stream",
     "text": [
      "[WDM] - \n",
      "\n",
      "[WDM] - ====== WebDriver manager ======\n",
      "[WDM] - Current google-chrome version is 95.0.4638\n",
      "[WDM] - Get LATEST driver version for 95.0.4638\n"
     ]
    },
    {
     "name": "stdout",
     "output_type": "stream",
     "text": [
      "\n",
      "강서구 DINING 가게 4767개 완료\n",
      "3.8418383598327637 소요\n"
     ]
    },
    {
     "name": "stderr",
     "output_type": "stream",
     "text": [
      "[WDM] - Driver [C:\\Users\\N\\.wdm\\drivers\\chromedriver\\win32\\95.0.4638.54\\chromedriver.exe] found in cache\n"
     ]
    },
    {
     "name": "stdout",
     "output_type": "stream",
     "text": [
      "관악구  DINING 업종 의 가게 정보 스크래핑을 시작합니다.\n",
      "4902개의 가게코드가 있습니다.\n",
      "4902가 이전에 완료 되었었습니다. 이어서 진행합니다.\n"
     ]
    },
    {
     "data": {
      "application/vnd.jupyter.widget-view+json": {
       "model_id": "9dfeba23e4a14058b0829b8e206e46ce",
       "version_major": 2,
       "version_minor": 0
      },
      "text/plain": [
       "HBox(children=(HTML(value=''), FloatProgress(value=0.0, max=4902.0), HTML(value='')))"
      ]
     },
     "metadata": {},
     "output_type": "display_data"
    },
    {
     "name": "stdout",
     "output_type": "stream",
     "text": [
      "\n"
     ]
    },
    {
     "name": "stderr",
     "output_type": "stream",
     "text": [
      "[WDM] - \n",
      "\n",
      "[WDM] - ====== WebDriver manager ======\n",
      "[WDM] - Current google-chrome version is 95.0.4638\n",
      "[WDM] - Get LATEST driver version for 95.0.4638\n"
     ]
    },
    {
     "name": "stdout",
     "output_type": "stream",
     "text": [
      "관악구 DINING 가게 4902개 완료\n",
      "1.8552658557891846 소요\n"
     ]
    },
    {
     "name": "stderr",
     "output_type": "stream",
     "text": [
      "[WDM] - Driver [C:\\Users\\N\\.wdm\\drivers\\chromedriver\\win32\\95.0.4638.54\\chromedriver.exe] found in cache\n"
     ]
    },
    {
     "name": "stdout",
     "output_type": "stream",
     "text": [
      "광진구  DINING 업종 의 가게 정보 스크래핑을 시작합니다.\n",
      "3232개의 가게코드가 있습니다.\n",
      "3232가 이전에 완료 되었었습니다. 이어서 진행합니다.\n"
     ]
    },
    {
     "data": {
      "application/vnd.jupyter.widget-view+json": {
       "model_id": "0a1733d9cdaf4c85aafdd8aa6e57fc98",
       "version_major": 2,
       "version_minor": 0
      },
      "text/plain": [
       "HBox(children=(HTML(value=''), FloatProgress(value=0.0, max=3232.0), HTML(value='')))"
      ]
     },
     "metadata": {},
     "output_type": "display_data"
    },
    {
     "name": "stderr",
     "output_type": "stream",
     "text": [
      "[WDM] - \n",
      "\n",
      "[WDM] - ====== WebDriver manager ======\n",
      "[WDM] - Current google-chrome version is 95.0.4638\n",
      "[WDM] - Get LATEST driver version for 95.0.4638\n",
      "[WDM] - Driver [C:\\Users\\N\\.wdm\\drivers\\chromedriver\\win32\\95.0.4638.54\\chromedriver.exe] found in cache\n"
     ]
    },
    {
     "name": "stdout",
     "output_type": "stream",
     "text": [
      "\n",
      "광진구 DINING 가게 3232개 완료\n",
      "3.8071587085723877 소요\n",
      "구로구  DINING 업종 의 가게 정보 스크래핑을 시작합니다.\n",
      "4022개의 가게코드가 있습니다.\n",
      "4022가 이전에 완료 되었었습니다. 이어서 진행합니다.\n"
     ]
    },
    {
     "data": {
      "application/vnd.jupyter.widget-view+json": {
       "model_id": "bda29317202f48129684f6356c45fd78",
       "version_major": 2,
       "version_minor": 0
      },
      "text/plain": [
       "HBox(children=(HTML(value=''), FloatProgress(value=0.0, max=4022.0), HTML(value='')))"
      ]
     },
     "metadata": {},
     "output_type": "display_data"
    },
    {
     "name": "stderr",
     "output_type": "stream",
     "text": [
      "[WDM] - \n",
      "\n"
     ]
    },
    {
     "name": "stdout",
     "output_type": "stream",
     "text": [
      "\n",
      "구로구 DINING 가게 4022개 완료\n",
      "1.8684217929840088 소요\n"
     ]
    },
    {
     "name": "stderr",
     "output_type": "stream",
     "text": [
      "[WDM] - ====== WebDriver manager ======\n",
      "[WDM] - Current google-chrome version is 95.0.4638\n",
      "[WDM] - Get LATEST driver version for 95.0.4638\n",
      "[WDM] - Driver [C:\\Users\\N\\.wdm\\drivers\\chromedriver\\win32\\95.0.4638.54\\chromedriver.exe] found in cache\n"
     ]
    },
    {
     "name": "stdout",
     "output_type": "stream",
     "text": [
      "금천구  DINING 업종 의 가게 정보 스크래핑을 시작합니다.\n",
      "2443개의 가게코드가 있습니다.\n",
      "2443가 이전에 완료 되었었습니다. 이어서 진행합니다.\n"
     ]
    },
    {
     "data": {
      "application/vnd.jupyter.widget-view+json": {
       "model_id": "f97ef2bca97c41ee84723f4e0851f439",
       "version_major": 2,
       "version_minor": 0
      },
      "text/plain": [
       "HBox(children=(HTML(value=''), FloatProgress(value=0.0, max=2443.0), HTML(value='')))"
      ]
     },
     "metadata": {},
     "output_type": "display_data"
    },
    {
     "name": "stderr",
     "output_type": "stream",
     "text": [
      "[WDM] - \n",
      "\n",
      "[WDM] - ====== WebDriver manager ======\n",
      "[WDM] - Current google-chrome version is 95.0.4638\n",
      "[WDM] - Get LATEST driver version for 95.0.4638\n",
      "[WDM] - Driver [C:\\Users\\N\\.wdm\\drivers\\chromedriver\\win32\\95.0.4638.54\\chromedriver.exe] found in cache\n"
     ]
    },
    {
     "name": "stdout",
     "output_type": "stream",
     "text": [
      "\n",
      "금천구 DINING 가게 2443개 완료\n",
      "4.665848255157471 소요\n",
      "노원구  DINING 업종 의 가게 정보 스크래핑을 시작합니다.\n",
      "3904개의 가게코드가 있습니다.\n",
      "3904가 이전에 완료 되었었습니다. 이어서 진행합니다.\n"
     ]
    },
    {
     "data": {
      "application/vnd.jupyter.widget-view+json": {
       "model_id": "2e71d2142b8d4831988328b85f6ae538",
       "version_major": 2,
       "version_minor": 0
      },
      "text/plain": [
       "HBox(children=(HTML(value=''), FloatProgress(value=0.0, max=3904.0), HTML(value='')))"
      ]
     },
     "metadata": {},
     "output_type": "display_data"
    },
    {
     "name": "stdout",
     "output_type": "stream",
     "text": [
      "\n",
      "노원구 DINING 가게 3904개 완료\n",
      "1.7804079055786133 소요\n"
     ]
    },
    {
     "name": "stderr",
     "output_type": "stream",
     "text": [
      "[WDM] - \n",
      "\n",
      "[WDM] - ====== WebDriver manager ======\n",
      "[WDM] - Current google-chrome version is 95.0.4638\n",
      "[WDM] - Get LATEST driver version for 95.0.4638\n",
      "[WDM] - Driver [C:\\Users\\N\\.wdm\\drivers\\chromedriver\\win32\\95.0.4638.54\\chromedriver.exe] found in cache\n"
     ]
    },
    {
     "name": "stdout",
     "output_type": "stream",
     "text": [
      "도봉구  DINING 업종 의 가게 정보 스크래핑을 시작합니다.\n",
      "2665개의 가게코드가 있습니다.\n",
      "2665가 이전에 완료 되었었습니다. 이어서 진행합니다.\n"
     ]
    },
    {
     "data": {
      "application/vnd.jupyter.widget-view+json": {
       "model_id": "8cbaec5ae1f846e8ba34defdf6d5e75b",
       "version_major": 2,
       "version_minor": 0
      },
      "text/plain": [
       "HBox(children=(HTML(value=''), FloatProgress(value=0.0, max=2665.0), HTML(value='')))"
      ]
     },
     "metadata": {},
     "output_type": "display_data"
    },
    {
     "name": "stderr",
     "output_type": "stream",
     "text": [
      "[WDM] - \n",
      "\n",
      "[WDM] - ====== WebDriver manager ======\n",
      "[WDM] - Current google-chrome version is 95.0.4638\n",
      "[WDM] - Get LATEST driver version for 95.0.4638\n",
      "[WDM] - Driver [C:\\Users\\N\\.wdm\\drivers\\chromedriver\\win32\\95.0.4638.54\\chromedriver.exe] found in cache\n"
     ]
    },
    {
     "name": "stdout",
     "output_type": "stream",
     "text": [
      "\n",
      "도봉구 DINING 가게 2665개 완료\n",
      "3.6557681560516357 소요\n",
      "동대문구  DINING 업종 의 가게 정보 스크래핑을 시작합니다.\n",
      "3621개의 가게코드가 있습니다.\n",
      "3621가 이전에 완료 되었었습니다. 이어서 진행합니다.\n"
     ]
    },
    {
     "data": {
      "application/vnd.jupyter.widget-view+json": {
       "model_id": "88a3cccdb511452794f505c78f3f98a9",
       "version_major": 2,
       "version_minor": 0
      },
      "text/plain": [
       "HBox(children=(HTML(value=''), FloatProgress(value=0.0, max=3621.0), HTML(value='')))"
      ]
     },
     "metadata": {},
     "output_type": "display_data"
    },
    {
     "name": "stdout",
     "output_type": "stream",
     "text": [
      "\n",
      "동대문구 DINING 가게 3621개 완료\n",
      "1.7457067966461182 소요\n"
     ]
    },
    {
     "name": "stderr",
     "output_type": "stream",
     "text": [
      "[WDM] - \n",
      "\n",
      "[WDM] - ====== WebDriver manager ======\n",
      "[WDM] - Current google-chrome version is 95.0.4638\n",
      "[WDM] - Get LATEST driver version for 95.0.4638\n",
      "[WDM] - Driver [C:\\Users\\N\\.wdm\\drivers\\chromedriver\\win32\\95.0.4638.54\\chromedriver.exe] found in cache\n"
     ]
    },
    {
     "name": "stdout",
     "output_type": "stream",
     "text": [
      "동작구  DINING 업종 의 가게 정보 스크래핑을 시작합니다.\n",
      "3453개의 가게코드가 있습니다.\n",
      "3453가 이전에 완료 되었었습니다. 이어서 진행합니다.\n"
     ]
    },
    {
     "data": {
      "application/vnd.jupyter.widget-view+json": {
       "model_id": "9fb7f9ae882f426cbeb294ee4138f238",
       "version_major": 2,
       "version_minor": 0
      },
      "text/plain": [
       "HBox(children=(HTML(value=''), FloatProgress(value=0.0, max=3453.0), HTML(value='')))"
      ]
     },
     "metadata": {},
     "output_type": "display_data"
    },
    {
     "name": "stderr",
     "output_type": "stream",
     "text": [
      "[WDM] - \n",
      "\n",
      "[WDM] - ====== WebDriver manager ======\n",
      "[WDM] - Current google-chrome version is 95.0.4638\n",
      "[WDM] - Get LATEST driver version for 95.0.4638\n"
     ]
    },
    {
     "name": "stdout",
     "output_type": "stream",
     "text": [
      "\n",
      "동작구 DINING 가게 3453개 완료\n",
      "3.7328603267669678 소요\n"
     ]
    },
    {
     "name": "stderr",
     "output_type": "stream",
     "text": [
      "[WDM] - Driver [C:\\Users\\N\\.wdm\\drivers\\chromedriver\\win32\\95.0.4638.54\\chromedriver.exe] found in cache\n"
     ]
    },
    {
     "name": "stdout",
     "output_type": "stream",
     "text": [
      "마포구  DINING 업종 의 가게 정보 스크래핑을 시작합니다.\n",
      "4816개의 가게코드가 있습니다.\n",
      "4816가 이전에 완료 되었었습니다. 이어서 진행합니다.\n"
     ]
    },
    {
     "data": {
      "application/vnd.jupyter.widget-view+json": {
       "model_id": "25ee229997d04c7a8443d635fb8ce0fb",
       "version_major": 2,
       "version_minor": 0
      },
      "text/plain": [
       "HBox(children=(HTML(value=''), FloatProgress(value=0.0, max=4816.0), HTML(value='')))"
      ]
     },
     "metadata": {},
     "output_type": "display_data"
    },
    {
     "name": "stdout",
     "output_type": "stream",
     "text": [
      "\n"
     ]
    },
    {
     "name": "stderr",
     "output_type": "stream",
     "text": [
      "[WDM] - \n",
      "\n",
      "[WDM] - ====== WebDriver manager ======\n",
      "[WDM] - Current google-chrome version is 95.0.4638\n",
      "[WDM] - Get LATEST driver version for 95.0.4638\n"
     ]
    },
    {
     "name": "stdout",
     "output_type": "stream",
     "text": [
      "마포구 DINING 가게 4816개 완료\n",
      "1.9474451541900635 소요\n"
     ]
    },
    {
     "name": "stderr",
     "output_type": "stream",
     "text": [
      "[WDM] - Driver [C:\\Users\\N\\.wdm\\drivers\\chromedriver\\win32\\95.0.4638.54\\chromedriver.exe] found in cache\n"
     ]
    },
    {
     "name": "stdout",
     "output_type": "stream",
     "text": [
      "서대문구  DINING 업종 의 가게 정보 스크래핑을 시작합니다.\n",
      "3960개의 가게코드가 있습니다.\n",
      "1800가 이전에 완료 되었었습니다. 이어서 진행합니다.\n"
     ]
    },
    {
     "data": {
      "application/vnd.jupyter.widget-view+json": {
       "model_id": "7bef7951ba5c492094a36701953394b4",
       "version_major": 2,
       "version_minor": 0
      },
      "text/plain": [
       "HBox(children=(HTML(value=''), FloatProgress(value=0.0, max=3960.0), HTML(value='')))"
      ]
     },
     "metadata": {},
     "output_type": "display_data"
    },
    {
     "name": "stdout",
     "output_type": "stream",
     "text": [
      "1801 삭#1802 삭#d_g1802#d_g1803#d_g1804#d_g1805#d_g1806#d_g1807#d_g1808#d_g1809#d_g1810#d_g1811#d_g1812#d_g1813#d_g1814#d_g1815#d_g1816#d_g1817#d_g1818#d_g1819#d_g1820#d_g1821#d_g1822#d_g1823#d_g1824#tel d_g1825#tel d_g1826#d_g1827#d_g1828#d_g1829#서대문구 DINING 가게 1830개 중간저장\n",
      "204.02089405059814 소요\n",
      "d_g1830#d_g1831#1832#1833#1834#d_g1835#1836#d_g1837#1838#d_g1839#d_g1840#d_g1841#d_g1842#d_g1843#d_g1844#1845#d_g1846#d_g1847#1848#1849#d_g1850#1851#1852#d_g1853#d_g1854#d_g1855#d_g1856#d_g1857#d_g1858#d_g1859#서대문구 DINING 가게 1860개 중간저장\n",
      "410.6590459346771 소요\n",
      "d_g1860#d_g1861#1862#d_g1863#1864#d_g1865#d_g1866#d_g1867#d_g1868#d_g1869#d_g1870#1871#d_g1872#d_g1873#d_g1874#d_g1875#d_g1876#d_g1877#d_g1878#d_g1879#d_g1880#d_g1881#d_g1882#d_g1883#d_g1884#d_g1885#tel d_g1886#d_g1887#1888#d_g1889#서대문구 DINING 가게 1890개 중간저장\n",
      "615.842045545578 소요\n",
      "d_g1890#1891#1892#d_g1893#d_g1894#d_g1895#d_g1896#d_g1897#d_g1898#d_g1899#"
     ]
    },
    {
     "name": "stderr",
     "output_type": "stream",
     "text": [
      "[WDM] - \n",
      "\n",
      "[WDM] - ====== WebDriver manager ======\n",
      "[WDM] - Current google-chrome version is 95.0.4638\n",
      "[WDM] - Get LATEST driver version for 95.0.4638\n",
      "[WDM] - Driver [C:\\Users\\N\\.wdm\\drivers\\chromedriver\\win32\\95.0.4638.54\\chromedriver.exe] found in cache\n"
     ]
    },
    {
     "name": "stdout",
     "output_type": "stream",
     "text": [
      "chrome reboot\n",
      "수집된 정보 확인하세요\n"
     ]
    },
    {
     "data": {
      "text/html": [
       "<div>\n",
       "<style scoped>\n",
       "    .dataframe tbody tr th:only-of-type {\n",
       "        vertical-align: middle;\n",
       "    }\n",
       "\n",
       "    .dataframe tbody tr th {\n",
       "        vertical-align: top;\n",
       "    }\n",
       "\n",
       "    .dataframe thead th {\n",
       "        text-align: right;\n",
       "    }\n",
       "</style>\n",
       "<table border=\"1\" class=\"dataframe\">\n",
       "  <thead>\n",
       "    <tr style=\"text-align: right;\">\n",
       "      <th></th>\n",
       "      <th>name</th>\n",
       "      <th>code_no</th>\n",
       "      <th>r_type</th>\n",
       "      <th>address</th>\n",
       "      <th>tel</th>\n",
       "      <th>score</th>\n",
       "      <th>utility</th>\n",
       "      <th>detail</th>\n",
       "      <th>datalab_1</th>\n",
       "      <th>datalab_g</th>\n",
       "      <th>review_num</th>\n",
       "      <th>blog_num</th>\n",
       "      <th>collected_date</th>\n",
       "    </tr>\n",
       "  </thead>\n",
       "  <tbody>\n",
       "    <tr>\n",
       "      <th>1897</th>\n",
       "      <td>피자탑 마포점</td>\n",
       "      <td>1942177349</td>\n",
       "      <td>피자</td>\n",
       "      <td>서울 마포구 만리재로 74 상가 2동 1층 119호</td>\n",
       "      <td>02-715-9908</td>\n",
       "      <td>4.55</td>\n",
       "      <td>국민지원금</td>\n",
       "      <td>NaN</td>\n",
       "      <td>{}</td>\n",
       "      <td>NaN</td>\n",
       "      <td>56</td>\n",
       "      <td>3</td>\n",
       "      <td>2021-10-30</td>\n",
       "    </tr>\n",
       "    <tr>\n",
       "      <th>1898</th>\n",
       "      <td>옐로우피자 서대문점</td>\n",
       "      <td>1228389113</td>\n",
       "      <td>피자</td>\n",
       "      <td>서울 서대문구 통일로 161-7 1층 옐로우피자 서대문점</td>\n",
       "      <td>02-312-4006</td>\n",
       "      <td>11</td>\n",
       "      <td>포장, 배달, 제로페이, 국민지원금</td>\n",
       "      <td>방문하실때 미리 연락주시고 방문하시면 시간안내가 가능합니다 ^^ 옐로우피자는 매장에...</td>\n",
       "      <td>{}</td>\n",
       "      <td>NaN</td>\n",
       "      <td>NaN</td>\n",
       "      <td>NaN</td>\n",
       "      <td>2021-10-30</td>\n",
       "    </tr>\n",
       "    <tr>\n",
       "      <th>1899</th>\n",
       "      <td>굽네치킨 북아현점</td>\n",
       "      <td>38643914</td>\n",
       "      <td>치킨,닭강정</td>\n",
       "      <td>서울 서대문구 북아현로1길 50 아현역푸르지오</td>\n",
       "      <td>0504-3143-8419</td>\n",
       "      <td>4.39</td>\n",
       "      <td>포장, 배달, 예약, 국민지원금</td>\n",
       "      <td>제품 또는 가게 불만사항의 경우 가게로 전화주시면 빠르게 처리 도와드리겠습니다! (...</td>\n",
       "      <td>{}</td>\n",
       "      <td>NaN</td>\n",
       "      <td>326</td>\n",
       "      <td>8</td>\n",
       "      <td>2021-10-30</td>\n",
       "    </tr>\n",
       "  </tbody>\n",
       "</table>\n",
       "</div>"
      ],
      "text/plain": [
       "            name     code_no  r_type                          address  \\\n",
       "1897     피자탑 마포점  1942177349      피자     서울 마포구 만리재로 74 상가 2동 1층 119호   \n",
       "1898  옐로우피자 서대문점  1228389113      피자  서울 서대문구 통일로 161-7 1층 옐로우피자 서대문점   \n",
       "1899   굽네치킨 북아현점    38643914  치킨,닭강정        서울 서대문구 북아현로1길 50 아현역푸르지오   \n",
       "\n",
       "                 tel score              utility  \\\n",
       "1897     02-715-9908  4.55                국민지원금   \n",
       "1898     02-312-4006    11  포장, 배달, 제로페이, 국민지원금   \n",
       "1899  0504-3143-8419  4.39    포장, 배달, 예약, 국민지원금   \n",
       "\n",
       "                                                 detail datalab_1 datalab_g  \\\n",
       "1897                                                NaN        {}       NaN   \n",
       "1898  방문하실때 미리 연락주시고 방문하시면 시간안내가 가능합니다 ^^ 옐로우피자는 매장에...        {}       NaN   \n",
       "1899  제품 또는 가게 불만사항의 경우 가게로 전화주시면 빠르게 처리 도와드리겠습니다! (...        {}       NaN   \n",
       "\n",
       "     review_num blog_num collected_date  \n",
       "1897         56        3     2021-10-30  \n",
       "1898        NaN      NaN     2021-10-30  \n",
       "1899        326        8     2021-10-30  "
      ]
     },
     "metadata": {},
     "output_type": "display_data"
    },
    {
     "name": "stdout",
     "output_type": "stream",
     "text": [
      "1900#d_g1901#d_g1902#d_g1903#d_g1904#d_g1905#d_g1906#1907#d_g1908#1909#d_g1910#1911#d_g1912#d_g1913#d_g1914#d_g1915#d_g1916#d_g1917#d_g1918#d_g1919#서대문구 DINING 가게 1920개 중간저장\n",
      "836.9597675800323 소요\n",
      "1920#d_g1921#d_g1922#d_g1923#d_g1924#d_g1925#d_g1926#d_g1927#d_g1928#d_g1929#1930#d_g1931#d_g1932#d_g1933#d_g1934#d_g1935#d_g1936#d_g1937#d_g1938#d_g1939#d_g1940#d_g1941#d_g1942#d_g1943#d_g1944#d_g1945#d_g1946#d_g1947#d_g1948#tel d_g1949#서대문구 DINING 가게 1950개 중간저장\n",
      "1051.9148428440094 소요\n",
      "d_g1950#d_g1951#d_g1952#d_g1953#d_g1954#d_g1955#d_g1956#d_g1957#d_g1958#d_g1959#d_g1960#d_g1961#d_g1962#d_g1963#d_g1964#d_g1965#d_g1966#d_g1967#d_g1968#d_g1969#tel d_g1970#d_g1971#d_g1972#d_g1973#1974#d_g1975#d_g1976#1977#d_g1978#d_g1979#서대문구 DINING 가게 1980개 중간저장\n",
      "1260.248741865158 소요\n",
      "d_g1980#d_g1981#d_g1982#1983#d_g1984#d_g1985#d_g1986#d_g1987#1988#1989#d_g1990#d_g1991#d_g1992#tel d_g1993#d_g1994#d_g1995#d_g1996#d_g1997#d_g1998#d_g1999#"
     ]
    },
    {
     "name": "stderr",
     "output_type": "stream",
     "text": [
      "[WDM] - \n",
      "\n",
      "[WDM] - ====== WebDriver manager ======\n",
      "[WDM] - Current google-chrome version is 95.0.4638\n",
      "[WDM] - Get LATEST driver version for 95.0.4638\n",
      "[WDM] - Driver [C:\\Users\\N\\.wdm\\drivers\\chromedriver\\win32\\95.0.4638.54\\chromedriver.exe] found in cache\n"
     ]
    },
    {
     "name": "stdout",
     "output_type": "stream",
     "text": [
      "chrome reboot\n",
      "수집된 정보 확인하세요\n"
     ]
    },
    {
     "data": {
      "text/html": [
       "<div>\n",
       "<style scoped>\n",
       "    .dataframe tbody tr th:only-of-type {\n",
       "        vertical-align: middle;\n",
       "    }\n",
       "\n",
       "    .dataframe tbody tr th {\n",
       "        vertical-align: top;\n",
       "    }\n",
       "\n",
       "    .dataframe thead th {\n",
       "        text-align: right;\n",
       "    }\n",
       "</style>\n",
       "<table border=\"1\" class=\"dataframe\">\n",
       "  <thead>\n",
       "    <tr style=\"text-align: right;\">\n",
       "      <th></th>\n",
       "      <th>name</th>\n",
       "      <th>code_no</th>\n",
       "      <th>r_type</th>\n",
       "      <th>address</th>\n",
       "      <th>tel</th>\n",
       "      <th>score</th>\n",
       "      <th>utility</th>\n",
       "      <th>detail</th>\n",
       "      <th>datalab_1</th>\n",
       "      <th>datalab_g</th>\n",
       "      <th>review_num</th>\n",
       "      <th>blog_num</th>\n",
       "      <th>collected_date</th>\n",
       "    </tr>\n",
       "  </thead>\n",
       "  <tbody>\n",
       "    <tr>\n",
       "      <th>1997</th>\n",
       "      <td>생활맥주 충정로역점</td>\n",
       "      <td>37297004</td>\n",
       "      <td>맥주,호프</td>\n",
       "      <td>서울 중구 중림로 21 더플레이스 충정로 상가 B101호</td>\n",
       "      <td>02-312-1511</td>\n",
       "      <td>4.4</td>\n",
       "      <td>주차, 포장, 무선 인터넷, 남/녀 화장실 구분, 지역화폐(카드형)</td>\n",
       "      <td>우리동네 대표 맥주집, 수제맥주 전문점 생활맥주입니다. 다양한 수제맥주와 맥주에 딱...</td>\n",
       "      <td>{}</td>\n",
       "      <td>NaN</td>\n",
       "      <td>74</td>\n",
       "      <td>26</td>\n",
       "      <td>2021-10-30</td>\n",
       "    </tr>\n",
       "    <tr>\n",
       "      <th>1998</th>\n",
       "      <td>버들이야기</td>\n",
       "      <td>18115120</td>\n",
       "      <td>맥주,호프</td>\n",
       "      <td>서울 중구 중림로 10</td>\n",
       "      <td>02-313-3785</td>\n",
       "      <td>4.33</td>\n",
       "      <td>단체석, 포장, 예약, 남/녀 화장실 구분, 국민지원금</td>\n",
       "      <td>신선한 해산물 안주를 저렴하고 푸짐하게 즐기고 싶으시다면! 퇴근길 간단한 한잔~친구...</td>\n",
       "      <td>{}</td>\n",
       "      <td>NaN</td>\n",
       "      <td>65</td>\n",
       "      <td>20</td>\n",
       "      <td>2021-10-30</td>\n",
       "    </tr>\n",
       "    <tr>\n",
       "      <th>1999</th>\n",
       "      <td>펀비어킹 서대문 서대문역점</td>\n",
       "      <td>33821443</td>\n",
       "      <td>맥주,호프</td>\n",
       "      <td>서울 서대문구 충정로11길 8</td>\n",
       "      <td>02-312-6720</td>\n",
       "      <td>4.37</td>\n",
       "      <td>국민지원금</td>\n",
       "      <td>이제는 맥주도 카페에서 즐긴다~^^ 비어카페 No.1 술집맛집 '펀비어킹' 펀비어킹...</td>\n",
       "      <td>{}</td>\n",
       "      <td>NaN</td>\n",
       "      <td>169</td>\n",
       "      <td>4</td>\n",
       "      <td>2021-10-30</td>\n",
       "    </tr>\n",
       "  </tbody>\n",
       "</table>\n",
       "</div>"
      ],
      "text/plain": [
       "                name   code_no r_type                          address  \\\n",
       "1997      생활맥주 충정로역점  37297004  맥주,호프  서울 중구 중림로 21 더플레이스 충정로 상가 B101호   \n",
       "1998           버들이야기  18115120  맥주,호프                     서울 중구 중림로 10   \n",
       "1999  펀비어킹 서대문 서대문역점  33821443  맥주,호프                 서울 서대문구 충정로11길 8   \n",
       "\n",
       "              tel score                                utility  \\\n",
       "1997  02-312-1511   4.4  주차, 포장, 무선 인터넷, 남/녀 화장실 구분, 지역화폐(카드형)   \n",
       "1998  02-313-3785  4.33         단체석, 포장, 예약, 남/녀 화장실 구분, 국민지원금   \n",
       "1999  02-312-6720  4.37                                  국민지원금   \n",
       "\n",
       "                                                 detail datalab_1 datalab_g  \\\n",
       "1997  우리동네 대표 맥주집, 수제맥주 전문점 생활맥주입니다. 다양한 수제맥주와 맥주에 딱...        {}       NaN   \n",
       "1998  신선한 해산물 안주를 저렴하고 푸짐하게 즐기고 싶으시다면! 퇴근길 간단한 한잔~친구...        {}       NaN   \n",
       "1999  이제는 맥주도 카페에서 즐긴다~^^ 비어카페 No.1 술집맛집 '펀비어킹' 펀비어킹...        {}       NaN   \n",
       "\n",
       "     review_num blog_num collected_date  \n",
       "1997         74       26     2021-10-30  \n",
       "1998         65       20     2021-10-30  \n",
       "1999        169        4     2021-10-30  "
      ]
     },
     "metadata": {},
     "output_type": "display_data"
    },
    {
     "name": "stdout",
     "output_type": "stream",
     "text": [
      "d_g2000#d_g2001#d_g2002#d_g2003#d_g2004#d_g2005#tel d_g2006#d_g2007#d_g2008#d_g2009#서대문구 DINING 가게 2010개 중간저장\n",
      "1479.1207778453827 소요\n",
      "d_g2010#d_g2011#d_g2012#d_g2013#d_g2014#d_g2015#tel d_g2016#d_g2017#d_g2018#d_g2019#d_g2020#tel d_g2021#d_g2022#d_g2023#d_g2024#d_g2025#d_g2026#d_g2027#d_g2028#d_g2029#tel d_g2030#d_g2031#d_g2032#d_g2033#d_g2034#d_g2035#tel d_g2036#d_g2037#d_g2038#d_g2039#서대문구 DINING 가게 2040개 중간저장\n",
      "1685.2660944461823 소요\n",
      "d_g2040#2041#d_g2042#d_g2043#d_g2044#d_g2045#2046#d_g2047#d_g2048#d_g2049#d_g2050#d_g2051#d_g2052#d_g2053#d_g2054#d_g2055#d_g2056#d_g2057#d_g2058#d_g2059#d_g2060#d_g2061#d_g2062#d_g2063#d_g2064#d_g2065#d_g2066#d_g2067#d_g2068#tel d_g2069#서대문구 DINING 가게 2070개 중간저장\n",
      "1890.0805621147156 소요\n",
      "d_g2070#d_g2071#d_g2072#d_g2073#d_g2074#d_g2075#d_g2076#d_g2077#d_g2078#d_g2079#2080#d_g2081#2082#tel d_g2083#tel d_g2084#tel d_g2085#2086#d_g2087#d_g2088#d_g2089#2090#2091#d_g2092#2093#d_g2094#d_g2095#2096#d_g2097#d_g2098#d_g2099#"
     ]
    },
    {
     "name": "stderr",
     "output_type": "stream",
     "text": [
      "[WDM] - \n",
      "\n",
      "[WDM] - ====== WebDriver manager ======\n",
      "[WDM] - Current google-chrome version is 95.0.4638\n",
      "[WDM] - Get LATEST driver version for 95.0.4638\n",
      "[WDM] - Driver [C:\\Users\\N\\.wdm\\drivers\\chromedriver\\win32\\95.0.4638.54\\chromedriver.exe] found in cache\n"
     ]
    },
    {
     "name": "stdout",
     "output_type": "stream",
     "text": [
      "chrome reboot\n",
      "수집된 정보 확인하세요\n"
     ]
    },
    {
     "data": {
      "text/html": [
       "<div>\n",
       "<style scoped>\n",
       "    .dataframe tbody tr th:only-of-type {\n",
       "        vertical-align: middle;\n",
       "    }\n",
       "\n",
       "    .dataframe tbody tr th {\n",
       "        vertical-align: top;\n",
       "    }\n",
       "\n",
       "    .dataframe thead th {\n",
       "        text-align: right;\n",
       "    }\n",
       "</style>\n",
       "<table border=\"1\" class=\"dataframe\">\n",
       "  <thead>\n",
       "    <tr style=\"text-align: right;\">\n",
       "      <th></th>\n",
       "      <th>name</th>\n",
       "      <th>code_no</th>\n",
       "      <th>r_type</th>\n",
       "      <th>address</th>\n",
       "      <th>tel</th>\n",
       "      <th>score</th>\n",
       "      <th>utility</th>\n",
       "      <th>detail</th>\n",
       "      <th>datalab_1</th>\n",
       "      <th>datalab_g</th>\n",
       "      <th>review_num</th>\n",
       "      <th>blog_num</th>\n",
       "      <th>collected_date</th>\n",
       "    </tr>\n",
       "  </thead>\n",
       "  <tbody>\n",
       "    <tr>\n",
       "      <th>2097</th>\n",
       "      <td>본도시락 이대점</td>\n",
       "      <td>1024783502</td>\n",
       "      <td>도시락,컵밥</td>\n",
       "      <td>서울 서대문구 이화여대5길 15</td>\n",
       "      <td>02-363-4282</td>\n",
       "      <td>4.4</td>\n",
       "      <td>포장, 배달, 예약</td>\n",
       "      <td>NaN</td>\n",
       "      <td>{}</td>\n",
       "      <td>NaN</td>\n",
       "      <td>132</td>\n",
       "      <td>5</td>\n",
       "      <td>2021-10-30</td>\n",
       "    </tr>\n",
       "    <tr>\n",
       "      <th>2098</th>\n",
       "      <td>써브웨이 독립문점</td>\n",
       "      <td>1261053877</td>\n",
       "      <td>샌드위치</td>\n",
       "      <td>서울 종로구 송월길 155 경희궁자이4단지 상가 1층 4104-4106호</td>\n",
       "      <td>0507-1391-8255</td>\n",
       "      <td>4.37</td>\n",
       "      <td>주차, 포장, 무선 인터넷, 남/녀 화장실 구분, 국민지원금</td>\n",
       "      <td>NaN</td>\n",
       "      <td>{}</td>\n",
       "      <td>NaN</td>\n",
       "      <td>729</td>\n",
       "      <td>14</td>\n",
       "      <td>2021-10-30</td>\n",
       "    </tr>\n",
       "    <tr>\n",
       "      <th>2099</th>\n",
       "      <td>샐러드박스 디타워돈의문점</td>\n",
       "      <td>1140092777</td>\n",
       "      <td>다이어트,샐러드</td>\n",
       "      <td>서울 종로구 통일로 134 디타워돈의문 지하1층</td>\n",
       "      <td>0507-1350-0196</td>\n",
       "      <td>4.77</td>\n",
       "      <td>포장, 배달, 남/녀 화장실 구분, 국민지원금</td>\n",
       "      <td>샐러드박스는 맛과 영양이 풍부한 샐러드를 주문즉시 조리하여 제공하는 국내 샐러드 전...</td>\n",
       "      <td>{}</td>\n",
       "      <td>NaN</td>\n",
       "      <td>56</td>\n",
       "      <td>5</td>\n",
       "      <td>2021-10-30</td>\n",
       "    </tr>\n",
       "  </tbody>\n",
       "</table>\n",
       "</div>"
      ],
      "text/plain": [
       "               name     code_no    r_type  \\\n",
       "2097       본도시락 이대점  1024783502    도시락,컵밥   \n",
       "2098      써브웨이 독립문점  1261053877      샌드위치   \n",
       "2099  샐러드박스 디타워돈의문점  1140092777  다이어트,샐러드   \n",
       "\n",
       "                                       address             tel score  \\\n",
       "2097                         서울 서대문구 이화여대5길 15     02-363-4282   4.4   \n",
       "2098  서울 종로구 송월길 155 경희궁자이4단지 상가 1층 4104-4106호  0507-1391-8255  4.37   \n",
       "2099                서울 종로구 통일로 134 디타워돈의문 지하1층  0507-1350-0196  4.77   \n",
       "\n",
       "                                utility  \\\n",
       "2097                         포장, 배달, 예약   \n",
       "2098  주차, 포장, 무선 인터넷, 남/녀 화장실 구분, 국민지원금   \n",
       "2099          포장, 배달, 남/녀 화장실 구분, 국민지원금   \n",
       "\n",
       "                                                 detail datalab_1 datalab_g  \\\n",
       "2097                                                NaN        {}       NaN   \n",
       "2098                                                NaN        {}       NaN   \n",
       "2099  샐러드박스는 맛과 영양이 풍부한 샐러드를 주문즉시 조리하여 제공하는 국내 샐러드 전...        {}       NaN   \n",
       "\n",
       "     review_num blog_num collected_date  \n",
       "2097        132        5     2021-10-30  \n",
       "2098        729       14     2021-10-30  \n",
       "2099         56        5     2021-10-30  "
      ]
     },
     "metadata": {},
     "output_type": "display_data"
    },
    {
     "name": "stdout",
     "output_type": "stream",
     "text": [
      "서대문구 DINING 가게 2100개 중간저장\n",
      "2111.8302702903748 소요\n",
      "d_g2100#d_g2101#d_g2102#d_g2103#d_g2104#d_g2105#d_g2106#d_g2107#d_g2108#d_g2109#d_g2110#tel d_g2111#d_g2112#d_g2113#d_g2114#d_g2115#2116#2117#2118#2119#d_g2120#d_g2121#2122#2123#d_g2124#2125#d_g2126#d_g2127#d_g2128#d_g2129#서대문구 DINING 가게 2130개 중간저장\n",
      "2335.9658410549164 소요\n",
      "d_g2130#2131#d_g2132#d_g2133#d_g2134#2135#d_g2136#d_g2137#2138#d_g2139#d_g2140#d_g2141#2142#2143#2144#2145#d_g2146#d_g2147#2148#d_g2149#d_g2150#2151#d_g2152#2153#d_g2154#d_g2155#d_g2156#tel 2157#d_g2158#"
     ]
    }
   ],
   "source": [
    "업종= 'DINING'\n",
    "idx = 0\n",
    "while True:\n",
    "    try:\n",
    "        for 구이름 in sorted(dong_dict.keys()):\n",
    "            code_file = '가게코드_' + 구이름 + '_'+ 업종 + '.csv'\n",
    "            if check_file(code_path, code_file):\n",
    "                store_file = '가게정보_' + 구이름 +  '_'+ 업종 + '.csv'\n",
    "                naver_map_store_scrapping( 구이름, 업종, slow= 1)\n",
    "            else:\n",
    "                print(f'{구이름} {업종}이 없습니다. ')\n",
    "                \n",
    "    except:\n",
    "        time.sleep(idx*idx)\n",
    "        print(f'{idx} 실패')\n",
    "        idx+=1\n",
    "        \n",
    "    if idx >50:\n",
    "        print(f'{idx} 실패')\n",
    "        break"
   ]
  },
  {
   "cell_type": "code",
   "execution_count": null,
   "metadata": {
    "ExecuteTime": {
     "start_time": "2021-10-30T10:44:30.347Z"
    }
   },
   "outputs": [],
   "source": [
    "df = pd.read_csv('data/가게/가게정보_강남구_DINING.csv')"
   ]
  },
  {
   "cell_type": "code",
   "execution_count": null,
   "metadata": {
    "ExecuteTime": {
     "start_time": "2021-10-30T10:44:30.350Z"
    }
   },
   "outputs": [],
   "source": [
    "df.shape"
   ]
  },
  {
   "cell_type": "code",
   "execution_count": null,
   "metadata": {},
   "outputs": [],
   "source": []
  },
  {
   "cell_type": "code",
   "execution_count": null,
   "metadata": {},
   "outputs": [],
   "source": []
  }
 ],
 "metadata": {
  "kernelspec": {
   "display_name": "Python 3",
   "language": "python",
   "name": "python3"
  },
  "language_info": {
   "codemirror_mode": {
    "name": "ipython",
    "version": 3
   },
   "file_extension": ".py",
   "mimetype": "text/x-python",
   "name": "python",
   "nbconvert_exporter": "python",
   "pygments_lexer": "ipython3",
   "version": "3.8.5"
  },
  "toc": {
   "base_numbering": 1,
   "nav_menu": {},
   "number_sections": true,
   "sideBar": true,
   "skip_h1_title": false,
   "title_cell": "Table of Contents",
   "title_sidebar": "Contents",
   "toc_cell": false,
   "toc_position": {
    "height": "calc(100% - 180px)",
    "left": "10px",
    "top": "150px",
    "width": "322.792px"
   },
   "toc_section_display": true,
   "toc_window_display": false
  }
 },
 "nbformat": 4,
 "nbformat_minor": 5
}
