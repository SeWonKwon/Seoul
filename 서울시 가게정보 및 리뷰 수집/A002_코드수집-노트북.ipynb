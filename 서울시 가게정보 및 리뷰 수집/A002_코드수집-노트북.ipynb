{
 "cells": [
  {
   "cell_type": "markdown",
   "metadata": {},
   "source": [
    "1. 네이버 자료\n",
    "\n",
    "2. 네이버 Place 코드\n",
    "    * 기준: 서울시 동별, 업종별\n",
    "    \n",
    "    \n",
    "3. 가게정보, 리뷰 정도 겟\n",
    "\n"
   ]
  },
  {
   "cell_type": "markdown",
   "metadata": {},
   "source": [
    "# 필요함수 및 라이브러리"
   ]
  },
  {
   "cell_type": "code",
   "execution_count": 1,
   "metadata": {
    "ExecuteTime": {
     "end_time": "2021-10-24T09:43:16.118904Z",
     "start_time": "2021-10-24T09:43:13.620972Z"
    }
   },
   "outputs": [],
   "source": [
    "import time\n",
    "import pandas as pd\n",
    "import numpy as np\n",
    "import json\n",
    "\n",
    "from selenium import webdriver\n",
    "from selenium.webdriver.common.keys import Keys\n",
    "from selenium.common.exceptions import NoSuchElementException\n",
    "from selenium.common.exceptions import ElementNotInteractableException\n",
    "from selenium.common.exceptions import StaleElementReferenceException\n",
    "from selenium.common.exceptions import ElementClickInterceptedException\n",
    "from webdriver_manager.chrome import ChromeDriverManager\n",
    "from selenium.webdriver.common.by import By\n",
    "\n",
    "import warnings\n",
    "warnings.filterwarnings(action = 'ignore')\n"
   ]
  },
  {
   "cell_type": "markdown",
   "metadata": {},
   "source": [
    "## 파일 관련"
   ]
  },
  {
   "cell_type": "code",
   "execution_count": 2,
   "metadata": {
    "ExecuteTime": {
     "end_time": "2021-10-24T09:43:16.134907Z",
     "start_time": "2021-10-24T09:43:16.120906Z"
    }
   },
   "outputs": [],
   "source": [
    "import os\n",
    "def check_file(file_path, file_name):\n",
    "    return os.path.isfile(file_path+file_name)"
   ]
  },
  {
   "cell_type": "code",
   "execution_count": 3,
   "metadata": {
    "ExecuteTime": {
     "end_time": "2021-10-24T09:43:16.149910Z",
     "start_time": "2021-10-24T09:43:16.136909Z"
    }
   },
   "outputs": [],
   "source": [
    "def save_df(df, path, file_name):\n",
    "    df.to_csv(path+file_name, index=False)\n",
    "    print(f'{path+file_name} 저장 완료')"
   ]
  },
  {
   "cell_type": "code",
   "execution_count": 4,
   "metadata": {
    "ExecuteTime": {
     "end_time": "2021-10-24T09:43:16.165234Z",
     "start_time": "2021-10-24T09:43:16.152913Z"
    }
   },
   "outputs": [],
   "source": [
    "def read_csv_코드정보(code_path , code_file):\n",
    "    df = pd.read_csv(code_path + code_file )\n",
    "    return df"
   ]
  },
  {
   "cell_type": "markdown",
   "metadata": {},
   "source": [
    "###### 서울시 동 load 관련"
   ]
  },
  {
   "cell_type": "code",
   "execution_count": 5,
   "metadata": {
    "ExecuteTime": {
     "end_time": "2021-10-24T09:43:16.181245Z",
     "start_time": "2021-10-24T09:43:16.166236Z"
    }
   },
   "outputs": [],
   "source": [
    "import pickle\n",
    "import collections\n",
    "\n",
    "def get_seoul_dong():\n",
    "    with open('data/서울시_구별_동정리.pickle','rb') as fw:\n",
    "        dong_dict = pickle.load( fw)\n",
    "\n",
    "    dong_key_list = list(dong_dict.keys())\n",
    "    dong_key_list.sort()\n",
    "    # dong_key_list\n",
    "\n",
    "    for 구이름 in dong_key_list:\n",
    "        dong_dict[구이름] = sorted(dong_dict[구이름])\n",
    "    \n",
    "    return dong_dict"
   ]
  },
  {
   "cell_type": "code",
   "execution_count": 6,
   "metadata": {
    "ExecuteTime": {
     "end_time": "2021-10-24T09:43:20.572759Z",
     "start_time": "2021-10-24T09:43:16.183246Z"
    }
   },
   "outputs": [],
   "source": [
    "dong_dict = get_seoul_dong()"
   ]
  },
  {
   "cell_type": "markdown",
   "metadata": {},
   "source": [
    "## 웹 조정 관련"
   ]
  },
  {
   "cell_type": "code",
   "execution_count": 7,
   "metadata": {
    "ExecuteTime": {
     "end_time": "2021-10-24T09:43:20.588768Z",
     "start_time": "2021-10-24T09:43:20.575762Z"
    }
   },
   "outputs": [],
   "source": [
    "def is_clickable(wd):\n",
    "    return wd.is_enabled() and wd.is_displayed()"
   ]
  },
  {
   "cell_type": "code",
   "execution_count": 8,
   "metadata": {
    "ExecuteTime": {
     "end_time": "2021-10-24T09:43:20.604765Z",
     "start_time": "2021-10-24T09:43:20.593763Z"
    }
   },
   "outputs": [],
   "source": [
    "def scroll_down(wd,SCROLL_PAUSE_SEC = 1):\n",
    "\n",
    "    # 스크롤 높이 가져옴\n",
    "    last_height = wd.execute_script(\"return document.body.scrollHeight\")\n",
    "#     print(last_height)\n",
    "    while True:\n",
    "        # 끝까지 스크롤 다운\n",
    "        wd.execute_script(\"window.scrollTo(0, document.body.scrollHeight);\")\n",
    "\n",
    "        # 1초 대기\n",
    "        time.sleep(SCROLL_PAUSE_SEC)\n",
    "\n",
    "        # 스크롤 다운 후 스크롤 높이 다시 가져옴\n",
    "        new_height = wd.execute_script(\"return document.body.scrollHeight\")\n",
    "        if new_height == last_height:\n",
    "            break\n",
    "        last_height = new_height"
   ]
  },
  {
   "cell_type": "markdown",
   "metadata": {},
   "source": [
    "## m.map.naver.com "
   ]
  },
  {
   "cell_type": "markdown",
   "metadata": {},
   "source": [
    "### 자기 위치 설정 함수"
   ]
  },
  {
   "cell_type": "code",
   "execution_count": 9,
   "metadata": {
    "ExecuteTime": {
     "end_time": "2021-10-24T09:43:20.620769Z",
     "start_time": "2021-10-24T09:43:20.607767Z"
    }
   },
   "outputs": [],
   "source": [
    "def set_location(wd, map_url, 구이름, 동이름, detail=False, slow=1):\n",
    "    \n",
    "    if detail:\n",
    "        print('#####'+동이름+'____'+구이름+'#####')\n",
    "        \n",
    "    wd.get(map_url)\n",
    "    time.sleep(2*slow)\n",
    "\n",
    "    #### 위치 지정\n",
    "    wd.find_element_by_id('_changeLocation').click()\n",
    "\n",
    "    try:\n",
    "        wd.find_element_by_class_name('mylct_rm_mloc').click()\n",
    "    except NoSuchElementException:\n",
    "        if detail:\n",
    "            print('S_S_E')\n",
    "        pass\n",
    "    \n",
    "    time.sleep(0.2*slow)\n",
    "    wd.find_element_by_class_name('mylct_sch_query').click()\n",
    "    time.sleep(0.2*slow)\n",
    "    wd.find_element_by_class_name('mylct_sch_query').send_keys(구이름+' '+동이름)\n",
    "    time.sleep(0.2*slow)\n",
    "    wd.find_element_by_class_name('mylct_spr.mylct_ico_sch').click()\n",
    "    time.sleep(0.2*slow)\n",
    "    wd.find_element_by_class_name('mylct_addr.mylct_sch_rst').click()\n",
    "    time.sleep(1*slow)\n",
    "    \n",
    "    #### 업종 지정\n",
    "    category_1 = wd.find_elements_by_class_name('_linkCategory')\n",
    "    # 업종 선택 : 선택 가능 \n",
    "    '''음식점:DINING, 카페: CAFE, 쇼핑: SHOPPING, 숙박: ACCOMMODATION, 병원의료: HOSPITAL, 은행: BANK,\n",
    "       주요소:OIL, 마트슈퍼: MART, 편의점: STORE, 생활편의: CONVENIENCE, 명소: SIGHTS, 체육시설: SPORT, \n",
    "       영화공연:CINEMA, 관공서:GOVERNMENT'''\n",
    "    \n",
    "    for bnt_ in category_1:\n",
    "        if is_clickable(bnt_):\n",
    "            if bnt_.get_attribute('data-category') == 업종:\n",
    "                bnt_.click()\n",
    "                time.sleep(0.2*slow)\n",
    "                break\n",
    "    time.sleep(3*slow)\n",
    "\n",
    "    "
   ]
  },
  {
   "cell_type": "code",
   "execution_count": 10,
   "metadata": {
    "ExecuteTime": {
     "end_time": "2021-10-24T09:43:20.636773Z",
     "start_time": "2021-10-24T09:43:20.622771Z"
    }
   },
   "outputs": [
    {
     "data": {
      "text/plain": [
       "'음식점:DINING, 카페: CAFE, 쇼핑: SHOPPING, 숙박: ACCOMMODATION, 병원의료: HOSPITAL, 은행: BANK,\\n   주요소:OIL, 마트슈퍼: MART, 편의점: STORE, 생활편의: CONVENIENCE, 명소: SIGHTS, 체육시설: SPORT, \\n   영화공연:CINEMA, 관공서:GOVERNMENT'"
      ]
     },
     "execution_count": 10,
     "metadata": {},
     "output_type": "execute_result"
    }
   ],
   "source": [
    "    '''음식점:DINING, 카페: CAFE, 쇼핑: SHOPPING, 숙박: ACCOMMODATION, 병원의료: HOSPITAL, 은행: BANK,\n",
    "       주요소:OIL, 마트슈퍼: MART, 편의점: STORE, 생활편의: CONVENIENCE, 명소: SIGHTS, 체육시설: SPORT, \n",
    "       영화공연:CINEMA, 관공서:GOVERNMENT'''"
   ]
  },
  {
   "cell_type": "markdown",
   "metadata": {},
   "source": [
    "### 코드 수집 함수"
   ]
  },
  {
   "cell_type": "code",
   "execution_count": 11,
   "metadata": {
    "ExecuteTime": {
     "end_time": "2021-10-24T09:43:20.652779Z",
     "start_time": "2021-10-24T09:43:20.638776Z"
    },
    "scrolled": true
   },
   "outputs": [],
   "source": [
    "def get_store_code(구이름, 업종, detail=False, slow=1):\n",
    "    \n",
    "    options = webdriver.ChromeOptions()\n",
    "    options.add_argument(\"--start-maximized\")\n",
    "    wd = webdriver.Chrome(ChromeDriverManager().install(), options= options)  # chromedriver 열기\n",
    "    wd.implicitly_wait(1)\n",
    "\n",
    "    map_url = 'https://m.map.naver.com/search2/interestSpot.naver?type=DINING'\n",
    "\n",
    "    df = pd.DataFrame(columns=('store_name','store_code'))\n",
    "    code_idx=0\n",
    "    동_idx=0\n",
    "    start_time_all = time.time()\n",
    "    print(f'{구이름} 코드 수집을 시작합니다.')\n",
    "    \n",
    "    for 동이름 in dong_dict[구이름]:\n",
    "        print(f'{동이름} 시작')\n",
    "        start_time= time.time()\n",
    "        # 각각의 현재 위치를 조정\n",
    "        set_location(wd, map_url, 구이름, 동이름, detail=detail, slow=1)\n",
    "\n",
    "        ### 소분류 url 생성\n",
    "        current_url = wd.current_url.split('type=')[0]\n",
    "        category_2_url_list=[]\n",
    "        category_2 = wd.find_elements_by_class_name('_linkSubCategory')\n",
    "        for 소분류 in category_2:\n",
    "            category_2_url_list.append(current_url+'type='+소분류.get_attribute('data-category_call_id'))\n",
    "        scroll_down(wd,1*slow)\n",
    "\n",
    "\n",
    "        ### 이름 및 코드 수집\n",
    "        for url_ in category_2_url_list:\n",
    "            wd.get(url_)\n",
    "            time.sleep(3*slow)\n",
    "            scroll_down(wd,1*slow)\n",
    "            store_list = wd.find_elements_by_class_name('_item._lazyImgContainer')\n",
    "            \n",
    "            for cd in store_list:\n",
    "                store_name = cd.get_attribute('data-title')\n",
    "                store_code = cd.get_attribute('data-sid')\n",
    "                df.loc[code_idx] = store_name ,store_code\n",
    "                code_idx +=1\n",
    "                print('#',end='')\n",
    "        print(f'{동이름} 완료, {time.time()-start_time} 소요')\n",
    "        동_idx += 1\n",
    "        \n",
    "        if (동_idx+1)%5 == 0: # 쿨링 다운~\n",
    "            wd.close()\n",
    "            time.sleep(5*slow)\n",
    "            wd = webdriver.Chrome(ChromeDriverManager().install(), options= options)  # chromedriver 열기\n",
    "            wd.implicitly_wait(1*slow)\n",
    "            time.sleep(5*slow)\n",
    "            print('reboot chrome')\n",
    "        \n",
    "    df = df.drop_duplicates()\n",
    "    wd.close()\n",
    "    print(f'{구이름} {df.shape[0]}개 수집 완료, {time.time()-start_time_all} 소요')\n",
    "    return df"
   ]
  },
  {
   "cell_type": "markdown",
   "metadata": {},
   "source": [
    "# 셋팅"
   ]
  },
  {
   "cell_type": "code",
   "execution_count": 12,
   "metadata": {
    "ExecuteTime": {
     "end_time": "2021-10-24T09:43:20.668781Z",
     "start_time": "2021-10-24T09:43:20.656783Z"
    }
   },
   "outputs": [],
   "source": [
    "# code_path = 'data/코드/'\n",
    "# review_path = 'data/리뷰/'\n",
    "# store_path = 'data/가게/'\n",
    "\n",
    "# code_file = '가게코드_' + 구이름 + '_' + 동이름+ '_'+ 업종 + '.csv'\n",
    "# review_file = '리뷰정보_' + 구이름 + '_' + 동이름+ '_'+ 업종 + '.csv'\n",
    "# store_file = '가게정보_' + 구이름 + '_' + 동이름+ '_'+ 업종 + '.csv'"
   ]
  },
  {
   "cell_type": "code",
   "execution_count": 13,
   "metadata": {
    "ExecuteTime": {
     "end_time": "2021-10-24T09:43:20.684786Z",
     "start_time": "2021-10-24T09:43:20.670780Z"
    }
   },
   "outputs": [],
   "source": [
    "code_path = 'data/코드/'\n",
    "# code_file = '가게코드_' + 구이름 + '_'+ 업종 + '.csv'"
   ]
  },
  {
   "cell_type": "code",
   "execution_count": 14,
   "metadata": {
    "ExecuteTime": {
     "end_time": "2021-10-24T09:43:20.700786Z",
     "start_time": "2021-10-24T09:43:20.686783Z"
    }
   },
   "outputs": [],
   "source": [
    "detail= True\n",
    "slow=1"
   ]
  },
  {
   "cell_type": "markdown",
   "metadata": {},
   "source": [
    "#  코드 수집 및 저장"
   ]
  },
  {
   "cell_type": "code",
   "execution_count": null,
   "metadata": {
    "ExecuteTime": {
     "start_time": "2021-10-24T09:43:38.619Z"
    },
    "scrolled": false
   },
   "outputs": [
    {
     "name": "stderr",
     "output_type": "stream",
     "text": [
      "[WDM] - \n",
      "\n",
      "[WDM] - ====== WebDriver manager ======\n",
      "[WDM] - Current google-chrome version is 94.0.4606\n",
      "[WDM] - Get LATEST driver version for 94.0.4606\n",
      "[WDM] - Driver [C:\\Users\\N\\.wdm\\drivers\\chromedriver\\win32\\94.0.4606.61\\chromedriver.exe] found in cache\n"
     ]
    },
    {
     "name": "stdout",
     "output_type": "stream",
     "text": [
      "중랑구 코드 수집을 시작합니다.\n",
      "망우본동 시작\n",
      "#####망우본동____중랑구#####\n",
      "S_S_E\n",
      "################################################################################################################################################################################################################################################################################################################################################################################################################################################################################################################################################################################################################################망우본동 완료, 73.45836925506592 소요\n",
      "망우제3동 시작\n",
      "#####망우제3동____중랑구#####\n",
      "###########################################################################"
     ]
    }
   ],
   "source": [
    "업종= 'DINING'\n",
    "\n",
    "for 구이름 in sorted(dong_dict.keys())[::-1]:\n",
    "    code_file = '가게코드_' + 구이름 + '_'+ 업종 + '.csv'\n",
    "    if check_file(code_path, code_file):\n",
    "        print('@@@@@@@@@@',구이름, '완료','@@@@@@@@@@@@')\n",
    "        \n",
    "        pass\n",
    "    else:\n",
    "        df = get_store_code(구이름, 업종, detail=detail, slow=slow)\n",
    "        save_df(df, code_path, code_file)"
   ]
  },
  {
   "cell_type": "markdown",
   "metadata": {},
   "source": [
    "# 각 구 통합"
   ]
  },
  {
   "cell_type": "code",
   "execution_count": null,
   "metadata": {
    "ExecuteTime": {
     "end_time": "2021-10-24T09:43:27.382955Z",
     "start_time": "2021-10-24T09:43:13.644Z"
    }
   },
   "outputs": [],
   "source": [
    "code_path = 'data/코드/'\n",
    "code_file_list = ['가게코드_' + 구이름 +  '_' + 업종 + '.csv' for  동이름 in dong_dict[구이름]]\n",
    "result_file_name = '가게코드_서울시_'+ 업종+'.csv'\n",
    "df_result= pd.DataFrame()\n",
    "\n",
    "for 구이름 in sorted(dong_dict.keys()):\n",
    "    code_file = '가게코드_' + 구이름 + '_'+ 업종 + '.csv'\n",
    "    if check_file(code_path, code_file):\n",
    "        print('구이름', '완료')\n",
    "        pass\n",
    "    else:\n",
    "        print('구이름', '없습니다.')\n",
    "        break\n",
    "else:\n",
    "    for code_file in code_file_list:\n",
    "        df_1 = read_csv_코드정보(code_path, code_file)\n",
    "        df_result = pd.concat([df_result, df_1])\n",
    "    else:\n",
    "        if check_file(code_path, result_file_name): # 기존것과 병합\n",
    "            df_before = read_csv_코드정보(code_path, result_file_name)\n",
    "        else:\n",
    "            df_before = pd.DataFrame()\n",
    "    df_result = pd.concat([df_before, df_result ])\n",
    "    df_result = df_result.drop_duplicates()\n",
    "    save_df(df_result, code_path, result_file_name )"
   ]
  }
 ],
 "metadata": {
  "kernelspec": {
   "display_name": "Python 3",
   "language": "python",
   "name": "python3"
  },
  "language_info": {
   "codemirror_mode": {
    "name": "ipython",
    "version": 3
   },
   "file_extension": ".py",
   "mimetype": "text/x-python",
   "name": "python",
   "nbconvert_exporter": "python",
   "pygments_lexer": "ipython3",
   "version": "3.8.5"
  },
  "toc": {
   "base_numbering": 1,
   "nav_menu": {},
   "number_sections": true,
   "sideBar": true,
   "skip_h1_title": false,
   "title_cell": "Table of Contents",
   "title_sidebar": "Contents",
   "toc_cell": false,
   "toc_position": {
    "height": "calc(100% - 180px)",
    "left": "10px",
    "top": "150px",
    "width": "322.792px"
   },
   "toc_section_display": true,
   "toc_window_display": false
  }
 },
 "nbformat": 4,
 "nbformat_minor": 5
}
