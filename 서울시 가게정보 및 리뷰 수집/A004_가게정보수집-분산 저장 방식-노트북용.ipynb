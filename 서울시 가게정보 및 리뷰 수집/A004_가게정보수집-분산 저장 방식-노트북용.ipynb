{
 "cells": [
  {
   "cell_type": "markdown",
   "metadata": {},
   "source": [
    "<a href='https://github.com/SeWonKwon' ><div> <img src ='https://slid-capture.s3.ap-northeast-2.amazonaws.com/public/image_upload/6556674324ed41a289a354258718280d/964e5a8b-75ad-41fc-ae75-0ca66d06fbc7.png' align='left' /> </div></a>\n"
   ]
  },
  {
   "cell_type": "markdown",
   "metadata": {},
   "source": [
    "1. 네이버 자료\n",
    "\n",
    "2. 네이버 Place 코드\n",
    "    * 기준: 서울시 동별, 업종별\n",
    "    \n",
    "    \n",
    "3. 가게정보, 리뷰 정도 겟\n",
    "\n"
   ]
  },
  {
   "cell_type": "markdown",
   "metadata": {},
   "source": [
    "# 필요함수 및 라이브러리"
   ]
  },
  {
   "cell_type": "code",
   "execution_count": 1,
   "metadata": {
    "ExecuteTime": {
     "end_time": "2021-10-25T10:17:08.089330Z",
     "start_time": "2021-10-25T10:17:05.822806Z"
    }
   },
   "outputs": [],
   "source": [
    "import time\n",
    "import pandas as pd\n",
    "import numpy as np\n",
    "import json\n",
    "\n",
    "from selenium import webdriver\n",
    "from tqdm import tqdm_notebook\n",
    "from selenium.webdriver.common.keys import Keys\n",
    "from selenium.common.exceptions import NoSuchElementException\n",
    "from selenium.common.exceptions import ElementNotInteractableException\n",
    "from selenium.common.exceptions import StaleElementReferenceException\n",
    "from selenium.common.exceptions import ElementClickInterceptedException\n",
    "from webdriver_manager.chrome import ChromeDriverManager\n",
    "from selenium.webdriver.common.by import By\n",
    "\n",
    "import warnings\n",
    "warnings.filterwarnings(action = 'ignore')\n"
   ]
  },
  {
   "cell_type": "markdown",
   "metadata": {},
   "source": [
    "## 파일 관련"
   ]
  },
  {
   "cell_type": "code",
   "execution_count": 2,
   "metadata": {
    "ExecuteTime": {
     "end_time": "2021-10-25T10:17:08.104350Z",
     "start_time": "2021-10-25T10:17:08.091335Z"
    }
   },
   "outputs": [],
   "source": [
    "def get_today():\n",
    "    import datetime\n",
    "    now = datetime.datetime.now()\n",
    "    \n",
    "    nowDate = now.strftime('%Y-%m-%d')\n",
    "#     print(nowDate)      # 2015-04-19\n",
    " \n",
    "    nowTime = now.strftime('%H:%M:%S')\n",
    "#     print(nowTime)      # 12:11:32\n",
    "\n",
    "    nowDatetime = now.strftime('%Y-%m-%d %H:%M:%S')\n",
    "    return nowDate"
   ]
  },
  {
   "cell_type": "code",
   "execution_count": 3,
   "metadata": {
    "ExecuteTime": {
     "end_time": "2021-10-25T10:17:08.120391Z",
     "start_time": "2021-10-25T10:17:08.107344Z"
    }
   },
   "outputs": [],
   "source": [
    "import os\n",
    "def check_file(file_path, file_name):\n",
    "    return os.path.isfile(file_path+file_name)"
   ]
  },
  {
   "cell_type": "code",
   "execution_count": 4,
   "metadata": {
    "ExecuteTime": {
     "end_time": "2021-10-25T10:17:08.136657Z",
     "start_time": "2021-10-25T10:17:08.123380Z"
    }
   },
   "outputs": [],
   "source": [
    "def save_df(df, path, file_name):\n",
    "    df.to_csv(path+file_name, index=False)\n",
    "    print(f'{path+file_name} 저장 완료')"
   ]
  },
  {
   "cell_type": "code",
   "execution_count": 5,
   "metadata": {
    "ExecuteTime": {
     "end_time": "2021-10-25T10:17:08.151690Z",
     "start_time": "2021-10-25T10:17:08.138670Z"
    }
   },
   "outputs": [],
   "source": [
    "def read_csv_코드정보(code_path , code_file):\n",
    "    df = pd.read_csv(code_path + code_file )\n",
    "    return df"
   ]
  },
  {
   "cell_type": "code",
   "execution_count": 6,
   "metadata": {
    "ExecuteTime": {
     "end_time": "2021-10-25T10:17:08.166711Z",
     "start_time": "2021-10-25T10:17:08.154695Z"
    }
   },
   "outputs": [
    {
     "data": {
      "text/plain": [
       "'음식점:DINING, 카페: CAFE, 쇼핑: SHOPPING, 숙박: ACCOMMODATION, 병원의료: HOSPITAL, 은행: BANK,\\n   주요소:OIL, 마트슈퍼: MART, 편의점: STORE, 생활편의: CONVENIENCE, 명소: SIGHTS, 체육시설: SPORT, \\n   영화공연:CINEMA, 관공서:GOVERNMENT'"
      ]
     },
     "execution_count": 6,
     "metadata": {},
     "output_type": "execute_result"
    }
   ],
   "source": [
    "'''음식점:DINING, 카페: CAFE, 쇼핑: SHOPPING, 숙박: ACCOMMODATION, 병원의료: HOSPITAL, 은행: BANK,\n",
    "   주요소:OIL, 마트슈퍼: MART, 편의점: STORE, 생활편의: CONVENIENCE, 명소: SIGHTS, 체육시설: SPORT, \n",
    "   영화공연:CINEMA, 관공서:GOVERNMENT'''"
   ]
  },
  {
   "cell_type": "markdown",
   "metadata": {},
   "source": [
    "###### 서울시 동 load 관련"
   ]
  },
  {
   "cell_type": "code",
   "execution_count": 7,
   "metadata": {
    "ExecuteTime": {
     "end_time": "2021-10-25T10:17:08.182718Z",
     "start_time": "2021-10-25T10:17:08.168704Z"
    }
   },
   "outputs": [],
   "source": [
    "import pickle\n",
    "import collections\n",
    "\n",
    "def get_seoul_dong():\n",
    "    with open('data/서울시_구별_동정리.pickle','rb') as fw:\n",
    "        dong_dict = pickle.load( fw)\n",
    "\n",
    "    dong_key_list = list(dong_dict.keys())\n",
    "    dong_key_list.sort()\n",
    "    # dong_key_list\n",
    "\n",
    "    for 구이름 in dong_key_list:\n",
    "        dong_dict[구이름] = sorted(dong_dict[구이름])\n",
    "    \n",
    "    return dong_dict"
   ]
  },
  {
   "cell_type": "code",
   "execution_count": 8,
   "metadata": {
    "ExecuteTime": {
     "end_time": "2021-10-25T10:17:08.198719Z",
     "start_time": "2021-10-25T10:17:08.187702Z"
    }
   },
   "outputs": [],
   "source": [
    "dong_dict = get_seoul_dong()"
   ]
  },
  {
   "cell_type": "markdown",
   "metadata": {},
   "source": [
    "## 웹 조정 관련"
   ]
  },
  {
   "cell_type": "code",
   "execution_count": 9,
   "metadata": {
    "ExecuteTime": {
     "end_time": "2021-10-25T10:17:08.214963Z",
     "start_time": "2021-10-25T10:17:08.201711Z"
    }
   },
   "outputs": [],
   "source": [
    "def is_clickable(wd):\n",
    "    return wd.is_enabled() and wd.is_displayed()"
   ]
  },
  {
   "cell_type": "code",
   "execution_count": 10,
   "metadata": {
    "ExecuteTime": {
     "end_time": "2021-10-25T10:17:08.230725Z",
     "start_time": "2021-10-25T10:17:08.216721Z"
    }
   },
   "outputs": [],
   "source": [
    "def scroll_down(wd,SCROLL_PAUSE_SEC = 1):\n",
    "\n",
    "    # 스크롤 높이 가져옴\n",
    "    last_height = wd.execute_script(\"return document.body.scrollHeight\")\n",
    "#     print(last_height)\n",
    "    while True:\n",
    "        # 끝까지 스크롤 다운\n",
    "        wd.execute_script(\"window.scrollTo(0, document.body.scrollHeight);\")\n",
    "\n",
    "        # 1초 대기\n",
    "        time.sleep(SCROLL_PAUSE_SEC)\n",
    "\n",
    "        # 스크롤 다운 후 스크롤 높이 다시 가져옴\n",
    "        new_height = wd.execute_script(\"return document.body.scrollHeight\")\n",
    "        if new_height == last_height:\n",
    "            break\n",
    "        last_height = new_height"
   ]
  },
  {
   "cell_type": "markdown",
   "metadata": {},
   "source": [
    "## 크롤링 에러 방지 관련"
   ]
  },
  {
   "cell_type": "code",
   "execution_count": 11,
   "metadata": {
    "ExecuteTime": {
     "end_time": "2021-10-25T10:17:08.246723Z",
     "start_time": "2021-10-25T10:17:08.232719Z"
    }
   },
   "outputs": [],
   "source": [
    "def try_none_text_by_class_name(wd,class_name, col='col'):\n",
    "    try:\n",
    "        return wd.find_element_by_class_name(class_name).text\n",
    "    except NoSuchElementException:\n",
    "        print(col, end=' ')\n",
    "        return np.NaN\n",
    "        "
   ]
  },
  {
   "cell_type": "code",
   "execution_count": 12,
   "metadata": {
    "ExecuteTime": {
     "end_time": "2021-10-25T10:17:08.262777Z",
     "start_time": "2021-10-25T10:17:08.248715Z"
    }
   },
   "outputs": [],
   "source": [
    "def strong_try_none_text_by_class_name(wd,class_name, col='col'):\n",
    "    try:\n",
    "        temps = wd.find_elements_by_class_name(class_name)\n",
    "        for temp in temps:\n",
    "            if temp.text.startswith('편의'):\n",
    "                return temp.text.split('\\n')[1]\n",
    "        else:\n",
    "            return np.NaN\n",
    "    except NoSuchElementException:\n",
    "#         print(col, end='')\n",
    "        return np.NaN\n",
    "        "
   ]
  },
  {
   "cell_type": "code",
   "execution_count": 13,
   "metadata": {
    "ExecuteTime": {
     "end_time": "2021-10-25T10:17:08.278458Z",
     "start_time": "2021-10-25T10:17:08.264754Z"
    }
   },
   "outputs": [],
   "source": [
    "def review_dict(s):\n",
    "    review_dict = {}\n",
    "#     print(s.split('평균 별점'))\n",
    "    s = s.split('평균 별점')\n",
    "    review_dict['평균_별점'] = s[-1].strip()\n",
    "    s = s[0].split('사진')\n",
    "    if len(s) >= 2:\n",
    "        review_dict['사진'] = int(s[-1])\n",
    "        review_dict['리뷰'] = s[0].split()[-1]\n",
    "    else:\n",
    "        review_dict['사진'] = np.NaN\n",
    "        review_dict['리뷰'] = s[0].split()[-1]\n",
    "# print(s)\n",
    "    return review_dict"
   ]
  },
  {
   "cell_type": "markdown",
   "metadata": {},
   "source": [
    "## get_store_info from naver.place by place_code"
   ]
  },
  {
   "cell_type": "code",
   "execution_count": 14,
   "metadata": {
    "ExecuteTime": {
     "end_time": "2021-10-25T10:17:08.326167Z",
     "start_time": "2021-10-25T10:17:08.280439Z"
    }
   },
   "outputs": [],
   "source": [
    "def get_store_info(wd, code_no):\n",
    "    name = wd.find_element_by_class_name('_3XamX').text\n",
    "#     print(name)\n",
    "    r_type = try_none_text_by_class_name(wd,'_3ocDE','ty')\n",
    "#     print(r_type)\n",
    "    address = try_none_text_by_class_name(wd,'_2yqUQ','ad')\n",
    "#     print(address)\n",
    "    tel = try_none_text_by_class_name(wd,'_3ZA0S','tel') \n",
    "#     print(tel)\n",
    "    utility, detail = np.NaN, np.NaN\n",
    "    for i in wd.find_elements_by_class_name('_1M_Iz'):\n",
    "#         print(i.text)\n",
    "        if '편의' in i.text :\n",
    "            utility = i.text.replace('편의\\n','')\n",
    "        elif '설명' in i.text :\n",
    "            detail = i.text.replace('설명\\n', '')\n",
    "    \n",
    "#     print(code_no, utility, detail)\n",
    "    \n",
    "    nums_list = wd.find_elements_by_class_name('_1Y6hi')\n",
    "    try:\n",
    "        score = nums_list[0].find_element_by_tag_name('em').text\n",
    "    except:\n",
    "        score = np.NaN\n",
    "    try:\n",
    "        review_num = nums_list[1].find_element_by_tag_name('em').text\n",
    "    except:\n",
    "        review_num = np.NaN\n",
    "        \n",
    "    try:\n",
    "        blog_nums = nums_list[2].find_element_by_tag_name('em').text\n",
    "    except:\n",
    "        blog_nums = np.NaN\n",
    "#     print(score, review_num, blog_nums)\n",
    "    collected_date = get_today()\n",
    "\n",
    "    # 데이터 렙 펼치기\n",
    "    for i in wd.find_elements_by_class_name('_3iTUo'):\n",
    "        if i.text=='더보기':\n",
    "            i.send_keys('\\n')\n",
    "        else:\n",
    "            pass\n",
    "            \n",
    "    try:\n",
    "        datalab_1 = {}\n",
    "        datalab_list = wd.find_elements_by_class_name('_3Ryhx')\n",
    "        for datalab in datalab_list:\n",
    "            datalab_1[datalab.find_element_by_class_name('_3hvd9').text] = [x.text for x in datalab.find_elements_by_class_name('_2irYJ') if x.text != '']\n",
    "    except:\n",
    "        datalab_1 = np.NaN\n",
    "        print('d_1', end='')\n",
    "#     print(name, datalab_1)\n",
    "\n",
    "    try:\n",
    "        datalab_g = {}\n",
    "        datalab_block = wd.find_element_by_class_name('_250cA')\n",
    "        datalab_age_list = datalab_block.find_elements_by_class_name('_1Nyv0')\n",
    "        for age_info in datalab_age_list:\n",
    "            age = age_info.find_element_by_class_name('iO1iA').text\n",
    "            preference = age_info.find_element_by_class_name('place_blind').text.replace('%','')\n",
    "            datalab_g[age] = preference\n",
    "            \n",
    "        gender_preferance = wd.find_element_by_class_name('c3-chart-arc.c3-target.c3-target-female').text.replace('%',\"\")\n",
    "        datalab_g['female_pref'] = gender_preferance\n",
    "    except:\n",
    "        datalab_g = np.NaN\n",
    "        print('d_g', end=\"\")\n",
    "#     print(datalab_1, datalab_g)\n",
    "\n",
    "    return name, code_no, r_type, address,tel, score, utility, detail, datalab_1, datalab_g, review_num, blog_nums, collected_date"
   ]
  },
  {
   "cell_type": "code",
   "execution_count": 15,
   "metadata": {
    "ExecuteTime": {
     "end_time": "2021-10-25T10:17:08.341298Z",
     "start_time": "2021-10-25T10:17:08.328150Z"
    }
   },
   "outputs": [],
   "source": [
    "code_path = 'data/코드/'\n",
    "구이름 = '강남구'\n",
    "업종 = 'DINING'\n",
    "code_file = '가게코드_' + 구이름 + '_'+ 업종 + '.csv'"
   ]
  },
  {
   "cell_type": "code",
   "execution_count": 16,
   "metadata": {
    "ExecuteTime": {
     "end_time": "2021-10-25T10:17:08.372272Z",
     "start_time": "2021-10-25T10:17:08.344171Z"
    }
   },
   "outputs": [],
   "source": [
    "code_df = read_csv_코드정보(code_path, code_file)"
   ]
  },
  {
   "cell_type": "code",
   "execution_count": 17,
   "metadata": {
    "ExecuteTime": {
     "end_time": "2021-10-25T10:17:08.388278Z",
     "start_time": "2021-10-25T10:17:08.374280Z"
    }
   },
   "outputs": [
    {
     "data": {
      "text/plain": [
       "(6863, 2)"
      ]
     },
     "execution_count": 17,
     "metadata": {},
     "output_type": "execute_result"
    }
   ],
   "source": [
    "code_df.shape"
   ]
  },
  {
   "cell_type": "code",
   "execution_count": 18,
   "metadata": {
    "ExecuteTime": {
     "end_time": "2021-10-25T10:17:08.404283Z",
     "start_time": "2021-10-25T10:17:08.390277Z"
    }
   },
   "outputs": [],
   "source": [
    "def naver_map_store_scrapping( 구이름, 업종, slow= 1):\n",
    "    start_time = time.time()\n",
    "\n",
    "    options = webdriver.ChromeOptions()\n",
    "\n",
    "    options.add_argument(\"--start-maximized\")\n",
    "    wd = webdriver.Chrome(ChromeDriverManager().install(), options= options)  # chromedriver 열기\n",
    "    wd.implicitly_wait(1*slow)\n",
    "    \n",
    "    code_path = 'data/코드/'\n",
    "    review_path = 'data/리뷰/'\n",
    "    store_path = 'data/가게/'\n",
    "\n",
    "    code_file = '가게코드_' + 구이름 + '_'+ 업종 + '.csv'\n",
    "    review_file = '리뷰정보_' + 구이름 + '_'+ 업종 + '.csv'\n",
    "    store_file = '가게정보_' + 구이름 + '_'+ 업종 + '.csv'\n",
    "    \n",
    "    store_idx = 0\n",
    "    store_df = pd.DataFrame(columns=(\"name\", \"code_no\", \"r_type\",\"address\",\"tel\",\n",
    "                                     \"score\",\"utility\",\"detail\",\"datalab_1\", \"datalab_g\", \"review_num\",\n",
    "                                     \"blog_num\", \"collected_date\"))\n",
    "    \n",
    "    if check_file(store_path, store_file):\n",
    "        store_df = pd.read_csv(store_path+store_file)\n",
    "        store_idx = store_df.shape[0]\n",
    "    done_list = list(store_df['code_no'].apply(lambda x: str(x)).values)\n",
    "#     print(done_list)\n",
    "    code_df = pd.read_csv(code_path+code_file, dtype='str')\n",
    "    code_list = code_df['store_code'].to_list()\n",
    "    \n",
    "    print(f'{구이름}  {업종} 업종 의 가게 정보 스크래핑을 시작합니다.')\n",
    "\n",
    "    print(f'{code_df.shape[0]}개의 가게코드가 있습니다.')\n",
    "    \n",
    "    print(f'{store_idx}가 이전에 완료 되었었습니다. 이어서 진행합니다.')\n",
    "\n",
    "    for code_no_ in tqdm_notebook(code_list):\n",
    "        code_no = str(code_no_)\n",
    "        if code_no in done_list:\n",
    "#             print(code_no, '중복중복!!')\n",
    "            continue\n",
    "            \n",
    "        place_url = 'https://pcmap.place.naver.com/restaurant/'+str(code_no)\n",
    "\n",
    "        wd.get(place_url)\n",
    "        time.sleep(1*slow)\n",
    "        scroll_down(wd,0.5)\n",
    "        cnt_idx = 0\n",
    "\n",
    "        try:\n",
    "#             input('ddd')\n",
    "            wd.implicitly_wait(0.001*slow)\n",
    "            store_df.loc[store_idx] = get_store_info(wd,code_no)\n",
    "            wd.implicitly_wait(1*slow)\n",
    "            print(store_idx, end='#')\n",
    "            store_idx += 1\n",
    "            time.sleep(5)\n",
    "            \n",
    "        except:\n",
    "            print(store_idx, end='!!')\n",
    "            pass\n",
    "        \n",
    "        ##################### cooling down\n",
    "        if store_idx%100 == 0 :\n",
    "            wd.close()\n",
    "            wd = webdriver.Chrome(ChromeDriverManager().install(), options= options)  # chromedriver 열기\n",
    "            wd.implicitly_wait(1*slow)\n",
    "            time.sleep(1*slow)\n",
    "            \n",
    "        ##################### save just in case:\n",
    "        if store_idx%30 == 0 :\n",
    "            store_df.to_csv(store_path+store_file, index=False)\n",
    "            print(구이름, 업종, f'가게 {store_idx}개 중간저장')\n",
    "            print(f'{time.time()-start_time} 소요')\n",
    "#         ##################### Test Test Test\n",
    "#         if store_idx%10==0:\n",
    "#             store_df.to_csv(store_path+store_file, index=False)\n",
    "#             print(구이름,업종, f'가게 {store_idx}개 완료' )\n",
    "#             print(f'{time.time()-start_time} 소요')\n",
    "#             wd.close()\n",
    "#             break\n",
    "    else:\n",
    "        store_df.to_csv(store_path+store_file, index=False)\n",
    "        print(구이름, 업종, f'가게 {store_idx}개 완료' )\n",
    "        print(f'{time.time()-start_time} 소요')\n",
    "        wd.close()\n",
    "        \n",
    "#     return store_df"
   ]
  },
  {
   "cell_type": "markdown",
   "metadata": {},
   "source": [
    "# 셋팅"
   ]
  },
  {
   "cell_type": "code",
   "execution_count": 19,
   "metadata": {
    "ExecuteTime": {
     "end_time": "2021-10-25T10:17:08.420298Z",
     "start_time": "2021-10-25T10:17:08.406281Z"
    }
   },
   "outputs": [],
   "source": [
    "# code_path = 'data/코드/'\n",
    "# review_path = 'data/리뷰/'\n",
    "# store_path = 'data/가게/'\n",
    "\n",
    "# code_file = '가게코드_' + 구이름 + '_' + 동이름+ '_'+ 업종 + '.csv'\n",
    "# review_file = '리뷰정보_' + 구이름 + '_' + 동이름+ '_'+ 업종 + '.csv'\n",
    "# store_file = '가게정보_' + 구이름 + '_' + 동이름+ '_'+ 업종 + '.csv'"
   ]
  },
  {
   "cell_type": "code",
   "execution_count": 20,
   "metadata": {
    "ExecuteTime": {
     "end_time": "2021-10-25T10:17:08.435949Z",
     "start_time": "2021-10-25T10:17:08.423296Z"
    }
   },
   "outputs": [],
   "source": [
    "code_path = 'data/코드/'\n",
    "store_path = 'data/가게/'\n",
    "# code_file = '가게코드_' + 구이름 + '_'+ 업종 + '.csv'\n",
    "# store_file = '가게정보_' + 구이름 +  '_'+ 업종 + '.csv'"
   ]
  },
  {
   "cell_type": "code",
   "execution_count": 21,
   "metadata": {
    "ExecuteTime": {
     "end_time": "2021-10-25T10:17:08.451966Z",
     "start_time": "2021-10-25T10:17:08.438952Z"
    }
   },
   "outputs": [],
   "source": [
    "detail= True\n",
    "slow=1"
   ]
  },
  {
   "cell_type": "markdown",
   "metadata": {},
   "source": [
    "#  코드 수집 및 저장"
   ]
  },
  {
   "cell_type": "code",
   "execution_count": null,
   "metadata": {
    "ExecuteTime": {
     "start_time": "2021-10-25T10:17:05.861Z"
    },
    "scrolled": false
   },
   "outputs": [
    {
     "name": "stderr",
     "output_type": "stream",
     "text": [
      "[WDM] - \n",
      "\n",
      "[WDM] - ====== WebDriver manager ======\n",
      "[WDM] - Current google-chrome version is 94.0.4606\n",
      "[WDM] - Get LATEST driver version for 94.0.4606\n",
      "[WDM] - Driver [C:\\Users\\N\\.wdm\\drivers\\chromedriver\\win32\\94.0.4606.61\\chromedriver.exe] found in cache\n"
     ]
    },
    {
     "name": "stdout",
     "output_type": "stream",
     "text": [
      "강남구  DINING 업종 의 가게 정보 스크래핑을 시작합니다.\n",
      "6863개의 가게코드가 있습니다.\n",
      "1260가 이전에 완료 되었었습니다. 이어서 진행합니다.\n"
     ]
    },
    {
     "data": {
      "application/vnd.jupyter.widget-view+json": {
       "model_id": "ab5bb42c77bb42b98dd891c4193d65db",
       "version_major": 2,
       "version_minor": 0
      },
      "text/plain": [
       "HBox(children=(HTML(value=''), FloatProgress(value=0.0, max=6863.0), HTML(value='')))"
      ]
     },
     "metadata": {},
     "output_type": "display_data"
    },
    {
     "name": "stdout",
     "output_type": "stream",
     "text": [
      "1260!!강남구 DINING 가게 1260개 중간저장\n",
      "3.6730825901031494 소요\n",
      "d_g1260#d_g1261#d_g1262#1263#d_g1264#d_g1265#d_g1266#d_g1267#d_g1268#d_g1269#1270#d_g1271#d_g1272#d_g1273#1274#d_g1275#d_g1276#tel d_g1277#1278#1279#1280#1281#1282#1283#1284#1285#1286#1287#1288#d_g1289#강남구 DINING 가게 1290개 중간저장\n",
      "251.24064779281616 소요\n",
      "1290#1291#1292#1293#d_g1294#d_g1295#d_g1296#1297#d_g1298#d_g1299#"
     ]
    },
    {
     "name": "stderr",
     "output_type": "stream",
     "text": [
      "[WDM] - \n",
      "\n",
      "[WDM] - ====== WebDriver manager ======\n",
      "[WDM] - Current google-chrome version is 94.0.4606\n",
      "[WDM] - Get LATEST driver version for 94.0.4606\n",
      "[WDM] - Driver [C:\\Users\\N\\.wdm\\drivers\\chromedriver\\win32\\94.0.4606.61\\chromedriver.exe] found in cache\n"
     ]
    },
    {
     "name": "stdout",
     "output_type": "stream",
     "text": [
      "d_g1300#d_g1301#d_g1302#d_g1303#d_g1304#d_g1305#d_g1306#d_g1307#d_g1308#1309#d_g1310#d_g1311#1312#d_g1313#d_g1314#1315#d_g1316#d_g1317#1318#d_g1319#강남구 DINING 가게 1320개 중간저장\n",
      "501.35474252700806 소요\n",
      "1320#1321#1322#d_g1323#d_g1324#d_g1325#tel d_g1326#d_g1327#1328#d_g1329#1330#d_g1331#d_g1332#tel d_g1333#d_g1334#d_g1335#1336#tel d_g1337#1338#d_g1339#1340#d_g1341#d_g1342#1343#d_g1344#1345#d_g1346#1347#1348#d_g1349#강남구 DINING 가게 1350개 중간저장\n",
      "737.1041333675385 소요\n",
      "d_g1350#d_g1351#1352#1353#1354#d_g1355#1356#1357#d_g1358#d_g1359#d_g1360#d_g1361#1362#1363#d_g1364#1365#d_g1366#d_g1367#d_g1368#d_g1369#d_g1370#d_g1371#1372#1373#d_g1374#d_g1375#d_g1376#1377#d_g1378#d_g1379#강남구 DINING 가게 1380개 중간저장\n",
      "972.2319996356964 소요\n",
      "d_g1380#d_g1381#d_g1382#d_g1383#1384#d_g1385#d_g1386#d_g1387#d_g1388#d_g1389#d_g1390#d_g1391#d_g1392#d_g1393#1394#d_g1395#1396#1397#d_g1398#d_g1399#"
     ]
    },
    {
     "name": "stderr",
     "output_type": "stream",
     "text": [
      "[WDM] - \n",
      "\n",
      "[WDM] - ====== WebDriver manager ======\n",
      "[WDM] - Current google-chrome version is 94.0.4606\n",
      "[WDM] - Get LATEST driver version for 94.0.4606\n",
      "[WDM] - Driver [C:\\Users\\N\\.wdm\\drivers\\chromedriver\\win32\\94.0.4606.61\\chromedriver.exe] found in cache\n"
     ]
    },
    {
     "name": "stdout",
     "output_type": "stream",
     "text": [
      "d_g1400#d_g1401#d_g1402#d_g1403#1404#d_g1405#d_g1406#d_g1407#d_g1408#d_g1409#강남구 DINING 가게 1410개 중간저장\n",
      "1208.598914861679 소요\n",
      "d_g1410#1411#d_g1412#d_g1413#1414#d_g1415#1416#1417#d_g1418#d_g1419#d_g1420#1421#1422#1423#1424#1425#d_g1426#1427#1428#1429#1430#1431#1432#1433#1434#d_g1435#d_g1436#d_g1437#1438#1439#강남구 DINING 가게 1440개 중간저장\n",
      "1457.4612905979156 소요\n",
      "1440#d_g1441#d_g1442#d_g1443#d_g1444#d_g1445#d_g1446#d_g1447#d_g1448#d_g1449#d_g1450#d_g1451#1452#d_g1453#1454#d_g1455#1456#d_g1457#d_g1458#d_g1459#d_g1460#d_g1461#d_g1462#d_g1463#d_g1464#d_g1465#1466#d_g1467#d_g1468#d_g1469#강남구 DINING 가게 1470개 중간저장\n",
      "1701.0078155994415 소요\n",
      "d_g1470#d_g1471#d_g1472#d_g1473#d_g1474#d_g1475#1476#d_g1477#d_g1478#d_g1479#d_g1480#d_g1481#d_g1482#d_g1483#d_g1484#d_g1485#1486#d_g1487#d_g1488#d_g1489#d_g1490#d_g1491#1492#d_g1493#d_g1494#tel d_g1495#1496#1497#1498#d_g1499#"
     ]
    },
    {
     "name": "stderr",
     "output_type": "stream",
     "text": [
      "[WDM] - \n",
      "\n",
      "[WDM] - ====== WebDriver manager ======\n",
      "[WDM] - Current google-chrome version is 94.0.4606\n",
      "[WDM] - Get LATEST driver version for 94.0.4606\n",
      "[WDM] - Driver [C:\\Users\\N\\.wdm\\drivers\\chromedriver\\win32\\94.0.4606.61\\chromedriver.exe] found in cache\n"
     ]
    },
    {
     "name": "stdout",
     "output_type": "stream",
     "text": [
      "강남구 DINING 가게 1500개 중간저장\n",
      "1944.217078924179 소요\n",
      "1500#1501#d_g1502#d_g1503#1504#1505#d_g1506#1507#1508#d_g1509#1510#d_g1511#d_g1512#d_g1513#1514#d_g1515#d_g1516#d_g1517#d_g1518#1519#d_g1520#d_g1521#1522#d_g1523#1524#d_g1525#1526#1527#1528#d_g1529#강남구 DINING 가게 1530개 중간저장\n",
      "2194.615816116333 소요\n",
      "1530#d_g1531#d_g1532#d_g1533#d_g1534#d_g1535#1536#d_g1537#d_g1538#1539#d_g1540#1541#d_g1542#d_g1543#d_g1544#1545#1546#d_g1547#1548#d_g1549#1550#1551#1552#1553#d_g1554#d_g1555#tel d_g1556#d_g1557#d_g1558#d_g1559#강남구 DINING 가게 1560개 중간저장\n",
      "2440.779594898224 소요\n",
      "d_g1560#d_g1561#d_g1562#d_g1563#1564#d_g1565#d_g1566#d_g1567#d_g1568#d_g1569#d_g1570#d_g1571#1572#d_g1573#d_g1574#d_g1575#1576#d_g1577#1578#d_g1579#d_g1580#d_g1581#d_g1582#d_g1583#d_g1584#d_g1585#d_g1586#d_g1587#d_g1588#d_g1589#강남구 DINING 가게 1590개 중간저장\n",
      "2683.2054164409637 소요\n",
      "d_g1590#d_g1591#d_g1592#d_g1593#d_g1594#1595#d_g1596#d_g1597#d_g1598#d_g1599#"
     ]
    },
    {
     "name": "stderr",
     "output_type": "stream",
     "text": [
      "[WDM] - \n",
      "\n",
      "[WDM] - ====== WebDriver manager ======\n",
      "[WDM] - Current google-chrome version is 94.0.4606\n",
      "[WDM] - Get LATEST driver version for 94.0.4606\n",
      "[WDM] - Driver [C:\\Users\\N\\.wdm\\drivers\\chromedriver\\win32\\94.0.4606.61\\chromedriver.exe] found in cache\n"
     ]
    },
    {
     "name": "stdout",
     "output_type": "stream",
     "text": [
      "d_g1600#d_g1601#d_g1602#1603#d_g1604#1605#d_g1606#d_g1607#d_g1608#1609#1610#1611#d_g1612#d_g1613#d_g1614#d_g1615#d_g1616#d_g1617#d_g1618#1619#강남구 DINING 가게 1620개 중간저장\n",
      "2927.460129737854 소요\n",
      "1620#d_g1621#d_g1622#d_g1623#tel d_g1624#d_g1625#d_g1626#1627#1628#1629#d_g1630#1631#d_g1632#d_g1633#d_g1634#1635#1636#d_g1637#d_g1638#d_g1639#1640#d_g1641#d_g1642#1643#1644#d_g1645#d_g1646#d_g1647#1648#1649#강남구 DINING 가게 1650개 중간저장\n",
      "3173.722771883011 소요\n",
      "d_g1650#1651#1652#1653#d_g1654#d_g1655#d_g1656#d_g1657#d_g1658#d_g1659#d_g1660#d_g1661#d_g1662#d_g1663#d_g1664#1665#d_g1666#d_g1667#d_g1668#d_g1669#d_g1670#d_g1671#d_g1672#d_g1673#d_g1674#d_g1675#d_g1676#d_g1677#d_g1678#d_g1679#강남구 DINING 가게 1680개 중간저장\n",
      "3417.6527650356293 소요\n",
      "d_g1680#d_g1681#d_g1682#d_g1683#d_g1684#d_g1685#d_g1686#tel d_g1687#d_g1688#d_g1689#d_g1690#d_g1691#tel d_g1692#d_g1693#d_g1694#d_g1695#d_g1696#d_g1697#d_g1698#d_g1699#"
     ]
    },
    {
     "name": "stderr",
     "output_type": "stream",
     "text": [
      "[WDM] - \n",
      "\n",
      "[WDM] - ====== WebDriver manager ======\n",
      "[WDM] - Current google-chrome version is 94.0.4606\n",
      "[WDM] - Get LATEST driver version for 94.0.4606\n",
      "[WDM] - Driver [C:\\Users\\N\\.wdm\\drivers\\chromedriver\\win32\\94.0.4606.61\\chromedriver.exe] found in cache\n"
     ]
    },
    {
     "name": "stdout",
     "output_type": "stream",
     "text": [
      "d_g1700#d_g1701#tel d_g1702#d_g1703#tel d_g1704#d_g1705#d_g1706#tel d_g1707#d_g1708#d_g1709#강남구 DINING 가게 1710개 중간저장\n",
      "3655.7477328777313 소요\n",
      "1710#d_g1711#d_g1712#d_g1713#d_g1714#d_g1715#d_g1716#d_g1717#1718#1719#1720#1721#1722#1723#1724#1725#1726#1727#1728#1729#1730#1731#1732#1733#1734#1735#d_g1736#1737#1738#1739#강남구 DINING 가게 1740개 중간저장\n",
      "3907.7830650806427 소요\n",
      "1740#1741#1742#1743#1744#1745#1746#1747#1748#d_g1749#1750#1751#1752#1753#d_g1754#1755#1756#d_g1757#1758#1759#1760#1761#1762#1763#1764#d_g1765#1766#1767#1768#1769#강남구 DINING 가게 1770개 중간저장\n",
      "4167.730067014694 소요\n",
      "1770#1771#d_g1772#1773#1774#d_g1775#d_g1776#d_g1777#1778#1779#d_g1780#1781#d_g1782#1783#1784#1785#1786#1787#1788#d_g1789#d_g1790#1791#d_g1792#1793#d_g1794#1795#1796#1797#1798#1799#"
     ]
    },
    {
     "name": "stderr",
     "output_type": "stream",
     "text": [
      "[WDM] - \n",
      "\n",
      "[WDM] - ====== WebDriver manager ======\n",
      "[WDM] - Current google-chrome version is 94.0.4606\n",
      "[WDM] - Get LATEST driver version for 94.0.4606\n",
      "[WDM] - Driver [C:\\Users\\N\\.wdm\\drivers\\chromedriver\\win32\\94.0.4606.61\\chromedriver.exe] found in cache\n"
     ]
    },
    {
     "name": "stdout",
     "output_type": "stream",
     "text": [
      "강남구 DINING 가게 1800개 중간저장\n",
      "4426.213416337967 소요\n",
      "1800#d_g1801#d_g1802#1803#d_g1804#d_g1805#d_g1806#d_g1807#d_g1808#d_g1809#d_g1810#d_g1811#d_g1812#d_g1813#d_g1814#d_g1815#d_g1816#1817#d_g1818#d_g1819#d_g1820#d_g1821#d_g1822#d_g1823#d_g1824#d_g1825#d_g1826#d_g1827#d_g1828#d_g1829#강남구 DINING 가게 1830개 중간저장\n",
      "4666.326042413712 소요\n",
      "d_g1830#1831#d_g1832#d_g1833#d_g1834#d_g1835#d_g1836#d_g1837#d_g1838#d_g1839#d_g1840#d_g1841#d_g1842#d_g1843#d_g1844#d_g1845#d_g1846#d_g1847#d_g1848#d_g1849#d_g1850#d_g1851#d_g1852#1853#d_g1854#d_g1855#1856#1857#1858#1859#강남구 DINING 가게 1860개 중간저장\n",
      "4905.250601768494 소요\n",
      "1860#1861#1862#1863#1864#1865#1866#1867#1868#1869#1870#d_g1871#1872#1873#1874#d_g1875#d_g1876#1877#d_g1878#1879#1880#d_g1881#d_g1882#d_g1883#1884#1885#1886#d_g1887#d_g1888#1889#강남구 DINING 가게 1890개 중간저장\n",
      "5161.0834991931915 소요\n",
      "1890#d_g1891#d_g1892#d_g1893#1894#1895#1896#1897#d_g1898#d_g1899#"
     ]
    },
    {
     "name": "stderr",
     "output_type": "stream",
     "text": [
      "[WDM] - \n",
      "\n",
      "[WDM] - ====== WebDriver manager ======\n",
      "[WDM] - Current google-chrome version is 94.0.4606\n",
      "[WDM] - Get LATEST driver version for 94.0.4606\n",
      "[WDM] - Driver [C:\\Users\\N\\.wdm\\drivers\\chromedriver\\win32\\94.0.4606.61\\chromedriver.exe] found in cache\n"
     ]
    },
    {
     "name": "stdout",
     "output_type": "stream",
     "text": [
      "1900#1901#d_g1902#d_g1903#d_g1904#d_g1905#d_g1906#d_g1907#d_g1908#d_g1909#d_g1910#d_g1911#d_g1912#d_g1913#d_g1914#d_g1915#d_g1916#d_g1917#d_g1918#d_g1919#강남구 DINING 가게 1920개 중간저장\n",
      "5410.534509420395 소요\n",
      "1920#d_g1921#d_g1922#d_g1923#d_g1924#d_g1925#d_g1926#d_g1927#d_g1928#d_g1929#d_g1930#d_g1931#d_g1932#d_g1933#d_g1934#d_g1935#1936#d_g1937#1938#d_g1939#d_g1940#1941#d_g1942#d_g1943#d_g1944#d_g1945#d_g1946#1947#d_g1948#d_g1949#강남구 DINING 가게 1950개 중간저장\n",
      "5650.754655838013 소요\n",
      "1950#d_g1951#d_g1952#1953#d_g1954#tel d_g1955#d_g1956#1957#1958#1959#1960#1961#1962#1963#1964#1965#1966#1967#1968#1969#1970#1971#1972#1973#1974#1975#1976#1977#1978#1979#강남구 DINING 가게 1980개 중간저장\n",
      "5906.689595222473 소요\n",
      "1980#1981#1982#1983#1984#1985#1986#1987#1988#1989#1990#1991#1992#d_g1993#1994#1995#1996#1997#1998#d_g1999#"
     ]
    },
    {
     "name": "stderr",
     "output_type": "stream",
     "text": [
      "[WDM] - \n",
      "\n",
      "[WDM] - ====== WebDriver manager ======\n",
      "[WDM] - Current google-chrome version is 94.0.4606\n",
      "[WDM] - Get LATEST driver version for 94.0.4606\n",
      "[WDM] - Driver [C:\\Users\\N\\.wdm\\drivers\\chromedriver\\win32\\94.0.4606.61\\chromedriver.exe] found in cache\n"
     ]
    },
    {
     "name": "stdout",
     "output_type": "stream",
     "text": [
      "2000#d_g2001#2002#2003#2004#2005#d_g2006#2007#d_g2008#d_g2009#강남구 DINING 가게 2010개 중간저장\n",
      "6159.26793718338 소요\n",
      "2010#2011#2012#d_g2013#2014#2015#2016#2017#2018#d_g2019#2020#2021#2022#d_g2023#2024#2025#2026#2027#2028#2029#2030#2031#2032#d_g2033#2034#2035#d_g2036#2037#2038#2039#강남구 DINING 가게 2040개 중간저장\n",
      "6418.70379281044 소요\n",
      "2040#2041#2042#2043#2044#2045#d_g2046#2047#d_g2048#d_g2049#2050#2051#d_g2052#d_g2053#2054#2055#2056#2057#d_g2058#2059#d_g2060#d_g2061#d_g2062#2063#2064#d_g2065#d_g2066#d_g2067#d_g2068#d_g2069#강남구 DINING 가게 2070개 중간저장\n",
      "6665.76621055603 소요\n",
      "2070#2071#2072#2073#2074#2075#d_g2076#2077#d_g2078#2079#d_g2080#d_g2081#2082#2083#d_g2084#2085#2086#d_g2087#d_g2088#2089#2090#2091#d_g2092#d_g2093#d_g2094#d_g2095#d_g2096#d_g2097#2098#d_g2099#"
     ]
    },
    {
     "name": "stderr",
     "output_type": "stream",
     "text": [
      "[WDM] - \n",
      "\n",
      "[WDM] - ====== WebDriver manager ======\n",
      "[WDM] - Current google-chrome version is 94.0.4606\n",
      "[WDM] - Get LATEST driver version for 94.0.4606\n",
      "[WDM] - Driver [C:\\Users\\N\\.wdm\\drivers\\chromedriver\\win32\\94.0.4606.61\\chromedriver.exe] found in cache\n"
     ]
    },
    {
     "name": "stdout",
     "output_type": "stream",
     "text": [
      "강남구 DINING 가게 2100개 중간저장\n",
      "6923.553443431854 소요\n",
      "d_g2100#d_g2101#d_g2102#d_g2103#d_g2104#2105#2106#2107#2108#2109#2110#2111#2112#2113#2114#2115#2116#2117#2118#2119#2120#2121#2122#2123#2124#2125#2126#2127#2128#2129#강남구 DINING 가게 2130개 중간저장\n",
      "7179.492833614349 소요\n",
      "2130#2131#2132#2133#2134#2135#2136#2137#2138#2139#2140#2141#2142#2143#2144#2145#2146#2147#2148#2149#2150#2151#2152#2153#2154#2155#2156#2157#2158#2159#강남구 DINING 가게 2160개 중간저장\n",
      "7436.595687389374 소요\n",
      "2160#2161#2162#2163#2164#2165#2166#2167#2168#2169#d_g2170#d_g2171#d_g2172#d_g2173#d_g2174#d_g2175#d_g2176#d_g2177#d_g2178#d_g2179#d_g2180#d_g2181#2182#2183#d_g2184#2185#2186#d_g2187#d_g2188#2189#강남구 DINING 가게 2190개 중간저장\n",
      "7684.810193777084 소요\n",
      "d_g2190#2191#d_g2192#d_g2193#2194#2195#2196#2197#2198#2199#"
     ]
    },
    {
     "name": "stderr",
     "output_type": "stream",
     "text": [
      "[WDM] - \n",
      "\n",
      "[WDM] - ====== WebDriver manager ======\n",
      "[WDM] - Current google-chrome version is 94.0.4606\n",
      "[WDM] - Get LATEST driver version for 94.0.4606\n",
      "[WDM] - Driver [C:\\Users\\N\\.wdm\\drivers\\chromedriver\\win32\\94.0.4606.61\\chromedriver.exe] found in cache\n"
     ]
    },
    {
     "name": "stdout",
     "output_type": "stream",
     "text": [
      "2200#2201#2202#2203#2204#d_g2205#2206#2207#2208#d_g2209#d_g2210#d_g2211#2212#d_g2213#2214#2215#d_g2216#d_g2217#2218#2219#강남구 DINING 가게 2220개 중간저장\n",
      "7940.874366521835 소요\n",
      "d_g2220#d_g2221#d_g2222#d_g2223#2224#2225#2226#2227#2228#2229#d_g2230#2231#2232#2233#d_g2234#2235#d_g2236#2237#d_g2238#d_g2239#tel 2240#d_g2241#2242#2243#d_g2244#tel d_g2245#d_g2246#d_g2247#2248#2249#강남구 DINING 가게 2250개 중간저장\n",
      "8187.6009340286255 소요\n",
      "2250#2251#2252#2253#2254#2255#d_g2256#d_g2257#d_g2258#d_g2259#d_g2260#d_g2261#2262#d_g2263#2264#d_g2265#d_g2266#d_g2267#d_g2268#d_g2269#d_g2270#d_g2271#d_g2272#d_g2273#d_g2274#d_g2275#d_g2276#d_g2277#d_g2278#d_g2279#강남구 DINING 가게 2280개 중간저장\n",
      "8428.276893615723 소요\n",
      "d_g2280#d_g2281#d_g2282#d_g2283#d_g2284#d_g2285#d_g2286#d_g2287#d_g2288#2289#d_g2290#2291#d_g2292#2293#d_g2294#d_g2295#2296#2297#d_g2298#2299#"
     ]
    },
    {
     "name": "stderr",
     "output_type": "stream",
     "text": [
      "[WDM] - \n",
      "\n",
      "[WDM] - ====== WebDriver manager ======\n",
      "[WDM] - Current google-chrome version is 94.0.4606\n",
      "[WDM] - Get LATEST driver version for 94.0.4606\n",
      "[WDM] - Driver [C:\\Users\\N\\.wdm\\drivers\\chromedriver\\win32\\94.0.4606.61\\chromedriver.exe] found in cache\n"
     ]
    },
    {
     "name": "stdout",
     "output_type": "stream",
     "text": [
      "2300#2301#d_g2302#d_g2303#d_g2304#2305#2306#d_g2307#2308#d_g2309#강남구 DINING 가게 2310개 중간저장\n",
      "8677.988913297653 소요\n",
      "d_g2310#d_g2311#d_g2312#2313#d_g2314#d_g2315#d_g2316#d_g2317#d_g2318#d_g2319#d_g2320#d_g2321#d_g2322#d_g2323#2324#d_g2325#d_g2326#d_g2327#d_g2328#d_g2329#d_g2330#d_g2331#d_g2332#d_g2333#2334#d_g2335#d_g2336#d_g2337#d_g2338#d_g2339#강남구 DINING 가게 2340개 중간저장\n",
      "8925.202673196793 소요\n",
      "d_g2340#d_g2341#d_g2342#d_g2343#d_g2344#d_g2345#2346#2347#d_g2348#d_g2349#2350#2351#2352#2353#d_g2354#d_g2355#2356#d_g2357#2358#2359#2360#2361#2362#2363#d_g2364#2365#d_g2366#2367#2368#2369#강남구 DINING 가게 2370개 중간저장\n",
      "9167.38048863411 소요\n",
      "2370#tel 2371#2372#2373#2374#2375#2376#d_g2377#2378#2379#2380#tel d_g2381#2382#d_g2383#2384#2385#2386#2387#2388#2389#d_g2390#d_g2391#d_g2392#d_g2393#d_g2394#2395#d_g2396#2397#2398#d_g2399#"
     ]
    },
    {
     "name": "stderr",
     "output_type": "stream",
     "text": [
      "[WDM] - \n",
      "\n",
      "[WDM] - ====== WebDriver manager ======\n",
      "[WDM] - Current google-chrome version is 94.0.4606\n",
      "[WDM] - Get LATEST driver version for 94.0.4606\n",
      "[WDM] - Driver [C:\\Users\\N\\.wdm\\drivers\\chromedriver\\win32\\94.0.4606.61\\chromedriver.exe] found in cache\n"
     ]
    },
    {
     "name": "stdout",
     "output_type": "stream",
     "text": [
      "강남구 DINING 가게 2400개 중간저장\n",
      "9418.926710367203 소요\n",
      "d_g2400#d_g2401#d_g2402#d_g2403#2404#d_g2405#2406#2407#2408#2409#2410#2411#2412#2413#d_g2414#2415#2416#d_g2417#d_g2418#2419#2420#2421#2422#2423#2424#d_g2425#d_g2426#d_g2427#d_g2428#2429#강남구 DINING 가게 2430개 중간저장\n",
      "9668.746647834778 소요\n",
      "d_g2430#2431#d_g2432#d_g2433#2434#2435#d_g2436#2437#2438#d_g2439#2440#d_g2441#2442#d_g2443#2444#d_g2445#d_g2446#2447#2448#2449#2450#2451#2452#2453#2454#2455#2456#2457#2458#2459#강남구 DINING 가게 2460개 중간저장\n",
      "9924.608104228973 소요\n",
      "2460#2461#2462#2463#2464#d_g2465#2466#2467#tel 2468#2469#2470#2471#2472#2473#2474#d_g2475#2476#d_g2477#d_g2478#d_g2479#d_g2480#2481#d_g2482#2483#2484#d_g2485#d_g2486#2487#2488#d_g2489#강남구 DINING 가게 2490개 중간저장\n",
      "10177.54362154007 소요\n",
      "2490#d_g2491#d_g2492#2493#2494#d_g2495#2496#2497#2498#2499#"
     ]
    },
    {
     "name": "stderr",
     "output_type": "stream",
     "text": [
      "[WDM] - \n",
      "\n",
      "[WDM] - ====== WebDriver manager ======\n",
      "[WDM] - Current google-chrome version is 94.0.4606\n",
      "[WDM] - Get LATEST driver version for 94.0.4606\n",
      "[WDM] - Driver [C:\\Users\\N\\.wdm\\drivers\\chromedriver\\win32\\94.0.4606.61\\chromedriver.exe] found in cache\n"
     ]
    },
    {
     "name": "stdout",
     "output_type": "stream",
     "text": [
      "2500#2501#tel 2502#d_g2503#2504#d_g2505#d_g2506#2507#2508#d_g2509#d_g2510#d_g2511#2512#2513#2514#2515#d_g2516#d_g2517#tel d_g2518#d_g2519#강남구 DINING 가게 2520개 중간저장\n",
      "10434.813194990158 소요\n",
      "d_g2520#d_g2521#2522#2523#d_g2524#d_g2525#2526#d_g2527#2528#2529#2530#d_g2531#d_g2532#d_g2533#2534#2535#2536#d_g2537#d_g2538#2539#d_g2540#d_g2541#d_g2542#d_g2543#d_g2544#2545#d_g2546#d_g2547#d_g2548#d_g2549#강남구 DINING 가게 2550개 중간저장\n",
      "10684.807322978973 소요\n",
      "d_g2550#2551#d_g2552#d_g2553#d_g2554#d_g2555#d_g2556#d_g2557#d_g2558#d_g2559#2560#2561#d_g2562#2563#d_g2564#d_g2565#d_g2566#d_g2567#d_g2568#d_g2569#d_g2570#d_g2571#d_g2572#d_g2573#d_g2574#d_g2575#d_g2576#d_g2577#d_g2578#d_g2579#강남구 DINING 가게 2580개 중간저장\n",
      "10926.817552566528 소요\n",
      "d_g2580#d_g2581#d_g2582#d_g2583#2584#2585#tel d_g2586#d_g2587#tel d_g2588#2589#d_g2590#d_g2591#2592#d_g2593#d_g2594#2595#2596#d_g2597#2598#d_g2599#"
     ]
    },
    {
     "name": "stderr",
     "output_type": "stream",
     "text": [
      "[WDM] - \n",
      "\n",
      "[WDM] - ====== WebDriver manager ======\n",
      "[WDM] - Current google-chrome version is 94.0.4606\n",
      "[WDM] - Get LATEST driver version for 94.0.4606\n",
      "[WDM] - Driver [C:\\Users\\N\\.wdm\\drivers\\chromedriver\\win32\\94.0.4606.61\\chromedriver.exe] found in cache\n"
     ]
    },
    {
     "name": "stdout",
     "output_type": "stream",
     "text": [
      "2600#2601#d_g2602#d_g2603#d_g2604#d_g2605#d_g2606#d_g2607#d_g2608#d_g2609#강남구 DINING 가게 2610개 중간저장\n",
      "11176.39704489708 소요\n",
      "d_g2610#2611#d_g2612#d_g2613#d_g2614#d_g2615#d_g2616#d_g2617#2618#2619#2620#2621#2622#2623#2624#2625#2626#d_g2627#2628#d_g2629#d_g2630#2631#2632#d_g2633#d_g2634#2635#d_g2636#2637#2638#2639#강남구 DINING 가게 2640개 중간저장\n",
      "11425.554590940475 소요\n",
      "2640#2641#d_g2642#d_g2643#d_g2644#2645#d_g2646#d_g2647#2648#d_g2649#2650#d_g2651#d_g2652#d_g2653#d_g2654#tel d_g2655#tel d_g2656#d_g2657#d_g2658#d_g2659#tel d_g2660#2661#2662#2663#d_g2664#d_g2665#2666#d_g2667#d_g2668#d_g2669#강남구 DINING 가게 2670개 중간저장\n",
      "11669.652850151062 소요\n",
      "d_g2670#d_g2671#d_g2672#tel d_g2673#d_g2674#tel d_g2675#d_g2676#tel d_g2677#d_g2678#tel d_g2679#d_g2680#d_g2681#d_g2682#2683#2684#d_g2685#tel d_g2686#2687#tel d_g2688#tel d_g2689#d_g2690#d_g2691#2692#d_g2693#d_g2694#d_g2695#2696#d_g2697#d_g2698#d_g2699#"
     ]
    },
    {
     "name": "stderr",
     "output_type": "stream",
     "text": [
      "[WDM] - \n",
      "\n",
      "[WDM] - ====== WebDriver manager ======\n",
      "[WDM] - Current google-chrome version is 94.0.4606\n",
      "[WDM] - Get LATEST driver version for 94.0.4606\n",
      "[WDM] - Driver [C:\\Users\\N\\.wdm\\drivers\\chromedriver\\win32\\94.0.4606.61\\chromedriver.exe] found in cache\n"
     ]
    },
    {
     "name": "stdout",
     "output_type": "stream",
     "text": [
      "강남구 DINING 가게 2700개 중간저장\n",
      "11912.25730228424 소요\n",
      "d_g2700#d_g2701#tel d_g2702#tel d_g2703#tel d_g2704#d_g2705#d_g2706#d_g2707#2708#2709#d_g2710#d_g2711#d_g2712#tel d_g2713#d_g2714#d_g2715#d_g2716#d_g2717#d_g2718#d_g2719#d_g2720#d_g2721#d_g2722#d_g2723#tel d_g2724#d_g2725#d_g2726#d_g2727#d_g2728#d_g2729#강남구 DINING 가게 2730개 중간저장\n",
      "12150.542704582214 소요\n",
      "d_g2730#d_g2731#d_g2732#d_g2733#d_g2734#tel d_g2735#tel d_g2736#d_g2737#tel d_g2738#d_g2739#tel d_g2740#d_g2741#d_g2742#d_g2743#2744#2745#d_g2746#d_g2747#d_g2748#d_g2749#d_g2750#d_g2751#2752#2753#d_g2754#2755#d_g2756#2757#d_g2758#d_g2759#강남구 DINING 가게 2760개 중간저장\n",
      "12390.30983543396 소요\n",
      "2760#2761#d_g2762#2763#2764#2765#d_g2766#d_g2767#d_g2768#d_g2769#2770#d_g2771#2772#d_g2773#d_g2774#d_g2775#d_g2776#d_g2777#tel d_g2778#d_g2779#2780#d_g2781#d_g2782#d_g2783#d_g2784#d_g2785#d_g2786#d_g2787#d_g2788#d_g2789#강남구 DINING 가게 2790개 중간저장\n",
      "12635.191068172455 소요\n",
      "d_g2790#d_g2791#2792!!2792#2793#2794#2795#d_g2796#d_g2797#2798#d_g2799#"
     ]
    },
    {
     "name": "stderr",
     "output_type": "stream",
     "text": [
      "[WDM] - \n",
      "\n",
      "[WDM] - ====== WebDriver manager ======\n",
      "[WDM] - Current google-chrome version is 94.0.4606\n",
      "[WDM] - Get LATEST driver version for 94.0.4606\n",
      "[WDM] - Driver [C:\\Users\\N\\.wdm\\drivers\\chromedriver\\win32\\94.0.4606.61\\chromedriver.exe] found in cache\n"
     ]
    },
    {
     "name": "stdout",
     "output_type": "stream",
     "text": [
      "d_g2800#2801#2802#d_g2803#d_g2804#d_g2805#d_g2806#d_g2807#d_g2808#d_g2809#d_g2810#d_g2811#d_g2812#d_g2813#d_g2814#d_g2815#d_g2816#d_g2817#d_g2818#2819#강남구 DINING 가게 2820개 중간저장\n",
      "12886.806877613068 소요\n",
      "2820#2821#2822#d_g2823#d_g2824#2825#d_g2826#d_g2827#d_g2828#d_g2829#d_g2830#d_g2831#d_g2832#d_g2833#d_g2834#d_g2835#d_g2836#d_g2837#d_g2838#d_g2839#d_g2840#d_g2841#d_g2842#d_g2843#d_g2844#d_g2845#d_g2846#d_g2847#d_g2848#d_g2849#강남구 DINING 가게 2850개 중간저장\n",
      "13131.179791212082 소요\n",
      "tel d_g2850#d_g2851#tel d_g2852#tel d_g2853#d_g2854#2855#d_g2856#2857#tel d_g2858#2859#2860#2861#2862#d_g2863#2864#d_g2865#d_g2866#d_g2867#d_g2868#d_g2869#2870#d_g2871#2872#d_g2873#d_g2874#d_g2875#d_g2876#d_g2877#d_g2878#d_g2879#강남구 DINING 가게 2880개 중간저장\n",
      "13374.357298374176 소요\n",
      "d_g2880#d_g2881#d_g2882#d_g2883#d_g2884#d_g2885#2886#d_g2887#d_g2888#d_g2889#2890#d_g2891#d_g2892#d_g2893#d_g2894#d_g2895#d_g2896#d_g2897#d_g2898#d_g2899#"
     ]
    },
    {
     "name": "stderr",
     "output_type": "stream",
     "text": [
      "[WDM] - \n",
      "\n",
      "[WDM] - ====== WebDriver manager ======\n",
      "[WDM] - Current google-chrome version is 94.0.4606\n",
      "[WDM] - Get LATEST driver version for 94.0.4606\n",
      "[WDM] - Driver [C:\\Users\\N\\.wdm\\drivers\\chromedriver\\win32\\94.0.4606.61\\chromedriver.exe] found in cache\n"
     ]
    },
    {
     "name": "stdout",
     "output_type": "stream",
     "text": [
      "d_g2900#d_g2901#d_g2902#2903#tel d_g2904#d_g2905#d_g2906#d_g2907#d_g2908#2909#강남구 DINING 가게 2910개 중간저장\n",
      "13615.93517947197 소요\n",
      "d_g2910#2911#d_g2912#2913#2914#d_g2915#d_g2916#d_g2917#d_g2918#d_g2919#d_g2920#d_g2921#d_g2922#d_g2923#2924#d_g2925#d_g2926#d_g2927#d_g2928#d_g2929#d_g2930#2931#2932#2933#2934#2935#2936#2937#2938#2939#강남구 DINING 가게 2940개 중간저장\n",
      "13865.090663909912 소요\n",
      "2940#2941#2942#2943#2944#2945#2946#2947#2948#2949#2950#2951#2952#2953#2954#2955#2956#2957#2958#2959#2960#2961#2962#2963#2964#2965#2966#2967#2968#2969#강남구 DINING 가게 2970개 중간저장\n",
      "14125.41788649559 소요\n",
      "2970#2971#2972#2973#2974#2975#2976#2977#2978#2979#2980#2981#2982#2983#2984#2985#2986#2987#2988#2989#2990#2991#2992#2993#2994#2995#2996#2997#2998#2999#"
     ]
    },
    {
     "name": "stderr",
     "output_type": "stream",
     "text": [
      "[WDM] - \n",
      "\n",
      "[WDM] - ====== WebDriver manager ======\n",
      "[WDM] - Current google-chrome version is 94.0.4606\n",
      "[WDM] - Get LATEST driver version for 94.0.4606\n",
      "[WDM] - Driver [C:\\Users\\N\\.wdm\\drivers\\chromedriver\\win32\\94.0.4606.61\\chromedriver.exe] found in cache\n"
     ]
    },
    {
     "name": "stdout",
     "output_type": "stream",
     "text": [
      "강남구 DINING 가게 3000개 중간저장\n",
      "14388.93406701088 소요\n",
      "3000#3001#3002#3003#3004#3005#3006#3007#3008#3009#3010#3011#3012#3013#d_g3014#3015#3016#d_g3017#d_g3018#3019#3020#3021#3022#3023#3024#3025#3026#3027#3028#3029#강남구 DINING 가게 3030개 중간저장\n",
      "14669.662322998047 소요\n",
      "3030#3031#3032#3033#3034#3035#d_g3036#3037#3038#3039#3040#3041#3042#3043#3044#3045#3046#d_g3047#3048#3049#3050#d_g3051#3052#d_g3053#3054#3055#3056#3057#d_g3058#3059#강남구 DINING 가게 3060개 중간저장\n",
      "14923.937416553497 소요\n",
      "d_g3060#d_g3061#d_g3062#3063#d_g3064#3065#d_g3066#d_g3067#3068#d_g3069#d_g3070#d_g3071#d_g3072#d_g3073#d_g3074#d_g3075#3076#3077#d_g3078#3079#3080#3081#3082#d_g3083#d_g3084#3085#3086#d_g3087#3088#3089#강남구 DINING 가게 3090개 중간저장\n",
      "15173.378801345825 소요\n",
      "d_g3090#d_g3091#d_g3092#d_g3093#3094#3095#d_g3096#3097#d_g3098#d_g3099#"
     ]
    },
    {
     "name": "stderr",
     "output_type": "stream",
     "text": [
      "[WDM] - \n",
      "\n",
      "[WDM] - ====== WebDriver manager ======\n",
      "[WDM] - Current google-chrome version is 94.0.4606\n",
      "[WDM] - Get LATEST driver version for 94.0.4606\n",
      "[WDM] - Driver [C:\\Users\\N\\.wdm\\drivers\\chromedriver\\win32\\94.0.4606.61\\chromedriver.exe] found in cache\n"
     ]
    },
    {
     "name": "stdout",
     "output_type": "stream",
     "text": [
      "d_g3100#d_g3101#d_g3102#3103#d_g3104#d_g3105#d_g3106#d_g3107#d_g3108#d_g3109#d_g3110#d_g3111#d_g3112#d_g3113#d_g3114#d_g3115#d_g3116#d_g3117#d_g3118#tel d_g3119#강남구 DINING 가게 3120개 중간저장\n",
      "15420.080852508545 소요\n",
      "3120#3121#3122#3123#3124#3125#3126#d_g3127#3128#d_g3129#d_g3130#3131#3132#3133#d_g3134#d_g3135#d_g3136#d_g3137#d_g3138#tel d_g3139#d_g3140#3141#tel d_g3142#d_g3143#3144#3145#d_g3146#d_g3147#d_g3148#d_g3149#강남구 DINING 가게 3150개 중간저장\n",
      "15668.848291397095 소요\n",
      "tel d_g3150#d_g3151#d_g3152#3153#3154#3155#d_g3156#3157#3158#3159#3160#3161#3162#d_g3163#d_g3164#3165#d_g3166#d_g3167#d_g3168#d_g3169#tel d_g3170#d_g3171#tel d_g3172#d_g3173#tel d_g3174#tel d_g3175#tel d_g3176#tel d_g3177#d_g3178#3179#강남구 DINING 가게 3180개 중간저장\n",
      "15913.24886894226 소요\n",
      "3180#tel d_g3181#tel d_g3182#d_g3183#d_g3184#3185#3186#d_g3187#3188#3189#tel d_g3190#3191#d_g3192#3193#3194#3195#3196#3197#3198#d_g3199#"
     ]
    },
    {
     "name": "stderr",
     "output_type": "stream",
     "text": [
      "[WDM] - \n",
      "\n",
      "[WDM] - ====== WebDriver manager ======\n",
      "[WDM] - Current google-chrome version is 94.0.4606\n",
      "[WDM] - Get LATEST driver version for 94.0.4606\n",
      "[WDM] - Driver [C:\\Users\\N\\.wdm\\drivers\\chromedriver\\win32\\94.0.4606.61\\chromedriver.exe] found in cache\n"
     ]
    },
    {
     "name": "stdout",
     "output_type": "stream",
     "text": [
      "d_g3200#d_g3201#3202#d_g3203#d_g3204#d_g3205#d_g3206#d_g3207#d_g3208#tel 3209#강남구 DINING 가게 3210개 중간저장\n",
      "16166.637401103973 소요\n",
      "3210#d_g3211#d_g3212#d_g3213#d_g3214#d_g3215#d_g3216#d_g3217#d_g3218#d_g3219#tel d_g3220#d_g3221#d_g3222#d_g3223#d_g3224#d_g3225#d_g3226#d_g3227#tel d_g3228#d_g3229#d_g3230#tel d_g3231#d_g3232#d_g3233#d_g3234#3235#3236#3237#3238#3239#강남구 DINING 가게 3240개 중간저장\n",
      "16410.148873329163 소요\n",
      "3240#tel 3241#d_g3242#3243#3244#tel d_g3245#3246#3247#d_g3248#tel d_g3249#d_g3250#tel d_g3251#3252#3253#3254#d_g3255#d_g3256#d_g3257#tel d_g3258#d_g3259#3260#3261#d_g3262#d_g3263#d_g3264#d_g3265#d_g3266#d_g3267#d_g3268#d_g3269#강남구 DINING 가게 3270개 중간저장\n",
      "16660.17307639122 소요\n",
      "d_g3270#tel d_g3271#d_g3272#d_g3273#tel d_g3274#d_g3275#d_g3276#3277#3278#d_g3279#d_g3280#d_g3281#d_g3282#3283#3284#3285#3286#3287#3288#3289#3290#3291#3292#3293#3294#3295#3296#d_g3297#3298#d_g3299#"
     ]
    },
    {
     "name": "stderr",
     "output_type": "stream",
     "text": [
      "[WDM] - \n",
      "\n",
      "[WDM] - ====== WebDriver manager ======\n",
      "[WDM] - Current google-chrome version is 94.0.4606\n",
      "[WDM] - Get LATEST driver version for 94.0.4606\n",
      "[WDM] - Driver [C:\\Users\\N\\.wdm\\drivers\\chromedriver\\win32\\94.0.4606.61\\chromedriver.exe] found in cache\n"
     ]
    },
    {
     "name": "stdout",
     "output_type": "stream",
     "text": [
      "강남구 DINING 가게 3300개 중간저장\n",
      "16916.557171344757 소요\n",
      "d_g3300#d_g3301#3302#d_g3303#d_g3304#d_g3305#3306#d_g3307#3308#d_g3309#d_g3310#3311#d_g3312#d_g3313#d_g3314#d_g3315#3316#d_g3317#d_g3318#d_g3319#d_g3320#d_g3321#d_g3322#d_g3323#d_g3324#d_g3325#d_g3326#d_g3327#d_g3328#d_g3329#강남구 DINING 가게 3330개 중간저장\n",
      "17162.23484635353 소요\n",
      "d_g3330#d_g3331#d_g3332#d_g3333#d_g3334#d_g3335#d_g3336#d_g3337#d_g3338#d_g3339#3340#3341#3342#3343#3344#3345#d_g3346#3347#d_g3348#3349#d_g3350#d_g3351#d_g3352#d_g3353#d_g3354#d_g3355#tel d_g3356#d_g3357#d_g3358#tel d_g3359#강남구 DINING 가게 3360개 중간저장\n",
      "17400.757128715515 소요\n",
      "d_g3360#d_g3361#d_g3362#d_g3363#tel d_g3364#d_g3365#d_g3366#3367#d_g3368#d_g3369#d_g3370#d_g3371#d_g3372#d_g3373#3374#3375#3376#3377#3378#3379#3380#3381#3382#d_g3383#3384#3385#3386#3387#3388#3389#강남구 DINING 가게 3390개 중간저장\n",
      "17650.666234970093 소요\n",
      "3390#3391#3392#3393#3394#3395#3396#3397#3398#3399#"
     ]
    },
    {
     "name": "stderr",
     "output_type": "stream",
     "text": [
      "[WDM] - \n",
      "\n",
      "[WDM] - ====== WebDriver manager ======\n",
      "[WDM] - Current google-chrome version is 94.0.4606\n",
      "[WDM] - Get LATEST driver version for 94.0.4606\n",
      "[WDM] - Get LATEST driver version for 94.0.4606\n",
      "[WDM] - Trying to download new driver from https://chromedriver.storage.googleapis.com/94.0.4606.61/chromedriver_win32.zip\n",
      "[WDM] - Driver has been saved in cache [C:\\Users\\N\\.wdm\\drivers\\chromedriver\\win32\\94.0.4606.61]\n"
     ]
    },
    {
     "name": "stdout",
     "output_type": "stream",
     "text": [
      "d_g3400#3401#d_g3402#3403#3404#d_g3405#d_g3406#d_g3407#d_g3408#d_g3409#d_g3410#d_g3411#d_g3412#d_g3413#d_g3414#d_g3415#d_g3416#3417#3418#d_g3419#강남구 DINING 가게 3420개 중간저장\n",
      "17911.243361234665 소요\n",
      "d_g3420#d_g3421#3422#d_g3423#d_g3424#3425#tel 3426#3427#d_g3428#d_g3429#3430#d_g3431#d_g3432#d_g3433#d_g3434#tel d_g3435#d_g3436#d_g3437#d_g3438#d_g3439#d_g3440#d_g3441#d_g3442#d_g3443#d_g3444#d_g3445#3446#3447#3448#d_g3449#강남구 DINING 가게 3450개 중간저장\n",
      "18154.987929582596 소요\n",
      "d_g3450#d_g3451#d_g3452#d_g3453#tel d_g3454#d_g3455#d_g3456#d_g3457#d_g3458#d_g3459#d_g3460#d_g3461#d_g3462#d_g3463#3464#3465#3466#3467#3468#3469#3470#3471#3472#3473#3474#3475#3476#3477#3478#3479#강남구 DINING 가게 3480개 중간저장\n",
      "18403.745540618896 소요\n",
      "3480#3481#d_g3482#3483#3484#3485#3486#3487#3488#3489#3490#3491#3492#3493#3494#3495#3496#3497#3498#3499#"
     ]
    },
    {
     "name": "stderr",
     "output_type": "stream",
     "text": [
      "[WDM] - \n",
      "\n",
      "[WDM] - ====== WebDriver manager ======\n",
      "[WDM] - Current google-chrome version is 94.0.4606\n",
      "[WDM] - Get LATEST driver version for 94.0.4606\n",
      "[WDM] - Driver [C:\\Users\\N\\.wdm\\drivers\\chromedriver\\win32\\94.0.4606.61\\chromedriver.exe] found in cache\n"
     ]
    },
    {
     "name": "stdout",
     "output_type": "stream",
     "text": [
      "3500#3501#3502#3503#3504#3505#3506#3507#3508#3509#강남구 DINING 가게 3510개 중간저장\n",
      "18665.27930188179 소요\n",
      "3510#3511#3512#3513#3514#3515#3516#3517#3518#3519#3520#3521#3522#3523#3524#3525#3526#3527#3528#3529#3530#3531#3532#3533#3534#3535#3536#3537#3538#3539#강남구 DINING 가게 3540개 중간저장\n",
      "18924.952107191086 소요\n",
      "3540#3541#3542#3543#3544#3545#3546#3547#3548#3549#3550#3551#3552#3553#3554#3555#3556#3557#3558#3559#3560#3561#3562#3563#3564#3565#3566#3567#3568#3569#강남구 DINING 가게 3570개 중간저장\n",
      "19183.545335769653 소요\n",
      "d_g3570#3571#3572#3573#3574#3575#3576#3577#3578#3579#d_g3580#3581#3582#d_g3583#d_g3584#3585#3586#3587#3588#3589#d_g3590#3591#d_g3592#3593#3594#3595#3596#3597#3598#d_g3599#"
     ]
    },
    {
     "name": "stderr",
     "output_type": "stream",
     "text": [
      "[WDM] - \n",
      "\n",
      "[WDM] - ====== WebDriver manager ======\n",
      "[WDM] - Current google-chrome version is 94.0.4606\n",
      "[WDM] - Get LATEST driver version for 94.0.4606\n",
      "[WDM] - Driver [C:\\Users\\N\\.wdm\\drivers\\chromedriver\\win32\\94.0.4606.61\\chromedriver.exe] found in cache\n"
     ]
    },
    {
     "name": "stdout",
     "output_type": "stream",
     "text": [
      "강남구 DINING 가게 3600개 중간저장\n",
      "19441.43282365799 소요\n",
      "d_g3600#3601#3602#d_g3603#3604#3605#3606#3607#3608#3609#3610#d_g3611#3612#3613#d_g3614#3615#d_g3616#d_g3617#3618#3619#d_g3620#3621#3622#d_g3623#3624#d_g3625#d_g3626#3627#d_g3628#d_g3629#강남구 DINING 가게 3630개 중간저장\n",
      "19694.262177705765 소요\n",
      "3630#d_g3631#d_g3632#d_g3633#3634#d_g3635#d_g3636#d_g3637#d_g3638#d_g3639#3640#3641#tel 3642#3643#3644#3645#3646#d_g3647#3648#3649#3650#3651#3652#3653#d_g3654#3655#d_g3656#3657#3658#3659#강남구 DINING 가게 3660개 중간저장\n",
      "19946.720309972763 소요\n",
      "d_g3660#3661#3662#d_g3663#d_g3664#tel 3665#d_g3666#d_g3667#3668#3669#d_g3670#3671#d_g3672#d_g3673#d_g3674#tel 3675#3676#d_g3677#d_g3678#d_g3679#d_g3680#d_g3681#d_g3682#d_g3683#d_g3684#d_g3685#d_g3686#d_g3687#d_g3688#d_g3689#강남구 DINING 가게 3690개 중간저장\n",
      "20193.004654169083 소요\n",
      "d_g3690#d_g3691#d_g3692#d_g3693#d_g3694#d_g3695#d_g3696#d_g3697#tel d_g3698#d_g3699#"
     ]
    },
    {
     "name": "stderr",
     "output_type": "stream",
     "text": [
      "[WDM] - \n",
      "\n",
      "[WDM] - ====== WebDriver manager ======\n",
      "[WDM] - Current google-chrome version is 94.0.4606\n",
      "[WDM] - Get LATEST driver version for 94.0.4606\n",
      "[WDM] - Driver [C:\\Users\\N\\.wdm\\drivers\\chromedriver\\win32\\94.0.4606.61\\chromedriver.exe] found in cache\n"
     ]
    },
    {
     "name": "stdout",
     "output_type": "stream",
     "text": [
      "d_g3700#d_g3701#d_g3702#tel d_g3703#d_g3704#d_g3705#d_g3706#3707#tel d_g3708#d_g3709#tel d_g3710#3711#3712#3713#3714#d_g3715#3716#3717#d_g3718#3719#강남구 DINING 가게 3720개 중간저장\n",
      "20438.205173254013 소요\n",
      "d_g3720#d_g3721#d_g3722#d_g3723#3724#d_g3725#d_g3726#d_g3727#d_g3728#d_g3729#d_g3730#tel d_g3731#d_g3732#d_g3733#d_g3734#tel d_g3735#tel d_g3736#d_g3737#d_g3738#3739#3740#3741#3742#3743#3744#d_g3745#d_g3746#3747#d_g3748#d_g3749#강남구 DINING 가게 3750개 중간저장\n",
      "20679.77351498604 소요\n",
      "d_g3750#tel d_g3751#d_g3752#d_g3753#d_g3754#d_g3755#3756#3757#3758#3759#3760#3761#d_g3762#3763#d_g3764#3765#d_g3766#d_g3767#d_g3768#d_g3769#3770#d_g3771#d_g3772#d_g3773#d_g3774#d_g3775#d_g3776#d_g3777#d_g3778#3779#강남구 DINING 가게 3780개 중간저장\n",
      "20923.858590126038 소요\n",
      "d_g3780#d_g3781#d_g3782#d_g3783#d_g3784#d_g3785#d_g3786#3787#d_g3788#tel d_g3789#3790#3791#d_g3792#tel d_g3793#3794#3795#d_g3796#d_g3797#d_g3798#d_g3799#"
     ]
    },
    {
     "name": "stderr",
     "output_type": "stream",
     "text": [
      "[WDM] - \n",
      "\n",
      "[WDM] - ====== WebDriver manager ======\n",
      "[WDM] - Current google-chrome version is 94.0.4606\n",
      "[WDM] - Get LATEST driver version for 94.0.4606\n",
      "[WDM] - Driver [C:\\Users\\N\\.wdm\\drivers\\chromedriver\\win32\\94.0.4606.61\\chromedriver.exe] found in cache\n"
     ]
    },
    {
     "name": "stdout",
     "output_type": "stream",
     "text": [
      "3800#tel d_g3801#tel d_g3802#3803#tel d_g3804#d_g3805#d_g3806#3807#3808#d_g3809#강남구 DINING 가게 3810개 중간저장\n",
      "21169.66193342209 소요\n",
      "3810#d_g3811#d_g3812#3813#3814#3815#d_g3816#d_g3817#d_g3818#3819#d_g3820#d_g3821#d_g3822#3823#3824#3825#d_g3826#d_g3827#d_g3828#3829#3830#d_g3831#3832#d_g3833#d_g3834#3835#d_g3836#3837#d_g3838#d_g3839#강남구 DINING 가게 3840개 중간저장\n",
      "21417.707899332047 소요\n",
      "d_g3840#d_g3841#3842#d_g3843#3844#d_g3845#d_g3846#3847#d_g3848#d_g3849#d_g3850#d_g3851#d_g3852#d_g3853#d_g3854#d_g3855#d_g3856#d_g3857#d_g3858#d_g3859#d_g3860#d_g3861#d_g3862#d_g3863#d_g3864#d_g3865#d_g3866#d_g3867#d_g3868#d_g3869#강남구 DINING 가게 3870개 중간저장\n",
      "21657.571481704712 소요\n",
      "d_g3870#d_g3871#d_g3872#tel d_g3873#d_g3874#tel d_g3875#d_g3876#d_g3877#tel d_g3878#d_g3879#3880#3881#3882#3883#d_g3884#d_g3885#d_g3886#d_g3887#d_g3888#3889#d_g3890#d_g3891#d_g3892#tel d_g3893#d_g3894#3895#d_g3896#d_g3897#3898#tel d_g3899#"
     ]
    },
    {
     "name": "stderr",
     "output_type": "stream",
     "text": [
      "[WDM] - \n",
      "\n",
      "[WDM] - ====== WebDriver manager ======\n",
      "[WDM] - Current google-chrome version is 94.0.4606\n",
      "[WDM] - Get LATEST driver version for 94.0.4606\n",
      "[WDM] - Driver [C:\\Users\\N\\.wdm\\drivers\\chromedriver\\win32\\94.0.4606.61\\chromedriver.exe] found in cache\n"
     ]
    },
    {
     "name": "stdout",
     "output_type": "stream",
     "text": [
      "강남구 DINING 가게 3900개 중간저장\n",
      "21902.16783475876 소요\n",
      "d_g3900#tel d_g3901#d_g3902#d_g3903#3904#3905#d_g3906#d_g3907#d_g3908#d_g3909#d_g3910#d_g3911#d_g3912#d_g3913#3914#3915#d_g3916#3917#d_g3918#d_g3919#d_g3920#d_g3921#3922#d_g3923#d_g3924#d_g3925#d_g3926#d_g3927#d_g3928#d_g3929#강남구 DINING 가게 3930개 중간저장\n",
      "22142.833223581314 소요\n",
      "d_g3930#d_g3931#d_g3932#d_g3933#3934#d_g3935#3936#3937#3938#d_g3939#3940#3941#d_g3942#3943#3944#d_g3945#d_g3946#3947#d_g3948#d_g3949#d_g3950#d_g3951#3952#d_g3953#d_g3954#3955#d_g3956#d_g3957#d_g3958#d_g3959#강남구 DINING 가게 3960개 중간저장\n",
      "22387.928741931915 소요\n",
      "3960#d_g3961#d_g3962#d_g3963#d_g3964#d_g3965#d_g3966#d_g3967#d_g3968#d_g3969#d_g3970#d_g3971#d_g3972#d_g3973#d_g3974#d_g3975#d_g3976#d_g3977#d_g3978#d_g3979#d_g3980#d_g3981#tel d_g3982#d_g3983#d_g3984#d_g3985#d_g3986#d_g3987#d_g3988#d_g3989#강남구 DINING 가게 3990개 중간저장\n",
      "22627.131532907486 소요\n",
      "d_g3990#d_g3991#d_g3992#d_g3993#d_g3994#d_g3995#d_g3996#d_g3997#d_g3998#d_g3999#"
     ]
    },
    {
     "name": "stderr",
     "output_type": "stream",
     "text": [
      "[WDM] - \n",
      "\n",
      "[WDM] - ====== WebDriver manager ======\n",
      "[WDM] - Current google-chrome version is 94.0.4606\n",
      "[WDM] - Get LATEST driver version for 94.0.4606\n",
      "[WDM] - Driver [C:\\Users\\N\\.wdm\\drivers\\chromedriver\\win32\\94.0.4606.61\\chromedriver.exe] found in cache\n"
     ]
    },
    {
     "name": "stdout",
     "output_type": "stream",
     "text": [
      "d_g4000#4001#4002#4003#4004#4005#4006#4007#4008#4009#4010#4011#d_g4012#4013#d_g4014#d_g4015#4016#4017#4018#4019#강남구 DINING 가게 4020개 중간저장\n",
      "22877.86034631729 소요\n",
      "4020#d_g4021#4022#d_g4023#4024#4025#4026#4027#4028#4029#4030#4031#d_g4032#4033#d_g4034#d_g4035#d_g4036#d_g4037#4038#d_g4039#4040#4041#d_g4042#d_g4043#4044#4045#d_g4046#d_g4047#4048#d_g4049#강남구 DINING 가게 4050개 중간저장\n",
      "23131.641040086746 소요\n",
      "d_g4050#4051#d_g4052#d_g4053#d_g4054#d_g4055#d_g4056#d_g4057#d_g4058#4059#4060#4061#d_g4062#d_g4063#d_g4064#4065#d_g4066#d_g4067#4068#d_g4069#d_g4070#d_g4071#4072#4073#d_g4074#4075#4076#d_g4077#4078#4079#강남구 DINING 가게 4080개 중간저장\n",
      "23379.143409729004 소요\n",
      "4080#4081#4082#4083#4084#4085#d_g4086#4087#4088#4089#d_g4090#d_g4091#d_g4092#d_g4093#d_g4094#d_g4095#d_g4096#d_g4097#d_g4098#d_g4099#"
     ]
    },
    {
     "name": "stderr",
     "output_type": "stream",
     "text": [
      "[WDM] - \n",
      "\n",
      "[WDM] - ====== WebDriver manager ======\n",
      "[WDM] - Current google-chrome version is 94.0.4606\n",
      "[WDM] - Get LATEST driver version for 94.0.4606\n",
      "[WDM] - Driver [C:\\Users\\N\\.wdm\\drivers\\chromedriver\\win32\\94.0.4606.61\\chromedriver.exe] found in cache\n"
     ]
    },
    {
     "name": "stdout",
     "output_type": "stream",
     "text": [
      "d_g4100#d_g4101#d_g4102#d_g4103#d_g4104#d_g4105#4106#d_g4107#d_g4108#d_g4109#강남구 DINING 가게 4110개 중간저장\n",
      "23625.77607870102 소요\n",
      "d_g4110#d_g4111#d_g4112#tel d_g4113#d_g4114#d_g4115#d_g4116#d_g4117#d_g4118#d_g4119#d_g4120#d_g4121#d_g4122#d_g4123#d_g4124#d_g4125#d_g4126#d_g4127#d_g4128#d_g4129#d_g4130#d_g4131#tel d_g4132#d_g4133#d_g4134#d_g4135#4136#d_g4137#d_g4138#d_g4139#강남구 DINING 가게 4140개 중간저장\n",
      "23861.85484457016 소요\n",
      "d_g4140#4141#d_g4142#d_g4143#4144#4145#4146#d_g4147#4148#d_g4149#4150#d_g4151#d_g4152#4153#4154#4155#4156#4157#4158#4159#4160#d_g4161#4162#4163#d_g4164#d_g4165#4166#4167#4168#4169#강남구 DINING 가게 4170개 중간저장\n",
      "24117.349749088287 소요\n",
      "d_g4170#d_g4171#d_g4172#d_g4173#d_g4174#tel d_g4175#d_g4176#d_g4177#d_g4178#d_g4179#tel d_g4180#4181#4182#4183#4184#d_g4185#d_g4186#d_g4187#d_g4188#4189#d_g4190#d_g4191#d_g4192#d_g4193#tel d_g4194#d_g4195#d_g4196#d_g4197#d_g4198#4199#"
     ]
    },
    {
     "name": "stderr",
     "output_type": "stream",
     "text": [
      "[WDM] - \n",
      "\n",
      "[WDM] - ====== WebDriver manager ======\n",
      "[WDM] - Current google-chrome version is 94.0.4606\n",
      "[WDM] - Get LATEST driver version for 94.0.4606\n",
      "[WDM] - Driver [C:\\Users\\N\\.wdm\\drivers\\chromedriver\\win32\\94.0.4606.61\\chromedriver.exe] found in cache\n"
     ]
    },
    {
     "name": "stdout",
     "output_type": "stream",
     "text": [
      "강남구 DINING 가게 4200개 중간저장\n",
      "24362.548795461655 소요\n",
      "tel d_g4200#d_g4201#tel d_g4202#d_g4203#tel d_g4204#d_g4205#d_g4206#tel d_g4207#d_g4208#tel d_g4209#d_g4210#d_g4211#tel d_g4212#d_g4213#d_g4214#4215#4216#d_g4217#d_g4218#d_g4219#d_g4220#d_g4221#tel d_g4222#d_g4223#4224#4225#4226#4227#4228#4229#강남구 DINING 가게 4230개 중간저장\n",
      "24601.805807828903 소요\n",
      "4230#4231#4232#4233#4234#4235#4236#4237#4238#4239#4240#4241#4242#4243#4244#4245#d_g4246#d_g4247#4248#4249#4250#d_g4251#d_g4252#4253#4254#4255#4256#4257#4258#d_g4259#강남구 DINING 가게 4260개 중간저장\n",
      "24860.313854455948 소요\n",
      "4260#4261#4262#4263#4264#4265#4266#d_g4267#d_g4268#d_g4269#d_g4270#d_g4271#4272#d_g4273#d_g4274#4275#d_g4276#d_g4277#tel d_g4278#tel d_g4279#d_g4280#4281#4282#d_g4283#d_g4284#d_g4285#d_g4286#d_g4287#d_g4288#d_g4289#강남구 DINING 가게 4290개 중간저장\n",
      "25108.896623134613 소요\n",
      "d_g4290#4291#4292#d_g4293#d_g4294#tel d_g4295#tel d_g4296#d_g4297#4298#4299#"
     ]
    },
    {
     "name": "stderr",
     "output_type": "stream",
     "text": [
      "[WDM] - \n",
      "\n",
      "[WDM] - ====== WebDriver manager ======\n",
      "[WDM] - Current google-chrome version is 94.0.4606\n",
      "[WDM] - Get LATEST driver version for 94.0.4606\n",
      "[WDM] - Driver [C:\\Users\\N\\.wdm\\drivers\\chromedriver\\win32\\94.0.4606.61\\chromedriver.exe] found in cache\n"
     ]
    },
    {
     "name": "stdout",
     "output_type": "stream",
     "text": [
      "d_g4300#d_g4301#d_g4302#d_g4303#d_g4304#4305#d_g4306#4307#4308#tel d_g4309#tel d_g4310#4311#tel d_g4312#4313#d_g4314#d_g4315#4316#4317#d_g4318#4319#강남구 DINING 가게 4320개 중간저장\n",
      "25350.94199323654 소요\n",
      "d_g4320#d_g4321#d_g4322#d_g4323#d_g4324#d_g4325#d_g4326#d_g4327#d_g4328#d_g4329#tel d_g4330#d_g4331#tel d_g4332#tel d_g4333#d_g4334#tel d_g4335#d_g4336#d_g4337#d_g4338#d_g4339#tel d_g4340#d_g4341#d_g4342#tel d_g4343#d_g4344#tel d_g4345#d_g4346#d_g4347#d_g4348#d_g4349#강남구 DINING 가게 4350개 중간저장\n",
      "25585.242911577225 소요\n",
      "4350#d_g4351#d_g4352#d_g4353#tel d_g4354#d_g4355#d_g4356#d_g4357#d_g4358#d_g4359#d_g4360#d_g4361#d_g4362#tel d_g4363#d_g4364#4365#d_g4366#d_g4367#d_g4368#tel d_g4369#d_g4370#d_g4371#tel d_g4372#d_g4373#tel d_g4374#d_g4375#d_g4376#tel d_g4377#d_g4378#tel d_g4379#강남구 DINING 가게 4380개 중간저장\n",
      "25822.925941705704 소요\n",
      "d_g4380#d_g4381#4382#4383#d_g4384#d_g4385#d_g4386#d_g4387#d_g4388#d_g4389#d_g4390#d_g4391#d_g4392#4393#d_g4394#d_g4395#tel d_g4396#tel d_g4397#d_g4398#d_g4399#"
     ]
    },
    {
     "name": "stderr",
     "output_type": "stream",
     "text": [
      "[WDM] - \n",
      "\n",
      "[WDM] - ====== WebDriver manager ======\n",
      "[WDM] - Current google-chrome version is 94.0.4606\n",
      "[WDM] - Get LATEST driver version for 94.0.4606\n",
      "[WDM] - Driver [C:\\Users\\N\\.wdm\\drivers\\chromedriver\\win32\\94.0.4606.61\\chromedriver.exe] found in cache\n"
     ]
    },
    {
     "name": "stdout",
     "output_type": "stream",
     "text": [
      "4400#d_g4401#d_g4402#d_g4403#d_g4404#d_g4405#d_g4406#tel d_g4407#d_g4408#4409#강남구 DINING 가게 4410개 중간저장\n",
      "26063.178040981293 소요\n",
      "4410#4411#4412#4413#4414#4415#4416#4417#4418#4419#4420#4421#4422#4423#4424#4425#4426#4427#4428#4429#4430#4431#4432#4433#4434#4435#4436#4437#4438#4439#강남구 DINING 가게 4440개 중간저장\n",
      "26325.753452301025 소요\n",
      "4440#d_g4441#4442#4443#4444#4445#4446#4447#4448#4449#4450#4451#4452#4453#4454#4455#4456#4457#4458#4459#4460#4461#4462#4463#4464#4465#4466#d_g4467#4468#d_g4469#강남구 DINING 가게 4470개 중간저장\n",
      "26583.29584288597 소요\n",
      "4470#d_g4471#4472#4473#4474#d_g4475#4476#4477#4478#4479#4480#4481#4482#d_g4483#4484#4485#d_g4486#d_g4487#d_g4488#4489#4490#4491#4492#4493#4494#4495#4496#4497#4498#4499#"
     ]
    },
    {
     "name": "stderr",
     "output_type": "stream",
     "text": [
      "[WDM] - \n",
      "\n",
      "[WDM] - ====== WebDriver manager ======\n",
      "[WDM] - Current google-chrome version is 94.0.4606\n",
      "[WDM] - Get LATEST driver version for 94.0.4606\n",
      "[WDM] - Driver [C:\\Users\\N\\.wdm\\drivers\\chromedriver\\win32\\94.0.4606.61\\chromedriver.exe] found in cache\n"
     ]
    },
    {
     "name": "stdout",
     "output_type": "stream",
     "text": [
      "강남구 DINING 가게 4500개 중간저장\n",
      "26842.950402736664 소요\n",
      "4500#4501#4502#4503#4504#4505#d_g4506#d_g4507#4508#4509#d_g4510#4511#d_g4512#d_g4513#4514#4515#4516#d_g4517#d_g4518#d_g4519#4520#4521#d_g4522#d_g4523#d_g4524#d_g4525#tel d_g4526#d_g4527#d_g4528#d_g4529#강남구 DINING 가게 4530개 중간저장\n",
      "27093.456908226013 소요\n",
      "d_g4530#d_g4531#d_g4532#d_g4533#d_g4534#d_g4535#d_g4536#4537#4538#d_g4539#4540#4541#d_g4542#4543#d_g4544#4545#4546#d_g4547#4548#4549#d_g4550#4551#d_g4552#4553#d_g4554#4555#d_g4556#4557#4558#d_g4559#강남구 DINING 가게 4560개 중간저장\n",
      "27338.619489192963 소요\n",
      "d_g4560#d_g4561#d_g4562#d_g4563#d_g4564#d_g4565#d_g4566#d_g4567#d_g4568#d_g4569#4570#d_g4571#d_g4572#d_g4573#d_g4574#4575#d_g4576#d_g4577#4578#d_g4579#4580#d_g4581#d_g4582#d_g4583#4584#d_g4585#d_g4586#d_g4587#d_g4588#d_g4589#강남구 DINING 가게 4590개 중간저장\n",
      "27582.756323099136 소요\n",
      "4590#d_g4591#d_g4592#tel d_g4593#d_g4594#4595#4596#4597#d_g4598#4599#"
     ]
    },
    {
     "name": "stderr",
     "output_type": "stream",
     "text": [
      "[WDM] - \n",
      "\n",
      "[WDM] - ====== WebDriver manager ======\n",
      "[WDM] - Current google-chrome version is 94.0.4606\n",
      "[WDM] - Get LATEST driver version for 94.0.4606\n",
      "[WDM] - Driver [C:\\Users\\N\\.wdm\\drivers\\chromedriver\\win32\\94.0.4606.61\\chromedriver.exe] found in cache\n"
     ]
    },
    {
     "name": "stdout",
     "output_type": "stream",
     "text": [
      "4600#4601#d_g4602#4603#d_g4604#4605#d_g4606#4607#4608#d_g4609#4610#d_g4611#d_g4612#4613#4614#d_g4615#4616#d_g4617#4618#d_g4619#강남구 DINING 가게 4620개 중간저장\n",
      "27832.288005828857 소요\n",
      "4620#d_g4621#d_g4622#4623#d_g4624#d_g4625#d_g4626#d_g4627#4628#4629#d_g4630#4631#4632#4633#tel d_g4634#d_g4635#d_g4636#4637#d_g4638#d_g4639#4640#4641#d_g4642#4643#d_g4644#4645#4646#d_g4647#4648#4649#강남구 DINING 가게 4650개 중간저장\n",
      "28079.448976039886 소요\n",
      "d_g4650#d_g4651#d_g4652#d_g4653#d_g4654#d_g4655#d_g4656#d_g4657#d_g4658#4659#4660#4661#4662#4663#d_g4664#d_g4665#4666#d_g4667#4668#d_g4669#d_g4670#d_g4671#d_g4672#4673#d_g4674#d_g4675#d_g4676#4677#d_g4678#4679#강남구 DINING 가게 4680개 중간저장\n",
      "28322.976637601852 소요\n",
      "4680#d_g4681#d_g4682#4683#d_g4684#d_g4685#d_g4686#d_g4687#d_g4688#d_g4689#4690#d_g4691#d_g4692#d_g4693#d_g4694#d_g4695#d_g4696#d_g4697#d_g4698#4699#"
     ]
    },
    {
     "name": "stderr",
     "output_type": "stream",
     "text": [
      "[WDM] - \n",
      "\n",
      "[WDM] - ====== WebDriver manager ======\n",
      "[WDM] - Current google-chrome version is 94.0.4606\n",
      "[WDM] - Get LATEST driver version for 94.0.4606\n",
      "[WDM] - Driver [C:\\Users\\N\\.wdm\\drivers\\chromedriver\\win32\\94.0.4606.61\\chromedriver.exe] found in cache\n"
     ]
    },
    {
     "name": "stdout",
     "output_type": "stream",
     "text": [
      "d_g4700#d_g4701#d_g4702#d_g4703#d_g4704#d_g4705#d_g4706#4707#d_g4708#4709#강남구 DINING 가게 4710개 중간저장\n",
      "28571.64790916443 소요\n",
      "d_g4710#d_g4711#d_g4712#d_g4713#d_g4714#d_g4715#d_g4716#d_g4717#d_g4718#d_g4719#d_g4720#d_g4721#d_g4722#d_g4723#4724#d_g4725#d_g4726#d_g4727#d_g4728#d_g4729#d_g4730#d_g4731#d_g4732#d_g4733#d_g4734#d_g4735#d_g4736#d_g4737#d_g4738#d_g4739#강남구 DINING 가게 4740개 중간저장\n",
      "28811.705094337463 소요\n",
      "d_g4740#d_g4741#d_g4742#d_g4743#d_g4744#tel d_g4745#d_g4746#d_g4747#d_g4748#d_g4749#d_g4750#d_g4751#d_g4752#d_g4753#d_g4754#d_g4755#d_g4756#tel d_g4757#d_g4758#tel d_g4759#d_g4760#d_g4761#4762#d_g4763#d_g4764#d_g4765#d_g4766#d_g4767#d_g4768#d_g4769#강남구 DINING 가게 4770개 중간저장\n",
      "29046.661467313766 소요\n",
      "d_g4770#4771#tel d_g4772#tel d_g4773#d_g4774#d_g4775#d_g4776#d_g4777#d_g4778#d_g4779#d_g4780#d_g4781#d_g4782#4783#d_g4784#d_g4785#d_g4786#tel d_g4787#d_g4788#d_g4789#d_g4790#d_g4791#d_g4792#tel d_g4793#d_g4794#d_g4795#d_g4796#d_g4797#d_g4798#d_g4799#"
     ]
    },
    {
     "name": "stderr",
     "output_type": "stream",
     "text": [
      "[WDM] - \n",
      "\n",
      "[WDM] - ====== WebDriver manager ======\n",
      "[WDM] - Current google-chrome version is 94.0.4606\n",
      "[WDM] - Get LATEST driver version for 94.0.4606\n",
      "[WDM] - Driver [C:\\Users\\N\\.wdm\\drivers\\chromedriver\\win32\\94.0.4606.61\\chromedriver.exe] found in cache\n"
     ]
    },
    {
     "name": "stdout",
     "output_type": "stream",
     "text": [
      "강남구 DINING 가게 4800개 중간저장\n",
      "29286.728705883026 소요\n",
      "d_g4800#d_g4801#d_g4802#tel d_g4803#d_g4804#d_g4805#d_g4806#d_g4807#d_g4808#d_g4809#d_g4810#d_g4811#d_g4812#d_g4813#d_g4814#d_g4815#d_g4816#d_g4817#d_g4818#d_g4819#d_g4820#tel d_g4821#tel d_g4822#d_g4823#d_g4824#d_g4825#d_g4826#d_g4827#d_g4828#d_g4829#강남구 DINING 가게 4830개 중간저장\n",
      "29518.953102588654 소요\n",
      "d_g4830#4831#4832#4833#4834#4835#4836#4837#4838#4839#4840#4841#4842#d_g4843#4844#d_g4845#d_g4846#4847#4848#4849#d_g4850#4851#4852#4853#4854#4855#4856#d_g4857#4858#4859#강남구 DINING 가게 4860개 중간저장\n",
      "29771.5138528347 소요\n",
      "4860#d_g4861#d_g4862#4863#4864#d_g4865#d_g4866#4867#d_g4868#4869#d_g4870#d_g4871#d_g4872#4873#d_g4874#d_g4875#d_g4876#d_g4877#4878#d_g4879#4880#d_g4881#d_g4882#d_g4883#4884#d_g4885#d_g4886#d_g4887#d_g4888#4889#강남구 DINING 가게 4890개 중간저장\n",
      "30019.00657582283 소요\n",
      "4890#d_g4891#d_g4892#4893#d_g4894#d_g4895#d_g4896#d_g4897#d_g4898#d_g4899#"
     ]
    },
    {
     "name": "stderr",
     "output_type": "stream",
     "text": [
      "[WDM] - \n",
      "\n",
      "[WDM] - ====== WebDriver manager ======\n",
      "[WDM] - Current google-chrome version is 94.0.4606\n",
      "[WDM] - Get LATEST driver version for 94.0.4606\n",
      "[WDM] - Driver [C:\\Users\\N\\.wdm\\drivers\\chromedriver\\win32\\94.0.4606.61\\chromedriver.exe] found in cache\n"
     ]
    },
    {
     "name": "stdout",
     "output_type": "stream",
     "text": [
      "d_g4900#d_g4901#d_g4902#d_g4903#d_g4904#d_g4905#tel d_g4906#d_g4907#d_g4908#d_g4909#d_g4910#tel d_g4911#d_g4912#d_g4913#d_g4914#d_g4915#tel d_g4916#d_g4917#4918#d_g4919#강남구 DINING 가게 4920개 중간저장\n",
      "30264.282062768936 소요\n",
      "d_g4920#d_g4921#d_g4922#d_g4923#d_g4924#d_g4925#d_g4926#d_g4927#tel d_g4928#d_g4929#d_g4930#d_g4931#d_g4932#d_g4933#d_g4934#d_g4935#d_g4936#d_g4937#d_g4938#d_g4939#d_g4940#d_g4941#d_g4942#tel d_g4943#d_g4944#d_g4945#d_g4946#tel d_g4947#4948#4949#강남구 DINING 가게 4950개 중간저장\n",
      "30500.17535686493 소요\n",
      "4950#d_g4951#4952#4953#d_g4954#d_g4955#4956#4957#d_g4958#d_g4959#d_g4960#d_g4961#tel d_g4962#d_g4963#d_g4964#d_g4965#d_g4966#d_g4967#d_g4968#tel d_g4969#d_g4970#d_g4971#d_g4972#d_g4973#d_g4974#d_g4975#d_g4976#d_g4977#d_g4978#d_g4979#강남구 DINING 가게 4980개 중간저장\n",
      "30740.99929857254 소요\n",
      "d_g4980#d_g4981#d_g4982#tel d_g4983#tel d_g4984#d_g4985#d_g4986#tel d_g4987#d_g4988#tel d_g4989#d_g4990#tel d_g4991#d_g4992#tel d_g4993#d_g4994#d_g4995#d_g4996#d_g4997#d_g4998#d_g4999#"
     ]
    },
    {
     "name": "stderr",
     "output_type": "stream",
     "text": [
      "[WDM] - \n",
      "\n",
      "[WDM] - ====== WebDriver manager ======\n",
      "[WDM] - Current google-chrome version is 94.0.4606\n",
      "[WDM] - Get LATEST driver version for 94.0.4606\n",
      "[WDM] - Driver [C:\\Users\\N\\.wdm\\drivers\\chromedriver\\win32\\94.0.4606.61\\chromedriver.exe] found in cache\n"
     ]
    },
    {
     "name": "stdout",
     "output_type": "stream",
     "text": [
      "d_g5000#d_g5001#d_g5002#d_g5003#d_g5004#d_g5005#"
     ]
    }
   ],
   "source": [
    "업종= 'DINING'\n",
    "idx = 0\n",
    "while True:\n",
    "    try:\n",
    "        for 구이름 in sorted(dong_dict.keys()):\n",
    "            code_file = '가게코드_' + 구이름 + '_'+ 업종 + '.csv'\n",
    "            if check_file(code_path, code_file):\n",
    "                store_file = '가게정보_' + 구이름 +  '_'+ 업종 + '.csv'\n",
    "                naver_map_store_scrapping( 구이름, 업종, slow= 1)\n",
    "            else:\n",
    "                print(f'{구이름} {업종}이 없습니다. ')\n",
    "                \n",
    "    except:\n",
    "        time.sleep(idx*idx)\n",
    "        print(f'{idx} 실패')\n",
    "        idx+=1\n",
    "        \n",
    "    if idx >50:\n",
    "        print(f'{idx} 실패')\n",
    "        break"
   ]
  },
  {
   "cell_type": "code",
   "execution_count": null,
   "metadata": {
    "ExecuteTime": {
     "start_time": "2021-10-25T10:17:05.862Z"
    }
   },
   "outputs": [],
   "source": [
    "df = pd.read_csv('data/가게/가게정보_강남구_DINING.csv')"
   ]
  },
  {
   "cell_type": "code",
   "execution_count": null,
   "metadata": {
    "ExecuteTime": {
     "start_time": "2021-10-25T10:17:05.864Z"
    }
   },
   "outputs": [],
   "source": [
    "df.shape"
   ]
  },
  {
   "cell_type": "code",
   "execution_count": null,
   "metadata": {},
   "outputs": [],
   "source": []
  },
  {
   "cell_type": "code",
   "execution_count": null,
   "metadata": {},
   "outputs": [],
   "source": []
  }
 ],
 "metadata": {
  "kernelspec": {
   "display_name": "Python 3",
   "language": "python",
   "name": "python3"
  },
  "language_info": {
   "codemirror_mode": {
    "name": "ipython",
    "version": 3
   },
   "file_extension": ".py",
   "mimetype": "text/x-python",
   "name": "python",
   "nbconvert_exporter": "python",
   "pygments_lexer": "ipython3",
   "version": "3.8.5"
  },
  "toc": {
   "base_numbering": 1,
   "nav_menu": {},
   "number_sections": true,
   "sideBar": true,
   "skip_h1_title": false,
   "title_cell": "Table of Contents",
   "title_sidebar": "Contents",
   "toc_cell": false,
   "toc_position": {
    "height": "calc(100% - 180px)",
    "left": "10px",
    "top": "150px",
    "width": "322.792px"
   },
   "toc_section_display": true,
   "toc_window_display": false
  }
 },
 "nbformat": 4,
 "nbformat_minor": 5
}
