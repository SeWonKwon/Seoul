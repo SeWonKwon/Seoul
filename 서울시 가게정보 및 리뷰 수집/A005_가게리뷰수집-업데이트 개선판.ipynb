{
 "cells": [
  {
   "cell_type": "markdown",
   "id": "90a9a43a",
   "metadata": {},
   "source": [
    "<a href='https://github.com/SeWonKwon' ><div> <img src ='https://slid-capture.s3.ap-northeast-2.amazonaws.com/public/image_upload/6556674324ed41a289a354258718280d/964e5a8b-75ad-41fc-ae75-0ca66d06fbc7.png' align='left' /> </div></a>\n"
   ]
  },
  {
   "cell_type": "markdown",
   "id": "30cf6d1e",
   "metadata": {},
   "source": [
    "1. 네이버 자료\n",
    "\n",
    "2. 네이버 Place 코드\n",
    "    * 기준: 서울시 동별, 업종별\n",
    "    \n",
    "    \n",
    "3. 가게정보, 리뷰 정도 겟\n",
    "\n"
   ]
  },
  {
   "cell_type": "markdown",
   "id": "9b89c3d4",
   "metadata": {},
   "source": [
    "# 필요함수 및 라이브러리"
   ]
  },
  {
   "cell_type": "code",
   "execution_count": 1,
   "id": "4b020073",
   "metadata": {
    "ExecuteTime": {
     "end_time": "2021-10-29T14:33:49.832843Z",
     "start_time": "2021-10-29T14:33:49.219285Z"
    }
   },
   "outputs": [],
   "source": [
    "import time\n",
    "import pandas as pd\n",
    "import numpy as np\n",
    "import json\n",
    "from tqdm import tqdm_notebook\n",
    "\n",
    "from selenium import webdriver\n",
    "from selenium.webdriver.common.keys import Keys\n",
    "from selenium.common.exceptions import NoSuchElementException\n",
    "from selenium.common.exceptions import ElementNotInteractableException\n",
    "from selenium.common.exceptions import StaleElementReferenceException\n",
    "from selenium.common.exceptions import ElementClickInterceptedException\n",
    "from webdriver_manager.chrome import ChromeDriverManager\n",
    "from selenium.webdriver.common.by import By\n",
    "\n",
    "import warnings\n",
    "warnings.filterwarnings(action = 'ignore')\n"
   ]
  },
  {
   "cell_type": "markdown",
   "id": "706fc65e",
   "metadata": {},
   "source": [
    "## 파일 관련"
   ]
  },
  {
   "cell_type": "code",
   "execution_count": 2,
   "id": "a110b160",
   "metadata": {
    "ExecuteTime": {
     "end_time": "2021-10-29T14:33:49.847856Z",
     "start_time": "2021-10-29T14:33:49.833845Z"
    }
   },
   "outputs": [],
   "source": [
    "def get_today():\n",
    "    import datetime\n",
    "    now = datetime.datetime.now()\n",
    "    \n",
    "    nowDate = now.strftime('%Y-%m-%d')\n",
    "#     print(nowDate)      # 2015-04-19\n",
    " \n",
    "    nowTime = now.strftime('%H:%M:%S')\n",
    "#     print(nowTime)      # 12:11:32\n",
    "\n",
    "    nowDatetime = now.strftime('%Y-%m-%d %H:%M:%S')\n",
    "    return nowDate"
   ]
  },
  {
   "cell_type": "code",
   "execution_count": 3,
   "id": "d918985c",
   "metadata": {
    "ExecuteTime": {
     "end_time": "2021-10-29T14:33:49.862870Z",
     "start_time": "2021-10-29T14:33:49.848858Z"
    }
   },
   "outputs": [],
   "source": [
    "import os\n",
    "def check_file(file_path, file_name):\n",
    "    return os.path.isfile(file_path+file_name)"
   ]
  },
  {
   "cell_type": "code",
   "execution_count": 4,
   "id": "150bf694",
   "metadata": {
    "ExecuteTime": {
     "end_time": "2021-10-29T14:33:49.877885Z",
     "start_time": "2021-10-29T14:33:49.863872Z"
    }
   },
   "outputs": [],
   "source": [
    "def save_df(df, path, file_name):\n",
    "    df.to_csv(path+file_name, index=False)\n",
    "    print(f'{path+file_name} 저장 완료')"
   ]
  },
  {
   "cell_type": "code",
   "execution_count": 5,
   "id": "1f9d4497",
   "metadata": {
    "ExecuteTime": {
     "end_time": "2021-10-29T14:33:49.892897Z",
     "start_time": "2021-10-29T14:33:49.878886Z"
    }
   },
   "outputs": [],
   "source": [
    "def read_csv_코드정보(code_path , code_file):\n",
    "    df = pd.read_csv(code_path + code_file )\n",
    "    return df"
   ]
  },
  {
   "cell_type": "code",
   "execution_count": 6,
   "id": "9fd4c6b2",
   "metadata": {
    "ExecuteTime": {
     "end_time": "2021-10-29T14:33:49.907911Z",
     "start_time": "2021-10-29T14:33:49.893901Z"
    }
   },
   "outputs": [
    {
     "data": {
      "text/plain": [
       "'음식점:DINING, 카페: CAFE, 쇼핑: SHOPPING, 숙박: ACCOMMODATION, 병원의료: HOSPITAL, 은행: BANK,\\n   주요소:OIL, 마트슈퍼: MART, 편의점: STORE, 생활편의: CONVENIENCE, 명소: SIGHTS, 체육시설: SPORT, \\n   영화공연:CINEMA, 관공서:GOVERNMENT'"
      ]
     },
     "execution_count": 6,
     "metadata": {},
     "output_type": "execute_result"
    }
   ],
   "source": [
    "'''음식점:DINING, 카페: CAFE, 쇼핑: SHOPPING, 숙박: ACCOMMODATION, 병원의료: HOSPITAL, 은행: BANK,\n",
    "   주요소:OIL, 마트슈퍼: MART, 편의점: STORE, 생활편의: CONVENIENCE, 명소: SIGHTS, 체육시설: SPORT, \n",
    "   영화공연:CINEMA, 관공서:GOVERNMENT'''"
   ]
  },
  {
   "cell_type": "markdown",
   "id": "e275d836",
   "metadata": {},
   "source": [
    "###### 서울시 동 load 관련"
   ]
  },
  {
   "cell_type": "code",
   "execution_count": 7,
   "id": "e0a389ae",
   "metadata": {
    "ExecuteTime": {
     "end_time": "2021-10-29T14:33:49.922924Z",
     "start_time": "2021-10-29T14:33:49.908914Z"
    }
   },
   "outputs": [],
   "source": [
    "import pickle\n",
    "import collections\n",
    "\n",
    "def get_seoul_dong():\n",
    "    with open('data/서울시_구별_동정리.pickle','rb') as fw:\n",
    "        dong_dict = pickle.load( fw)\n",
    "\n",
    "    dong_key_list = list(dong_dict.keys())\n",
    "    dong_key_list.sort()\n",
    "    # dong_key_list\n",
    "\n",
    "    for 구이름 in dong_key_list:\n",
    "        dong_dict[구이름] = sorted(dong_dict[구이름])\n",
    "    \n",
    "    return dong_dict"
   ]
  },
  {
   "cell_type": "code",
   "execution_count": 8,
   "id": "2e86eafe",
   "metadata": {
    "ExecuteTime": {
     "end_time": "2021-10-29T14:33:49.937938Z",
     "start_time": "2021-10-29T14:33:49.923925Z"
    }
   },
   "outputs": [],
   "source": [
    "dong_dict = get_seoul_dong()"
   ]
  },
  {
   "cell_type": "markdown",
   "id": "1b2e4c00",
   "metadata": {},
   "source": [
    "## 웹 조정 관련"
   ]
  },
  {
   "cell_type": "code",
   "execution_count": 9,
   "id": "c1a991af",
   "metadata": {
    "ExecuteTime": {
     "end_time": "2021-10-29T14:33:49.952952Z",
     "start_time": "2021-10-29T14:33:49.938939Z"
    }
   },
   "outputs": [],
   "source": [
    "from IPython.display import clear_output\n",
    "\n",
    "def clear_screen():\n",
    "    clear_output(wait=True)\n",
    "    print(\"Cleared Output\")"
   ]
  },
  {
   "cell_type": "code",
   "execution_count": 10,
   "id": "06223220",
   "metadata": {
    "ExecuteTime": {
     "end_time": "2021-10-29T14:33:49.967966Z",
     "start_time": "2021-10-29T14:33:49.954954Z"
    }
   },
   "outputs": [],
   "source": [
    "def is_clickable(wd):\n",
    "    return wd.is_enabled() and wd.is_displayed()"
   ]
  },
  {
   "cell_type": "code",
   "execution_count": 11,
   "id": "d50ca9e1",
   "metadata": {
    "ExecuteTime": {
     "end_time": "2021-10-29T14:33:49.982980Z",
     "start_time": "2021-10-29T14:33:49.968967Z"
    }
   },
   "outputs": [],
   "source": [
    "def scroll_down(wd,SCROLL_PAUSE_SEC = 1):\n",
    "\n",
    "    # 스크롤 높이 가져옴\n",
    "    last_height = wd.execute_script(\"return document.body.scrollHeight\")\n",
    "#     print(last_height)\n",
    "    while True:\n",
    "        # 끝까지 스크롤 다운\n",
    "        wd.execute_script(\"window.scrollTo(0, document.body.scrollHeight);\")\n",
    "\n",
    "        # 1초 대기\n",
    "        time.sleep(SCROLL_PAUSE_SEC)\n",
    "\n",
    "        # 스크롤 다운 후 스크롤 높이 다시 가져옴\n",
    "        new_height = wd.execute_script(\"return document.body.scrollHeight\")\n",
    "        if new_height == last_height:\n",
    "            break\n",
    "        last_height = new_height"
   ]
  },
  {
   "cell_type": "markdown",
   "id": "790c6c02",
   "metadata": {},
   "source": [
    "## 크롤링 에러 방지 관련"
   ]
  },
  {
   "cell_type": "code",
   "execution_count": 12,
   "id": "c3b1c7fd",
   "metadata": {
    "ExecuteTime": {
     "end_time": "2021-10-29T14:33:49.997994Z",
     "start_time": "2021-10-29T14:33:49.983982Z"
    }
   },
   "outputs": [],
   "source": [
    "def try_none_text_by_class_name(wd,class_name, col='col'):\n",
    "    try:\n",
    "        return wd.find_element_by_class_name(class_name).text\n",
    "    except NoSuchElementException:\n",
    "        print(col, end='')\n",
    "        return np.NaN\n",
    "    except:\n",
    "        print('이상한 에러 try_none_text', col)\n",
    "        return np.NaN\n",
    "        "
   ]
  },
  {
   "cell_type": "code",
   "execution_count": 13,
   "id": "e4410f36",
   "metadata": {
    "ExecuteTime": {
     "end_time": "2021-10-29T14:33:50.013006Z",
     "start_time": "2021-10-29T14:33:49.998994Z"
    }
   },
   "outputs": [],
   "source": [
    "def strong_try_none_text_by_class_name(wd,class_name, col='col'):\n",
    "    try:\n",
    "        temps = wd.find_elements_by_class_name(class_name)\n",
    "        for temp in temps:\n",
    "            if temp.text.startswith('편의'):\n",
    "                return temp.text.split('\\n')[1]\n",
    "        else:\n",
    "            return np.NaN\n",
    "    except NoSuchElementException:\n",
    "#         print(col, end='')\n",
    "        return np.NaN\n",
    "        "
   ]
  },
  {
   "cell_type": "code",
   "execution_count": 14,
   "id": "9a2ed098",
   "metadata": {
    "ExecuteTime": {
     "end_time": "2021-10-29T14:33:50.028020Z",
     "start_time": "2021-10-29T14:33:50.014008Z"
    }
   },
   "outputs": [],
   "source": [
    "def review_dict(s):\n",
    "    review_dict = {}\n",
    "#     print(s.split('평균 별점'))\n",
    "    s = s.split('평균 별점')\n",
    "    review_dict['평균_별점'] = s[-1].strip()\n",
    "    s = s[0].split('사진')\n",
    "    if len(s) >= 2:\n",
    "        review_dict['사진'] = int(s[-1])\n",
    "        review_dict['리뷰'] = s[0].split()[-1]\n",
    "    else:\n",
    "        review_dict['사진'] = np.NaN\n",
    "        review_dict['리뷰'] = s[0].split()[-1]\n",
    "# print(s)\n",
    "    return review_dict"
   ]
  },
  {
   "cell_type": "markdown",
   "id": "c1dad08d",
   "metadata": {},
   "source": [
    "## get_store_info from naver.place by place_code"
   ]
  },
  {
   "cell_type": "code",
   "execution_count": 15,
   "id": "81d622f5",
   "metadata": {
    "ExecuteTime": {
     "end_time": "2021-10-29T14:33:50.043034Z",
     "start_time": "2021-10-29T14:33:50.029021Z"
    }
   },
   "outputs": [],
   "source": [
    "def get_review(review_block, name, code_no, show=False):\n",
    "    reviewer_info = '네이버 업데이트에 의한 삭제'\n",
    "\n",
    "    r_info_list = review_block.find_element_by_class_name('_3-LAD').find_elements_by_class_name('_1fvo3')\n",
    "\n",
    "    r_score ,r_date , r_times , proving = np.NaN,np.NaN,np.NaN,np.NaN\n",
    "    for r_info in r_info_list:\n",
    "        if '별점' in r_info.text:\n",
    "            r_score = r_info.text\n",
    "            continue\n",
    "        elif '최근' in r_info.text:\n",
    "            r_date = r_info.text\n",
    "            continue\n",
    "        elif '방문' in r_info.text:\n",
    "            r_times = r_info.text\n",
    "            continue\n",
    "        else:\n",
    "            proving = r_info.text\n",
    "            continue\n",
    "    \n",
    "    r_comment = try_none_text_by_class_name(review_block,'_3vfQ6','r')\n",
    "    if r_comment:\n",
    "        pass\n",
    "    else:\n",
    "        r_comment = try_none_text_by_class_name(review_block,'WoYOw','r')\n",
    "        \n",
    "    owner_reply = try_none_text_by_class_name(review_block,'L-XXo','o')\n",
    "    \n",
    "    if show:    \n",
    "        print(len(r_info_list))\n",
    "        print('r_score',r_score)\n",
    "        print('r_date',r_date)\n",
    "        print('r_times',r_times)\n",
    "        print('proving',proving)\n",
    "        print('#### r_comment ####')\n",
    "        print(r_comment)\n",
    "        print('####owner_reply###')\n",
    "        print(owner_reply)\n",
    "        print('##################')\n",
    "    return name, code_no, reviewer_info, r_score, r_date, r_times, proving, r_comment, owner_reply"
   ]
  },
  {
   "cell_type": "code",
   "execution_count": 16,
   "id": "5d1ac11b",
   "metadata": {
    "ExecuteTime": {
     "end_time": "2021-10-29T14:33:50.058047Z",
     "start_time": "2021-10-29T14:33:50.044037Z"
    }
   },
   "outputs": [],
   "source": [
    "def get_review_none( name, code_no):\n",
    "\n",
    "    return name, code_no, np.NaN, np.NaN, np.NaN, np.NaN, np.NaN, np.NaN, np.NaN"
   ]
  },
  {
   "cell_type": "code",
   "execution_count": 17,
   "id": "9657bd09",
   "metadata": {
    "ExecuteTime": {
     "end_time": "2021-10-29T14:33:50.073061Z",
     "start_time": "2021-10-29T14:33:50.059049Z"
    }
   },
   "outputs": [],
   "source": [
    "code_path = 'data/코드/'\n",
    "구이름 = '강남구'\n",
    "업종 = 'DINING'\n",
    "code_file = '가게코드_' + 구이름 + '_'+ 업종 + '.csv'\n",
    "slow=1"
   ]
  },
  {
   "cell_type": "markdown",
   "id": "c72c15c1",
   "metadata": {
    "ExecuteTime": {
     "end_time": "2021-10-25T09:32:41.019576Z",
     "start_time": "2021-10-25T09:32:41.005565Z"
    }
   },
   "source": [
    "code_df = pd.read_csv(code_path+code_file, dtype='str')"
   ]
  },
  {
   "cell_type": "markdown",
   "id": "25a1073c",
   "metadata": {
    "ExecuteTime": {
     "end_time": "2021-10-25T09:33:13.451848Z",
     "start_time": "2021-10-25T09:33:13.432831Z"
    }
   },
   "source": [
    "code_df['store_code'].to_list()"
   ]
  },
  {
   "cell_type": "code",
   "execution_count": 18,
   "id": "b1dc8b00",
   "metadata": {
    "ExecuteTime": {
     "end_time": "2021-10-29T14:33:50.088075Z",
     "start_time": "2021-10-29T14:33:50.074062Z"
    },
    "scrolled": false
   },
   "outputs": [],
   "source": [
    "def naver_review_scrapping(구이름, 업종, slow=1):\n",
    "\n",
    "    start_time = time.time()\n",
    "\n",
    "    options = webdriver.ChromeOptions()\n",
    "\n",
    "    options.add_argument(\"--start-maximized\")\n",
    "    wd = webdriver.Chrome(ChromeDriverManager().install(), options= options)  # chromedriver 열기\n",
    "    wd.implicitly_wait(0.001*slow)\n",
    "\n",
    "    code_path = 'data/코드/'\n",
    "    review_path = 'data/리뷰/'\n",
    "\n",
    "\n",
    "    code_file = '가게코드_' + 구이름 + '_'+ 업종 + '.csv'\n",
    "    review_file = '리뷰정보_' + 구이름 + '_'+ 업종 + '.csv'\n",
    "\n",
    "\n",
    "    code_df = pd.read_csv(code_path+code_file, dtype='str')\n",
    "\n",
    "    review_idx = 0\n",
    "    review_df = pd.DataFrame(columns=(\"name\", \"code_no\", \"reviewer_info\", \"r_score\", \"r_date\", 'r_times', 'proving', 'r_comments', 'owner_reply'))\n",
    "\n",
    "    # code_no = code_df.loc[3].values[0]\n",
    "    store_cnt = 0\n",
    "    done_idx = 0\n",
    "\n",
    "    if check_file(review_path, review_file):\n",
    "        review_df = pd.read_csv(review_path+review_file)\n",
    "        review_idx = review_df.shape[0]\n",
    "    done_list = list(set(review_df['code_no'].apply(lambda x: str(x)).values))\n",
    "\n",
    "    print(f'{구이름}  {업종} 업종 의 리뷰 정보 스크래핑을 시작합니다.')\n",
    "\n",
    "    print(f'{code_df.shape[0]}개의 가게코드가 있습니다.')\n",
    "\n",
    "    print(f'{len(done_list)}가게의 리뷰{review_idx}개가 이전에 완료 되었었습니다. 이어서 진행합니다.')\n",
    "    code_list = code_df['store_code'].to_list()\n",
    "    \n",
    "    for code_no_ in tqdm_notebook(code_list):\n",
    "        code_no = str(code_no_)\n",
    "        if code_no in done_list:\n",
    "#             print(code_no, '중복중복!!')\n",
    "            continue\n",
    "        store_cnt+=1\n",
    "        \n",
    "        place_url = 'https://pcmap.place.naver.com/restaurant/'+str(code_no)+'/review/visitor'\n",
    "        wd.get(place_url)\n",
    "        time.sleep(2*slow)\n",
    "        scroll_down(wd,2)\n",
    "        cnt_idx = 0\n",
    "        error_idx = 0 \n",
    "        wd.implicitly_wait(1*slow)\n",
    "        \n",
    "        # 삭제되거나 없어진 페이지 널값 처리\n",
    "        try:\n",
    "            if wd.find_element(By.CLASS_NAME, '_1--tV').text.startswith('요청하신'):\n",
    "                review_df.loc[review_idx] = get_review_none( '삭제된페이지', code_no)\n",
    "                wd.implicitly_wait(1*slow)\n",
    "                review_idx += 1\n",
    "                print('삭제된 페이지')\n",
    "                continue\n",
    "        except:\n",
    "            pass\n",
    "        \n",
    "\n",
    "        name = wd.find_element_by_class_name('_3XamX').text\n",
    "        print('-'*80)\n",
    "        print(f'{store_cnt} {code_no} {name} 시작', end='||')\n",
    "    #         print('name',name)\n",
    "    #         print('code_no',code_no)\n",
    "        scroll_start_time=time.time()\n",
    "        try:\n",
    "\n",
    "            while (time.time() - scroll_start_time) < 100: # 100권장 \n",
    "    #                 print(time.time() - scroll_start_time)\n",
    "\n",
    "                wd.find_element_by_class_name('_3iTUo').click()\n",
    "    #                 print('리뷰 더보기')\n",
    "                time.sleep(0.5*slow)\n",
    "            else:\n",
    "                print(f'{int(time.time() - scroll_start_time)}초 소요','로딩완료', end='||')\n",
    "\n",
    "        except NoSuchElementException:\n",
    "            print(f'{int(time.time() - scroll_start_time)}초 소요','로딩완료S', end='||')\n",
    "        except StaleElementReferenceException :\n",
    "            print(\"S_E_Exc\")\n",
    "            pass\n",
    "        except:\n",
    "            pass\n",
    "\n",
    "        펼_idx=0\n",
    "        for o_bnt in wd.find_elements_by_class_name('dX2wL'):\n",
    "            try:\n",
    "                o_bnt.find_element_by_xpath('..').find_element_by_xpath('..').click()\n",
    "                펼_idx+=1\n",
    "#                 print('펼', end='')\n",
    "\n",
    "            except:\n",
    "                pass\n",
    "        else:\n",
    "            print(f'{펼_idx}개 펼치기 완료', end='||')\n",
    "            \n",
    "        # 리뷰가 없는 경우\n",
    "        if wd.find_elements(By.CLASS_NAME, '_1jVSG'):\n",
    "#             print('리뷰가 있네용~')\n",
    "            pass\n",
    "        else:\n",
    "            print('가게의 리뷰가 없네용~')\n",
    "            review_df.loc[review_idx] = get_review_none( name, code_no)\n",
    "            wd.implicitly_wait(1*slow)\n",
    "            review_idx += 1\n",
    "            review_df.to_csv(review_path+review_file, index=False)\n",
    "            continue\n",
    "            \n",
    "        review_block_list = wd.find_elements(By.CLASS_NAME, '_1jVSG')[0].find_elements(By.CLASS_NAME, '_3FaRE')\n",
    "        \n",
    "        print(f'{len(review_block_list)}개의 리뷰가 있네요')\n",
    "\n",
    "        \n",
    "        for review_block in review_block_list:\n",
    "#             try:\n",
    "#                 wd.implicitly_wait(0.0001*slow)\n",
    "#                 review_df.loc[review_idx] = get_review(review_block, name, code_no)\n",
    "#                 wd.implicitly_wait(1*slow)\n",
    "#                 review_idx += 1\n",
    "#                 cnt_idx += 1\n",
    "#                 done_idx += 1\n",
    "#                 print('#',end='')\n",
    "#             except:\n",
    "#                 print('!',end='')\n",
    "#                 error_idx += 1\n",
    "#                 if (error_idx > 30) :\n",
    "#                     break\n",
    "#                 pass\n",
    "\n",
    "            wd.implicitly_wait(0.0001*slow)\n",
    "            review_df.loc[review_idx] = get_review(review_block, name, code_no)\n",
    "            wd.implicitly_wait(1*slow)\n",
    "            review_idx += 1\n",
    "            cnt_idx += 1\n",
    "            done_idx += 1\n",
    "            print('#',end='')            \n",
    "            \n",
    "            \n",
    "            \n",
    "            \n",
    "    #             #############################\n",
    "    #             if cnt_idx > 5:\n",
    "    #                 break\n",
    "\n",
    "\n",
    "\n",
    "        ##################### save just in case:\n",
    "        review_df.to_csv(review_path+review_file, index=False)\n",
    "        print('\\n',구이름, 업종, f'{done_idx}개 중간저장', end='   ')\n",
    "        print(f'<<{name} {cnt_idx}개 완료.>>')\n",
    "\n",
    "        if (store_cnt+1)%10 == 0:\n",
    "            wd.close()\n",
    "            time.sleep(2*slow)\n",
    "            wd = webdriver.Chrome(ChromeDriverManager().install(), options= options)  # chromedriver 열기\n",
    "            wd.implicitly_wait(1*slow)\n",
    "            print('reboot chrome')\n",
    "            \n",
    "            print('리뷰 수집 데이터 확인해주세요~')\n",
    "            display(review_df.tail(2))\n",
    "        \n",
    "\n",
    "\n",
    "    review_df.to_csv(review_path+review_file, index=False)\n",
    "    print(f'{구이름} {업종} 의 리뷰 스크래핑을 완료했습니다.')\n",
    "    print(f'{review_idx} 개 수집완료, {time.time()-start_time}')\n",
    "    wd.close()"
   ]
  },
  {
   "cell_type": "markdown",
   "id": "332b1089",
   "metadata": {
    "ExecuteTime": {
     "end_time": "2021-10-26T09:18:04.939225Z",
     "start_time": "2021-10-26T09:18:04.925554Z"
    }
   },
   "source": [
    "# 오류로 인한 리뷰 정보 null 값 드랍"
   ]
  },
  {
   "cell_type": "markdown",
   "id": "7d46f43c",
   "metadata": {
    "ExecuteTime": {
     "end_time": "2021-10-26T09:18:26.313734Z",
     "start_time": "2021-10-26T09:18:26.151524Z"
    }
   },
   "source": [
    "import pandas as pd\n",
    "dfs = pd.read_csv('data/리뷰/리뷰정보_강남구_DINING.csv')\n",
    "dfs.shape\n",
    "dfs.dropna(axis=0, subset=['r_date', 'reviewer_info'], inplace=True)\n",
    "dfs.to_csv('data/리뷰/리뷰정보_강남구_DINING.csv',index=False)"
   ]
  },
  {
   "cell_type": "markdown",
   "id": "bd57df45",
   "metadata": {
    "ExecuteTime": {
     "start_time": "2021-10-29T14:24:57.034Z"
    },
    "scrolled": false
   },
   "source": [
    "구이름 = '강남구'\n",
    "업종= 'DINING'\n",
    "naver_review_scrapping(구이름, 업종, slow=1)"
   ]
  },
  {
   "cell_type": "markdown",
   "id": "d31952c3",
   "metadata": {},
   "source": [
    "# 셋팅"
   ]
  },
  {
   "cell_type": "code",
   "execution_count": 19,
   "id": "b42795f5",
   "metadata": {
    "ExecuteTime": {
     "end_time": "2021-10-29T14:33:50.103088Z",
     "start_time": "2021-10-29T14:33:50.089078Z"
    }
   },
   "outputs": [],
   "source": [
    "code_path = 'data/코드/'\n",
    "store_path = 'data/가게/'\n",
    "review_path = 'data/리뷰/'\n",
    "# code_file = '가게코드_' + 구이름 + '_'+ 업종 + '.csv'\n",
    "# store_file = '가게정보_' + 구이름 +  '_'+ 업종 + '.csv'\n",
    "# review_file = '리뷰정보_' + 구이름 +  '_'+ 업종 + '.csv'"
   ]
  },
  {
   "cell_type": "code",
   "execution_count": 20,
   "id": "3a4bd6af",
   "metadata": {
    "ExecuteTime": {
     "end_time": "2021-10-29T14:33:50.118102Z",
     "start_time": "2021-10-29T14:33:50.104091Z"
    }
   },
   "outputs": [],
   "source": [
    "detail= True\n",
    "slow=1"
   ]
  },
  {
   "cell_type": "markdown",
   "id": "324faa2f",
   "metadata": {},
   "source": [
    "#  코드 수집 및 저장"
   ]
  },
  {
   "cell_type": "code",
   "execution_count": 21,
   "id": "198f03b1",
   "metadata": {
    "ExecuteTime": {
     "end_time": "2021-10-29T14:33:50.133116Z",
     "start_time": "2021-10-29T14:33:50.119103Z"
    }
   },
   "outputs": [
    {
     "name": "stdout",
     "output_type": "stream",
     "text": [
      "['강남구', '강동구', '강북구', '강서구', '관악구', '광진구', '구로구', '금천구', '노원구', '도봉구', '동대문구', '동작구', '마포구', '서대문구', '서초구', '성동구', '성북구', '송파구', '양천구', '영등포구', '용산구', '은평구', '종로구', '중구', '중랑구']\n"
     ]
    }
   ],
   "source": [
    "print(sorted(dong_dict.keys()))"
   ]
  },
  {
   "cell_type": "markdown",
   "id": "1e4f5a2c",
   "metadata": {},
   "source": [
    "* '강남구' : **세원**\n",
    "\n",
    "\n",
    "* '강동구', '강북구', '강서구', '관악구' : **준혁**    \n",
    "\n",
    "\n",
    "* '광진구', '구로구', '금천구', '노원구', '도봉구', '동대문구' : **세원**    \n",
    "\n",
    "\n",
    "* '동작구', '마포구', '서대문구': **준혁**\n",
    "\n",
    "* '서초구', '성동구', '성북구' : **승순**   \n",
    "\n",
    "\n",
    "* '송파구', '양천구' : **세원**\n",
    "\n",
    "     \n",
    "* '영등포구', '용산구', '은평구', '종로구', '중구', '중랑구':**승순**   \n"
   ]
  },
  {
   "cell_type": "code",
   "execution_count": 22,
   "id": "0df0bc19",
   "metadata": {
    "ExecuteTime": {
     "end_time": "2021-10-29T14:33:50.148129Z",
     "start_time": "2021-10-29T14:33:50.134117Z"
    }
   },
   "outputs": [],
   "source": [
    "세원_list=['강남구','송파구', '양천구', '광진구', '구로구', '금천구', '노원구', '도봉구', '동대문구' ] \n",
    "준혁_list=['강동구', '강북구', '강서구', '관악구', '동작구', '마포구', '서대문구'] \n",
    "승순_list=['영등포구', '용산구', '은평구','종로구', '중구', '중랑구', '서초구', '성동구', '성북구'] "
   ]
  },
  {
   "cell_type": "code",
   "execution_count": null,
   "id": "85c05f0c",
   "metadata": {
    "ExecuteTime": {
     "start_time": "2021-10-29T14:33:49.237Z"
    },
    "scrolled": false
   },
   "outputs": [
    {
     "name": "stderr",
     "output_type": "stream",
     "text": [
      "[WDM] - \n",
      "\n",
      "[WDM] - ====== WebDriver manager ======\n",
      "[WDM] - Current google-chrome version is 95.0.4638\n",
      "[WDM] - Get LATEST driver version for 95.0.4638\n",
      "[WDM] - Driver [C:\\Users\\bigne\\.wdm\\drivers\\chromedriver\\win32\\95.0.4638.54\\chromedriver.exe] found in cache\n"
     ]
    },
    {
     "name": "stdout",
     "output_type": "stream",
     "text": [
      "강남구  DINING 업종 의 리뷰 정보 스크래핑을 시작합니다.\n",
      "6995개의 가게코드가 있습니다.\n",
      "6995가게의 리뷰552803개가 이전에 완료 되었었습니다. 이어서 진행합니다.\n"
     ]
    },
    {
     "data": {
      "application/vnd.jupyter.widget-view+json": {
       "model_id": "",
       "version_major": 2,
       "version_minor": 0
      },
      "text/plain": [
       "  0%|          | 0/6995 [00:00<?, ?it/s]"
      ]
     },
     "metadata": {},
     "output_type": "display_data"
    },
    {
     "name": "stderr",
     "output_type": "stream",
     "text": [
      "[WDM] - \n",
      "\n",
      "[WDM] - ====== WebDriver manager ======\n",
      "[WDM] - Current google-chrome version is 95.0.4638\n",
      "[WDM] - Get LATEST driver version for 95.0.4638\n",
      "[WDM] - Driver [C:\\Users\\bigne\\.wdm\\drivers\\chromedriver\\win32\\95.0.4638.54\\chromedriver.exe] found in cache\n"
     ]
    },
    {
     "name": "stdout",
     "output_type": "stream",
     "text": [
      "강남구 DINING 의 리뷰 스크래핑을 완료했습니다.\n",
      "552803 개 수집완료, 5.598090648651123\n",
      "양천구  DINING 업종 의 리뷰 정보 스크래핑을 시작합니다.\n",
      "3738개의 가게코드가 있습니다.\n",
      "0가게의 리뷰0개가 이전에 완료 되었었습니다. 이어서 진행합니다.\n"
     ]
    },
    {
     "data": {
      "application/vnd.jupyter.widget-view+json": {
       "model_id": "",
       "version_major": 2,
       "version_minor": 0
      },
      "text/plain": [
       "  0%|          | 0/3738 [00:00<?, ?it/s]"
      ]
     },
     "metadata": {},
     "output_type": "display_data"
    },
    {
     "name": "stdout",
     "output_type": "stream",
     "text": [
      "--------------------------------------------------------------------------------\n",
      "1 1308298219 이키이키 시작||9초 소요 로딩완료S||4개 펼치기 완료||101개의 리뷰가 있네요\n",
      "o#o#o#o#o#o#o#o#o#o#o#o#o#o#ro#o#o#o#o#ro#o#o#o#ro#o#o#o#o#o#o#o#o#o#o#o#o#o#o#o#o#o#ro#o#o#o#o#ro#o#o#o#o#o#o#o#o#o#o#o#o#o#o#ro#o#o#o#o#o#o#o#o#"
     ]
    },
    {
     "name": "stderr",
     "output_type": "stream",
     "text": [
      "[WDM] - \n",
      "\n",
      "[WDM] - ====== WebDriver manager ======\n",
      "[WDM] - Current google-chrome version is 95.0.4638\n",
      "[WDM] - Get LATEST driver version for 95.0.4638\n",
      "[WDM] - Driver [C:\\Users\\bigne\\.wdm\\drivers\\chromedriver\\win32\\95.0.4638.54\\chromedriver.exe] found in cache\n"
     ]
    },
    {
     "name": "stdout",
     "output_type": "stream",
     "text": [
      "1 실패\n",
      "강남구  DINING 업종 의 리뷰 정보 스크래핑을 시작합니다.\n",
      "6995개의 가게코드가 있습니다.\n",
      "6995가게의 리뷰552803개가 이전에 완료 되었었습니다. 이어서 진행합니다.\n"
     ]
    },
    {
     "data": {
      "application/vnd.jupyter.widget-view+json": {
       "model_id": "",
       "version_major": 2,
       "version_minor": 0
      },
      "text/plain": [
       "  0%|          | 0/6995 [00:00<?, ?it/s]"
      ]
     },
     "metadata": {},
     "output_type": "display_data"
    },
    {
     "name": "stderr",
     "output_type": "stream",
     "text": [
      "[WDM] - \n",
      "\n",
      "[WDM] - ====== WebDriver manager ======\n",
      "[WDM] - Current google-chrome version is 95.0.4638\n",
      "[WDM] - Get LATEST driver version for 95.0.4638\n",
      "[WDM] - Driver [C:\\Users\\bigne\\.wdm\\drivers\\chromedriver\\win32\\95.0.4638.54\\chromedriver.exe] found in cache\n"
     ]
    },
    {
     "name": "stdout",
     "output_type": "stream",
     "text": [
      "강남구 DINING 의 리뷰 스크래핑을 완료했습니다.\n",
      "552803 개 수집완료, 5.5430378913879395\n",
      "양천구  DINING 업종 의 리뷰 정보 스크래핑을 시작합니다.\n",
      "3738개의 가게코드가 있습니다.\n",
      "0가게의 리뷰0개가 이전에 완료 되었었습니다. 이어서 진행합니다.\n"
     ]
    },
    {
     "data": {
      "application/vnd.jupyter.widget-view+json": {
       "model_id": "",
       "version_major": 2,
       "version_minor": 0
      },
      "text/plain": [
       "  0%|          | 0/3738 [00:02<?, ?it/s]"
      ]
     },
     "metadata": {},
     "output_type": "display_data"
    },
    {
     "name": "stdout",
     "output_type": "stream",
     "text": [
      "--------------------------------------------------------------------------------\n",
      "1 1308298219 이키이키 시작||"
     ]
    }
   ],
   "source": [
    "업종= 'DINING'\n",
    "idx=0\n",
    "\n",
    "\n",
    "\n",
    "for i in range(10):\n",
    "    try:\n",
    "        for 구이름 in 세원_list:\n",
    "            code_file = '가게코드_' + 구이름 + '_'+ 업종 + '.csv'\n",
    "            if check_file(code_path, code_file):\n",
    "                naver_review_scrapping(구이름, 업종, slow=1)\n",
    "            else:\n",
    "                print(f'{구이름} {업종}이 없습니다. ')\n",
    "    except:\n",
    "        time.sleep(idx**2)\n",
    "        idx+=1\n",
    "        print(f'{idx} 실패')\n",
    "        \n",
    "    if idx%10 == 0:\n",
    "        clear_screen()\n",
    "        \n",
    "    if idx>=30:\n",
    "        \n",
    "        break"
   ]
  },
  {
   "cell_type": "code",
   "execution_count": null,
   "id": "81157eda",
   "metadata": {
    "ExecuteTime": {
     "start_time": "2021-10-29T14:33:49.238Z"
    }
   },
   "outputs": [],
   "source": [
    "df = pd.read_csv('data/리뷰/리뷰정보_강남구_DINING.csv')"
   ]
  },
  {
   "cell_type": "code",
   "execution_count": null,
   "id": "59bec2d5",
   "metadata": {
    "ExecuteTime": {
     "start_time": "2021-10-29T14:33:49.238Z"
    }
   },
   "outputs": [],
   "source": [
    "df.shape"
   ]
  }
 ],
 "metadata": {
  "kernelspec": {
   "display_name": "Python 3 (ipykernel)",
   "language": "python",
   "name": "python3"
  },
  "language_info": {
   "codemirror_mode": {
    "name": "ipython",
    "version": 3
   },
   "file_extension": ".py",
   "mimetype": "text/x-python",
   "name": "python",
   "nbconvert_exporter": "python",
   "pygments_lexer": "ipython3",
   "version": "3.8.11"
  },
  "toc": {
   "base_numbering": 1,
   "nav_menu": {},
   "number_sections": true,
   "sideBar": true,
   "skip_h1_title": false,
   "title_cell": "Table of Contents",
   "title_sidebar": "Contents",
   "toc_cell": false,
   "toc_position": {
    "height": "calc(100% - 180px)",
    "left": "10px",
    "top": "150px",
    "width": "322.792px"
   },
   "toc_section_display": true,
   "toc_window_display": false
  }
 },
 "nbformat": 4,
 "nbformat_minor": 5
}
