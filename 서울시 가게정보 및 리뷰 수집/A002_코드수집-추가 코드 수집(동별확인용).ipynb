{
 "cells": [
  {
   "cell_type": "markdown",
   "id": "b4dcd2dd",
   "metadata": {},
   "source": [
    "<a href='https://github.com/SeWonKwon' ><div> <img src ='https://slid-capture.s3.ap-northeast-2.amazonaws.com/public/image_upload/6556674324ed41a289a354258718280d/964e5a8b-75ad-41fc-ae75-0ca66d06fbc7.png' align='left' /> </div></a>\n"
   ]
  },
  {
   "cell_type": "markdown",
   "id": "6d34a857",
   "metadata": {},
   "source": [
    "1. 네이버 자료\n",
    "\n",
    "2. 네이버 Place 코드\n",
    "    * 기준: 서울시 동별, 업종별\n",
    "    \n",
    "    \n",
    "3. 가게정보, 리뷰 정도 겟\n",
    "\n"
   ]
  },
  {
   "cell_type": "markdown",
   "id": "c76bcfaa",
   "metadata": {},
   "source": [
    "# 필요함수 및 라이브러리"
   ]
  },
  {
   "cell_type": "code",
   "execution_count": 1,
   "id": "13e22b57",
   "metadata": {
    "ExecuteTime": {
     "end_time": "2021-10-30T10:59:21.890983Z",
     "start_time": "2021-10-30T10:59:21.240388Z"
    }
   },
   "outputs": [],
   "source": [
    "import time\n",
    "import pandas as pd\n",
    "import numpy as np\n",
    "import json\n",
    "\n",
    "from selenium import webdriver\n",
    "from tqdm import tqdm_notebook\n",
    "from selenium.webdriver.common.keys import Keys\n",
    "from selenium.common.exceptions import NoSuchElementException\n",
    "from selenium.common.exceptions import ElementNotInteractableException\n",
    "from selenium.common.exceptions import StaleElementReferenceException\n",
    "from selenium.common.exceptions import ElementClickInterceptedException\n",
    "from webdriver_manager.chrome import ChromeDriverManager\n",
    "from selenium.webdriver.common.by import By\n",
    "\n",
    "import warnings\n",
    "warnings.filterwarnings(action = 'ignore')\n"
   ]
  },
  {
   "cell_type": "markdown",
   "id": "38f2eaf5",
   "metadata": {},
   "source": [
    "## 파일 관련"
   ]
  },
  {
   "cell_type": "code",
   "execution_count": 2,
   "id": "7d555b63",
   "metadata": {
    "ExecuteTime": {
     "end_time": "2021-10-30T10:59:21.905996Z",
     "start_time": "2021-10-30T10:59:21.891983Z"
    }
   },
   "outputs": [],
   "source": [
    "import os\n",
    "def check_file(file_path, file_name):\n",
    "    return os.path.isfile(file_path+file_name)"
   ]
  },
  {
   "cell_type": "code",
   "execution_count": 3,
   "id": "008310f5",
   "metadata": {
    "ExecuteTime": {
     "end_time": "2021-10-30T10:59:21.921009Z",
     "start_time": "2021-10-30T10:59:21.906994Z"
    }
   },
   "outputs": [],
   "source": [
    "def save_df(df, path, file_name):\n",
    "    df.to_csv(path+file_name, index=False)\n",
    "    print(f'{path+file_name} 저장 완료')"
   ]
  },
  {
   "cell_type": "code",
   "execution_count": 4,
   "id": "6dc40049",
   "metadata": {
    "ExecuteTime": {
     "end_time": "2021-10-30T10:59:21.936023Z",
     "start_time": "2021-10-30T10:59:21.922008Z"
    }
   },
   "outputs": [],
   "source": [
    "def read_csv_코드정보(code_path , code_file):\n",
    "    df = pd.read_csv(code_path + code_file )\n",
    "    return df"
   ]
  },
  {
   "cell_type": "markdown",
   "id": "29768c19",
   "metadata": {},
   "source": [
    "###### 서울시 동 load 관련"
   ]
  },
  {
   "cell_type": "code",
   "execution_count": 5,
   "id": "da2e4ea3",
   "metadata": {
    "ExecuteTime": {
     "end_time": "2021-10-30T10:59:21.951036Z",
     "start_time": "2021-10-30T10:59:21.937024Z"
    }
   },
   "outputs": [],
   "source": [
    "import pickle\n",
    "import collections\n",
    "\n",
    "def get_seoul_dong():\n",
    "    with open('data/서울시_구별_동정리.pickle','rb') as fw:\n",
    "        dong_dict = pickle.load( fw)\n",
    "\n",
    "    dong_key_list = list(dong_dict.keys())\n",
    "    dong_key_list.sort()\n",
    "    # dong_key_list\n",
    "\n",
    "    for 구이름 in dong_key_list:\n",
    "        dong_dict[구이름] = sorted(dong_dict[구이름])\n",
    "    \n",
    "    return dong_dict"
   ]
  },
  {
   "cell_type": "code",
   "execution_count": 6,
   "id": "6485b47b",
   "metadata": {
    "ExecuteTime": {
     "end_time": "2021-10-30T10:59:21.966050Z",
     "start_time": "2021-10-30T10:59:21.952038Z"
    }
   },
   "outputs": [],
   "source": [
    "dong_dict = get_seoul_dong()"
   ]
  },
  {
   "cell_type": "markdown",
   "id": "71cbff7b",
   "metadata": {},
   "source": [
    "## 웹 조정 관련"
   ]
  },
  {
   "cell_type": "code",
   "execution_count": null,
   "id": "6e4aad28",
   "metadata": {},
   "outputs": [],
   "source": [
    "from IPython.display import clear_output\n",
    "\n",
    "def clear_screen():\n",
    "    clear_output(wait=True)\n",
    "    print(\"Cleared Output\")"
   ]
  },
  {
   "cell_type": "code",
   "execution_count": 7,
   "id": "0afa0248",
   "metadata": {
    "ExecuteTime": {
     "end_time": "2021-10-30T10:59:21.981063Z",
     "start_time": "2021-10-30T10:59:21.967049Z"
    }
   },
   "outputs": [],
   "source": [
    "def is_clickable(wd):\n",
    "    return wd.is_enabled() and wd.is_displayed()"
   ]
  },
  {
   "cell_type": "code",
   "execution_count": 8,
   "id": "b7450ce8",
   "metadata": {
    "ExecuteTime": {
     "end_time": "2021-10-30T10:59:21.996078Z",
     "start_time": "2021-10-30T10:59:21.982065Z"
    }
   },
   "outputs": [],
   "source": [
    "def scroll_down(wd,SCROLL_PAUSE_SEC = 1):\n",
    "\n",
    "    # 스크롤 높이 가져옴\n",
    "    last_height = wd.execute_script(\"return document.body.scrollHeight\")\n",
    "#     print(last_height)\n",
    "    while True:\n",
    "        # 끝까지 스크롤 다운\n",
    "        wd.execute_script(\"window.scrollTo(0, document.body.scrollHeight);\")\n",
    "\n",
    "        # 1초 대기\n",
    "        time.sleep(SCROLL_PAUSE_SEC)\n",
    "\n",
    "        # 스크롤 다운 후 스크롤 높이 다시 가져옴\n",
    "        new_height = wd.execute_script(\"return document.body.scrollHeight\")\n",
    "        if new_height == last_height:\n",
    "            break\n",
    "        last_height = new_height"
   ]
  },
  {
   "cell_type": "markdown",
   "id": "2764fe86",
   "metadata": {},
   "source": [
    "## m.map.naver.com "
   ]
  },
  {
   "cell_type": "markdown",
   "id": "43c31049",
   "metadata": {},
   "source": [
    "### 자기 위치 설정 함수"
   ]
  },
  {
   "cell_type": "code",
   "execution_count": 9,
   "id": "1aaf21f4",
   "metadata": {
    "ExecuteTime": {
     "end_time": "2021-10-30T10:59:22.011091Z",
     "start_time": "2021-10-30T10:59:21.997076Z"
    }
   },
   "outputs": [],
   "source": [
    "def set_location(wd, map_url, 구이름, 동이름, detail=False, slow=1):\n",
    "    \n",
    "    if detail:\n",
    "        print('#####'+동이름+'____'+구이름+'#####'+'선택합니다.')\n",
    "\n",
    "\n",
    "    wd.get(map_url)\n",
    "    time.sleep(2*slow)\n",
    "\n",
    "    #### 위치 지정\n",
    "    wd.find_element_by_id('_changeLocation').click()\n",
    "    time.sleep(0.3*slow)\n",
    "    try:\n",
    "        wd.find_element_by_class_name('mylct_rm_mloc').click()\n",
    "        time.sleep(0.2*slow)\n",
    "    except NoSuchElementException:\n",
    "        if detail:\n",
    "#             print('S_S_E')\n",
    "            pass\n",
    "\n",
    "    time.sleep(0.2*slow)\n",
    "    wd.find_element_by_class_name('mylct_sch_query').click()\n",
    "    time.sleep(0.2*slow)\n",
    "    wd.find_element_by_class_name('mylct_sch_query').send_keys(구이름+' '+동이름+' '+'\\n')\n",
    "#     time.sleep(1*slow)\n",
    "    wd.find_element_by_class_name('mylct_spr.mylct_ico_sch').click()\n",
    "    time.sleep(0.2*slow)\n",
    "    wd.find_element_by_class_name('mylct_addr.mylct_sch_rst').click()\n",
    "    time.sleep(1*slow)\n",
    "    "
   ]
  },
  {
   "cell_type": "code",
   "execution_count": 10,
   "id": "6f4e5785",
   "metadata": {
    "ExecuteTime": {
     "end_time": "2021-10-30T10:59:22.026104Z",
     "start_time": "2021-10-30T10:59:22.012092Z"
    }
   },
   "outputs": [],
   "source": [
    "def set_업종(wd, 업종, slow):\n",
    "    \n",
    "    # 업종 선택 : 선택 가능 \n",
    "    '''음식점:DINING, 카페: CAFE, 쇼핑: SHOPPING, 숙박: ACCOMMODATION, 병원의료: HOSPITAL, 은행: BANK,\n",
    "       주요소:OIL, 마트슈퍼: MART, 편의점: STORE, 생활편의: CONVENIENCE, 명소: SIGHTS, 체육시설: SPORT, \n",
    "       영화공연:CINEMA, 관공서:GOVERNMENT'''\n",
    "    \n",
    "    #### 업종 지정\n",
    "    category_1 = wd.find_elements_by_class_name('_linkCategory')\n",
    "\n",
    "#     print(len(category_1))\n",
    "    \n",
    "    for bnt_ in category_1:\n",
    "#         print(is_clickable(bnt_),bnt_.get_attribute('data-category'))\n",
    "        if is_clickable(bnt_):\n",
    "            \n",
    "            if bnt_.get_attribute('data-category') == 업종:\n",
    "                bnt_.click()\n",
    "                time.sleep(0.2*slow)\n",
    "                break\n",
    "    time.sleep(3*slow)"
   ]
  },
  {
   "cell_type": "code",
   "execution_count": 11,
   "id": "a2562b4f",
   "metadata": {
    "ExecuteTime": {
     "end_time": "2021-10-30T10:59:22.041116Z",
     "start_time": "2021-10-30T10:59:22.027104Z"
    }
   },
   "outputs": [
    {
     "data": {
      "text/plain": [
       "'음식점:DINING, 카페: CAFE, 쇼핑: SHOPPING, 숙박: ACCOMMODATION, 병원의료: HOSPITAL, 은행: BANK,\\n   주요소:OIL, 마트슈퍼: MART, 편의점: STORE, 생활편의: CONVENIENCE, 명소: SIGHTS, 체육시설: SPORT, \\n   영화공연:CINEMA, 관공서:GOVERNMENT'"
      ]
     },
     "execution_count": 11,
     "metadata": {},
     "output_type": "execute_result"
    }
   ],
   "source": [
    "    '''음식점:DINING, 카페: CAFE, 쇼핑: SHOPPING, 숙박: ACCOMMODATION, 병원의료: HOSPITAL, 은행: BANK,\n",
    "       주요소:OIL, 마트슈퍼: MART, 편의점: STORE, 생활편의: CONVENIENCE, 명소: SIGHTS, 체육시설: SPORT, \n",
    "       영화공연:CINEMA, 관공서:GOVERNMENT'''"
   ]
  },
  {
   "cell_type": "markdown",
   "id": "e51a0968",
   "metadata": {},
   "source": [
    "### 코드 수집 함수"
   ]
  },
  {
   "cell_type": "code",
   "execution_count": 12,
   "id": "38d8daf1",
   "metadata": {
    "ExecuteTime": {
     "end_time": "2021-10-30T10:59:22.056132Z",
     "start_time": "2021-10-30T10:59:22.042118Z"
    },
    "scrolled": true
   },
   "outputs": [],
   "source": [
    "def get_store_code(구이름, 업종, detail=False, slow=1):\n",
    "    \n",
    "    options = webdriver.ChromeOptions()\n",
    "    options.add_argument(\"--start-maximized\")\n",
    "    wd = webdriver.Chrome(ChromeDriverManager().install(), options= options)  # chromedriver 열기\n",
    "    wd.implicitly_wait(1)\n",
    "    code_path = 'data/코드/'\n",
    "    code_file = '가게코드_' + 구이름 + '_'+ 업종 + '.csv'\n",
    "    \n",
    "    map_url = 'https://m.map.naver.com/search2/interestSpot.naver?type=DINING'\n",
    "    \n",
    "    df = pd.DataFrame(columns=('store_name','store_code'))\n",
    "    code_idx=0\n",
    "    동_idx=0\n",
    "    \n",
    "    \n",
    "    start_time_all = time.time()\n",
    "    print(f'{구이름} 코드 수집을 시작합니다.')\n",
    "    \n",
    "    for 동이름 in tqdm_notebook(dong_dict[구이름]):\n",
    "        code_save_file = '가게코드_' + 구이름 + '_'+동이름+'_'+ 업종 + '.csv'\n",
    "        if check_file(code_path,code_save_file):\n",
    "            print(f'{동이름} 완료')\n",
    "            df = read_csv_코드정보(code_path, code_save_file)\n",
    "            code_idx = df.shape[0]\n",
    "            continue\n",
    "        else:\n",
    "            print(f'################ {동이름} 시작 ##################')\n",
    "#             print(df.shape, '시작')\n",
    "            \n",
    "        start_time= time.time()\n",
    "        # 각각의 현재 위치를 조정\n",
    "        i=0\n",
    "        while True:\n",
    "            try:\n",
    "                set_location(wd, map_url, 구이름, 동이름, detail=detail, slow=1)\n",
    "                i+=1\n",
    "                if 동이름 in wd.find_element(By.ID, '_currentLocation').text:\n",
    "                    print(f'{동이름} 선택 완료')\n",
    "                    break\n",
    "                else:\n",
    "                    time.sleep(i*i*slow)\n",
    "                    if 동이름 in wd.find_element(By.ID, '_currentLocation').text:\n",
    "                        print(f'{동이름} 선택 완료')\n",
    "                        break\n",
    "                    \n",
    "            except:\n",
    "                print(f'{i+1}번 동선택 실패')\n",
    "                time.sleep(i*i*slow)\n",
    "                pass        \n",
    "        \n",
    "        set_업종(wd, 업종, slow=slow)\n",
    "        \n",
    "        time.sleep(3)\n",
    "        \n",
    "        ### 소분류 url 생성\n",
    "        current_url = wd.current_url.split('type=')[0]\n",
    "        category_2_url_list=[]\n",
    "        category_2 = wd.find_elements_by_class_name('_linkSubCategory')\n",
    "        for 소분류 in category_2:\n",
    "            category_2_url_list.append(current_url+'type='+소분류.get_attribute('data-category_call_id'))\n",
    "        scroll_down(wd,1*slow)\n",
    "        \n",
    "        print(len(category_2))\n",
    "\n",
    "        ### 이름 및 코드 수집\n",
    "        for url_ in category_2_url_list:\n",
    "            wd.get(url_)\n",
    "            print(url_.split('=')[-1].replace(업종,업종[0])[:5],end='')\n",
    "            time.sleep(3*slow)\n",
    "            scroll_down(wd,1*slow)\n",
    "            store_list = wd.find_elements_by_class_name('_item._lazyImgContainer')\n",
    "            \n",
    "            for cd in store_list:\n",
    "                store_name = cd.get_attribute('data-title')\n",
    "                store_code = cd.get_attribute('data-sid')\n",
    "                df.loc[code_idx] = store_name ,store_code\n",
    "#                 print(df.shape, '중간')\n",
    "                code_idx +=1\n",
    "                if code_idx%10 == 0:\n",
    "                    print('#',end='')\n",
    "        print(f'{동이름} 완료, {time.time()-start_time} 소요, 중간 저장 완료')\n",
    "        save_df(df,code_path, code_save_file)\n",
    "        동_idx += 1\n",
    "        \n",
    "        if (동_idx+1)%5 == 0: # 쿨링 다운~\n",
    "            wd.close()\n",
    "            time.sleep(5*slow)\n",
    "            wd = webdriver.Chrome(ChromeDriverManager().install(), options= options)  # chromedriver 열기\n",
    "            wd.implicitly_wait(1*slow)\n",
    "            time.sleep(5*slow)\n",
    "            print('reboot chrome')\n",
    "        \n",
    "    df = df.drop_duplicates()\n",
    "    wd.close()\n",
    "    print(f'{구이름} {df.shape[0]}개 수집 완료, {time.time()-start_time_all} 소요')\n",
    "    save_df(df, code_path, code_file)\n",
    "    print('------------------------------------------')\n",
    "    \n",
    "    # 완료후 중간 저장 파일 삭제\n",
    "    for 동이름 in dong_dict[구이름]:\n",
    "        code_save_file = '가게코드_' + 구이름 + '_'+동이름+'_'+ 업종 + '.csv'\n",
    "        try:\n",
    "            os.remove(code_path+code_save_file)\n",
    "            print(f'{code_save_file} 삭제 완료')\n",
    "        except:\n",
    "            pass"
   ]
  },
  {
   "cell_type": "code",
   "execution_count": 13,
   "id": "2c29b36e",
   "metadata": {
    "ExecuteTime": {
     "end_time": "2021-10-30T10:59:22.071146Z",
     "start_time": "2021-10-30T10:59:22.057133Z"
    },
    "scrolled": true
   },
   "outputs": [],
   "source": [
    "def get_store_code_동별체크(구이름, 업종, ratio, detail=False, slow=1):\n",
    "    \n",
    "    options = webdriver.ChromeOptions()\n",
    "    options.add_argument(\"--start-maximized\")\n",
    "    wd = webdriver.Chrome(ChromeDriverManager().install(), options= options)  # chromedriver 열기\n",
    "    wd.implicitly_wait(1)\n",
    "    code_path = 'data/코드/'\n",
    "    code_file = '가게코드_' + 구이름 + '_'+ 업종 + '.csv'\n",
    "    \n",
    "    map_url = 'https://m.map.naver.com/search2/interestSpot.naver?type=DINING'\n",
    "    \n",
    "    if check_file(code_path, code_file):\n",
    "        df = read_csv_코드정보(code_path, code_file)\n",
    "        code_idx= df.shape[0]\n",
    "    else:\n",
    "        get_store_code(구이름, 업종, detail=False, slow=1)\n",
    "\n",
    "    동_idx=0\n",
    "    \n",
    "    \n",
    "    \n",
    "    start_time_all = time.time()\n",
    "    print(f'{구이름} 코드 수집을 시작합니다.')\n",
    "    \n",
    "    for 동이름 in tqdm_notebook(dong_dict[구이름]):\n",
    "        done_list = list(set(df['store_code'].apply(lambda x: str(x)).values))\n",
    "        \n",
    "        print(f'################ {동이름} 확인 시작 ##################')\n",
    "        print(df.shape, '시작')\n",
    "            \n",
    "        start_time= time.time()\n",
    "        # 각각의 현재 위치를 조정\n",
    "        i=0\n",
    "        while True:\n",
    "            try:\n",
    "                set_location(wd, map_url, 구이름, 동이름, detail=detail, slow=1)\n",
    "                i+=1\n",
    "                if 동이름 in wd.find_element(By.ID, '_currentLocation').text:\n",
    "                    print(f'{동이름} 선택 완료')\n",
    "                    break\n",
    "                else:\n",
    "                    print(f'{i+1}번 동선택 실패')\n",
    "                    time.sleep(i*i*slow)\n",
    "                    if 동이름 in wd.find_element(By.ID, '_currentLocation').text:\n",
    "                        print(f'{동이름} 선택 완료')\n",
    "                        break\n",
    "                    \n",
    "            except:\n",
    "                print(f'{i+1}번 동선택 실패')\n",
    "                i+=1\n",
    "                time.sleep(i*i*slow)\n",
    "                pass\n",
    "\n",
    "        \n",
    "        set_업종(wd, 업종, slow=slow)\n",
    "        \n",
    "        time.sleep(3)\n",
    "        \n",
    "        ### 소분류 url 생성\n",
    "        current_url = wd.current_url.split('type=')[0]\n",
    "        category_2_url_list=[]\n",
    "        category_2 = wd.find_elements_by_class_name('_linkSubCategory')\n",
    "        for 소분류 in category_2:\n",
    "            category_2_url_list.append(current_url+'type='+소분류.get_attribute('data-category_call_id'))\n",
    "        scroll_down(wd,1*slow)\n",
    "        \n",
    "        print(len(category_2))\n",
    "\n",
    "        ### 이름 및 코드 수집\n",
    "        done_idx=1\n",
    "        new_idx=1\n",
    "        \n",
    "        for url_ in category_2_url_list:\n",
    "            if new_idx/done_idx<ratio:\n",
    "                \n",
    "                continue\n",
    "                \n",
    "            wd.get(url_)\n",
    "            print(url_.split('=')[-1].replace(업종,업종[0])[:5],end='')\n",
    "            time.sleep(1*slow)\n",
    "            scroll_down(wd,1*slow)\n",
    "            store_list = wd.find_elements_by_class_name('_item._lazyImgContainer')\n",
    "            \n",
    "\n",
    "                \n",
    "            for cd in store_list:\n",
    "                store_name = cd.get_attribute('data-title')\n",
    "                store_code = cd.get_attribute('data-sid')\n",
    "                if store_code in done_list:\n",
    "                    done_idx+=1\n",
    "                    continue\n",
    "                    \n",
    "                else:\n",
    "                    df.loc[code_idx] = store_name ,store_code\n",
    "    #                 print(df.shape, '중간')\n",
    "                    code_idx +=1\n",
    "                    new_idx +=1\n",
    "                    print('#',end='')\n",
    "                    if code_idx%10 == 0:\n",
    "                        print('@',end='')\n",
    "            print(f'이미완료{done_idx-1}, 새로수집{new_idx-1}')\n",
    "    \n",
    "            print(new_idx/done_idx, '비율')\n",
    "\n",
    "                \n",
    "        save_df(df,code_path, code_file)            \n",
    "    \n",
    "        print(f'{동이름} 완료, {time.time()-start_time} 소요, 중간확인 완료')\n",
    "        save_df(df,code_path, code_file)\n",
    "        동_idx += 1\n",
    "        \n",
    "        if (동_idx+1)%15 == 0: # 쿨링 다운~\n",
    "            wd.close()\n",
    "            time.sleep(5*slow)\n",
    "            wd = webdriver.Chrome(ChromeDriverManager().install(), options= options)  # chromedriver 열기\n",
    "            wd.implicitly_wait(1*slow)\n",
    "            time.sleep(5*slow)\n",
    "            print('reboot chrome')\n",
    "    \n",
    "    \n",
    "    df = df.drop_duplicates()\n",
    "    wd.close()\n",
    "    print(f'{구이름} {df.shape[0]}개 수집 완료, {time.time()-start_time_all} 소요')\n",
    "    save_df(df, code_path, code_file)\n",
    "    print('------------------------------------------')\n",
    "    \n"
   ]
  },
  {
   "cell_type": "markdown",
   "id": "657bf04a",
   "metadata": {},
   "source": [
    "# 수동으로 확인 하는게 나을거 가타용~"
   ]
  },
  {
   "cell_type": "markdown",
   "id": "7bd4bdde",
   "metadata": {
    "ExecuteTime": {
     "end_time": "2021-10-26T11:29:22.683369Z",
     "start_time": "2021-10-26T11:29:22.674360Z"
    }
   },
   "source": [
    "<!-- # 구이름= '마포구'\n",
    "# 구이름='서대문구'\n",
    "# 구이름='동작구' -->\n",
    "구이름='동대문구'\n",
    "업종= 'DINING'\n",
    "slow=1"
   ]
  },
  {
   "cell_type": "markdown",
   "id": "47c5bda2",
   "metadata": {
    "ExecuteTime": {
     "end_time": "2021-10-26T11:38:40.490915Z",
     "start_time": "2021-10-26T11:29:22.885458Z"
    },
    "scrolled": false
   },
   "source": [
    "get_store_code_동별체크(구이름, 업종, 0.08, detail=False, slow=1)"
   ]
  },
  {
   "cell_type": "markdown",
   "id": "5c45d6a6",
   "metadata": {},
   "source": [
    "# 셋팅"
   ]
  },
  {
   "cell_type": "code",
   "execution_count": 14,
   "id": "471601e9",
   "metadata": {
    "ExecuteTime": {
     "end_time": "2021-10-30T10:59:22.086159Z",
     "start_time": "2021-10-30T10:59:22.072144Z"
    }
   },
   "outputs": [],
   "source": [
    "# code_path = 'data/코드/'\n",
    "# review_path = 'data/리뷰/'\n",
    "# store_path = 'data/가게/'\n",
    "\n",
    "# code_file = '가게코드_' + 구이름 + '_' + 동이름+ '_'+ 업종 + '.csv'\n",
    "# review_file = '리뷰정보_' + 구이름 + '_' + 동이름+ '_'+ 업종 + '.csv'\n",
    "# store_file = '가게정보_' + 구이름 + '_' + 동이름+ '_'+ 업종 + '.csv'"
   ]
  },
  {
   "cell_type": "code",
   "execution_count": 15,
   "id": "99b92785",
   "metadata": {
    "ExecuteTime": {
     "end_time": "2021-10-30T10:59:22.101173Z",
     "start_time": "2021-10-30T10:59:22.087160Z"
    }
   },
   "outputs": [],
   "source": [
    "code_path = 'data/코드/'\n",
    "# code_file = '가게코드_' + 구이름 + '_'+ 업종 + '.csv'"
   ]
  },
  {
   "cell_type": "code",
   "execution_count": 16,
   "id": "4821c0e9",
   "metadata": {
    "ExecuteTime": {
     "end_time": "2021-10-30T10:59:22.116186Z",
     "start_time": "2021-10-30T10:59:22.102174Z"
    }
   },
   "outputs": [],
   "source": [
    "detail= True\n",
    "slow=5"
   ]
  },
  {
   "cell_type": "markdown",
   "id": "a85bddd7",
   "metadata": {},
   "source": [
    "#  코드 수집 및 저장"
   ]
  },
  {
   "cell_type": "code",
   "execution_count": 17,
   "id": "bc9b8853",
   "metadata": {
    "ExecuteTime": {
     "end_time": "2021-10-30T10:59:22.131200Z",
     "start_time": "2021-10-30T10:59:22.117186Z"
    }
   },
   "outputs": [
    {
     "data": {
      "text/plain": [
       "['강남구',\n",
       " '강동구',\n",
       " '강북구',\n",
       " '강서구',\n",
       " '관악구',\n",
       " '광진구',\n",
       " '구로구',\n",
       " '금천구',\n",
       " '노원구',\n",
       " '도봉구',\n",
       " '동대문구',\n",
       " '동작구',\n",
       " '마포구',\n",
       " '서대문구',\n",
       " '서초구',\n",
       " '성동구',\n",
       " '성북구',\n",
       " '송파구',\n",
       " '양천구',\n",
       " '영등포구',\n",
       " '용산구',\n",
       " '은평구',\n",
       " '종로구',\n",
       " '중구',\n",
       " '중랑구']"
      ]
     },
     "execution_count": 17,
     "metadata": {},
     "output_type": "execute_result"
    }
   ],
   "source": [
    "sorted(dong_dict.keys())\n",
    "# 마포구 까지 완성/"
   ]
  },
  {
   "cell_type": "code",
   "execution_count": 18,
   "id": "d4e0f167",
   "metadata": {
    "ExecuteTime": {
     "end_time": "2021-10-30T10:59:22.146214Z",
     "start_time": "2021-10-30T10:59:22.132201Z"
    }
   },
   "outputs": [],
   "source": [
    "업종_list=['DINING', 'CAFE', 'SHOPPING', 'ACCOMMODATION', 'HOSPITAL', 'CONVENIENCE', 'SIGHTS', 'SPORT', 'GOVERNMENT']"
   ]
  },
  {
   "cell_type": "code",
   "execution_count": null,
   "id": "5ff4d14c",
   "metadata": {},
   "outputs": [],
   "source": [
    "업종_Done_list= ['DINING']"
   ]
  },
  {
   "cell_type": "code",
   "execution_count": null,
   "id": "2ea5b8f3",
   "metadata": {
    "ExecuteTime": {
     "start_time": "2021-10-30T10:59:21.260Z"
    },
    "scrolled": false
   },
   "outputs": [
    {
     "name": "stderr",
     "output_type": "stream",
     "text": [
      "[WDM] - \n",
      "\n",
      "[WDM] - ====== WebDriver manager ======\n",
      "[WDM] - Current google-chrome version is 95.0.4638\n",
      "[WDM] - Get LATEST driver version for 95.0.4638\n",
      "[WDM] - Driver [C:\\Users\\bigne\\.wdm\\drivers\\chromedriver\\win32\\95.0.4638.54\\chromedriver.exe] found in cache\n"
     ]
    },
    {
     "name": "stdout",
     "output_type": "stream",
     "text": [
      "강남구 코드 수집을 시작합니다.\n"
     ]
    },
    {
     "data": {
      "application/vnd.jupyter.widget-view+json": {
       "model_id": "e5175b5d28524472b24c442702c5ce5a",
       "version_major": 2,
       "version_minor": 0
      },
      "text/plain": [
       "  0%|          | 0/22 [00:00<?, ?it/s]"
      ]
     },
     "metadata": {},
     "output_type": "display_data"
    },
    {
     "name": "stdout",
     "output_type": "stream",
     "text": [
      "################ 개포1동 확인 시작 ##################\n",
      "(6995, 2) 시작\n",
      "개포1동 선택 완료\n",
      "13\n",
      "D이미완료75, 새로수집0\n",
      "0.013157894736842105 비율\n",
      "data/코드/가게코드_강남구_DINING.csv 저장 완료\n",
      "개포1동 완료, 40.702985525131226 소요, 중간확인 완료\n",
      "data/코드/가게코드_강남구_DINING.csv 저장 완료\n",
      "################ 개포2동 확인 시작 ##################\n",
      "(6995, 2) 시작\n",
      "개포2동 선택 완료\n",
      "13\n",
      "D이미완료75, 새로수집0\n",
      "0.013157894736842105 비율\n",
      "data/코드/가게코드_강남구_DINING.csv 저장 완료\n",
      "개포2동 완료, 39.598227977752686 소요, 중간확인 완료\n",
      "data/코드/가게코드_강남구_DINING.csv 저장 완료\n",
      "################ 개포4동 확인 시작 ##################\n",
      "(6995, 2) 시작\n",
      "개포4동 선택 완료\n",
      "13\n",
      "D이미완료75, 새로수집0\n",
      "0.013157894736842105 비율\n",
      "data/코드/가게코드_강남구_DINING.csv 저장 완료\n",
      "개포4동 완료, 39.57115173339844 소요, 중간확인 완료\n",
      "data/코드/가게코드_강남구_DINING.csv 저장 완료\n",
      "################ 논현1동 확인 시작 ##################\n",
      "(6995, 2) 시작\n",
      "논현1동 선택 완료\n",
      "13\n",
      "D이미완료75, 새로수집0\n",
      "0.013157894736842105 비율\n",
      "data/코드/가게코드_강남구_DINING.csv 저장 완료\n",
      "논현1동 완료, 39.65283250808716 소요, 중간확인 완료\n",
      "data/코드/가게코드_강남구_DINING.csv 저장 완료\n",
      "################ 논현2동 확인 시작 ##################\n",
      "(6995, 2) 시작\n",
      "논현2동 선택 완료\n",
      "13\n",
      "D#이미완료74, 새로수집1\n",
      "0.02666666666666667 비율\n",
      "data/코드/가게코드_강남구_DINING.csv 저장 완료\n",
      "논현2동 완료, 39.60902786254883 소요, 중간확인 완료\n",
      "data/코드/가게코드_강남구_DINING.csv 저장 완료\n",
      "################ 대치1동 확인 시작 ##################\n",
      "(6996, 2) 시작\n",
      "대치1동 선택 완료\n",
      "13\n",
      "D이미완료0, 새로수집0\n",
      "1.0 비율\n",
      "D_KOR이미완료0, 새로수집0\n",
      "1.0 비율\n",
      "D_JAP이미완료0, 새로수집0\n",
      "1.0 비율\n",
      "D_CHI이미완료0, 새로수집0\n",
      "1.0 비율\n",
      "D_ASI이미완료0, 새로수집0\n",
      "1.0 비율\n",
      "D_WES"
     ]
    },
    {
     "name": "stderr",
     "output_type": "stream",
     "text": [
      "[WDM] - \n",
      "\n",
      "[WDM] - ====== WebDriver manager ======\n",
      "[WDM] - Current google-chrome version is 95.0.4638\n",
      "[WDM] - Get LATEST driver version for 95.0.4638\n",
      "[WDM] - Driver [C:\\Users\\bigne\\.wdm\\drivers\\chromedriver\\win32\\95.0.4638.54\\chromedriver.exe] found in cache\n"
     ]
    },
    {
     "name": "stdout",
     "output_type": "stream",
     "text": [
      "0 실패\n",
      "강남구 코드 수집을 시작합니다.\n"
     ]
    },
    {
     "data": {
      "application/vnd.jupyter.widget-view+json": {
       "model_id": "8f181f643eb8493ca8cdc92f591833e2",
       "version_major": 2,
       "version_minor": 0
      },
      "text/plain": [
       "  0%|          | 0/22 [00:00<?, ?it/s]"
      ]
     },
     "metadata": {},
     "output_type": "display_data"
    },
    {
     "name": "stdout",
     "output_type": "stream",
     "text": [
      "################ 개포1동 확인 시작 ##################\n",
      "(6996, 2) 시작\n",
      "개포1동 선택 완료\n",
      "13\n",
      "D"
     ]
    }
   ],
   "source": [
    "\n",
    "\n",
    "idx = 0\n",
    "for i in range(10):\n",
    "    for 업종 in 업종_Done_list:\n",
    "        try:\n",
    "            for 구이름 in sorted(dong_dict.keys()):\n",
    "                code_file = '가게코드_' + 구이름 + '_'+ 업종 + '.csv'\n",
    "                get_store_code_동별체크(구이름, 업종, 0.06, detail=False, slow=slow)\n",
    "        except:\n",
    "            time.sleep(idx*idx)\n",
    "            print(f'{idx} 실패')\n",
    "        \n",
    "        if idx%9==0:\n",
    "            clear_screen()\n",
    "        if idx> 50:\n",
    "\n",
    "            break"
   ]
  },
  {
   "cell_type": "markdown",
   "id": "9c26c5d4",
   "metadata": {},
   "source": [
    "# 각 구 통합"
   ]
  },
  {
   "cell_type": "markdown",
   "id": "f8556d9a",
   "metadata": {
    "ExecuteTime": {
     "start_time": "2021-10-25T09:29:04.706Z"
    }
   },
   "source": [
    "code_path = 'data/코드/'\n",
    "code_file_list = ['가게코드_' + 구이름 +  '_' + 업종 + '.csv' for  동이름 in dong_dict[구이름]]\n",
    "result_file_name = '가게코드_서울시_'+ 업종+'.csv'\n",
    "df_result= pd.DataFrame()\n",
    "\n",
    "for 구이름 in sorted(dong_dict.keys()):\n",
    "    code_file = '가게코드_' + 구이름 + '_'+ 업종 + '.csv'\n",
    "    if check_file(code_path, code_file):\n",
    "        print('구이름', '완료')\n",
    "        pass\n",
    "    else:\n",
    "        print('구이름', '없습니다.')\n",
    "        break\n",
    "else:\n",
    "    for code_file in code_file_list:\n",
    "        df_1 = read_csv_코드정보(code_path, code_file)\n",
    "        df_result = pd.concat([df_result, df_1])\n",
    "    else:\n",
    "        if check_file(code_path, result_file_name): # 기존것과 병합\n",
    "            df_before = read_csv_코드정보(code_path, result_file_name)\n",
    "        else:\n",
    "            df_before = pd.DataFrame()\n",
    "    df_result = pd.concat([df_before, df_result ])\n",
    "    df_result = df_result.drop_duplicates()\n",
    "    save_df(df_result, code_path, result_file_name )"
   ]
  }
 ],
 "metadata": {
  "kernelspec": {
   "display_name": "Python 3 (ipykernel)",
   "language": "python",
   "name": "python3"
  },
  "language_info": {
   "codemirror_mode": {
    "name": "ipython",
    "version": 3
   },
   "file_extension": ".py",
   "mimetype": "text/x-python",
   "name": "python",
   "nbconvert_exporter": "python",
   "pygments_lexer": "ipython3",
   "version": "3.8.11"
  },
  "toc": {
   "base_numbering": 1,
   "nav_menu": {},
   "number_sections": true,
   "sideBar": true,
   "skip_h1_title": false,
   "title_cell": "Table of Contents",
   "title_sidebar": "Contents",
   "toc_cell": false,
   "toc_position": {
    "height": "calc(100% - 180px)",
    "left": "10px",
    "top": "150px",
    "width": "322.792px"
   },
   "toc_section_display": true,
   "toc_window_display": false
  }
 },
 "nbformat": 4,
 "nbformat_minor": 5
}
