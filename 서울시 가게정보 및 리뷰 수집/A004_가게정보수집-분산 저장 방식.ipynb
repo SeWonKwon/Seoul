{
 "cells": [
  {
   "cell_type": "markdown",
   "id": "34682007",
   "metadata": {},
   "source": [
    "<a href='https://github.com/SeWonKwon' ><div> <img src ='https://slid-capture.s3.ap-northeast-2.amazonaws.com/public/image_upload/6556674324ed41a289a354258718280d/964e5a8b-75ad-41fc-ae75-0ca66d06fbc7.png' align='left' /> </div></a>\n"
   ]
  },
  {
   "cell_type": "markdown",
   "id": "8e442582",
   "metadata": {},
   "source": [
    "1. 네이버 자료\n",
    "\n",
    "2. 네이버 Place 코드\n",
    "    * 기준: 서울시 동별, 업종별\n",
    "    \n",
    "    \n",
    "3. 가게정보, 리뷰 정도 겟\n",
    "\n"
   ]
  },
  {
   "cell_type": "markdown",
   "id": "8a5b0d31",
   "metadata": {},
   "source": [
    "# 필요함수 및 라이브러리"
   ]
  },
  {
   "cell_type": "code",
   "execution_count": 1,
   "id": "732e1ce8",
   "metadata": {
    "ExecuteTime": {
     "end_time": "2021-10-24T14:56:55.995610Z",
     "start_time": "2021-10-24T14:56:55.417129Z"
    }
   },
   "outputs": [],
   "source": [
    "import time\n",
    "import pandas as pd\n",
    "import numpy as np\n",
    "import json\n",
    "\n",
    "from selenium import webdriver\n",
    "from selenium.webdriver.common.keys import Keys\n",
    "from selenium.common.exceptions import NoSuchElementException\n",
    "from selenium.common.exceptions import ElementNotInteractableException\n",
    "from selenium.common.exceptions import StaleElementReferenceException\n",
    "from selenium.common.exceptions import ElementClickInterceptedException\n",
    "from webdriver_manager.chrome import ChromeDriverManager\n",
    "from selenium.webdriver.common.by import By\n",
    "\n",
    "import warnings\n",
    "warnings.filterwarnings(action = 'ignore')\n"
   ]
  },
  {
   "cell_type": "markdown",
   "id": "e8951b40",
   "metadata": {},
   "source": [
    "## 파일 관련"
   ]
  },
  {
   "cell_type": "code",
   "execution_count": 2,
   "id": "ad1b4f5d",
   "metadata": {
    "ExecuteTime": {
     "end_time": "2021-10-24T14:56:56.010659Z",
     "start_time": "2021-10-24T14:56:55.996615Z"
    }
   },
   "outputs": [],
   "source": [
    "def get_today():\n",
    "    import datetime\n",
    "    now = datetime.datetime.now()\n",
    "    \n",
    "    nowDate = now.strftime('%Y-%m-%d')\n",
    "#     print(nowDate)      # 2015-04-19\n",
    " \n",
    "    nowTime = now.strftime('%H:%M:%S')\n",
    "#     print(nowTime)      # 12:11:32\n",
    "\n",
    "    nowDatetime = now.strftime('%Y-%m-%d %H:%M:%S')\n",
    "    return nowDate"
   ]
  },
  {
   "cell_type": "code",
   "execution_count": 3,
   "id": "a1055cf1",
   "metadata": {
    "ExecuteTime": {
     "end_time": "2021-10-24T14:56:56.025666Z",
     "start_time": "2021-10-24T14:56:56.011660Z"
    }
   },
   "outputs": [],
   "source": [
    "import os\n",
    "def check_file(file_path, file_name):\n",
    "    return os.path.isfile(file_path+file_name)"
   ]
  },
  {
   "cell_type": "code",
   "execution_count": 4,
   "id": "4fb0add8",
   "metadata": {
    "ExecuteTime": {
     "end_time": "2021-10-24T14:56:56.040823Z",
     "start_time": "2021-10-24T14:56:56.026672Z"
    }
   },
   "outputs": [],
   "source": [
    "def save_df(df, path, file_name):\n",
    "    df.to_csv(path+file_name, index=False)\n",
    "    print(f'{path+file_name} 저장 완료')"
   ]
  },
  {
   "cell_type": "code",
   "execution_count": 5,
   "id": "332a1cb1",
   "metadata": {
    "ExecuteTime": {
     "end_time": "2021-10-24T14:56:56.055585Z",
     "start_time": "2021-10-24T14:56:56.041827Z"
    }
   },
   "outputs": [],
   "source": [
    "def read_csv_코드정보(code_path , code_file):\n",
    "    df = pd.read_csv(code_path + code_file )\n",
    "    return df"
   ]
  },
  {
   "cell_type": "code",
   "execution_count": 6,
   "id": "1e5c3553",
   "metadata": {
    "ExecuteTime": {
     "end_time": "2021-10-24T14:56:56.070390Z",
     "start_time": "2021-10-24T14:56:56.055981Z"
    }
   },
   "outputs": [
    {
     "data": {
      "text/plain": [
       "'음식점:DINING, 카페: CAFE, 쇼핑: SHOPPING, 숙박: ACCOMMODATION, 병원의료: HOSPITAL, 은행: BANK,\\n   주요소:OIL, 마트슈퍼: MART, 편의점: STORE, 생활편의: CONVENIENCE, 명소: SIGHTS, 체육시설: SPORT, \\n   영화공연:CINEMA, 관공서:GOVERNMENT'"
      ]
     },
     "execution_count": 6,
     "metadata": {},
     "output_type": "execute_result"
    }
   ],
   "source": [
    "'''음식점:DINING, 카페: CAFE, 쇼핑: SHOPPING, 숙박: ACCOMMODATION, 병원의료: HOSPITAL, 은행: BANK,\n",
    "   주요소:OIL, 마트슈퍼: MART, 편의점: STORE, 생활편의: CONVENIENCE, 명소: SIGHTS, 체육시설: SPORT, \n",
    "   영화공연:CINEMA, 관공서:GOVERNMENT'''"
   ]
  },
  {
   "cell_type": "markdown",
   "id": "599cb480",
   "metadata": {},
   "source": [
    "###### 서울시 동 load 관련"
   ]
  },
  {
   "cell_type": "code",
   "execution_count": 7,
   "id": "16a17d9e",
   "metadata": {
    "ExecuteTime": {
     "end_time": "2021-10-24T14:56:56.085343Z",
     "start_time": "2021-10-24T14:56:56.071394Z"
    }
   },
   "outputs": [],
   "source": [
    "import pickle\n",
    "import collections\n",
    "\n",
    "def get_seoul_dong():\n",
    "    with open('data/서울시_구별_동정리.pickle','rb') as fw:\n",
    "        dong_dict = pickle.load( fw)\n",
    "\n",
    "    dong_key_list = list(dong_dict.keys())\n",
    "    dong_key_list.sort()\n",
    "    # dong_key_list\n",
    "\n",
    "    for 구이름 in dong_key_list:\n",
    "        dong_dict[구이름] = sorted(dong_dict[구이름])\n",
    "    \n",
    "    return dong_dict"
   ]
  },
  {
   "cell_type": "code",
   "execution_count": 8,
   "id": "35f55cb3",
   "metadata": {
    "ExecuteTime": {
     "end_time": "2021-10-24T14:56:56.100427Z",
     "start_time": "2021-10-24T14:56:56.086347Z"
    }
   },
   "outputs": [],
   "source": [
    "dong_dict = get_seoul_dong()"
   ]
  },
  {
   "cell_type": "markdown",
   "id": "8ffef825",
   "metadata": {},
   "source": [
    "## 웹 조정 관련"
   ]
  },
  {
   "cell_type": "code",
   "execution_count": 9,
   "id": "c200a263",
   "metadata": {
    "ExecuteTime": {
     "end_time": "2021-10-24T14:56:56.115443Z",
     "start_time": "2021-10-24T14:56:56.101430Z"
    }
   },
   "outputs": [],
   "source": [
    "def is_clickable(wd):\n",
    "    return wd.is_enabled() and wd.is_displayed()"
   ]
  },
  {
   "cell_type": "code",
   "execution_count": 10,
   "id": "9327dafb",
   "metadata": {
    "ExecuteTime": {
     "end_time": "2021-10-24T14:56:56.130662Z",
     "start_time": "2021-10-24T14:56:56.117445Z"
    }
   },
   "outputs": [],
   "source": [
    "def scroll_down(wd,SCROLL_PAUSE_SEC = 1):\n",
    "\n",
    "    # 스크롤 높이 가져옴\n",
    "    last_height = wd.execute_script(\"return document.body.scrollHeight\")\n",
    "#     print(last_height)\n",
    "    while True:\n",
    "        # 끝까지 스크롤 다운\n",
    "        wd.execute_script(\"window.scrollTo(0, document.body.scrollHeight);\")\n",
    "\n",
    "        # 1초 대기\n",
    "        time.sleep(SCROLL_PAUSE_SEC)\n",
    "\n",
    "        # 스크롤 다운 후 스크롤 높이 다시 가져옴\n",
    "        new_height = wd.execute_script(\"return document.body.scrollHeight\")\n",
    "        if new_height == last_height:\n",
    "            break\n",
    "        last_height = new_height"
   ]
  },
  {
   "cell_type": "markdown",
   "id": "1f3d6db1",
   "metadata": {},
   "source": [
    "## 크롤링 에러 방지 관련"
   ]
  },
  {
   "cell_type": "code",
   "execution_count": 11,
   "id": "f6a80c13",
   "metadata": {
    "ExecuteTime": {
     "end_time": "2021-10-24T14:56:56.145675Z",
     "start_time": "2021-10-24T14:56:56.131664Z"
    }
   },
   "outputs": [],
   "source": [
    "def try_none_text_by_class_name(wd,class_name, col='col'):\n",
    "    try:\n",
    "        return wd.find_element_by_class_name(class_name).text\n",
    "    except NoSuchElementException:\n",
    "        print(col, end=' ')\n",
    "        return np.NaN\n",
    "        "
   ]
  },
  {
   "cell_type": "code",
   "execution_count": 12,
   "id": "5bc280ad",
   "metadata": {
    "ExecuteTime": {
     "end_time": "2021-10-24T14:56:56.160693Z",
     "start_time": "2021-10-24T14:56:56.146676Z"
    }
   },
   "outputs": [],
   "source": [
    "def strong_try_none_text_by_class_name(wd,class_name, col='col'):\n",
    "    try:\n",
    "        temps = wd.find_elements_by_class_name(class_name)\n",
    "        for temp in temps:\n",
    "            if temp.text.startswith('편의'):\n",
    "                return temp.text.split('\\n')[1]\n",
    "        else:\n",
    "            return np.NaN\n",
    "    except NoSuchElementException:\n",
    "#         print(col, end='')\n",
    "        return np.NaN\n",
    "        "
   ]
  },
  {
   "cell_type": "code",
   "execution_count": 13,
   "id": "43c0db17",
   "metadata": {
    "ExecuteTime": {
     "end_time": "2021-10-24T14:56:56.175709Z",
     "start_time": "2021-10-24T14:56:56.161693Z"
    }
   },
   "outputs": [],
   "source": [
    "def review_dict(s):\n",
    "    review_dict = {}\n",
    "#     print(s.split('평균 별점'))\n",
    "    s = s.split('평균 별점')\n",
    "    review_dict['평균_별점'] = s[-1].strip()\n",
    "    s = s[0].split('사진')\n",
    "    if len(s) >= 2:\n",
    "        review_dict['사진'] = int(s[-1])\n",
    "        review_dict['리뷰'] = s[0].split()[-1]\n",
    "    else:\n",
    "        review_dict['사진'] = np.NaN\n",
    "        review_dict['리뷰'] = s[0].split()[-1]\n",
    "# print(s)\n",
    "    return review_dict"
   ]
  },
  {
   "cell_type": "markdown",
   "id": "bc2ae05a",
   "metadata": {},
   "source": [
    "## get_store_info from naver.place by place_code"
   ]
  },
  {
   "cell_type": "code",
   "execution_count": 14,
   "id": "4274c161",
   "metadata": {
    "ExecuteTime": {
     "end_time": "2021-10-24T14:56:56.190719Z",
     "start_time": "2021-10-24T14:56:56.176712Z"
    }
   },
   "outputs": [],
   "source": [
    "def get_store_info(wd, code_no):\n",
    "    name = wd.find_element_by_class_name('_3XamX').text\n",
    "#     print(name)\n",
    "    r_type = try_none_text_by_class_name(wd,'_3ocDE','ty')\n",
    "#     print(r_type)\n",
    "    address = try_none_text_by_class_name(wd,'_2yqUQ','ad')\n",
    "#     print(address)\n",
    "    tel = try_none_text_by_class_name(wd,'_3ZA0S','tel') \n",
    "#     print(tel)\n",
    "    utility, detail = np.NaN, np.NaN\n",
    "    for i in wd.find_elements_by_class_name('_1M_Iz'):\n",
    "#         print(i.text)\n",
    "        if '편의' in i.text :\n",
    "            utility = i.text.replace('편의\\n','')\n",
    "        elif '설명' in i.text :\n",
    "            detail = i.text.replace('설명\\n', '')\n",
    "    \n",
    "#     print(code_no, utility, detail)\n",
    "    \n",
    "    nums_list = wd.find_elements_by_class_name('_1Y6hi')\n",
    "    try:\n",
    "        score = nums_list[0].find_element_by_tag_name('em').text\n",
    "    except:\n",
    "        score = np.NaN\n",
    "    try:\n",
    "        review_num = nums_list[1].find_element_by_tag_name('em').text\n",
    "    except:\n",
    "        review_num = np.NaN\n",
    "        \n",
    "    try:\n",
    "        blog_nums = nums_list[2].find_element_by_tag_name('em').text\n",
    "    except:\n",
    "        blog_nums = np.NaN\n",
    "#     print(score, review_num, blog_nums)\n",
    "    collected_date = get_today()\n",
    "\n",
    "    # 데이터 렙 펼치기\n",
    "    for i in wd.find_elements_by_class_name('_3iTUo'):\n",
    "        if i.text=='더보기':\n",
    "            i.send_keys('\\n')\n",
    "        else:\n",
    "            pass\n",
    "            \n",
    "    try:\n",
    "        datalab_1 = {}\n",
    "        datalab_list = wd.find_elements_by_class_name('_3Ryhx')\n",
    "        for datalab in datalab_list:\n",
    "            datalab_1[datalab.find_element_by_class_name('_3hvd9').text] = [x.text for x in datalab.find_elements_by_class_name('_2irYJ') if x.text != '']\n",
    "    except:\n",
    "        datalab_1 = np.NaN\n",
    "        print('d_1', end='')\n",
    "#     print(name, datalab_1)\n",
    "\n",
    "    try:\n",
    "        datalab_g = {}\n",
    "        datalab_block = wd.find_element_by_class_name('_250cA')\n",
    "        datalab_age_list = datalab_block.find_elements_by_class_name('_1Nyv0')\n",
    "        for age_info in datalab_age_list:\n",
    "            age = age_info.find_element_by_class_name('iO1iA').text\n",
    "            preference = age_info.find_element_by_class_name('place_blind').text.replace('%','')\n",
    "            datalab_g[age] = preference\n",
    "            \n",
    "        gender_preferance = wd.find_element_by_class_name('c3-chart-arc.c3-target.c3-target-female').text.replace('%',\"\")\n",
    "        datalab_g['female_pref'] = gender_preferance\n",
    "    except:\n",
    "        datalab_g = np.NaN\n",
    "        print('d_g', end=\"\")\n",
    "#     print(datalab_1, datalab_g)\n",
    "\n",
    "    return name, code_no, r_type, address,tel, score, utility, detail, datalab_1, datalab_g, review_num, blog_nums, collected_date"
   ]
  },
  {
   "cell_type": "code",
   "execution_count": 15,
   "id": "7e251051",
   "metadata": {
    "ExecuteTime": {
     "end_time": "2021-10-24T14:56:56.205742Z",
     "start_time": "2021-10-24T14:56:56.191724Z"
    }
   },
   "outputs": [],
   "source": [
    "code_path = 'data/코드/'\n",
    "구이름 = '강남구'\n",
    "업종 = 'DINING'\n",
    "code_file = '가게코드_' + 구이름 + '_'+ 업종 + '.csv'"
   ]
  },
  {
   "cell_type": "code",
   "execution_count": 16,
   "id": "f1eee300",
   "metadata": {
    "ExecuteTime": {
     "end_time": "2021-10-24T14:56:56.220756Z",
     "start_time": "2021-10-24T14:56:56.206742Z"
    }
   },
   "outputs": [],
   "source": [
    "code_df = read_csv_코드정보(code_path, code_file)"
   ]
  },
  {
   "cell_type": "code",
   "execution_count": 17,
   "id": "a4713a2e",
   "metadata": {
    "ExecuteTime": {
     "end_time": "2021-10-24T14:56:56.236381Z",
     "start_time": "2021-10-24T14:56:56.221755Z"
    }
   },
   "outputs": [
    {
     "data": {
      "text/plain": [
       "(6863, 2)"
      ]
     },
     "execution_count": 17,
     "metadata": {},
     "output_type": "execute_result"
    }
   ],
   "source": [
    "code_df.shape"
   ]
  },
  {
   "cell_type": "code",
   "execution_count": 18,
   "id": "8ede08e9",
   "metadata": {
    "ExecuteTime": {
     "end_time": "2021-10-24T14:56:56.251089Z",
     "start_time": "2021-10-24T14:56:56.237383Z"
    }
   },
   "outputs": [],
   "source": [
    "def naver_map_store_scrapping( 구이름, 업종, slow= 1):\n",
    "    start_time = time.time()\n",
    "\n",
    "    options = webdriver.ChromeOptions()\n",
    "\n",
    "    options.add_argument(\"--start-maximized\")\n",
    "    wd = webdriver.Chrome(ChromeDriverManager().install(), options= options)  # chromedriver 열기\n",
    "    wd.implicitly_wait(1*slow)\n",
    "    \n",
    "    code_path = 'data/코드/'\n",
    "    review_path = 'data/리뷰/'\n",
    "    store_path = 'data/가게/'\n",
    "\n",
    "    code_file = '가게코드_' + 구이름 + '_'+ 업종 + '.csv'\n",
    "    review_file = '리뷰정보_' + 구이름 + '_'+ 업종 + '.csv'\n",
    "    store_file = '가게정보_' + 구이름 + '_'+ 업종 + '.csv'\n",
    "    \n",
    "    store_idx = 0\n",
    "    store_df = pd.DataFrame(columns=(\"name\", \"code_no\", \"r_type\",\"address\",\"tel\",\n",
    "                                     \"score\",\"utility\",\"detail\",\"datalab_1\", \"datalab_g\", \"review_num\",\n",
    "                                     \"blog_num\", \"collected_date\"))\n",
    "    \n",
    "    if check_file(store_path, store_file):\n",
    "        store_df = pd.read_csv(store_path+store_file)\n",
    "        store_idx = store_df.shape[0]\n",
    "    done_list = list(store_df['code_no'].apply(lambda x: str(x)).values)\n",
    "#     print(done_list)\n",
    "    code_df = pd.read_csv(code_path+code_file, dtype='str')\n",
    "\n",
    "    print(f'{구이름}  {업종} 업종 의 가게 정보 스크래핑을 시작합니다.')\n",
    "\n",
    "    print(f'{code_df.shape[0]}개의 가게코드가 있습니다.')\n",
    "    \n",
    "    print(f'{store_idx}가 이전에 완료 되었었습니다. 이어서 진행합니다.')\n",
    "\n",
    "    for _, code_no_ in code_df.iterrows():\n",
    "        code_no = str(code_no_.values[1])\n",
    "        if code_no in done_list:\n",
    "#             print(code_no, '중복중복!!')\n",
    "            continue\n",
    "            \n",
    "        place_url = 'https://pcmap.place.naver.com/restaurant/'+str(code_no)\n",
    "\n",
    "        wd.get(place_url)\n",
    "        time.sleep(1*slow)\n",
    "        scroll_down(wd,0.5)\n",
    "        cnt_idx = 0\n",
    "\n",
    "        try:\n",
    "#             input('ddd')\n",
    "            wd.implicitly_wait(0.001*slow)\n",
    "            store_df.loc[store_idx] = get_store_info(wd,code_no)\n",
    "            wd.implicitly_wait(1*slow)\n",
    "            print(store_idx, end='#')\n",
    "            store_idx += 1\n",
    "            time.sleep(5)\n",
    "            \n",
    "        except:\n",
    "            print(store_idx, end='!!')\n",
    "            pass\n",
    "        \n",
    "        ##################### cooling down\n",
    "        if store_idx%100 == 0 :\n",
    "            wd.close()\n",
    "            wd = webdriver.Chrome(ChromeDriverManager().install(), options= options)  # chromedriver 열기\n",
    "            wd.implicitly_wait(1*slow)\n",
    "            time.sleep(1*slow)\n",
    "            \n",
    "        ##################### save just in case:\n",
    "        if store_idx%30 == 0 :\n",
    "            store_df.to_csv(store_path+store_file, index=False)\n",
    "            print(구이름, 업종, f'가게 {store_idx}개 중간저장')\n",
    "            print(f'{time.time()-start_time} 소요')\n",
    "#         ##################### Test Test Test\n",
    "#         if store_idx%10==0:\n",
    "#             store_df.to_csv(store_path+store_file, index=False)\n",
    "#             print(구이름,업종, f'가게 {store_idx}개 완료' )\n",
    "#             print(f'{time.time()-start_time} 소요')\n",
    "#             wd.close()\n",
    "#             break\n",
    "    else:\n",
    "        store_df.to_csv(store_path+store_file, index=False)\n",
    "        print(구이름, 업종, f'가게 {store_idx}개 완료' )\n",
    "        print(f'{time.time()-start_time} 소요')\n",
    "        wd.close()\n",
    "        \n",
    "#     return store_df"
   ]
  },
  {
   "cell_type": "markdown",
   "id": "3153cdcb",
   "metadata": {},
   "source": [
    "# 셋팅"
   ]
  },
  {
   "cell_type": "code",
   "execution_count": 19,
   "id": "261a8890",
   "metadata": {
    "ExecuteTime": {
     "end_time": "2021-10-24T14:56:56.266405Z",
     "start_time": "2021-10-24T14:56:56.252089Z"
    }
   },
   "outputs": [],
   "source": [
    "# code_path = 'data/코드/'\n",
    "# review_path = 'data/리뷰/'\n",
    "# store_path = 'data/가게/'\n",
    "\n",
    "# code_file = '가게코드_' + 구이름 + '_' + 동이름+ '_'+ 업종 + '.csv'\n",
    "# review_file = '리뷰정보_' + 구이름 + '_' + 동이름+ '_'+ 업종 + '.csv'\n",
    "# store_file = '가게정보_' + 구이름 + '_' + 동이름+ '_'+ 업종 + '.csv'"
   ]
  },
  {
   "cell_type": "code",
   "execution_count": 20,
   "id": "71e6e2c5",
   "metadata": {
    "ExecuteTime": {
     "end_time": "2021-10-24T14:56:56.281241Z",
     "start_time": "2021-10-24T14:56:56.267405Z"
    }
   },
   "outputs": [],
   "source": [
    "code_path = 'data/코드/'\n",
    "store_path = 'data/가게/'\n",
    "# code_file = '가게코드_' + 구이름 + '_'+ 업종 + '.csv'\n",
    "# store_file = '가게정보_' + 구이름 +  '_'+ 업종 + '.csv'"
   ]
  },
  {
   "cell_type": "code",
   "execution_count": 21,
   "id": "f80c3ce9",
   "metadata": {
    "ExecuteTime": {
     "end_time": "2021-10-24T14:56:56.296433Z",
     "start_time": "2021-10-24T14:56:56.282243Z"
    }
   },
   "outputs": [],
   "source": [
    "detail= True\n",
    "slow=1"
   ]
  },
  {
   "cell_type": "markdown",
   "id": "ed4a5301",
   "metadata": {},
   "source": [
    "#  코드 수집 및 저장"
   ]
  },
  {
   "cell_type": "code",
   "execution_count": 22,
   "id": "1bf47c0d",
   "metadata": {
    "ExecuteTime": {
     "end_time": "2021-10-24T14:58:01.448797Z",
     "start_time": "2021-10-24T14:56:56.297434Z"
    },
    "scrolled": true
   },
   "outputs": [
    {
     "name": "stderr",
     "output_type": "stream",
     "text": [
      "[WDM] - \n",
      "\n",
      "[WDM] - ====== WebDriver manager ======\n",
      "[WDM] - Current google-chrome version is 95.0.4638\n",
      "[WDM] - Get LATEST driver version for 95.0.4638\n",
      "[WDM] - Driver [C:\\Users\\bigne\\.wdm\\drivers\\chromedriver\\win32\\95.0.4638.17\\chromedriver.exe] found in cache\n"
     ]
    },
    {
     "name": "stdout",
     "output_type": "stream",
     "text": [
      "강남구  DINING 업종 의 가게 정보 스크래핑을 시작합니다.\n",
      "6863개의 가게코드가 있습니다.\n",
      "15가 이전에 완료 되었었습니다. 이어서 진행합니다.\n",
      "15#16#17#강남구 DINING 가게 18개 중간저장\n",
      "26.250889778137207 소요\n",
      "18#19!!19#"
     ]
    },
    {
     "name": "stderr",
     "output_type": "stream",
     "text": [
      "[WDM] - \n",
      "\n",
      "[WDM] - ====== WebDriver manager ======\n",
      "[WDM] - Current google-chrome version is 95.0.4638\n",
      "[WDM] - Get LATEST driver version for 95.0.4638\n",
      "[WDM] - Driver [C:\\Users\\bigne\\.wdm\\drivers\\chromedriver\\win32\\95.0.4638.17\\chromedriver.exe] found in cache\n"
     ]
    },
    {
     "name": "stdout",
     "output_type": "stream",
     "text": [
      "20!!강남구 DINING 가게 20개 완료\n",
      "43.11222553253174 소요\n",
      "강동구 DINING이 없습니다. \n",
      "강북구 DINING이 없습니다. \n",
      "강서구 DINING이 없습니다. \n",
      "관악구 DINING이 없습니다. \n",
      "광진구 DINING이 없습니다. \n",
      "구로구 DINING이 없습니다. \n",
      "금천구 DINING이 없습니다. \n",
      "노원구 DINING이 없습니다. \n",
      "도봉구 DINING이 없습니다. \n",
      "동대문구 DINING이 없습니다. \n",
      "동작구 DINING이 없습니다. \n",
      "마포구 DINING이 없습니다. \n",
      "서대문구 DINING이 없습니다. \n",
      "서초구 DINING이 없습니다. \n",
      "성동구 DINING이 없습니다. \n",
      "성북구 DINING이 없습니다. \n",
      "송파구 DINING이 없습니다. \n",
      "양천구 DINING이 없습니다. \n",
      "영등포구 DINING이 없습니다. \n",
      "용산구 DINING이 없습니다. \n",
      "은평구  DINING 업종 의 가게 정보 스크래핑을 시작합니다.\n",
      "3261개의 가게코드가 있습니다.\n",
      "0가 이전에 완료 되었었습니다. 이어서 진행합니다.\n",
      "0#"
     ]
    },
    {
     "ename": "KeyboardInterrupt",
     "evalue": "",
     "output_type": "error",
     "traceback": [
      "\u001b[1;31m-------------------------------------------------------------------------\u001b[0m",
      "\u001b[1;31mKeyboardInterrupt\u001b[0m                       Traceback (most recent call last)",
      "\u001b[1;32mC:\\Users\\Public\\Documents\\ESTsoft\\CreatorTemp/ipykernel_24352/3230784219.py\u001b[0m in \u001b[0;36m<module>\u001b[1;34m\u001b[0m\n\u001b[0;32m      5\u001b[0m     \u001b[1;32mif\u001b[0m \u001b[0mcheck_file\u001b[0m\u001b[1;33m(\u001b[0m\u001b[0mcode_path\u001b[0m\u001b[1;33m,\u001b[0m \u001b[0mcode_file\u001b[0m\u001b[1;33m)\u001b[0m\u001b[1;33m:\u001b[0m\u001b[1;33m\u001b[0m\u001b[1;33m\u001b[0m\u001b[0m\n\u001b[0;32m      6\u001b[0m         \u001b[0mstore_file\u001b[0m \u001b[1;33m=\u001b[0m \u001b[1;34m'가게정보_'\u001b[0m \u001b[1;33m+\u001b[0m \u001b[0m구이름\u001b[0m \u001b[1;33m+\u001b[0m  \u001b[1;34m'_'\u001b[0m\u001b[1;33m+\u001b[0m \u001b[0m업종\u001b[0m \u001b[1;33m+\u001b[0m \u001b[1;34m'.csv'\u001b[0m\u001b[1;33m\u001b[0m\u001b[1;33m\u001b[0m\u001b[0m\n\u001b[1;32m----> 7\u001b[1;33m         \u001b[0mnaver_map_store_scrapping\u001b[0m\u001b[1;33m(\u001b[0m \u001b[0m구이름\u001b[0m\u001b[1;33m,\u001b[0m \u001b[0m업종\u001b[0m\u001b[1;33m,\u001b[0m \u001b[0mslow\u001b[0m\u001b[1;33m=\u001b[0m \u001b[1;36m1\u001b[0m\u001b[1;33m)\u001b[0m\u001b[1;33m\u001b[0m\u001b[1;33m\u001b[0m\u001b[0m\n\u001b[0m\u001b[0;32m      8\u001b[0m     \u001b[1;32melse\u001b[0m\u001b[1;33m:\u001b[0m\u001b[1;33m\u001b[0m\u001b[1;33m\u001b[0m\u001b[0m\n\u001b[0;32m      9\u001b[0m         \u001b[0mprint\u001b[0m\u001b[1;33m(\u001b[0m\u001b[1;34mf'{구이름} {업종}이 없습니다. '\u001b[0m\u001b[1;33m)\u001b[0m\u001b[1;33m\u001b[0m\u001b[1;33m\u001b[0m\u001b[0m\n",
      "\u001b[1;32mC:\\Users\\Public\\Documents\\ESTsoft\\CreatorTemp/ipykernel_24352/2876877652.py\u001b[0m in \u001b[0;36mnaver_map_store_scrapping\u001b[1;34m(구이름, 업종, slow)\u001b[0m\n\u001b[0;32m     42\u001b[0m         \u001b[0mplace_url\u001b[0m \u001b[1;33m=\u001b[0m \u001b[1;34m'https://pcmap.place.naver.com/restaurant/'\u001b[0m\u001b[1;33m+\u001b[0m\u001b[0mstr\u001b[0m\u001b[1;33m(\u001b[0m\u001b[0mcode_no\u001b[0m\u001b[1;33m)\u001b[0m\u001b[1;33m\u001b[0m\u001b[1;33m\u001b[0m\u001b[0m\n\u001b[0;32m     43\u001b[0m \u001b[1;33m\u001b[0m\u001b[0m\n\u001b[1;32m---> 44\u001b[1;33m         \u001b[0mwd\u001b[0m\u001b[1;33m.\u001b[0m\u001b[0mget\u001b[0m\u001b[1;33m(\u001b[0m\u001b[0mplace_url\u001b[0m\u001b[1;33m)\u001b[0m\u001b[1;33m\u001b[0m\u001b[1;33m\u001b[0m\u001b[0m\n\u001b[0m\u001b[0;32m     45\u001b[0m         \u001b[0mtime\u001b[0m\u001b[1;33m.\u001b[0m\u001b[0msleep\u001b[0m\u001b[1;33m(\u001b[0m\u001b[1;36m1\u001b[0m\u001b[1;33m*\u001b[0m\u001b[0mslow\u001b[0m\u001b[1;33m)\u001b[0m\u001b[1;33m\u001b[0m\u001b[1;33m\u001b[0m\u001b[0m\n\u001b[0;32m     46\u001b[0m         \u001b[0mscroll_down\u001b[0m\u001b[1;33m(\u001b[0m\u001b[0mwd\u001b[0m\u001b[1;33m,\u001b[0m\u001b[1;36m0.5\u001b[0m\u001b[1;33m)\u001b[0m\u001b[1;33m\u001b[0m\u001b[1;33m\u001b[0m\u001b[0m\n",
      "\u001b[1;32m~\\anaconda3\\lib\\site-packages\\selenium\\webdriver\\remote\\webdriver.py\u001b[0m in \u001b[0;36mget\u001b[1;34m(self, url)\u001b[0m\n\u001b[0;32m    331\u001b[0m         \u001b[0mLoads\u001b[0m \u001b[0ma\u001b[0m \u001b[0mweb\u001b[0m \u001b[0mpage\u001b[0m \u001b[1;32min\u001b[0m \u001b[0mthe\u001b[0m \u001b[0mcurrent\u001b[0m \u001b[0mbrowser\u001b[0m \u001b[0msession\u001b[0m\u001b[1;33m.\u001b[0m\u001b[1;33m\u001b[0m\u001b[1;33m\u001b[0m\u001b[0m\n\u001b[0;32m    332\u001b[0m         \"\"\"\n\u001b[1;32m--> 333\u001b[1;33m         \u001b[0mself\u001b[0m\u001b[1;33m.\u001b[0m\u001b[0mexecute\u001b[0m\u001b[1;33m(\u001b[0m\u001b[0mCommand\u001b[0m\u001b[1;33m.\u001b[0m\u001b[0mGET\u001b[0m\u001b[1;33m,\u001b[0m \u001b[1;33m{\u001b[0m\u001b[1;34m'url'\u001b[0m\u001b[1;33m:\u001b[0m \u001b[0murl\u001b[0m\u001b[1;33m}\u001b[0m\u001b[1;33m)\u001b[0m\u001b[1;33m\u001b[0m\u001b[1;33m\u001b[0m\u001b[0m\n\u001b[0m\u001b[0;32m    334\u001b[0m \u001b[1;33m\u001b[0m\u001b[0m\n\u001b[0;32m    335\u001b[0m     \u001b[1;33m@\u001b[0m\u001b[0mproperty\u001b[0m\u001b[1;33m\u001b[0m\u001b[1;33m\u001b[0m\u001b[0m\n",
      "\u001b[1;32m~\\anaconda3\\lib\\site-packages\\selenium\\webdriver\\remote\\webdriver.py\u001b[0m in \u001b[0;36mexecute\u001b[1;34m(self, driver_command, params)\u001b[0m\n\u001b[0;32m    317\u001b[0m \u001b[1;33m\u001b[0m\u001b[0m\n\u001b[0;32m    318\u001b[0m         \u001b[0mparams\u001b[0m \u001b[1;33m=\u001b[0m \u001b[0mself\u001b[0m\u001b[1;33m.\u001b[0m\u001b[0m_wrap_value\u001b[0m\u001b[1;33m(\u001b[0m\u001b[0mparams\u001b[0m\u001b[1;33m)\u001b[0m\u001b[1;33m\u001b[0m\u001b[1;33m\u001b[0m\u001b[0m\n\u001b[1;32m--> 319\u001b[1;33m         \u001b[0mresponse\u001b[0m \u001b[1;33m=\u001b[0m \u001b[0mself\u001b[0m\u001b[1;33m.\u001b[0m\u001b[0mcommand_executor\u001b[0m\u001b[1;33m.\u001b[0m\u001b[0mexecute\u001b[0m\u001b[1;33m(\u001b[0m\u001b[0mdriver_command\u001b[0m\u001b[1;33m,\u001b[0m \u001b[0mparams\u001b[0m\u001b[1;33m)\u001b[0m\u001b[1;33m\u001b[0m\u001b[1;33m\u001b[0m\u001b[0m\n\u001b[0m\u001b[0;32m    320\u001b[0m         \u001b[1;32mif\u001b[0m \u001b[0mresponse\u001b[0m\u001b[1;33m:\u001b[0m\u001b[1;33m\u001b[0m\u001b[1;33m\u001b[0m\u001b[0m\n\u001b[0;32m    321\u001b[0m             \u001b[0mself\u001b[0m\u001b[1;33m.\u001b[0m\u001b[0merror_handler\u001b[0m\u001b[1;33m.\u001b[0m\u001b[0mcheck_response\u001b[0m\u001b[1;33m(\u001b[0m\u001b[0mresponse\u001b[0m\u001b[1;33m)\u001b[0m\u001b[1;33m\u001b[0m\u001b[1;33m\u001b[0m\u001b[0m\n",
      "\u001b[1;32m~\\anaconda3\\lib\\site-packages\\selenium\\webdriver\\remote\\remote_connection.py\u001b[0m in \u001b[0;36mexecute\u001b[1;34m(self, command, params)\u001b[0m\n\u001b[0;32m    372\u001b[0m         \u001b[0mdata\u001b[0m \u001b[1;33m=\u001b[0m \u001b[0mutils\u001b[0m\u001b[1;33m.\u001b[0m\u001b[0mdump_json\u001b[0m\u001b[1;33m(\u001b[0m\u001b[0mparams\u001b[0m\u001b[1;33m)\u001b[0m\u001b[1;33m\u001b[0m\u001b[1;33m\u001b[0m\u001b[0m\n\u001b[0;32m    373\u001b[0m         \u001b[0murl\u001b[0m \u001b[1;33m=\u001b[0m \u001b[1;34m'%s%s'\u001b[0m \u001b[1;33m%\u001b[0m \u001b[1;33m(\u001b[0m\u001b[0mself\u001b[0m\u001b[1;33m.\u001b[0m\u001b[0m_url\u001b[0m\u001b[1;33m,\u001b[0m \u001b[0mpath\u001b[0m\u001b[1;33m)\u001b[0m\u001b[1;33m\u001b[0m\u001b[1;33m\u001b[0m\u001b[0m\n\u001b[1;32m--> 374\u001b[1;33m         \u001b[1;32mreturn\u001b[0m \u001b[0mself\u001b[0m\u001b[1;33m.\u001b[0m\u001b[0m_request\u001b[0m\u001b[1;33m(\u001b[0m\u001b[0mcommand_info\u001b[0m\u001b[1;33m[\u001b[0m\u001b[1;36m0\u001b[0m\u001b[1;33m]\u001b[0m\u001b[1;33m,\u001b[0m \u001b[0murl\u001b[0m\u001b[1;33m,\u001b[0m \u001b[0mbody\u001b[0m\u001b[1;33m=\u001b[0m\u001b[0mdata\u001b[0m\u001b[1;33m)\u001b[0m\u001b[1;33m\u001b[0m\u001b[1;33m\u001b[0m\u001b[0m\n\u001b[0m\u001b[0;32m    375\u001b[0m \u001b[1;33m\u001b[0m\u001b[0m\n\u001b[0;32m    376\u001b[0m     \u001b[1;32mdef\u001b[0m \u001b[0m_request\u001b[0m\u001b[1;33m(\u001b[0m\u001b[0mself\u001b[0m\u001b[1;33m,\u001b[0m \u001b[0mmethod\u001b[0m\u001b[1;33m,\u001b[0m \u001b[0murl\u001b[0m\u001b[1;33m,\u001b[0m \u001b[0mbody\u001b[0m\u001b[1;33m=\u001b[0m\u001b[1;32mNone\u001b[0m\u001b[1;33m)\u001b[0m\u001b[1;33m:\u001b[0m\u001b[1;33m\u001b[0m\u001b[1;33m\u001b[0m\u001b[0m\n",
      "\u001b[1;32m~\\anaconda3\\lib\\site-packages\\selenium\\webdriver\\remote\\remote_connection.py\u001b[0m in \u001b[0;36m_request\u001b[1;34m(self, method, url, body)\u001b[0m\n\u001b[0;32m    395\u001b[0m \u001b[1;33m\u001b[0m\u001b[0m\n\u001b[0;32m    396\u001b[0m         \u001b[1;32mif\u001b[0m \u001b[0mself\u001b[0m\u001b[1;33m.\u001b[0m\u001b[0mkeep_alive\u001b[0m\u001b[1;33m:\u001b[0m\u001b[1;33m\u001b[0m\u001b[1;33m\u001b[0m\u001b[0m\n\u001b[1;32m--> 397\u001b[1;33m             \u001b[0mresp\u001b[0m \u001b[1;33m=\u001b[0m \u001b[0mself\u001b[0m\u001b[1;33m.\u001b[0m\u001b[0m_conn\u001b[0m\u001b[1;33m.\u001b[0m\u001b[0mrequest\u001b[0m\u001b[1;33m(\u001b[0m\u001b[0mmethod\u001b[0m\u001b[1;33m,\u001b[0m \u001b[0murl\u001b[0m\u001b[1;33m,\u001b[0m \u001b[0mbody\u001b[0m\u001b[1;33m=\u001b[0m\u001b[0mbody\u001b[0m\u001b[1;33m,\u001b[0m \u001b[0mheaders\u001b[0m\u001b[1;33m=\u001b[0m\u001b[0mheaders\u001b[0m\u001b[1;33m)\u001b[0m\u001b[1;33m\u001b[0m\u001b[1;33m\u001b[0m\u001b[0m\n\u001b[0m\u001b[0;32m    398\u001b[0m \u001b[1;33m\u001b[0m\u001b[0m\n\u001b[0;32m    399\u001b[0m             \u001b[0mstatuscode\u001b[0m \u001b[1;33m=\u001b[0m \u001b[0mresp\u001b[0m\u001b[1;33m.\u001b[0m\u001b[0mstatus\u001b[0m\u001b[1;33m\u001b[0m\u001b[1;33m\u001b[0m\u001b[0m\n",
      "\u001b[1;32m~\\anaconda3\\lib\\site-packages\\urllib3\\request.py\u001b[0m in \u001b[0;36mrequest\u001b[1;34m(self, method, url, fields, headers, **urlopen_kw)\u001b[0m\n\u001b[0;32m     76\u001b[0m             )\n\u001b[0;32m     77\u001b[0m         \u001b[1;32melse\u001b[0m\u001b[1;33m:\u001b[0m\u001b[1;33m\u001b[0m\u001b[1;33m\u001b[0m\u001b[0m\n\u001b[1;32m---> 78\u001b[1;33m             return self.request_encode_body(\n\u001b[0m\u001b[0;32m     79\u001b[0m                 \u001b[0mmethod\u001b[0m\u001b[1;33m,\u001b[0m \u001b[0murl\u001b[0m\u001b[1;33m,\u001b[0m \u001b[0mfields\u001b[0m\u001b[1;33m=\u001b[0m\u001b[0mfields\u001b[0m\u001b[1;33m,\u001b[0m \u001b[0mheaders\u001b[0m\u001b[1;33m=\u001b[0m\u001b[0mheaders\u001b[0m\u001b[1;33m,\u001b[0m \u001b[1;33m**\u001b[0m\u001b[0murlopen_kw\u001b[0m\u001b[1;33m\u001b[0m\u001b[1;33m\u001b[0m\u001b[0m\n\u001b[0;32m     80\u001b[0m             )\n",
      "\u001b[1;32m~\\anaconda3\\lib\\site-packages\\urllib3\\request.py\u001b[0m in \u001b[0;36mrequest_encode_body\u001b[1;34m(self, method, url, fields, headers, encode_multipart, multipart_boundary, **urlopen_kw)\u001b[0m\n\u001b[0;32m    168\u001b[0m         \u001b[0mextra_kw\u001b[0m\u001b[1;33m.\u001b[0m\u001b[0mupdate\u001b[0m\u001b[1;33m(\u001b[0m\u001b[0murlopen_kw\u001b[0m\u001b[1;33m)\u001b[0m\u001b[1;33m\u001b[0m\u001b[1;33m\u001b[0m\u001b[0m\n\u001b[0;32m    169\u001b[0m \u001b[1;33m\u001b[0m\u001b[0m\n\u001b[1;32m--> 170\u001b[1;33m         \u001b[1;32mreturn\u001b[0m \u001b[0mself\u001b[0m\u001b[1;33m.\u001b[0m\u001b[0murlopen\u001b[0m\u001b[1;33m(\u001b[0m\u001b[0mmethod\u001b[0m\u001b[1;33m,\u001b[0m \u001b[0murl\u001b[0m\u001b[1;33m,\u001b[0m \u001b[1;33m**\u001b[0m\u001b[0mextra_kw\u001b[0m\u001b[1;33m)\u001b[0m\u001b[1;33m\u001b[0m\u001b[1;33m\u001b[0m\u001b[0m\n\u001b[0m",
      "\u001b[1;32m~\\anaconda3\\lib\\site-packages\\urllib3\\poolmanager.py\u001b[0m in \u001b[0;36murlopen\u001b[1;34m(self, method, url, redirect, **kw)\u001b[0m\n\u001b[0;32m    373\u001b[0m             \u001b[0mresponse\u001b[0m \u001b[1;33m=\u001b[0m \u001b[0mconn\u001b[0m\u001b[1;33m.\u001b[0m\u001b[0murlopen\u001b[0m\u001b[1;33m(\u001b[0m\u001b[0mmethod\u001b[0m\u001b[1;33m,\u001b[0m \u001b[0murl\u001b[0m\u001b[1;33m,\u001b[0m \u001b[1;33m**\u001b[0m\u001b[0mkw\u001b[0m\u001b[1;33m)\u001b[0m\u001b[1;33m\u001b[0m\u001b[1;33m\u001b[0m\u001b[0m\n\u001b[0;32m    374\u001b[0m         \u001b[1;32melse\u001b[0m\u001b[1;33m:\u001b[0m\u001b[1;33m\u001b[0m\u001b[1;33m\u001b[0m\u001b[0m\n\u001b[1;32m--> 375\u001b[1;33m             \u001b[0mresponse\u001b[0m \u001b[1;33m=\u001b[0m \u001b[0mconn\u001b[0m\u001b[1;33m.\u001b[0m\u001b[0murlopen\u001b[0m\u001b[1;33m(\u001b[0m\u001b[0mmethod\u001b[0m\u001b[1;33m,\u001b[0m \u001b[0mu\u001b[0m\u001b[1;33m.\u001b[0m\u001b[0mrequest_uri\u001b[0m\u001b[1;33m,\u001b[0m \u001b[1;33m**\u001b[0m\u001b[0mkw\u001b[0m\u001b[1;33m)\u001b[0m\u001b[1;33m\u001b[0m\u001b[1;33m\u001b[0m\u001b[0m\n\u001b[0m\u001b[0;32m    376\u001b[0m \u001b[1;33m\u001b[0m\u001b[0m\n\u001b[0;32m    377\u001b[0m         \u001b[0mredirect_location\u001b[0m \u001b[1;33m=\u001b[0m \u001b[0mredirect\u001b[0m \u001b[1;32mand\u001b[0m \u001b[0mresponse\u001b[0m\u001b[1;33m.\u001b[0m\u001b[0mget_redirect_location\u001b[0m\u001b[1;33m(\u001b[0m\u001b[1;33m)\u001b[0m\u001b[1;33m\u001b[0m\u001b[1;33m\u001b[0m\u001b[0m\n",
      "\u001b[1;32m~\\anaconda3\\lib\\site-packages\\urllib3\\connectionpool.py\u001b[0m in \u001b[0;36murlopen\u001b[1;34m(self, method, url, body, headers, retries, redirect, assert_same_host, timeout, pool_timeout, release_conn, chunked, body_pos, **response_kw)\u001b[0m\n\u001b[0;32m    697\u001b[0m \u001b[1;33m\u001b[0m\u001b[0m\n\u001b[0;32m    698\u001b[0m             \u001b[1;31m# Make the request on the httplib connection object.\u001b[0m\u001b[1;33m\u001b[0m\u001b[1;33m\u001b[0m\u001b[1;33m\u001b[0m\u001b[0m\n\u001b[1;32m--> 699\u001b[1;33m             httplib_response = self._make_request(\n\u001b[0m\u001b[0;32m    700\u001b[0m                 \u001b[0mconn\u001b[0m\u001b[1;33m,\u001b[0m\u001b[1;33m\u001b[0m\u001b[1;33m\u001b[0m\u001b[0m\n\u001b[0;32m    701\u001b[0m                 \u001b[0mmethod\u001b[0m\u001b[1;33m,\u001b[0m\u001b[1;33m\u001b[0m\u001b[1;33m\u001b[0m\u001b[0m\n",
      "\u001b[1;32m~\\anaconda3\\lib\\site-packages\\urllib3\\connectionpool.py\u001b[0m in \u001b[0;36m_make_request\u001b[1;34m(self, conn, method, url, timeout, chunked, **httplib_request_kw)\u001b[0m\n\u001b[0;32m    443\u001b[0m                     \u001b[1;31m# Python 3 (including for exceptions like SystemExit).\u001b[0m\u001b[1;33m\u001b[0m\u001b[1;33m\u001b[0m\u001b[1;33m\u001b[0m\u001b[0m\n\u001b[0;32m    444\u001b[0m                     \u001b[1;31m# Otherwise it looks like a bug in the code.\u001b[0m\u001b[1;33m\u001b[0m\u001b[1;33m\u001b[0m\u001b[1;33m\u001b[0m\u001b[0m\n\u001b[1;32m--> 445\u001b[1;33m                     \u001b[0msix\u001b[0m\u001b[1;33m.\u001b[0m\u001b[0mraise_from\u001b[0m\u001b[1;33m(\u001b[0m\u001b[0me\u001b[0m\u001b[1;33m,\u001b[0m \u001b[1;32mNone\u001b[0m\u001b[1;33m)\u001b[0m\u001b[1;33m\u001b[0m\u001b[1;33m\u001b[0m\u001b[0m\n\u001b[0m\u001b[0;32m    446\u001b[0m         \u001b[1;32mexcept\u001b[0m \u001b[1;33m(\u001b[0m\u001b[0mSocketTimeout\u001b[0m\u001b[1;33m,\u001b[0m \u001b[0mBaseSSLError\u001b[0m\u001b[1;33m,\u001b[0m \u001b[0mSocketError\u001b[0m\u001b[1;33m)\u001b[0m \u001b[1;32mas\u001b[0m \u001b[0me\u001b[0m\u001b[1;33m:\u001b[0m\u001b[1;33m\u001b[0m\u001b[1;33m\u001b[0m\u001b[0m\n\u001b[0;32m    447\u001b[0m             \u001b[0mself\u001b[0m\u001b[1;33m.\u001b[0m\u001b[0m_raise_timeout\u001b[0m\u001b[1;33m(\u001b[0m\u001b[0merr\u001b[0m\u001b[1;33m=\u001b[0m\u001b[0me\u001b[0m\u001b[1;33m,\u001b[0m \u001b[0murl\u001b[0m\u001b[1;33m=\u001b[0m\u001b[0murl\u001b[0m\u001b[1;33m,\u001b[0m \u001b[0mtimeout_value\u001b[0m\u001b[1;33m=\u001b[0m\u001b[0mread_timeout\u001b[0m\u001b[1;33m)\u001b[0m\u001b[1;33m\u001b[0m\u001b[1;33m\u001b[0m\u001b[0m\n",
      "\u001b[1;32m~\\anaconda3\\lib\\site-packages\\urllib3\\packages\\six.py\u001b[0m in \u001b[0;36mraise_from\u001b[1;34m(value, from_value)\u001b[0m\n",
      "\u001b[1;32m~\\anaconda3\\lib\\site-packages\\urllib3\\connectionpool.py\u001b[0m in \u001b[0;36m_make_request\u001b[1;34m(self, conn, method, url, timeout, chunked, **httplib_request_kw)\u001b[0m\n\u001b[0;32m    438\u001b[0m                 \u001b[1;31m# Python 3\u001b[0m\u001b[1;33m\u001b[0m\u001b[1;33m\u001b[0m\u001b[1;33m\u001b[0m\u001b[0m\n\u001b[0;32m    439\u001b[0m                 \u001b[1;32mtry\u001b[0m\u001b[1;33m:\u001b[0m\u001b[1;33m\u001b[0m\u001b[1;33m\u001b[0m\u001b[0m\n\u001b[1;32m--> 440\u001b[1;33m                     \u001b[0mhttplib_response\u001b[0m \u001b[1;33m=\u001b[0m \u001b[0mconn\u001b[0m\u001b[1;33m.\u001b[0m\u001b[0mgetresponse\u001b[0m\u001b[1;33m(\u001b[0m\u001b[1;33m)\u001b[0m\u001b[1;33m\u001b[0m\u001b[1;33m\u001b[0m\u001b[0m\n\u001b[0m\u001b[0;32m    441\u001b[0m                 \u001b[1;32mexcept\u001b[0m \u001b[0mBaseException\u001b[0m \u001b[1;32mas\u001b[0m \u001b[0me\u001b[0m\u001b[1;33m:\u001b[0m\u001b[1;33m\u001b[0m\u001b[1;33m\u001b[0m\u001b[0m\n\u001b[0;32m    442\u001b[0m                     \u001b[1;31m# Remove the TypeError from the exception chain in\u001b[0m\u001b[1;33m\u001b[0m\u001b[1;33m\u001b[0m\u001b[1;33m\u001b[0m\u001b[0m\n",
      "\u001b[1;32m~\\anaconda3\\lib\\http\\client.py\u001b[0m in \u001b[0;36mgetresponse\u001b[1;34m(self)\u001b[0m\n\u001b[0;32m   1346\u001b[0m         \u001b[1;32mtry\u001b[0m\u001b[1;33m:\u001b[0m\u001b[1;33m\u001b[0m\u001b[1;33m\u001b[0m\u001b[0m\n\u001b[0;32m   1347\u001b[0m             \u001b[1;32mtry\u001b[0m\u001b[1;33m:\u001b[0m\u001b[1;33m\u001b[0m\u001b[1;33m\u001b[0m\u001b[0m\n\u001b[1;32m-> 1348\u001b[1;33m                 \u001b[0mresponse\u001b[0m\u001b[1;33m.\u001b[0m\u001b[0mbegin\u001b[0m\u001b[1;33m(\u001b[0m\u001b[1;33m)\u001b[0m\u001b[1;33m\u001b[0m\u001b[1;33m\u001b[0m\u001b[0m\n\u001b[0m\u001b[0;32m   1349\u001b[0m             \u001b[1;32mexcept\u001b[0m \u001b[0mConnectionError\u001b[0m\u001b[1;33m:\u001b[0m\u001b[1;33m\u001b[0m\u001b[1;33m\u001b[0m\u001b[0m\n\u001b[0;32m   1350\u001b[0m                 \u001b[0mself\u001b[0m\u001b[1;33m.\u001b[0m\u001b[0mclose\u001b[0m\u001b[1;33m(\u001b[0m\u001b[1;33m)\u001b[0m\u001b[1;33m\u001b[0m\u001b[1;33m\u001b[0m\u001b[0m\n",
      "\u001b[1;32m~\\anaconda3\\lib\\http\\client.py\u001b[0m in \u001b[0;36mbegin\u001b[1;34m(self)\u001b[0m\n\u001b[0;32m    314\u001b[0m         \u001b[1;31m# read until we get a non-100 response\u001b[0m\u001b[1;33m\u001b[0m\u001b[1;33m\u001b[0m\u001b[1;33m\u001b[0m\u001b[0m\n\u001b[0;32m    315\u001b[0m         \u001b[1;32mwhile\u001b[0m \u001b[1;32mTrue\u001b[0m\u001b[1;33m:\u001b[0m\u001b[1;33m\u001b[0m\u001b[1;33m\u001b[0m\u001b[0m\n\u001b[1;32m--> 316\u001b[1;33m             \u001b[0mversion\u001b[0m\u001b[1;33m,\u001b[0m \u001b[0mstatus\u001b[0m\u001b[1;33m,\u001b[0m \u001b[0mreason\u001b[0m \u001b[1;33m=\u001b[0m \u001b[0mself\u001b[0m\u001b[1;33m.\u001b[0m\u001b[0m_read_status\u001b[0m\u001b[1;33m(\u001b[0m\u001b[1;33m)\u001b[0m\u001b[1;33m\u001b[0m\u001b[1;33m\u001b[0m\u001b[0m\n\u001b[0m\u001b[0;32m    317\u001b[0m             \u001b[1;32mif\u001b[0m \u001b[0mstatus\u001b[0m \u001b[1;33m!=\u001b[0m \u001b[0mCONTINUE\u001b[0m\u001b[1;33m:\u001b[0m\u001b[1;33m\u001b[0m\u001b[1;33m\u001b[0m\u001b[0m\n\u001b[0;32m    318\u001b[0m                 \u001b[1;32mbreak\u001b[0m\u001b[1;33m\u001b[0m\u001b[1;33m\u001b[0m\u001b[0m\n",
      "\u001b[1;32m~\\anaconda3\\lib\\http\\client.py\u001b[0m in \u001b[0;36m_read_status\u001b[1;34m(self)\u001b[0m\n\u001b[0;32m    275\u001b[0m \u001b[1;33m\u001b[0m\u001b[0m\n\u001b[0;32m    276\u001b[0m     \u001b[1;32mdef\u001b[0m \u001b[0m_read_status\u001b[0m\u001b[1;33m(\u001b[0m\u001b[0mself\u001b[0m\u001b[1;33m)\u001b[0m\u001b[1;33m:\u001b[0m\u001b[1;33m\u001b[0m\u001b[1;33m\u001b[0m\u001b[0m\n\u001b[1;32m--> 277\u001b[1;33m         \u001b[0mline\u001b[0m \u001b[1;33m=\u001b[0m \u001b[0mstr\u001b[0m\u001b[1;33m(\u001b[0m\u001b[0mself\u001b[0m\u001b[1;33m.\u001b[0m\u001b[0mfp\u001b[0m\u001b[1;33m.\u001b[0m\u001b[0mreadline\u001b[0m\u001b[1;33m(\u001b[0m\u001b[0m_MAXLINE\u001b[0m \u001b[1;33m+\u001b[0m \u001b[1;36m1\u001b[0m\u001b[1;33m)\u001b[0m\u001b[1;33m,\u001b[0m \u001b[1;34m\"iso-8859-1\"\u001b[0m\u001b[1;33m)\u001b[0m\u001b[1;33m\u001b[0m\u001b[1;33m\u001b[0m\u001b[0m\n\u001b[0m\u001b[0;32m    278\u001b[0m         \u001b[1;32mif\u001b[0m \u001b[0mlen\u001b[0m\u001b[1;33m(\u001b[0m\u001b[0mline\u001b[0m\u001b[1;33m)\u001b[0m \u001b[1;33m>\u001b[0m \u001b[0m_MAXLINE\u001b[0m\u001b[1;33m:\u001b[0m\u001b[1;33m\u001b[0m\u001b[1;33m\u001b[0m\u001b[0m\n\u001b[0;32m    279\u001b[0m             \u001b[1;32mraise\u001b[0m \u001b[0mLineTooLong\u001b[0m\u001b[1;33m(\u001b[0m\u001b[1;34m\"status line\"\u001b[0m\u001b[1;33m)\u001b[0m\u001b[1;33m\u001b[0m\u001b[1;33m\u001b[0m\u001b[0m\n",
      "\u001b[1;32m~\\anaconda3\\lib\\socket.py\u001b[0m in \u001b[0;36mreadinto\u001b[1;34m(self, b)\u001b[0m\n\u001b[0;32m    667\u001b[0m         \u001b[1;32mwhile\u001b[0m \u001b[1;32mTrue\u001b[0m\u001b[1;33m:\u001b[0m\u001b[1;33m\u001b[0m\u001b[1;33m\u001b[0m\u001b[0m\n\u001b[0;32m    668\u001b[0m             \u001b[1;32mtry\u001b[0m\u001b[1;33m:\u001b[0m\u001b[1;33m\u001b[0m\u001b[1;33m\u001b[0m\u001b[0m\n\u001b[1;32m--> 669\u001b[1;33m                 \u001b[1;32mreturn\u001b[0m \u001b[0mself\u001b[0m\u001b[1;33m.\u001b[0m\u001b[0m_sock\u001b[0m\u001b[1;33m.\u001b[0m\u001b[0mrecv_into\u001b[0m\u001b[1;33m(\u001b[0m\u001b[0mb\u001b[0m\u001b[1;33m)\u001b[0m\u001b[1;33m\u001b[0m\u001b[1;33m\u001b[0m\u001b[0m\n\u001b[0m\u001b[0;32m    670\u001b[0m             \u001b[1;32mexcept\u001b[0m \u001b[0mtimeout\u001b[0m\u001b[1;33m:\u001b[0m\u001b[1;33m\u001b[0m\u001b[1;33m\u001b[0m\u001b[0m\n\u001b[0;32m    671\u001b[0m                 \u001b[0mself\u001b[0m\u001b[1;33m.\u001b[0m\u001b[0m_timeout_occurred\u001b[0m \u001b[1;33m=\u001b[0m \u001b[1;32mTrue\u001b[0m\u001b[1;33m\u001b[0m\u001b[1;33m\u001b[0m\u001b[0m\n",
      "\u001b[1;31mKeyboardInterrupt\u001b[0m: "
     ]
    }
   ],
   "source": [
    "업종= 'DINING'\n",
    "\n",
    "for 구이름 in sorted(dong_dict.keys()):\n",
    "    code_file = '가게코드_' + 구이름 + '_'+ 업종 + '.csv'\n",
    "    if check_file(code_path, code_file):\n",
    "        store_file = '가게정보_' + 구이름 +  '_'+ 업종 + '.csv'\n",
    "        naver_map_store_scrapping( 구이름, 업종, slow= 1)\n",
    "    else:\n",
    "        print(f'{구이름} {업종}이 없습니다. ')"
   ]
  },
  {
   "cell_type": "code",
   "execution_count": 23,
   "id": "ce76d232",
   "metadata": {
    "ExecuteTime": {
     "end_time": "2021-10-24T14:58:07.940612Z",
     "start_time": "2021-10-24T14:58:07.922793Z"
    }
   },
   "outputs": [],
   "source": [
    "df = pd.read_csv('data/가게/가게정보_강남구_DINING.csv')"
   ]
  },
  {
   "cell_type": "code",
   "execution_count": 24,
   "id": "99fd266b",
   "metadata": {
    "ExecuteTime": {
     "end_time": "2021-10-24T14:58:08.661589Z",
     "start_time": "2021-10-24T14:58:08.652582Z"
    }
   },
   "outputs": [
    {
     "data": {
      "text/plain": [
       "(20, 13)"
      ]
     },
     "execution_count": 24,
     "metadata": {},
     "output_type": "execute_result"
    }
   ],
   "source": [
    "df.shape"
   ]
  },
  {
   "cell_type": "code",
   "execution_count": null,
   "id": "c374e687",
   "metadata": {},
   "outputs": [],
   "source": []
  },
  {
   "cell_type": "code",
   "execution_count": null,
   "id": "1ec3b628",
   "metadata": {},
   "outputs": [],
   "source": []
  }
 ],
 "metadata": {
  "kernelspec": {
   "display_name": "Python 3 (ipykernel)",
   "language": "python",
   "name": "python3"
  },
  "language_info": {
   "codemirror_mode": {
    "name": "ipython",
    "version": 3
   },
   "file_extension": ".py",
   "mimetype": "text/x-python",
   "name": "python",
   "nbconvert_exporter": "python",
   "pygments_lexer": "ipython3",
   "version": "3.8.11"
  },
  "toc": {
   "base_numbering": 1,
   "nav_menu": {},
   "number_sections": true,
   "sideBar": true,
   "skip_h1_title": false,
   "title_cell": "Table of Contents",
   "title_sidebar": "Contents",
   "toc_cell": false,
   "toc_position": {
    "height": "calc(100% - 180px)",
    "left": "10px",
    "top": "150px",
    "width": "322.792px"
   },
   "toc_section_display": true,
   "toc_window_display": false
  }
 },
 "nbformat": 4,
 "nbformat_minor": 5
}
