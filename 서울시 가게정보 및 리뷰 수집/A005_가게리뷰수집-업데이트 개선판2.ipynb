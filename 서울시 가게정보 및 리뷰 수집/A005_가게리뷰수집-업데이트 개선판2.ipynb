{
 "cells": [
  {
   "cell_type": "markdown",
   "metadata": {},
   "source": [
    "<a href='https://github.com/SeWonKwon' ><div> <img src ='https://slid-capture.s3.ap-northeast-2.amazonaws.com/public/image_upload/6556674324ed41a289a354258718280d/964e5a8b-75ad-41fc-ae75-0ca66d06fbc7.png' align='left' /> </div></a>\n"
   ]
  },
  {
   "cell_type": "markdown",
   "metadata": {},
   "source": [
    "1. 네이버 자료\n",
    "\n",
    "2. 네이버 Place 코드\n",
    "    * 기준: 서울시 동별, 업종별\n",
    "    \n",
    "    \n",
    "3. 가게정보, 리뷰 정도 겟\n",
    "\n"
   ]
  },
  {
   "cell_type": "markdown",
   "metadata": {},
   "source": [
    "# 필요함수 및 라이브러리"
   ]
  },
  {
   "cell_type": "code",
   "execution_count": 1,
   "metadata": {
    "ExecuteTime": {
     "end_time": "2021-10-30T10:46:20.085400Z",
     "start_time": "2021-10-30T10:46:18.261003Z"
    }
   },
   "outputs": [],
   "source": [
    "import time\n",
    "import pandas as pd\n",
    "import numpy as np\n",
    "import json\n",
    "from tqdm import tqdm_notebook\n",
    "\n",
    "from selenium import webdriver\n",
    "from selenium.webdriver.common.keys import Keys\n",
    "from selenium.common.exceptions import NoSuchElementException\n",
    "from selenium.common.exceptions import ElementNotInteractableException\n",
    "from selenium.common.exceptions import StaleElementReferenceException\n",
    "from selenium.common.exceptions import ElementClickInterceptedException\n",
    "from webdriver_manager.chrome import ChromeDriverManager\n",
    "from selenium.webdriver.common.by import By\n",
    "\n",
    "import warnings\n",
    "warnings.filterwarnings(action = 'ignore')\n"
   ]
  },
  {
   "cell_type": "markdown",
   "metadata": {},
   "source": [
    "## 파일 관련"
   ]
  },
  {
   "cell_type": "code",
   "execution_count": 2,
   "metadata": {
    "ExecuteTime": {
     "end_time": "2021-10-30T10:46:20.101403Z",
     "start_time": "2021-10-30T10:46:20.087400Z"
    }
   },
   "outputs": [],
   "source": [
    "def get_today():\n",
    "    import datetime\n",
    "    now = datetime.datetime.now()\n",
    "    \n",
    "    nowDate = now.strftime('%Y-%m-%d')\n",
    "#     print(nowDate)      # 2015-04-19\n",
    " \n",
    "    nowTime = now.strftime('%H:%M:%S')\n",
    "#     print(nowTime)      # 12:11:32\n",
    "\n",
    "    nowDatetime = now.strftime('%Y-%m-%d %H:%M:%S')\n",
    "    return nowDate"
   ]
  },
  {
   "cell_type": "code",
   "execution_count": 3,
   "metadata": {
    "ExecuteTime": {
     "end_time": "2021-10-30T10:46:20.117409Z",
     "start_time": "2021-10-30T10:46:20.107408Z"
    }
   },
   "outputs": [],
   "source": [
    "import os\n",
    "def check_file(file_path, file_name):\n",
    "    return os.path.isfile(file_path+file_name)"
   ]
  },
  {
   "cell_type": "code",
   "execution_count": 4,
   "metadata": {
    "ExecuteTime": {
     "end_time": "2021-10-30T10:46:20.133412Z",
     "start_time": "2021-10-30T10:46:20.120410Z"
    }
   },
   "outputs": [],
   "source": [
    "def save_df(df, path, file_name):\n",
    "    df.to_csv(path+file_name, index=False)\n",
    "    print(f'{path+file_name} 저장 완료')"
   ]
  },
  {
   "cell_type": "code",
   "execution_count": 5,
   "metadata": {
    "ExecuteTime": {
     "end_time": "2021-10-30T10:46:20.149432Z",
     "start_time": "2021-10-30T10:46:20.136421Z"
    }
   },
   "outputs": [],
   "source": [
    "def read_csv_코드정보(code_path , code_file):\n",
    "    df = pd.read_csv(code_path + code_file )\n",
    "    return df"
   ]
  },
  {
   "cell_type": "code",
   "execution_count": 6,
   "metadata": {
    "ExecuteTime": {
     "end_time": "2021-10-30T10:46:20.164434Z",
     "start_time": "2021-10-30T10:46:20.152416Z"
    }
   },
   "outputs": [
    {
     "data": {
      "text/plain": [
       "'음식점:DINING, 카페: CAFE, 쇼핑: SHOPPING, 숙박: ACCOMMODATION, 병원의료: HOSPITAL, 은행: BANK,\\n   주요소:OIL, 마트슈퍼: MART, 편의점: STORE, 생활편의: CONVENIENCE, 명소: SIGHTS, 체육시설: SPORT, \\n   영화공연:CINEMA, 관공서:GOVERNMENT'"
      ]
     },
     "execution_count": 6,
     "metadata": {},
     "output_type": "execute_result"
    }
   ],
   "source": [
    "'''음식점:DINING, 카페: CAFE, 쇼핑: SHOPPING, 숙박: ACCOMMODATION, 병원의료: HOSPITAL, 은행: BANK,\n",
    "   주요소:OIL, 마트슈퍼: MART, 편의점: STORE, 생활편의: CONVENIENCE, 명소: SIGHTS, 체육시설: SPORT, \n",
    "   영화공연:CINEMA, 관공서:GOVERNMENT'''"
   ]
  },
  {
   "cell_type": "markdown",
   "metadata": {},
   "source": [
    "###### 서울시 동 load 관련"
   ]
  },
  {
   "cell_type": "code",
   "execution_count": 7,
   "metadata": {
    "ExecuteTime": {
     "end_time": "2021-10-30T10:46:20.179421Z",
     "start_time": "2021-10-30T10:46:20.167420Z"
    }
   },
   "outputs": [],
   "source": [
    "import pickle\n",
    "import collections\n",
    "\n",
    "def get_seoul_dong():\n",
    "    with open('data/서울시_구별_동정리.pickle','rb') as fw:\n",
    "        dong_dict = pickle.load( fw)\n",
    "\n",
    "    dong_key_list = list(dong_dict.keys())\n",
    "    dong_key_list.sort()\n",
    "    # dong_key_list\n",
    "\n",
    "    for 구이름 in dong_key_list:\n",
    "        dong_dict[구이름] = sorted(dong_dict[구이름])\n",
    "    \n",
    "    return dong_dict"
   ]
  },
  {
   "cell_type": "code",
   "execution_count": 8,
   "metadata": {
    "ExecuteTime": {
     "end_time": "2021-10-30T10:46:20.194425Z",
     "start_time": "2021-10-30T10:46:20.182423Z"
    }
   },
   "outputs": [],
   "source": [
    "dong_dict = get_seoul_dong()"
   ]
  },
  {
   "cell_type": "markdown",
   "metadata": {},
   "source": [
    "## 웹 조정 관련"
   ]
  },
  {
   "cell_type": "code",
   "execution_count": 9,
   "metadata": {
    "ExecuteTime": {
     "end_time": "2021-10-30T10:46:20.210430Z",
     "start_time": "2021-10-30T10:46:20.197428Z"
    }
   },
   "outputs": [],
   "source": [
    "from IPython.display import clear_output\n",
    "\n",
    "def clear_screen():\n",
    "    clear_output(wait=True)\n",
    "    print(\"Cleared Output\")"
   ]
  },
  {
   "cell_type": "code",
   "execution_count": 10,
   "metadata": {
    "ExecuteTime": {
     "end_time": "2021-10-30T10:46:20.225446Z",
     "start_time": "2021-10-30T10:46:20.213436Z"
    }
   },
   "outputs": [],
   "source": [
    "def is_clickable(wd):\n",
    "    return wd.is_enabled() and wd.is_displayed()"
   ]
  },
  {
   "cell_type": "code",
   "execution_count": 11,
   "metadata": {
    "ExecuteTime": {
     "end_time": "2021-10-30T10:46:20.241436Z",
     "start_time": "2021-10-30T10:46:20.227434Z"
    }
   },
   "outputs": [],
   "source": [
    "def scroll_down(wd,SCROLL_PAUSE_SEC = 1):\n",
    "\n",
    "    # 스크롤 높이 가져옴\n",
    "    last_height = wd.execute_script(\"return document.body.scrollHeight\")\n",
    "#     print(last_height)\n",
    "    while True:\n",
    "        # 끝까지 스크롤 다운\n",
    "        wd.execute_script(\"window.scrollTo(0, document.body.scrollHeight);\")\n",
    "\n",
    "        # 1초 대기\n",
    "        time.sleep(SCROLL_PAUSE_SEC)\n",
    "\n",
    "        # 스크롤 다운 후 스크롤 높이 다시 가져옴\n",
    "        new_height = wd.execute_script(\"return document.body.scrollHeight\")\n",
    "        if new_height == last_height:\n",
    "            break\n",
    "        last_height = new_height"
   ]
  },
  {
   "cell_type": "markdown",
   "metadata": {},
   "source": [
    "## 크롤링 에러 방지 관련"
   ]
  },
  {
   "cell_type": "code",
   "execution_count": 12,
   "metadata": {
    "ExecuteTime": {
     "end_time": "2021-10-30T10:46:20.257439Z",
     "start_time": "2021-10-30T10:46:20.244438Z"
    }
   },
   "outputs": [],
   "source": [
    "def try_none_text_by_class_name(wd,class_name, col='col'):\n",
    "    try:\n",
    "        return wd.find_element_by_class_name(class_name).text\n",
    "    except NoSuchElementException:\n",
    "        print(col, end='')\n",
    "        return np.NaN\n",
    "    except:\n",
    "        print('이상한 에러 try_none_text', col)\n",
    "        return np.NaN\n",
    "        "
   ]
  },
  {
   "cell_type": "code",
   "execution_count": 13,
   "metadata": {
    "ExecuteTime": {
     "end_time": "2021-10-30T10:46:20.273444Z",
     "start_time": "2021-10-30T10:46:20.259442Z"
    }
   },
   "outputs": [],
   "source": [
    "def strong_try_none_text_by_class_name(wd,class_name, col='col'):\n",
    "    try:\n",
    "        temps = wd.find_elements_by_class_name(class_name)\n",
    "        for temp in temps:\n",
    "            if temp.text.startswith('편의'):\n",
    "                return temp.text.split('\\n')[1]\n",
    "        else:\n",
    "            return np.NaN\n",
    "    except NoSuchElementException:\n",
    "#         print(col, end='')\n",
    "        return np.NaN\n",
    "        "
   ]
  },
  {
   "cell_type": "code",
   "execution_count": 14,
   "metadata": {
    "ExecuteTime": {
     "end_time": "2021-10-30T10:46:20.289445Z",
     "start_time": "2021-10-30T10:46:20.275442Z"
    }
   },
   "outputs": [],
   "source": [
    "def review_dict(s):\n",
    "    review_dict = {}\n",
    "#     print(s.split('평균 별점'))\n",
    "    s = s.split('평균 별점')\n",
    "    review_dict['평균_별점'] = s[-1].strip()\n",
    "    s = s[0].split('사진')\n",
    "    if len(s) >= 2:\n",
    "        review_dict['사진'] = int(s[-1])\n",
    "        review_dict['리뷰'] = s[0].split()[-1]\n",
    "    else:\n",
    "        review_dict['사진'] = np.NaN\n",
    "        review_dict['리뷰'] = s[0].split()[-1]\n",
    "# print(s)\n",
    "    return review_dict"
   ]
  },
  {
   "cell_type": "markdown",
   "metadata": {},
   "source": [
    "## get_store_info from naver.place by place_code"
   ]
  },
  {
   "cell_type": "code",
   "execution_count": 15,
   "metadata": {
    "ExecuteTime": {
     "end_time": "2021-10-30T10:46:20.305450Z",
     "start_time": "2021-10-30T10:46:20.291446Z"
    }
   },
   "outputs": [],
   "source": [
    "def get_review(review_block, name, code_no, show=False):\n",
    "    reviewer_info = '네이버 업데이트에 의한 삭제'\n",
    "\n",
    "    r_info_list = review_block.find_element_by_class_name('_3-LAD').find_elements_by_class_name('_1fvo3')\n",
    "\n",
    "    r_score ,r_date , r_times , proving = np.NaN,np.NaN,np.NaN,np.NaN\n",
    "    for r_info in r_info_list:\n",
    "        if '별점' in r_info.text:\n",
    "            r_score = r_info.text\n",
    "            continue\n",
    "        elif '최근' in r_info.text:\n",
    "            r_date = r_info.text\n",
    "            continue\n",
    "        elif '방문' in r_info.text:\n",
    "            r_times = r_info.text\n",
    "            continue\n",
    "        else:\n",
    "            proving = r_info.text\n",
    "            continue\n",
    "    \n",
    "    r_comment = try_none_text_by_class_name(review_block,'_3vfQ6','r')\n",
    "    if r_comment:\n",
    "        pass\n",
    "    else:\n",
    "        r_comment = try_none_text_by_class_name(review_block,'WoYOw','r')\n",
    "        \n",
    "    owner_reply = try_none_text_by_class_name(review_block,'L-XXo','o')\n",
    "    \n",
    "    if show:    \n",
    "        print(len(r_info_list))\n",
    "        print('r_score',r_score)\n",
    "        print('r_date',r_date)\n",
    "        print('r_times',r_times)\n",
    "        print('proving',proving)\n",
    "        print('#### r_comment ####')\n",
    "        print(r_comment)\n",
    "        print('####owner_reply###')\n",
    "        print(owner_reply)\n",
    "        print('##################')\n",
    "    return name, code_no, reviewer_info, r_score, r_date, r_times, proving, r_comment, owner_reply"
   ]
  },
  {
   "cell_type": "code",
   "execution_count": 16,
   "metadata": {
    "ExecuteTime": {
     "end_time": "2021-10-30T10:46:20.321455Z",
     "start_time": "2021-10-30T10:46:20.308453Z"
    }
   },
   "outputs": [],
   "source": [
    "def get_review_none( name, code_no):\n",
    "\n",
    "    return name, code_no, np.NaN, np.NaN, np.NaN, np.NaN, np.NaN, np.NaN, np.NaN"
   ]
  },
  {
   "cell_type": "code",
   "execution_count": 17,
   "metadata": {
    "ExecuteTime": {
     "end_time": "2021-10-30T10:46:20.337457Z",
     "start_time": "2021-10-30T10:46:20.323455Z"
    }
   },
   "outputs": [],
   "source": [
    "code_path = 'data/코드/'\n",
    "구이름 = '강남구'\n",
    "업종 = 'DINING'\n",
    "code_file = '가게코드_' + 구이름 + '_'+ 업종 + '.csv'\n",
    "slow=1"
   ]
  },
  {
   "cell_type": "markdown",
   "metadata": {
    "ExecuteTime": {
     "end_time": "2021-10-25T09:32:41.019576Z",
     "start_time": "2021-10-25T09:32:41.005565Z"
    }
   },
   "source": [
    "code_df = pd.read_csv(code_path+code_file, dtype='str')"
   ]
  },
  {
   "cell_type": "markdown",
   "metadata": {
    "ExecuteTime": {
     "end_time": "2021-10-25T09:33:13.451848Z",
     "start_time": "2021-10-25T09:33:13.432831Z"
    }
   },
   "source": [
    "code_df['store_code'].to_list()"
   ]
  },
  {
   "cell_type": "code",
   "execution_count": 18,
   "metadata": {
    "ExecuteTime": {
     "end_time": "2021-10-30T10:46:20.417476Z",
     "start_time": "2021-10-30T10:46:20.340461Z"
    },
    "scrolled": false
   },
   "outputs": [],
   "source": [
    "def naver_review_scrapping(구이름, 업종, slow=1):\n",
    "\n",
    "    start_time = time.time()\n",
    "\n",
    "    options = webdriver.ChromeOptions()\n",
    "\n",
    "    options.add_argument(\"--start-maximized\")\n",
    "    wd = webdriver.Chrome(ChromeDriverManager().install(), options= options)  # chromedriver 열기\n",
    "    wd.implicitly_wait(0.001*slow)\n",
    "\n",
    "    code_path = 'data/코드/'\n",
    "    review_path = 'data/리뷰/'\n",
    "\n",
    "\n",
    "    code_file = '가게코드_' + 구이름 + '_'+ 업종 + '.csv'\n",
    "    review_file = '리뷰정보_' + 구이름 + '_'+ 업종 + '.csv'\n",
    "\n",
    "\n",
    "    code_df = pd.read_csv(code_path+code_file, dtype='str')\n",
    "\n",
    "    review_idx = 0\n",
    "    review_df = pd.DataFrame(columns=(\"name\", \"code_no\", \"reviewer_info\", \"r_score\", \"r_date\", 'r_times', 'proving', 'r_comments', 'owner_reply'))\n",
    "\n",
    "    # code_no = code_df.loc[3].values[0]\n",
    "    store_cnt = 0\n",
    "    done_idx = 0\n",
    "\n",
    "    if check_file(review_path, review_file):\n",
    "        review_df = pd.read_csv(review_path+review_file)\n",
    "        review_idx = review_df.shape[0]\n",
    "    done_list = list(set(review_df['code_no'].apply(lambda x: str(x)).values))\n",
    "\n",
    "    print(f'{구이름}  {업종} 업종 의 리뷰 정보 스크래핑을 시작합니다.')\n",
    "\n",
    "    print(f'{code_df.shape[0]}개의 가게코드가 있습니다.')\n",
    "\n",
    "    print(f'{len(done_list)}가게의 리뷰{review_idx}개가 이전에 완료 되었었습니다. 이어서 진행합니다.')\n",
    "    code_list = code_df['store_code'].to_list()\n",
    "    \n",
    "    for code_no_ in tqdm_notebook(code_list):\n",
    "        code_no = str(code_no_)\n",
    "        if code_no in done_list:\n",
    "#             print(code_no, '중복중복!!')\n",
    "            continue\n",
    "        store_cnt+=1\n",
    "        \n",
    "        place_url = 'https://pcmap.place.naver.com/restaurant/'+str(code_no)+'/review/visitor'\n",
    "        wd.get(place_url)\n",
    "        time.sleep(2*slow)\n",
    "        scroll_down(wd,2)\n",
    "        cnt_idx = 0\n",
    "        error_idx = 0 \n",
    "        wd.implicitly_wait(1*slow)\n",
    "        \n",
    "        # 삭제되거나 없어진 페이지 널값 처리\n",
    "        try:\n",
    "            if wd.find_element(By.CLASS_NAME, '_1--tV').text.startswith('요청하신'):\n",
    "                review_df.loc[review_idx] = get_review_none( '삭제된페이지', code_no)\n",
    "                wd.implicitly_wait(1*slow)\n",
    "                review_idx += 1\n",
    "                print('삭제된 페이지')\n",
    "                continue\n",
    "        except:\n",
    "            pass\n",
    "        \n",
    "\n",
    "        name = wd.find_element_by_class_name('_3XamX').text\n",
    "        print('-'*80)\n",
    "        print(f'{store_cnt} {code_no} {name} 시작', end='||')\n",
    "    #         print('name',name)\n",
    "    #         print('code_no',code_no)\n",
    "        scroll_start_time=time.time()\n",
    "        try:\n",
    "\n",
    "            while (time.time() - scroll_start_time) < 100: # 100권장 \n",
    "    #                 print(time.time() - scroll_start_time)\n",
    "\n",
    "                wd.find_element_by_class_name('_3iTUo').click()\n",
    "    #                 print('리뷰 더보기')\n",
    "                time.sleep(0.5*slow)\n",
    "            else:\n",
    "                print(f'{int(time.time() - scroll_start_time)}초 소요','로딩완료', end='||')\n",
    "\n",
    "        except NoSuchElementException:\n",
    "            print(f'{int(time.time() - scroll_start_time)}초 소요','로딩완료S', end='||')\n",
    "        except StaleElementReferenceException :\n",
    "            print(\"S_E_Exc\")\n",
    "            pass\n",
    "        except:\n",
    "            pass\n",
    "\n",
    "        펼_idx=0\n",
    "        for o_bnt in wd.find_elements_by_class_name('dX2wL'):\n",
    "            try:\n",
    "                o_bnt.find_element_by_xpath('..').find_element_by_xpath('..').click()\n",
    "                펼_idx+=1\n",
    "#                 print('펼', end='')\n",
    "\n",
    "            except:\n",
    "                pass\n",
    "        else:\n",
    "            print(f'{펼_idx}개 펼치기 완료', end='||')\n",
    "            \n",
    "        # 리뷰가 없는 경우\n",
    "        if wd.find_elements(By.CLASS_NAME, '_1jVSG'):\n",
    "#             print('리뷰가 있네용~')\n",
    "            pass\n",
    "        else:\n",
    "            print('가게의 리뷰가 없네용~')\n",
    "            review_df.loc[review_idx] = get_review_none( name, code_no)\n",
    "            wd.implicitly_wait(1*slow)\n",
    "            review_idx += 1\n",
    "            review_df.to_csv(review_path+review_file, index=False)\n",
    "            continue\n",
    "            \n",
    "        review_block_list = wd.find_elements(By.CLASS_NAME, '_1jVSG')[0].find_elements(By.CLASS_NAME, '_3FaRE')\n",
    "        \n",
    "        print(f'{len(review_block_list)}개의 리뷰가 있네요')\n",
    "\n",
    "        \n",
    "        for review_block in review_block_list:\n",
    "            try:\n",
    "                wd.implicitly_wait(0)\n",
    "                review_df.loc[review_idx] = get_review(review_block, name, code_no)\n",
    "#                 wd.implicitly_wait(0.0001*slow)\n",
    "                wd.implicitly_wait(0)\n",
    "                review_idx += 1\n",
    "                cnt_idx += 1\n",
    "                done_idx += 1\n",
    "                print('#',end='')\n",
    "            except:\n",
    "                print('!',end='')\n",
    "                error_idx += 1\n",
    "                if (error_idx > 30) :\n",
    "                    break\n",
    "                pass\n",
    "\n",
    "#             wd.implicitly_wait(0.0001*slow)\n",
    "#             review_df.loc[review_idx] = get_review(review_block, name, code_no)\n",
    "#             wd.implicitly_wait(1*slow)\n",
    "#             review_idx += 1\n",
    "#             cnt_idx += 1\n",
    "#             done_idx += 1\n",
    "#             print('#',end='')            \n",
    "            \n",
    "            \n",
    "            \n",
    "            \n",
    "    #             #############################\n",
    "    #             if cnt_idx > 5:\n",
    "    #                 break\n",
    "\n",
    "\n",
    "\n",
    "        ##################### save just in case:\n",
    "        else:\n",
    "            wd.implicitly_wait(1*slow)\n",
    "            review_df.to_csv(review_path+review_file, index=False)\n",
    "            print('\\n',구이름, 업종, f'{done_idx}개 중간저장', end='   ')\n",
    "            print(f'<<{name} {cnt_idx}개 완료.>>')\n",
    "\n",
    "        if (store_cnt+1)%10 == 0:\n",
    "            wd.close()\n",
    "            time.sleep(2*slow)\n",
    "            wd = webdriver.Chrome(ChromeDriverManager().install(), options= options)  # chromedriver 열기\n",
    "            wd.implicitly_wait(1*slow)\n",
    "            print('reboot chrome')\n",
    "            \n",
    "            print('리뷰 수집 데이터 확인해주세요~')\n",
    "            display(review_df.tail(2))\n",
    "        \n",
    "\n",
    "\n",
    "    review_df.to_csv(review_path+review_file, index=False)\n",
    "    print(f'{구이름} {업종} 의 리뷰 스크래핑을 완료했습니다.')\n",
    "    print(f'{review_idx} 개 수집완료, {time.time()-start_time}')\n",
    "    wd.close()"
   ]
  },
  {
   "cell_type": "markdown",
   "metadata": {
    "ExecuteTime": {
     "end_time": "2021-10-26T09:18:04.939225Z",
     "start_time": "2021-10-26T09:18:04.925554Z"
    }
   },
   "source": [
    "# 오류로 인한 리뷰 정보 null 값 드랍"
   ]
  },
  {
   "cell_type": "markdown",
   "metadata": {
    "ExecuteTime": {
     "end_time": "2021-10-26T09:18:26.313734Z",
     "start_time": "2021-10-26T09:18:26.151524Z"
    }
   },
   "source": [
    "import pandas as pd\n",
    "dfs = pd.read_csv('data/리뷰/리뷰정보_강남구_DINING.csv')\n",
    "dfs.shape\n",
    "dfs.dropna(axis=0, subset=['r_date', 'reviewer_info'], inplace=True)\n",
    "dfs.to_csv('data/리뷰/리뷰정보_강남구_DINING.csv',index=False)"
   ]
  },
  {
   "cell_type": "markdown",
   "metadata": {
    "ExecuteTime": {
     "start_time": "2021-10-29T14:24:57.034Z"
    },
    "scrolled": false
   },
   "source": [
    "구이름 = '강남구'\n",
    "업종= 'DINING'\n",
    "naver_review_scrapping(구이름, 업종, slow=1)"
   ]
  },
  {
   "cell_type": "markdown",
   "metadata": {},
   "source": [
    "# 셋팅"
   ]
  },
  {
   "cell_type": "code",
   "execution_count": 19,
   "metadata": {
    "ExecuteTime": {
     "end_time": "2021-10-30T10:46:20.433478Z",
     "start_time": "2021-10-30T10:46:20.419475Z"
    }
   },
   "outputs": [],
   "source": [
    "code_path = 'data/코드/'\n",
    "store_path = 'data/가게/'\n",
    "review_path = 'data/리뷰/'\n",
    "# code_file = '가게코드_' + 구이름 + '_'+ 업종 + '.csv'\n",
    "# store_file = '가게정보_' + 구이름 +  '_'+ 업종 + '.csv'\n",
    "# review_file = '리뷰정보_' + 구이름 +  '_'+ 업종 + '.csv'"
   ]
  },
  {
   "cell_type": "code",
   "execution_count": 20,
   "metadata": {
    "ExecuteTime": {
     "end_time": "2021-10-30T10:46:20.449483Z",
     "start_time": "2021-10-30T10:46:20.436480Z"
    }
   },
   "outputs": [],
   "source": [
    "detail= True\n",
    "slow=1"
   ]
  },
  {
   "cell_type": "markdown",
   "metadata": {},
   "source": [
    "#  코드 수집 및 저장"
   ]
  },
  {
   "cell_type": "code",
   "execution_count": 21,
   "metadata": {
    "ExecuteTime": {
     "end_time": "2021-10-30T10:46:20.465485Z",
     "start_time": "2021-10-30T10:46:20.451482Z"
    }
   },
   "outputs": [
    {
     "name": "stdout",
     "output_type": "stream",
     "text": [
      "['강남구', '강동구', '강북구', '강서구', '관악구', '광진구', '구로구', '금천구', '노원구', '도봉구', '동대문구', '동작구', '마포구', '서대문구', '서초구', '성동구', '성북구', '송파구', '양천구', '영등포구', '용산구', '은평구', '종로구', '중구', '중랑구']\n"
     ]
    }
   ],
   "source": [
    "print(sorted(dong_dict.keys()))"
   ]
  },
  {
   "cell_type": "markdown",
   "metadata": {},
   "source": [
    "* '강남구' : **세원**\n",
    "\n",
    "\n",
    "* '강동구', '강북구', '강서구', '관악구' : **준혁**    \n",
    "\n",
    "\n",
    "* '광진구', '구로구', '금천구', '노원구', '도봉구', '동대문구' : **세원**    \n",
    "\n",
    "\n",
    "* '동작구', '마포구', '서대문구': **준혁**\n",
    "\n",
    "* '서초구', '성동구', '성북구' : **승순**   \n",
    "\n",
    "\n",
    "* '송파구', '양천구' : **세원**\n",
    "\n",
    "     \n",
    "* '영등포구', '용산구', '은평구', '종로구', '중구', '중랑구':**승순**   \n"
   ]
  },
  {
   "cell_type": "code",
   "execution_count": 22,
   "metadata": {
    "ExecuteTime": {
     "end_time": "2021-10-30T10:46:20.481490Z",
     "start_time": "2021-10-30T10:46:20.469488Z"
    }
   },
   "outputs": [],
   "source": [
    "세원_list=['강남구','송파구', '양천구', '광진구', '구로구', '금천구', '노원구', '도봉구', '동대문구' ] \n",
    "준혁_list=['강동구', '강북구', '강서구', '관악구', '동작구', '마포구', '서대문구'] \n",
    "승순_list=['영등포구', '용산구', '은평구','종로구', '중구', '중랑구', '서초구', '성동구', '성북구'] "
   ]
  },
  {
   "cell_type": "code",
   "execution_count": 23,
   "metadata": {
    "ExecuteTime": {
     "end_time": "2021-10-30T10:46:20.497494Z",
     "start_time": "2021-10-30T10:46:20.484491Z"
    }
   },
   "outputs": [],
   "source": [
    "member_dict = {}\n",
    "member_dict['세원'] = 세원_list\n",
    "member_dict['준혁'] = 준혁_list\n",
    "member_dict['승순'] = 승순_list"
   ]
  },
  {
   "cell_type": "code",
   "execution_count": 24,
   "metadata": {
    "ExecuteTime": {
     "end_time": "2021-10-30T10:46:20.513497Z",
     "start_time": "2021-10-30T10:46:20.500495Z"
    }
   },
   "outputs": [
    {
     "data": {
      "text/plain": [
       "{'세원': ['강남구', '송파구', '양천구', '광진구', '구로구', '금천구', '노원구', '도봉구', '동대문구'],\n",
       " '준혁': ['강동구', '강북구', '강서구', '관악구', '동작구', '마포구', '서대문구'],\n",
       " '승순': ['영등포구', '용산구', '은평구', '종로구', '중구', '중랑구', '서초구', '성동구', '성북구']}"
      ]
     },
     "execution_count": 24,
     "metadata": {},
     "output_type": "execute_result"
    }
   ],
   "source": [
    "member_dict"
   ]
  },
  {
   "cell_type": "code",
   "execution_count": null,
   "metadata": {
    "ExecuteTime": {
     "start_time": "2021-10-30T10:46:18.326Z"
    },
    "scrolled": false
   },
   "outputs": [
    {
     "name": "stderr",
     "output_type": "stream",
     "text": [
      "[WDM] - \n",
      "\n",
      "[WDM] - ====== WebDriver manager ======\n",
      "[WDM] - Current google-chrome version is 95.0.4638\n",
      "[WDM] - Get LATEST driver version for 95.0.4638\n"
     ]
    },
    {
     "name": "stdout",
     "output_type": "stream",
     "text": [
      "####################세원님의 크롤링을 시작합니다#####################\n"
     ]
    },
    {
     "name": "stderr",
     "output_type": "stream",
     "text": [
      "[WDM] - Driver [C:\\Users\\N\\.wdm\\drivers\\chromedriver\\win32\\95.0.4638.54\\chromedriver.exe] found in cache\n"
     ]
    },
    {
     "name": "stdout",
     "output_type": "stream",
     "text": [
      "강남구  DINING 업종 의 리뷰 정보 스크래핑을 시작합니다.\n",
      "6995개의 가게코드가 있습니다.\n",
      "6995가게의 리뷰552803개가 이전에 완료 되었었습니다. 이어서 진행합니다.\n"
     ]
    },
    {
     "data": {
      "application/vnd.jupyter.widget-view+json": {
       "model_id": "0e0b8426b61643d5a73f440a12d1acec",
       "version_major": 2,
       "version_minor": 0
      },
      "text/plain": [
       "HBox(children=(HTML(value=''), FloatProgress(value=0.0, max=6995.0), HTML(value='')))"
      ]
     },
     "metadata": {},
     "output_type": "display_data"
    },
    {
     "name": "stdout",
     "output_type": "stream",
     "text": [
      "\n"
     ]
    },
    {
     "name": "stderr",
     "output_type": "stream",
     "text": [
      "[WDM] - \n",
      "\n",
      "[WDM] - ====== WebDriver manager ======\n",
      "[WDM] - Current google-chrome version is 95.0.4638\n",
      "[WDM] - Get LATEST driver version for 95.0.4638\n"
     ]
    },
    {
     "name": "stdout",
     "output_type": "stream",
     "text": [
      "강남구 DINING 의 리뷰 스크래핑을 완료했습니다.\n",
      "552803 개 수집완료, 8.060810565948486\n"
     ]
    },
    {
     "name": "stderr",
     "output_type": "stream",
     "text": [
      "[WDM] - Driver [C:\\Users\\N\\.wdm\\drivers\\chromedriver\\win32\\95.0.4638.54\\chromedriver.exe] found in cache\n"
     ]
    },
    {
     "name": "stdout",
     "output_type": "stream",
     "text": [
      "송파구  DINING 업종 의 리뷰 정보 스크래핑을 시작합니다.\n",
      "5714개의 가게코드가 있습니다.\n",
      "2422가게의 리뷰156789개가 이전에 완료 되었었습니다. 이어서 진행합니다.\n"
     ]
    },
    {
     "data": {
      "application/vnd.jupyter.widget-view+json": {
       "model_id": "42628973a87a4c43b5c148ffa37134d4",
       "version_major": 2,
       "version_minor": 0
      },
      "text/plain": [
       "HBox(children=(HTML(value=''), FloatProgress(value=0.0, max=5714.0), HTML(value='')))"
      ]
     },
     "metadata": {},
     "output_type": "display_data"
    },
    {
     "name": "stdout",
     "output_type": "stream",
     "text": [
      "--------------------------------------------------------------------------------\n",
      "1 1127829319 오토김밥 잠실점 시작||4초 소요 로딩완료S||4개 펼치기 완료||79개의 리뷰가 있네요\n",
      "o#o#o#o#o#o#o#o#o#o#o#o#o#o#o#o#o#o#o#o#o#o#o#o#o#o#o#o#o#o#o#o#o#o#o#o#o#o#o#ro#o#o#o#o#o#o#o#o#o#o#o#o#o#o#o#o#o#o#o#o#o#ro#o#o#o#o#o#o#o#o#o#o#o#o#o#o#o#o#o#\n",
      " 송파구 DINING 79개 중간저장   <<오토김밥 잠실점 79개 완료.>>\n",
      "--------------------------------------------------------------------------------\n",
      "2 1234995543 그랜드비스타 시작||1초 소요 로딩완료S||0개 펼치기 완료||2개의 리뷰가 있네요\n",
      "ro#ro#\n",
      " 송파구 DINING 81개 중간저장   <<그랜드비스타 2개 완료.>>\n",
      "--------------------------------------------------------------------------------\n",
      "3 1226751972 명랑국물떡볶이 시작||1초 소요 로딩완료S||0개 펼치기 완료||가게의 리뷰가 없네용~\n",
      "--------------------------------------------------------------------------------\n",
      "4 1846699077 을찌로 국물떡볶이 방이점 시작||2초 소요 로딩완료S||0개 펼치기 완료||40개의 리뷰가 있네요\n",
      "o#o#o#o#o#o#o#o#o#o#o#o#o#o#o#o#o#o#o#o#o#o#o#o#o#o#o#o#o#o#o#o#o#o#o#o#o#o#o#o#\n",
      " 송파구 DINING 121개 중간저장   <<을찌로 국물떡볶이 방이점 40개 완료.>>\n",
      "--------------------------------------------------------------------------------\n",
      "5 37234583 서울김밥 백제고분점 시작||9초 소요 로딩완료S||4개 펼치기 완료||168개의 리뷰가 있네요\n",
      "o#o#o#o#o#o#o#o#o#o#o#o#o#o#o#o#o#o#o#o#o#o#o#o#o#o#o#o#o#o#o#o#o#o#o#o#o#o#o#o#o#o#o#o#o#o#o#o#o#o#o#o#o#o#o#o#o#o#o#o#o#o#o#o#o#o#o#o#o#o#o#o#o#o#o#o#o#o#o#o#o#o#o#o#o#o#o#o#o#o#o#o#o#o#o#o#o#o#o#o#o#o#o#o#o#o#o#o#o#o#o#o#o#o#o#o#o#o#o#o#o#o#o#o#o#o#o#o#o#o#o#o#o#o#o#o#o#o#o#o#o#o#o#o#o#o#o#o#o#o#o#o#o#o#o#o#o#o#o#o#o#o#o#o#o#o#o#o#\n",
      " 송파구 DINING 289개 중간저장   <<서울김밥 백제고분점 168개 완료.>>\n",
      "--------------------------------------------------------------------------------\n",
      "6 1519744353 감성채널 시작||5초 소요 로딩완료S||2개 펼치기 완료||89개의 리뷰가 있네요\n",
      "o#o#o#o#o#o#o#o#o#o#o#o#o#o#o#o#o#o#o#o#o#o#o#o#o#o#o#o#o#o#o#o#o#o#o#o#o#o#o#o#o#o#o#o#o#o#o#o#o#o#o#o#o#o#o#o#o#o#o#o#o#o#o#o#o#o#o#o#o#o#o#o#o#o#o#o#o#o#o#o#o#o#o#o#o#o#o#o#o#\n",
      " 송파구 DINING 378개 중간저장   <<감성채널 89개 완료.>>\n",
      "--------------------------------------------------------------------------------\n",
      "7 1286415127 빨간오뎅 시작||12초 소요 로딩완료S||2개 펼치기 완료||210개의 리뷰가 있네요\n",
      "o#o#o#o#o#o#o#o#o#o#o#o#o#o#o#o#o#o#o#o#o#o#o#o#o#o#o#o#o#o#o#o#o#o#o#o#o#o#o#o#o#o#o#o#o#o#o#o#o#o#o#o#o#o#o#o#o#o#o#o#o#o#o#o#o#o#o#o#o#o#o#o#o#o#o#o#o#o#o#o#o#o#o#o#o#o#o#o#o#o#o#o#o#o#o#o#o#o#o#o#o#o#o#o#o#o#o#o#o#o#o#o#o#o#o#o#o#o#o#o#o#o#o#o#o#o#o#o#o#o#o#o#o#o#o#o#o#o#o#o#o#o#o#o#o#o#o#o#o#o#o#o#o#o#o#o#o#o#o#o#o#o#o#o#o#o#o#o#o#o#o#o#o#o#o#o#o#o#o#o#o#o#o#o#o#o#o#o#o#o#o#o#o#o#o#o#o#o#o#o#o#o#o#o#o#o#o#o#o#o#\n",
      " 송파구 DINING 588개 중간저장   <<빨간오뎅 210개 완료.>>\n",
      "--------------------------------------------------------------------------------\n",
      "8 20623708 서울김밥 시작||28초 소요 로딩완료S||11개 펼치기 완료||406개의 리뷰가 있네요\n",
      "o#o#o#o#o#o#o#o#o#o#o#o#o#o#o#o#o#o#o#o#o#o#o#o#o#o#o#o#o#o#o#o#o#o#o#o#o#o#o#o#o#o#o#o#o#o#o#o#o#o#o#o#o#o#o#o#o#o#o#o#o#o#o#o#o#o#o#o#o#o#o#o#o#o#o#o#o#o#o#o#o#o#o#o#o#o#o#o#o#o#o#o#o#o##o##o#o#o#o#o#o#o##o##o#o#o#o##o#o#o#####o###o#o#########o#o###############o###############################o#o#o#o#o#o#o#o#o#o#o#o#o#o#o#o#o#o#o#o#o########r#o#o#######o##########o####################o#o#o#o#######o#o#o#o#####################################o################################o##########o##########o####r#r####################################o###o####o#o#o#o#o#o#o#o#o#o#\n",
      " 송파구 DINING 994개 중간저장   <<서울김밥 406개 완료.>>\n",
      "--------------------------------------------------------------------------------\n",
      "9 32874107 공룡떡볶이 시작||5초 소요 로딩완료S||1개 펼치기 완료||90개의 리뷰가 있네요\n",
      "o#o#o#o#o#o#o#o#o#o#o#o#o#o#o#o#o#o#o#o#o#o#o#o#o#o#o#o#o#o#o#o#o#o#o#o#o#o#o#o#o#o#o#o#o#o#o#o#o#o#o#o#o#o#o#o#o#o#o#o#o#o#o#o#o#o#o#o#o#o#o#o#o#o#o#o#o#o#o#o#o#o#o#o#o#o#o#o#o#o#\n",
      " 송파구 DINING 1084개 중간저장   <<공룡떡볶이 90개 완료.>>\n"
     ]
    },
    {
     "name": "stderr",
     "output_type": "stream",
     "text": [
      "[WDM] - \n",
      "\n",
      "[WDM] - ====== WebDriver manager ======\n",
      "[WDM] - Current google-chrome version is 95.0.4638\n",
      "[WDM] - Get LATEST driver version for 95.0.4638\n",
      "[WDM] - Driver [C:\\Users\\N\\.wdm\\drivers\\chromedriver\\win32\\95.0.4638.54\\chromedriver.exe] found in cache\n"
     ]
    },
    {
     "name": "stdout",
     "output_type": "stream",
     "text": [
      "reboot chrome\n",
      "리뷰 수집 데이터 확인해주세요~\n"
     ]
    },
    {
     "data": {
      "text/html": [
       "<div>\n",
       "<style scoped>\n",
       "    .dataframe tbody tr th:only-of-type {\n",
       "        vertical-align: middle;\n",
       "    }\n",
       "\n",
       "    .dataframe tbody tr th {\n",
       "        vertical-align: top;\n",
       "    }\n",
       "\n",
       "    .dataframe thead th {\n",
       "        text-align: right;\n",
       "    }\n",
       "</style>\n",
       "<table border=\"1\" class=\"dataframe\">\n",
       "  <thead>\n",
       "    <tr style=\"text-align: right;\">\n",
       "      <th></th>\n",
       "      <th>name</th>\n",
       "      <th>code_no</th>\n",
       "      <th>reviewer_info</th>\n",
       "      <th>r_score</th>\n",
       "      <th>r_date</th>\n",
       "      <th>r_times</th>\n",
       "      <th>proving</th>\n",
       "      <th>r_comments</th>\n",
       "      <th>owner_reply</th>\n",
       "    </tr>\n",
       "  </thead>\n",
       "  <tbody>\n",
       "    <tr>\n",
       "      <th>157872</th>\n",
       "      <td>공룡떡볶이</td>\n",
       "      <td>32874107</td>\n",
       "      <td>네이버 업데이트에 의한 삭제</td>\n",
       "      <td>별점\\n4</td>\n",
       "      <td>최근 방문일\\n19.9.2.월</td>\n",
       "      <td>1번째 방문</td>\n",
       "      <td>영수증</td>\n",
       "      <td>튀김은 이집!</td>\n",
       "      <td>NaN</td>\n",
       "    </tr>\n",
       "    <tr>\n",
       "      <th>157873</th>\n",
       "      <td>공룡떡볶이</td>\n",
       "      <td>32874107</td>\n",
       "      <td>네이버 업데이트에 의한 삭제</td>\n",
       "      <td>별점\\n5</td>\n",
       "      <td>최근 방문일\\n19.6.12.수</td>\n",
       "      <td>1번째 방문</td>\n",
       "      <td>영수증</td>\n",
       "      <td>정말정말 맛있어요 튀김 깨끗하고 라볶이도 정말 맛나요!!!</td>\n",
       "      <td>NaN</td>\n",
       "    </tr>\n",
       "  </tbody>\n",
       "</table>\n",
       "</div>"
      ],
      "text/plain": [
       "         name   code_no    reviewer_info r_score             r_date r_times  \\\n",
       "157872  공룡떡볶이  32874107  네이버 업데이트에 의한 삭제   별점\\n4   최근 방문일\\n19.9.2.월  1번째 방문   \n",
       "157873  공룡떡볶이  32874107  네이버 업데이트에 의한 삭제   별점\\n5  최근 방문일\\n19.6.12.수  1번째 방문   \n",
       "\n",
       "       proving                        r_comments owner_reply  \n",
       "157872     영수증                           튀김은 이집!         NaN  \n",
       "157873     영수증  정말정말 맛있어요 튀김 깨끗하고 라볶이도 정말 맛나요!!!         NaN  "
      ]
     },
     "metadata": {},
     "output_type": "display_data"
    },
    {
     "name": "stdout",
     "output_type": "stream",
     "text": [
      "--------------------------------------------------------------------------------\n",
      "10 1742515807 최가네 크레이지 떡볶이 방이점 시작||1초 소요 로딩완료S||0개 펼치기 완료||8개의 리뷰가 있네요\n",
      "o#o#o######\n",
      " 송파구 DINING 1092개 중간저장   <<최가네 크레이지 떡볶이 방이점 8개 완료.>>\n",
      "--------------------------------------------------------------------------------\n",
      "11 1687439185 차내리는김밥 방이점 시작||3초 소요 로딩완료S||0개 펼치기 완료||48개의 리뷰가 있네요\n",
      "o#o#o#o#o#o#o#o#o#o#o#o#o#o#o#o#o#o#o#o#o#o#o#o#o#o#o#o#o#o#o#o#o#o#o#o#o#o#o#o#o#o#o#o#o#o#o#o#\n",
      " 송파구 DINING 1140개 중간저장   <<차내리는김밥 방이점 48개 완료.>>\n",
      "--------------------------------------------------------------------------------\n",
      "12 1388559278 태리로제떡볶이 시작||1초 소요 로딩완료S||0개 펼치기 완료||9개의 리뷰가 있네요\n",
      "o#o#o#o#o#o#o#o#o#\n",
      " 송파구 DINING 1149개 중간저장   <<태리로제떡볶이 9개 완료.>>\n",
      "--------------------------------------------------------------------------------\n",
      "13 35058017 이삭토스트 오금점 시작||6초 소요 로딩완료S||1개 펼치기 완료||109개의 리뷰가 있네요\n",
      "o#o#o#o#o#o#o#o#o#o#o#o#o#o#o#o#o#o#o#o#o#o#o#o#o#o#o#o#o#o#o#o#o#o#o#o#o#o#o#o#o#o#o#o#o#o#o#o#o#o#o#o#o#o#o#o#o#o#o#o#o#o#o#o#o#o#o#o#o#o#o#o#o#o#o#o#o#o#o#o#o#o#o#o#o#o#o#o#o#o#o#o#o#o#o#o#o#o#o#ro#o#o#o#o#o#o#o#o#o#\n",
      " 송파구 DINING 1258개 중간저장   <<이삭토스트 오금점 109개 완료.>>\n",
      "--------------------------------------------------------------------------------\n",
      "14 1020587802 문토스트 방이점 시작||7초 소요 로딩완료S||0개 펼치기 완료||102개의 리뷰가 있네요\n",
      "o#o#o#o#o#o#o#o#o#o#o#o#o#o#o#o#o#o#o#o#o#o#o#o#o#o#o#o#o#o#o#ro#o#o#o#o#o#o#o#o#o#o#o#o#o#o#o#o#o#o#o#o#o#o#o#o#o#o#o#o#o#o#o#o#o#o#o#o#o#o#o#o#o#o#o#o#o#o#o#o#o#o#o#o#o#o#o#ro#o#o#o#o#o#o#o#o#o#o#o#o#o#o#\n",
      " 송파구 DINING 1360개 중간저장   <<문토스트 방이점 102개 완료.>>\n",
      "--------------------------------------------------------------------------------\n",
      "15 35287537 방이골목떡볶이 시작||1초 소요 로딩완료S||0개 펼치기 완료||13개의 리뷰가 있네요\n",
      "o#o#o#o#o#o#o#o#o#o#o#o#o#\n",
      " 송파구 DINING 1373개 중간저장   <<방이골목떡볶이 13개 완료.>>\n",
      "--------------------------------------------------------------------------------\n",
      "16 123772771 스쿨푸드 딜리버리 방이점 시작||11초 소요 로딩완료S||5개 펼치기 완료||200개의 리뷰가 있네요\n",
      "o#o#o#o#o#o#o#o#ro#o#o#o#o#o#o#o#o#o#o#o#o#o#o#o#ro#o#o#o#ro#o#o#o#o#o#o#o#o#o#o#o#o#o#o#o#o#o#o#o#o#o#o#o#o#o#o#o#o#o#o#o#o#o#o#o#o#o#o#o#o#o#o#o#o#o#o#o#o#o#o#o#o#o#o#o#o#o#o#o#o#o#o#o#o#o#o#o#o#o#o#o#o#o#o#o#o#o#o#o#o#o#o#o#o#o#o#o#o#o#o#o#o#o#o#o#o#o#o#o#o#o#o#o#o#o#o#o#o#o#o#o#o#o#o#o#o#o#o#o#o#o#o#o#o#o#o#o#o#o#o#o#o#o#o#o#o#o#o#o#o#o#o#o#o#o#o#o#o#o#o#o#o#o#o#o#o#o#o#o#o#o#o#o#o#o#o#o#o#o#o#o#\n",
      " 송파구 DINING 1573개 중간저장   <<스쿨푸드 딜리버리 방이점 200개 완료.>>\n",
      "--------------------------------------------------------------------------------\n",
      "17 33666791 동대문엽기떡볶이 방이점 시작||4초 소요 로딩완료S||0개 펼치기 완료||64개의 리뷰가 있네요\n",
      "o#o#o#o#o#o#o#o#o#o#o#o#o#o#o#o#o#o#o#o#o#o#ro#o#o#o#o#o#o#o#o#o#o#o#o#o#o#o#o#o#o#o#o#o#o#o#o#o#o#o#o#o#o#o#o#o#o#o#o#o#o#ro#o#o#\n",
      " 송파구 DINING 1637개 중간저장   <<동대문엽기떡볶이 방이점 64개 완료.>>\n",
      "--------------------------------------------------------------------------------\n",
      "18 38226795 고봉민김밥인 송파방이사거리점 시작||7초 소요 로딩완료S||0개 펼치기 완료||111개의 리뷰가 있네요\n",
      "o#o#o#o#o#o#o#o#o#o#o#o#o#o#o#o#o#o#o#o#o#o#o#o#o#o#o#o#o#o#o#o#o#o#o#o#o#o#o#o#o#o#o#o#o#o#o#o#o#o#o#o#o#o#o#o#o#o#o#o#o#o#o#o#o#o#o#o#o#o#o#o#o#o#o#o#o#o#o#o#o#o#o#o#o#o#o#o#o#o#o#o#o#o#o#o#o#o#ro#o#o#o#o#o#o#o#o#o#o#o#o#\n",
      " 송파구 DINING 1748개 중간저장   <<고봉민김밥인 송파방이사거리점 111개 완료.>>\n",
      "--------------------------------------------------------------------------------\n",
      "19 302392639 감탄떡볶이 방이점 시작||8초 소요 로딩완료S||9개 펼치기 완료||120개의 리뷰가 있네요\n",
      "o#o#o#o#o#o#o#o#o#o#o#o#o#o#o#o#o#o#o#o#o#o#o#o#o#o#o#o#o#o#o#o#o#o#o#o#o#o#o#o#o#o#o#o#o#o#o#o#o#o#o#o#o#o#o#o#o#o#o#o#o#o#o#o#o#o#o#o#o#o#o#o#o#o#o#o#o#o#o#o#o#o#o#o#o#o#o#o#o#o#o#o#o#o#o#o#o#o#o#o#o#o#o#o#o#o#o#o#o#o#o#o#o#o#o#o#o#o#o#o#\n",
      " 송파구 DINING 1868개 중간저장   <<감탄떡볶이 방이점 120개 완료.>>\n"
     ]
    },
    {
     "name": "stderr",
     "output_type": "stream",
     "text": [
      "[WDM] - \n",
      "\n",
      "[WDM] - ====== WebDriver manager ======\n",
      "[WDM] - Current google-chrome version is 95.0.4638\n",
      "[WDM] - Get LATEST driver version for 95.0.4638\n",
      "[WDM] - Driver [C:\\Users\\N\\.wdm\\drivers\\chromedriver\\win32\\95.0.4638.54\\chromedriver.exe] found in cache\n"
     ]
    },
    {
     "name": "stdout",
     "output_type": "stream",
     "text": [
      "reboot chrome\n",
      "리뷰 수집 데이터 확인해주세요~\n"
     ]
    },
    {
     "data": {
      "text/html": [
       "<div>\n",
       "<style scoped>\n",
       "    .dataframe tbody tr th:only-of-type {\n",
       "        vertical-align: middle;\n",
       "    }\n",
       "\n",
       "    .dataframe tbody tr th {\n",
       "        vertical-align: top;\n",
       "    }\n",
       "\n",
       "    .dataframe thead th {\n",
       "        text-align: right;\n",
       "    }\n",
       "</style>\n",
       "<table border=\"1\" class=\"dataframe\">\n",
       "  <thead>\n",
       "    <tr style=\"text-align: right;\">\n",
       "      <th></th>\n",
       "      <th>name</th>\n",
       "      <th>code_no</th>\n",
       "      <th>reviewer_info</th>\n",
       "      <th>r_score</th>\n",
       "      <th>r_date</th>\n",
       "      <th>r_times</th>\n",
       "      <th>proving</th>\n",
       "      <th>r_comments</th>\n",
       "      <th>owner_reply</th>\n",
       "    </tr>\n",
       "  </thead>\n",
       "  <tbody>\n",
       "    <tr>\n",
       "      <th>158656</th>\n",
       "      <td>감탄떡볶이 방이점</td>\n",
       "      <td>302392639</td>\n",
       "      <td>네이버 업데이트에 의한 삭제</td>\n",
       "      <td>별점\\n5</td>\n",
       "      <td>최근 방문일\\n19.3.15.금</td>\n",
       "      <td>1번째 방문</td>\n",
       "      <td>영수증</td>\n",
       "      <td>핫도그랑 떡볶이 넘 마싯어용</td>\n",
       "      <td>NaN</td>\n",
       "    </tr>\n",
       "    <tr>\n",
       "      <th>158657</th>\n",
       "      <td>감탄떡볶이 방이점</td>\n",
       "      <td>302392639</td>\n",
       "      <td>네이버 업데이트에 의한 삭제</td>\n",
       "      <td>별점\\n5</td>\n",
       "      <td>최근 방문일\\n19.1.2.수</td>\n",
       "      <td>1번째 방문</td>\n",
       "      <td>영수증</td>\n",
       "      <td>밀떡 맛있고, 순대도 탱글탱글하니 맛있어요 너무 매운맛아니라 종종 먹어요</td>\n",
       "      <td>NaN</td>\n",
       "    </tr>\n",
       "  </tbody>\n",
       "</table>\n",
       "</div>"
      ],
      "text/plain": [
       "             name    code_no    reviewer_info r_score             r_date  \\\n",
       "158656  감탄떡볶이 방이점  302392639  네이버 업데이트에 의한 삭제   별점\\n5  최근 방문일\\n19.3.15.금   \n",
       "158657  감탄떡볶이 방이점  302392639  네이버 업데이트에 의한 삭제   별점\\n5   최근 방문일\\n19.1.2.수   \n",
       "\n",
       "       r_times proving                                r_comments owner_reply  \n",
       "158656  1번째 방문     영수증                           핫도그랑 떡볶이 넘 마싯어용         NaN  \n",
       "158657  1번째 방문     영수증  밀떡 맛있고, 순대도 탱글탱글하니 맛있어요 너무 매운맛아니라 종종 먹어요         NaN  "
      ]
     },
     "metadata": {},
     "output_type": "display_data"
    },
    {
     "name": "stdout",
     "output_type": "stream",
     "text": [
      "--------------------------------------------------------------------------------\n",
      "20 30888509 효재만두 시작||2초 소요 로딩완료S||0개 펼치기 완료||28개의 리뷰가 있네요\n",
      "o#o#o#o#o#o#o#o#o#o#o#o#o#o#o#o#o#o#o#o#o#o#o#o#o#o#o#o#\n",
      " 송파구 DINING 1896개 중간저장   <<효재만두 28개 완료.>>\n",
      "--------------------------------------------------------------------------------\n",
      "21 20370410 김가네김밥 몽촌토성역점 시작||3초 소요 로딩완료S||0개 펼치기 완료||59개의 리뷰가 있네요\n",
      "o#o#o#o#o#o#o#o#o#o#o#o#o#o#o#o#o#o#o#o#o#o#o#o#o#o#o#o#o#o#o#o#o#o#o#o#o#o#o#o#o#o#o#o#o#o#o#o#o#o#o#o#o#o#o#o#o#o#o#\n",
      " 송파구 DINING 1955개 중간저장   <<김가네김밥 몽촌토성역점 59개 완료.>>\n",
      "--------------------------------------------------------------------------------\n",
      "22 1790442601 건방진떡볶이 시작||1초 소요 로딩완료S||0개 펼치기 완료||2개의 리뷰가 있네요\n",
      "o#o#\n",
      " 송파구 DINING 1957개 중간저장   <<건방진떡볶이 2개 완료.>>\n",
      "--------------------------------------------------------------------------------\n",
      "23 1072051142 가리미김밥 방이점 시작||2초 소요 로딩완료S||0개 펼치기 완료||27개의 리뷰가 있네요\n",
      "o#o#o#o#o#o#o#o#o#o#o#o#o#o#o#o#o#o#o#o#o#o#o#o#o#o#o#\n",
      " 송파구 DINING 1984개 중간저장   <<가리미김밥 방이점 27개 완료.>>\n",
      "--------------------------------------------------------------------------------\n",
      "24 36856465 맛있는 집 소풍 방이본점 시작||8초 소요 로딩완료S||0개 펼치기 완료||118개의 리뷰가 있네요\n",
      "o#o#o#o#o#o#o#o#o#o#o#o#o#o#o#ro#o#o#o#o#o#o#o#o#o#o#o#o#o#o#o#o#o#o#o#o#o#o#o#o#o#o#o#o#o#o#o#o#o#o#o#o#o#o#o#o#o#o#o#o#o#o#o#o#o#o#o#o#o#o#o#o#o#o#o#o#o#o#o#o#o#o#o#o#o#o#o#o#o#o#o#o#o#o#o#o#o#o#o#o#o#o#o#o#o#o#o#o#o#o#o#o#o#o#o#o#o#o#\n",
      " 송파구 DINING 2102개 중간저장   <<맛있는 집 소풍 방이본점 118개 완료.>>\n",
      "--------------------------------------------------------------------------------\n",
      "25 1389629485 33떡볶이&꼬마김밥 올림픽공원점 시작||2초 소요 로딩완료S||0개 펼치기 완료||37개의 리뷰가 있네요\n",
      "o#o#o#o#o#o#o#o#o#o#o#o#o#o#o#o#o#o#o#o#o#o#o#o#o#o#o#o#o#o#o#o#o#o#o#o#o#\n",
      " 송파구 DINING 2139개 중간저장   <<33떡볶이&꼬마김밥 올림픽공원점 37개 완료.>>\n",
      "--------------------------------------------------------------------------------\n",
      "26 1126094340 우럼마 왕만두 방이점 시작||10초 소요 로딩완료S||1개 펼치기 완료||155개의 리뷰가 있네요\n",
      "o#o#o#o#o#o#o#o#o#o#o#o#o#o#o#o#o#o#o#o#o#o#ro#o#o#o#o#o#o#o#o#o#o#o#o#o#o#o#o#o#o#o#o#o#o#o#o#o#o#o#o#o#o#o#o#o#o#o#o#o#o#o#o#o#o#o#o#o#o#o#o#o#o#o#o#o#o#o#o#o#o#o#o#o#o#o#o#o#o#o#o#o#o#o#o#o#o#o#o#o#o#o#o#o#o#o#o#o#o#o#o#o#o#o#o#o#o#o#o#o#o#o#o#o#o#o#o#o#o#o#o#o#o#o#o#o#o#o#o#o#o#o#o#o#o#o#o#o#o#o#o#o#o#o#o#\n",
      " 송파구 DINING 2294개 중간저장   <<우럼마 왕만두 방이점 155개 완료.>>\n",
      "--------------------------------------------------------------------------------\n",
      "27 1178337164 길우동 시작||3초 소요 로딩완료S||1개 펼치기 완료||44개의 리뷰가 있네요\n",
      "o#o#o#o#ro#o#o#o#o#o#o#o#o#o#o#o#o#o#o#o#o#o#o#o#o#o#o#o#o#o#o#o#o#o#o#o#o#o#o#o#o#o#o#o#\n",
      " 송파구 DINING 2338개 중간저장   <<길우동 44개 완료.>>\n",
      "--------------------------------------------------------------------------------\n",
      "28 1390288461 올레김밥 올림픽공원점 시작||2초 소요 로딩완료S||0개 펼치기 완료||35개의 리뷰가 있네요\n",
      "o#o#o#o#o#o#o#o#o#o#o#o#o#######################\n",
      " 송파구 DINING 2373개 중간저장   <<올레김밥 올림픽공원점 35개 완료.>>\n",
      "--------------------------------------------------------------------------------\n",
      "29 1842960307 클로버김밥 시작||1초 소요 로딩완료S||0개 펼치기 완료||17개의 리뷰가 있네요\n",
      "o#o#o#o#o#o#o#o#o#o#ro#o#o#o#o#o#o#\n",
      " 송파구 DINING 2390개 중간저장   <<클로버김밥 17개 완료.>>\n"
     ]
    },
    {
     "name": "stderr",
     "output_type": "stream",
     "text": [
      "[WDM] - \n",
      "\n",
      "[WDM] - ====== WebDriver manager ======\n",
      "[WDM] - Current google-chrome version is 95.0.4638\n",
      "[WDM] - Get LATEST driver version for 95.0.4638\n",
      "[WDM] - Driver [C:\\Users\\N\\.wdm\\drivers\\chromedriver\\win32\\95.0.4638.54\\chromedriver.exe] found in cache\n"
     ]
    },
    {
     "name": "stdout",
     "output_type": "stream",
     "text": [
      "reboot chrome\n",
      "리뷰 수집 데이터 확인해주세요~\n"
     ]
    },
    {
     "data": {
      "text/html": [
       "<div>\n",
       "<style scoped>\n",
       "    .dataframe tbody tr th:only-of-type {\n",
       "        vertical-align: middle;\n",
       "    }\n",
       "\n",
       "    .dataframe tbody tr th {\n",
       "        vertical-align: top;\n",
       "    }\n",
       "\n",
       "    .dataframe thead th {\n",
       "        text-align: right;\n",
       "    }\n",
       "</style>\n",
       "<table border=\"1\" class=\"dataframe\">\n",
       "  <thead>\n",
       "    <tr style=\"text-align: right;\">\n",
       "      <th></th>\n",
       "      <th>name</th>\n",
       "      <th>code_no</th>\n",
       "      <th>reviewer_info</th>\n",
       "      <th>r_score</th>\n",
       "      <th>r_date</th>\n",
       "      <th>r_times</th>\n",
       "      <th>proving</th>\n",
       "      <th>r_comments</th>\n",
       "      <th>owner_reply</th>\n",
       "    </tr>\n",
       "  </thead>\n",
       "  <tbody>\n",
       "    <tr>\n",
       "      <th>159178</th>\n",
       "      <td>클로버김밥</td>\n",
       "      <td>1842960307</td>\n",
       "      <td>네이버 업데이트에 의한 삭제</td>\n",
       "      <td>별점\\n4</td>\n",
       "      <td>최근 방문일\\n19.4.7.일</td>\n",
       "      <td>1번째 방문</td>\n",
       "      <td>영수증</td>\n",
       "      <td>음식은 정말 맛있는데 매장 정리가 너무 아쉬워요 ㅠㅠ 손님이 많지도 않았는데 주문 ...</td>\n",
       "      <td>NaN</td>\n",
       "    </tr>\n",
       "    <tr>\n",
       "      <th>159179</th>\n",
       "      <td>클로버김밥</td>\n",
       "      <td>1842960307</td>\n",
       "      <td>네이버 업데이트에 의한 삭제</td>\n",
       "      <td>별점\\n4</td>\n",
       "      <td>최근 방문일\\n19.3.24.일</td>\n",
       "      <td>1번째 방문</td>\n",
       "      <td>영수증</td>\n",
       "      <td>먹어보겠습니당</td>\n",
       "      <td>NaN</td>\n",
       "    </tr>\n",
       "  </tbody>\n",
       "</table>\n",
       "</div>"
      ],
      "text/plain": [
       "         name     code_no    reviewer_info r_score             r_date r_times  \\\n",
       "159178  클로버김밥  1842960307  네이버 업데이트에 의한 삭제   별점\\n4   최근 방문일\\n19.4.7.일  1번째 방문   \n",
       "159179  클로버김밥  1842960307  네이버 업데이트에 의한 삭제   별점\\n4  최근 방문일\\n19.3.24.일  1번째 방문   \n",
       "\n",
       "       proving                                         r_comments owner_reply  \n",
       "159178     영수증  음식은 정말 맛있는데 매장 정리가 너무 아쉬워요 ㅠㅠ 손님이 많지도 않았는데 주문 ...         NaN  \n",
       "159179     영수증                                            먹어보겠습니당         NaN  "
      ]
     },
     "metadata": {},
     "output_type": "display_data"
    },
    {
     "name": "stdout",
     "output_type": "stream",
     "text": [
      "--------------------------------------------------------------------------------\n",
      "30 978957936 오마뎅 파크리오점 시작||2초 소요 로딩완료S||0개 펼치기 완료||21개의 리뷰가 있네요\n",
      "o#o#o#o#o#o#o#o#o#o#o#o#o#o#o#o#o#o#o#o#o#\n",
      " 송파구 DINING 2411개 중간저장   <<오마뎅 파크리오점 21개 완료.>>\n",
      "--------------------------------------------------------------------------------\n",
      "31 38274764 차고버거 시작||10초 소요 로딩완료S||12개 펼치기 완료||156개의 리뷰가 있네요\n",
      "o#o#o#o#o#o#o#o#o#o#o#o#o#o#o#o#o#o#o#o#o#o#o#o#o#o##o#o#o#o#o#o#o#o#o#o#o#o#o#o#o#o#o#o#o#o#o#o#o#o#o#o#o#o#o#o#o#o#o#o#o#o#o#o#o#o#o#o#o#o#o#o#ro#o#o#o#o#o##o####o#o#o#o#o#o#o#o#o#o#o#o#o#ro#o#o#o#o#o#o#o#o#o#o#o#o#o#o#ro#o#o#o#o#o#o#o#o##o##o#o#o#o#o#o#o#ro#o#o#o#o#o##o#o##o#############o#o#\n",
      " 송파구 DINING 2567개 중간저장   <<차고버거 156개 완료.>>\n",
      "--------------------------------------------------------------------------------\n",
      "32 1000591129 오키나와블루 시작||2초 소요 로딩완료S||2개 펼치기 완료||23개의 리뷰가 있네요\n",
      "o#!o#o#o#o#o#o#o#o#o#o#o#o#o#o#o#o#o#o#o#o#ro#\n",
      " 송파구 DINING 2589개 중간저장   <<오키나와블루 22개 완료.>>\n",
      "--------------------------------------------------------------------------------\n",
      "33 31492641 버거킹 몽촌토성점 시작||58초 소요 로딩완료S||8개 펼치기 완료||614개의 리뷰가 있네요\n",
      "o#o#o#o#o#o#o#o#o#o#o#o#o#o#o#o#o#o#o#o#o#o#o#o#o#o#o#o#o#o#o#o#o#o#o#o#o#o#o#o#o#o#o#o#o#o#o#o#o#o#o#o#o#o#o#o#o#o#o#o#o#o#o#o#o#o#o#o#o#o#o#o#o#o#o#o#o#o#o#o#o#o#o#o#o#o#o#o#o#o#o#o#o#o#o#o#o#o#o#o#o#o#o#o#o#o#o#o#o#o#o#o#o#o#o#o#o#o#o#o#o#o#o#o#o#o#o#o#o#o#o#o#o#o#o#o#o#o#o#o#o#o#o#o#o#o#o#o#o#o#o#o#o#o#o#o#o#o#o#o#o#o#o#o#o#o#o#ro#o#o#o#o#o#o#o#o#o#o#o#o#o#o#o#o#o#o#o#o#o#o#o#o#o#o#o#o#o#o#o#o#o#o#o#o#o#o#o#o#o#ro#o#o#o#o#o#o#o#o#ro#o#o#o#o#o#o#o#o#o#o#o#o#o#o#o#o#o#o#o#o#o#o#o#o#o#o#o#o#o#o#o#o#o#o#o#o#o#o#o#o#o#o#o#o#o#o#o#o#o#o#o#o#o#o#o#o#o#o#o#o#o#o#o#o#o#o#o#o#o#o#o#o#o#o#ro#o#o#o#o#o#o#o#o#o#ro#o#o#o#o#o#o#o#o#o#ro#o#o#o#o#o#o#o#o#o#o#o#o#o#ro#o#o#o#o#o#o#o#o#o#o#o#o#ro#o#o#o#o#o#o#o#o#o#o#o#o#o#o#o#o#o#o#o#o#o#o#o#o#o#o#o#o#o#o#o#o#o#o#o#o#o#o#o#o#o#o#o#o#o#o#o#o#o#o#o#o#o#o#o#o#o#o#o#o#o#o#o#o#o#o#o#o#o#o#o#o#o#o#o#o#o#o#o#o#o#o#o#o#o#o#o#o#o#o#o#o#o#o#o#o#o#o#o#o#o#o#o#o#o#o#o#o#o#o#o#o#o#o#o#o#o#o#o#o#o#o#o#o#o#o#o#o#o#o#o#o#o#o#o#o#o#o#o#o#o#o#o#o#o#o#o#o#o#o#o#o#o#o#o#o#o#o#o#o#o#o#o#o#o#o#o#o#o#o#o#o#o#o#o#o#o#o#o#o#o#o#o#o#o#o#o#o#o#o#o#o#o#o#o#o#o#o#o#o#o#o#o#o#o#o#o#o#o#o#o#o#o#o#o#o#o#o#ro#o#o#o#o#o#o#o#o#o#o#o#o#o#o#o#o#o#o#o#o#o#o#o#o#o#o#o#o#o#o#o#o#o#o#o#o#o#o#o#o#o#o#o#o#o#o#o#o#o#o#o#o#o#o#\n",
      " 송파구 DINING 3203개 중간저장   <<버거킹 몽촌토성점 614개 완료.>>\n",
      "--------------------------------------------------------------------------------\n",
      "34 1770689943 버거 tamna 시작||1초 소요 로딩완료S||0개 펼치기 완료||가게의 리뷰가 없네용~\n",
      "--------------------------------------------------------------------------------\n",
      "35 11625143 피자헛 방이점 시작||7초 소요 로딩완료S||0개 펼치기 완료||120개의 리뷰가 있네요\n",
      "o#o#o#o#o#o#o#o#o#o#o#o#o#o#o#o#o#o#o#o#o#o#o#o#o#o#o#o#o#o#o#o#o#o#o#o#o#o#o#o#o#o#o#o#o#o#o#o#o#o#o#o#o#o#o#o#o#o#o#o#o#o#o#o#o#o#o#o#o#o#o#o#o#o#o#o#o#o#o#o#o#o#o#o#o#o#o#o#o#o#o#o#o#o#o#o#o#o#o#o#o#o#o#o#o#o#o#o#o#o#o#o#o#o#o#o#o#o#o#o#\n",
      " 송파구 DINING 3323개 중간저장   <<피자헛 방이점 120개 완료.>>\n",
      "--------------------------------------------------------------------------------\n",
      "36 33418392 피자알볼로 방이점 시작||9초 소요 로딩완료S||4개 펼치기 완료||160개의 리뷰가 있네요\n",
      "o#o#o#o#o#o#o#o#o#o#o#o#o#o#o#o#o#o#o#o#o#o#o#o#o#o#o#o#o#o#o#o#o#o#o#o#o#o#o#o#o#o#o#o#o#o#o#o#o#o#o#o#o#o#o#o#o#o#o#o#o#o#o#o#o#o#o#o#o#o#o#o#o#o#o#o#o#o#o#o#o#o#o#o#o#ro#o#o#o#o#o#o#o#o#o#o#o#o#o#o#o#o#o#o#o#o#o#o#o#o#o#o#o#o#o#o#o#o#o#o#o#o#o#o#o#o#o#o#o#o#o#o#o#o#o#o#o#o#o#o#o#o#o#o#o#o#o#o#o#o#o#o#o#o#o#o#o#o#o#o#\n",
      " 송파구 DINING 3483개 중간저장   <<피자알볼로 방이점 160개 완료.>>\n",
      "--------------------------------------------------------------------------------\n",
      "37 1138784465 유로코피자 잠실송파점 시작||1초 소요 로딩완료S||0개 펼치기 완료||10개의 리뷰가 있네요\n",
      "ro#o#o#o#o#o#o#o#o#o#\n",
      " 송파구 DINING 3493개 중간저장   <<유로코피자 잠실송파점 10개 완료.>>\n",
      "--------------------------------------------------------------------------------\n",
      "38 1267107296 GOOD VIBE 시작||4초 소요 로딩완료S||0개 펼치기 완료||62개의 리뷰가 있네요\n",
      "o#o#o#o#o#o#o#o#o#o#o#o#o#o#o#ro#o#o#o#o#o#o#o#o#o#o#o#o#o#o#o#o#o#o#o#o#o#o#o#o#o#o#o#o#o#o#o#o###o#o#o#o#o#o#o#o#o#o#o#o#\n",
      " 송파구 DINING 3555개 중간저장   <<GOOD VIBE 62개 완료.>>\n",
      "--------------------------------------------------------------------------------\n",
      "39 11781866 도미노피자 잠실점 시작||9초 소요 로딩완료S||4개 펼치기 완료||157개의 리뷰가 있네요\n",
      "ro#o#o#o#o#o#o#o#o#o#o#o#o#o#o#o#o#o#o#o#o#o#o#o#o#o#o#o#o#o#o#o#o#o#o#o#o#o#o#o#o#o#o#o#o#o#o#o#o#o#o#o#o#o#o#o#o#o#o#o#o#o#o#o#o#o#o#o#o#o#o#o#o#o#o#o#o#ro#o#o#o#o#o#o#o#o#o#o#o#o#o#o#ro#o#o#o#o#ro#o#o#o#o#ro#o#o#o#o#ro#o#o#o#o#o#o#o#o#o#o#o#o#o#o#o#o#o#o#o#o#o#o#o#o#o#o#o#o#o#o#o#o#o#o#o#o#o#o#o#o#o#o#o#o#o#o#o#o#o#\n",
      " 송파구 DINING 3712개 중간저장   <<도미노피자 잠실점 157개 완료.>>\n"
     ]
    },
    {
     "name": "stderr",
     "output_type": "stream",
     "text": [
      "[WDM] - \n",
      "\n",
      "[WDM] - ====== WebDriver manager ======\n",
      "[WDM] - Current google-chrome version is 95.0.4638\n",
      "[WDM] - Get LATEST driver version for 95.0.4638\n",
      "[WDM] - Driver [C:\\Users\\N\\.wdm\\drivers\\chromedriver\\win32\\95.0.4638.54\\chromedriver.exe] found in cache\n"
     ]
    },
    {
     "name": "stdout",
     "output_type": "stream",
     "text": [
      "reboot chrome\n",
      "리뷰 수집 데이터 확인해주세요~\n"
     ]
    },
    {
     "data": {
      "text/html": [
       "<div>\n",
       "<style scoped>\n",
       "    .dataframe tbody tr th:only-of-type {\n",
       "        vertical-align: middle;\n",
       "    }\n",
       "\n",
       "    .dataframe tbody tr th {\n",
       "        vertical-align: top;\n",
       "    }\n",
       "\n",
       "    .dataframe thead th {\n",
       "        text-align: right;\n",
       "    }\n",
       "</style>\n",
       "<table border=\"1\" class=\"dataframe\">\n",
       "  <thead>\n",
       "    <tr style=\"text-align: right;\">\n",
       "      <th></th>\n",
       "      <th>name</th>\n",
       "      <th>code_no</th>\n",
       "      <th>reviewer_info</th>\n",
       "      <th>r_score</th>\n",
       "      <th>r_date</th>\n",
       "      <th>r_times</th>\n",
       "      <th>proving</th>\n",
       "      <th>r_comments</th>\n",
       "      <th>owner_reply</th>\n",
       "    </tr>\n",
       "  </thead>\n",
       "  <tbody>\n",
       "    <tr>\n",
       "      <th>160501</th>\n",
       "      <td>도미노피자 잠실점</td>\n",
       "      <td>11781866</td>\n",
       "      <td>네이버 업데이트에 의한 삭제</td>\n",
       "      <td>별점\\n5</td>\n",
       "      <td>최근 방문일\\n18.8.26.일</td>\n",
       "      <td>1번째 방문</td>\n",
       "      <td>주문</td>\n",
       "      <td>배송도 넘나 빠르고 맛은 보장!! 배민이나 배달어플을 평소에 쓰지 않아서 어플조차 ...</td>\n",
       "      <td>NaN</td>\n",
       "    </tr>\n",
       "    <tr>\n",
       "      <th>160502</th>\n",
       "      <td>도미노피자 잠실점</td>\n",
       "      <td>11781866</td>\n",
       "      <td>네이버 업데이트에 의한 삭제</td>\n",
       "      <td>별점\\n5</td>\n",
       "      <td>최근 방문일\\n18.7.31.화</td>\n",
       "      <td>1번째 방문</td>\n",
       "      <td>주문</td>\n",
       "      <td>배달도 빠르고 언제 도착할지 알 수도 있어서 참 좋았어요^^</td>\n",
       "      <td>NaN</td>\n",
       "    </tr>\n",
       "  </tbody>\n",
       "</table>\n",
       "</div>"
      ],
      "text/plain": [
       "             name   code_no    reviewer_info r_score             r_date  \\\n",
       "160501  도미노피자 잠실점  11781866  네이버 업데이트에 의한 삭제   별점\\n5  최근 방문일\\n18.8.26.일   \n",
       "160502  도미노피자 잠실점  11781866  네이버 업데이트에 의한 삭제   별점\\n5  최근 방문일\\n18.7.31.화   \n",
       "\n",
       "       r_times proving                                         r_comments  \\\n",
       "160501  1번째 방문      주문  배송도 넘나 빠르고 맛은 보장!! 배민이나 배달어플을 평소에 쓰지 않아서 어플조차 ...   \n",
       "160502  1번째 방문      주문                  배달도 빠르고 언제 도착할지 알 수도 있어서 참 좋았어요^^   \n",
       "\n",
       "       owner_reply  \n",
       "160501         NaN  \n",
       "160502         NaN  "
      ]
     },
     "metadata": {},
     "output_type": "display_data"
    },
    {
     "name": "stdout",
     "output_type": "stream",
     "text": [
      "--------------------------------------------------------------------------------\n",
      "40 38230428 피자마루 방이점 시작||7초 소요 로딩완료S||1개 펼치기 완료||130개의 리뷰가 있네요\n",
      "o#o#o#o#o#o#o#o#o#o#o#o#o#o#o#o#o#o#o#o#o#o#o#o#o#o#o#o#o#o#o#o#o#o#o#o#o#o#o#o#o#o#o#o#o#o#o#o#o#o#o#o#o#o#o#o#o#o#o#o#o#o#o#o#o#o#o#o#o#o#o#o#o#o#o#o#o#o#o#o#o#o#o#o#o#o#o#o#o#o#o#o#o#o#o#o#o#o#o#o#o#o#o#o#o#o#o#o#o#o#o#o#o#o#o#o#o#o#o#o#o#o#o#o#o#o#o#o#o#o#\n",
      " 송파구 DINING 3842개 중간저장   <<피자마루 방이점 130개 완료.>>\n",
      "--------------------------------------------------------------------------------\n",
      "41 1732232592 피자유니온 방이점 시작||1초 소요 로딩완료S||2개 펼치기 완료||12개의 리뷰가 있네요\n",
      "o#o#o#o#o#o#o#o#o#o#o#o#\n",
      " 송파구 DINING 3854개 중간저장   <<피자유니온 방이점 12개 완료.>>\n",
      "--------------------------------------------------------------------------------\n",
      "42 19483862 피자마루 서울올림픽선수촌점 시작||3초 소요 로딩완료S||0개 펼치기 완료||36개의 리뷰가 있네요\n",
      "o#o#o#o#o#o#o#o#o#o#o#o#o#o#o#o#o#o#o#o#o#o#o#o#o#o#o#o#o#o#o#o#o#o#o#o#\n",
      " 송파구 DINING 3890개 중간저장   <<피자마루 서울올림픽선수촌점 36개 완료.>>\n",
      "--------------------------------------------------------------------------------\n",
      "43 1482464082 해골피자 잠실점 시작||1초 소요 로딩완료S||0개 펼치기 완료||7개의 리뷰가 있네요\n",
      "o#o#o#o#o#o#o#\n",
      " 송파구 DINING 3897개 중간저장   <<해골피자 잠실점 7개 완료.>>\n",
      "--------------------------------------------------------------------------------\n",
      "44 1769028717 굿바이브 시작||1초 소요 로딩완료S||0개 펼치기 완료||19개의 리뷰가 있네요\n",
      "o#o#o#o#o#o#o#o#o#o#o#o#o#o#o#o#o#o#o#\n",
      " 송파구 DINING 3916개 중간저장   <<굿바이브 19개 완료.>>\n",
      "--------------------------------------------------------------------------------\n",
      "45 18530424 피콜로피자 시작||1초 소요 로딩완료S||0개 펼치기 완료||2개의 리뷰가 있네요\n",
      "o#o#\n",
      " 송파구 DINING 3918개 중간저장   <<피콜로피자 2개 완료.>>\n",
      "--------------------------------------------------------------------------------\n",
      "46 1960761177 고피자 방이점 시작||1초 소요 로딩완료S||0개 펼치기 완료||13개의 리뷰가 있네요\n",
      "ro#o#o#o#o#o#o#o#o#o#o#o#o#\n",
      " 송파구 DINING 3931개 중간저장   <<고피자 방이점 13개 완료.>>\n",
      "--------------------------------------------------------------------------------\n",
      "47 13158714 코리안숯불닭바베큐방이점 시작||1초 소요 로딩완료S||0개 펼치기 완료||9개의 리뷰가 있네요\n",
      "o#o#o#o#o#o#o#o#o#\n",
      " 송파구 DINING 3940개 중간저장   <<코리안숯불닭바베큐방이점 9개 완료.>>\n",
      "--------------------------------------------------------------------------------\n",
      "48 12778536 BBQ 오금점 시작||5초 소요 로딩완료S||2개 펼치기 완료||83개의 리뷰가 있네요\n",
      "o#o#o#o#o#o#o#o#o#o#o#o#o#o#o#o#o#o#o#o#o#o#o#o#o#o#o#o#o#o#o#o#o#o#o#o#o#o#o#o#o#o#o#o#o#o#o#o#o#o#o#o#o#o#o#o#o#o#o#o#o#o#o#o#o#o#o#o#o#o#o#o#o#o#o#o#o#o#o#o#o#o#o#\n",
      " 송파구 DINING 4023개 중간저장   <<BBQ 오금점 83개 완료.>>\n",
      "--------------------------------------------------------------------------------\n",
      "49 13395125 굽네치킨 방이점 시작||5초 소요 로딩완료S||4개 펼치기 완료||98개의 리뷰가 있네요\n",
      "o#o#o#o#o#o#o#o#o#o#o#o#o#o#o#o#o#o#o#o#o#o#o#o#o#o#o#o#o#o#o#o#o#o#o#o#o#o#o#o#o#o#o#o#o#o#o#o#o#o#o#o#o#o#o#o#o#o#o#o#o#o#o#o#o#o#o#o#o#o#o#o#o#o#o#o#o#o#o#o#o#o#o#o#o#o#o#o#o#o#o#o#o#o#o#o#o#o#\n",
      " 송파구 DINING 4121개 중간저장   <<굽네치킨 방이점 98개 완료.>>\n"
     ]
    },
    {
     "name": "stderr",
     "output_type": "stream",
     "text": [
      "[WDM] - \n",
      "\n",
      "[WDM] - ====== WebDriver manager ======\n",
      "[WDM] - Current google-chrome version is 95.0.4638\n",
      "[WDM] - Get LATEST driver version for 95.0.4638\n",
      "[WDM] - Driver [C:\\Users\\N\\.wdm\\drivers\\chromedriver\\win32\\95.0.4638.54\\chromedriver.exe] found in cache\n"
     ]
    },
    {
     "name": "stdout",
     "output_type": "stream",
     "text": [
      "reboot chrome\n",
      "리뷰 수집 데이터 확인해주세요~\n"
     ]
    },
    {
     "data": {
      "text/html": [
       "<div>\n",
       "<style scoped>\n",
       "    .dataframe tbody tr th:only-of-type {\n",
       "        vertical-align: middle;\n",
       "    }\n",
       "\n",
       "    .dataframe tbody tr th {\n",
       "        vertical-align: top;\n",
       "    }\n",
       "\n",
       "    .dataframe thead th {\n",
       "        text-align: right;\n",
       "    }\n",
       "</style>\n",
       "<table border=\"1\" class=\"dataframe\">\n",
       "  <thead>\n",
       "    <tr style=\"text-align: right;\">\n",
       "      <th></th>\n",
       "      <th>name</th>\n",
       "      <th>code_no</th>\n",
       "      <th>reviewer_info</th>\n",
       "      <th>r_score</th>\n",
       "      <th>r_date</th>\n",
       "      <th>r_times</th>\n",
       "      <th>proving</th>\n",
       "      <th>r_comments</th>\n",
       "      <th>owner_reply</th>\n",
       "    </tr>\n",
       "  </thead>\n",
       "  <tbody>\n",
       "    <tr>\n",
       "      <th>160910</th>\n",
       "      <td>굽네치킨 방이점</td>\n",
       "      <td>13395125</td>\n",
       "      <td>네이버 업데이트에 의한 삭제</td>\n",
       "      <td>별점\\n5</td>\n",
       "      <td>최근 방문일\\n18.1.7.일</td>\n",
       "      <td>2번째 방문</td>\n",
       "      <td>주문</td>\n",
       "      <td>매번 방이점에서 시켜먹는데 다른점보다 치킨소스가 더 진하게 매어있어서 먹을때마다 맛...</td>\n",
       "      <td>NaN</td>\n",
       "    </tr>\n",
       "    <tr>\n",
       "      <th>160911</th>\n",
       "      <td>굽네치킨 방이점</td>\n",
       "      <td>13395125</td>\n",
       "      <td>네이버 업데이트에 의한 삭제</td>\n",
       "      <td>별점\\n5</td>\n",
       "      <td>최근 방문일\\n17.12.24.일</td>\n",
       "      <td>1번째 방문</td>\n",
       "      <td>주문</td>\n",
       "      <td>방이점 짱이에요</td>\n",
       "      <td>NaN</td>\n",
       "    </tr>\n",
       "  </tbody>\n",
       "</table>\n",
       "</div>"
      ],
      "text/plain": [
       "            name   code_no    reviewer_info r_score              r_date  \\\n",
       "160910  굽네치킨 방이점  13395125  네이버 업데이트에 의한 삭제   별점\\n5    최근 방문일\\n18.1.7.일   \n",
       "160911  굽네치킨 방이점  13395125  네이버 업데이트에 의한 삭제   별점\\n5  최근 방문일\\n17.12.24.일   \n",
       "\n",
       "       r_times proving                                         r_comments  \\\n",
       "160910  2번째 방문      주문  매번 방이점에서 시켜먹는데 다른점보다 치킨소스가 더 진하게 매어있어서 먹을때마다 맛...   \n",
       "160911  1번째 방문      주문                                           방이점 짱이에요   \n",
       "\n",
       "       owner_reply  \n",
       "160910         NaN  \n",
       "160911         NaN  "
      ]
     },
     "metadata": {},
     "output_type": "display_data"
    },
    {
     "name": "stdout",
     "output_type": "stream",
     "text": [
      "--------------------------------------------------------------------------------\n",
      "50 36727720 맛닭꼬 오금점 시작||1초 소요 로딩완료S||0개 펼치기 완료||11개의 리뷰가 있네요\n",
      "o#o#o#o#o#o#o#o#o#o#o#\n",
      " 송파구 DINING 4132개 중간저장   <<맛닭꼬 오금점 11개 완료.>>\n",
      "--------------------------------------------------------------------------------\n",
      "51 1771422890 푸라닭 방이점 시작||2초 소요 로딩완료S||1개 펼치기 완료||23개의 리뷰가 있네요\n",
      "o#o#o#o#o#o#o#o#o#o#ro#o#o#o#o#o#o#ro#o#o#ro#o#o#\n",
      " 송파구 DINING 4155개 중간저장   <<푸라닭 방이점 23개 완료.>>\n",
      "--------------------------------------------------------------------------------\n",
      "52 11643883 또래오래 송파오금점 시작||2초 소요 로딩완료S||2개 펼치기 완료||30개의 리뷰가 있네요\n",
      "o#o#o#o#o#o#o#o#o#o#o#o#o#o#o#o#o#o#o#o#o#o#o#o#o#o#o#o#o#o#\n",
      " 송파구 DINING 4185개 중간저장   <<또래오래 송파오금점 30개 완료.>>\n",
      "--------------------------------------------------------------------------------\n",
      "53 1800776837 미스터짱닭치킨 방이점 시작||2초 소요 로딩완료S||0개 펼치기 완료||33개의 리뷰가 있네요\n",
      "ro#o#o#o#o#o#o#o#o#o#o#o#o#o#o#o#o#o#o#o#o#o#o#o#o#o#o#o#o#o#o#o#o#\n",
      " 송파구 DINING 4218개 중간저장   <<미스터짱닭치킨 방이점 33개 완료.>>\n",
      "--------------------------------------------------------------------------------\n",
      "54 1651512595 보스골뱅이치킨 방이보스점 시작||1초 소요 로딩완료S||0개 펼치기 완료||3개의 리뷰가 있네요\n",
      "o#o#o#\n",
      " 송파구 DINING 4221개 중간저장   <<보스골뱅이치킨 방이보스점 3개 완료.>>\n",
      "--------------------------------------------------------------------------------\n",
      "55 1367433285 현대닭강정 시작||1초 소요 로딩완료S||1개 펼치기 완료||15개의 리뷰가 있네요\n",
      "o#o#o#o#o#o#o#o#o#o#o#o#o#o#o#\n",
      " 송파구 DINING 4236개 중간저장   <<현대닭강정 15개 완료.>>\n",
      "--------------------------------------------------------------------------------\n",
      "56 1029923285 마니치킨 시작||3초 소요 로딩완료S||0개 펼치기 완료||44개의 리뷰가 있네요\n",
      "o#o#o#ro#o#o#o#o#o#o#o#o#o#o#o#o#o#o#o#o#o#o#o#o#o#o#o#o#o#o#o#o#o#o#o#o#o#o#o#o#o#o#o#o#\n",
      " 송파구 DINING 4280개 중간저장   <<마니치킨 44개 완료.>>\n",
      "--------------------------------------------------------------------------------\n",
      "57 1100488191 멕시칸치킨 시작||1초 소요 로딩완료S||0개 펼치기 완료||1개의 리뷰가 있네요\n",
      "o#\n",
      " 송파구 DINING 4281개 중간저장   <<멕시칸치킨 1개 완료.>>\n",
      "--------------------------------------------------------------------------------\n",
      "58 695658374 정스치킨로드 방이점 시작||1초 소요 로딩완료S||0개 펼치기 완료||1개의 리뷰가 있네요\n",
      "o#\n",
      " 송파구 DINING 4282개 중간저장   <<정스치킨로드 방이점 1개 완료.>>\n",
      "--------------------------------------------------------------------------------\n",
      "59 20638548 냄비와물통 시작||1초 소요 로딩완료S||0개 펼치기 완료||1개의 리뷰가 있네요\n",
      "ro#\n",
      " 송파구 DINING 4283개 중간저장   <<냄비와물통 1개 완료.>>\n"
     ]
    },
    {
     "name": "stderr",
     "output_type": "stream",
     "text": [
      "[WDM] - \n",
      "\n",
      "[WDM] - ====== WebDriver manager ======\n",
      "[WDM] - Current google-chrome version is 95.0.4638\n",
      "[WDM] - Get LATEST driver version for 95.0.4638\n",
      "[WDM] - Driver [C:\\Users\\N\\.wdm\\drivers\\chromedriver\\win32\\95.0.4638.54\\chromedriver.exe] found in cache\n"
     ]
    },
    {
     "name": "stdout",
     "output_type": "stream",
     "text": [
      "reboot chrome\n",
      "리뷰 수집 데이터 확인해주세요~\n"
     ]
    },
    {
     "data": {
      "text/html": [
       "<div>\n",
       "<style scoped>\n",
       "    .dataframe tbody tr th:only-of-type {\n",
       "        vertical-align: middle;\n",
       "    }\n",
       "\n",
       "    .dataframe tbody tr th {\n",
       "        vertical-align: top;\n",
       "    }\n",
       "\n",
       "    .dataframe thead th {\n",
       "        text-align: right;\n",
       "    }\n",
       "</style>\n",
       "<table border=\"1\" class=\"dataframe\">\n",
       "  <thead>\n",
       "    <tr style=\"text-align: right;\">\n",
       "      <th></th>\n",
       "      <th>name</th>\n",
       "      <th>code_no</th>\n",
       "      <th>reviewer_info</th>\n",
       "      <th>r_score</th>\n",
       "      <th>r_date</th>\n",
       "      <th>r_times</th>\n",
       "      <th>proving</th>\n",
       "      <th>r_comments</th>\n",
       "      <th>owner_reply</th>\n",
       "    </tr>\n",
       "  </thead>\n",
       "  <tbody>\n",
       "    <tr>\n",
       "      <th>161072</th>\n",
       "      <td>정스치킨로드 방이점</td>\n",
       "      <td>695658374</td>\n",
       "      <td>네이버 업데이트에 의한 삭제</td>\n",
       "      <td>별점\\n4</td>\n",
       "      <td>최근 방문일\\n20.5.21.목</td>\n",
       "      <td>1번째 방문</td>\n",
       "      <td>영수증</td>\n",
       "      <td>.</td>\n",
       "      <td>NaN</td>\n",
       "    </tr>\n",
       "    <tr>\n",
       "      <th>161073</th>\n",
       "      <td>냄비와물통</td>\n",
       "      <td>20638548</td>\n",
       "      <td>네이버 업데이트에 의한 삭제</td>\n",
       "      <td>별점\\n4</td>\n",
       "      <td>최근 방문일\\n1.7.목</td>\n",
       "      <td>1번째 방문</td>\n",
       "      <td>영수증</td>\n",
       "      <td>NaN</td>\n",
       "      <td>NaN</td>\n",
       "    </tr>\n",
       "  </tbody>\n",
       "</table>\n",
       "</div>"
      ],
      "text/plain": [
       "              name    code_no    reviewer_info r_score             r_date  \\\n",
       "161072  정스치킨로드 방이점  695658374  네이버 업데이트에 의한 삭제   별점\\n4  최근 방문일\\n20.5.21.목   \n",
       "161073       냄비와물통   20638548  네이버 업데이트에 의한 삭제   별점\\n4      최근 방문일\\n1.7.목   \n",
       "\n",
       "       r_times proving r_comments owner_reply  \n",
       "161072  1번째 방문     영수증          .         NaN  \n",
       "161073  1번째 방문     영수증        NaN         NaN  "
      ]
     },
     "metadata": {},
     "output_type": "display_data"
    },
    {
     "name": "stdout",
     "output_type": "stream",
     "text": [
      "--------------------------------------------------------------------------------\n",
      "60 1031595817 로드락후라이드 송파방이점 시작||3초 소요 로딩완료S||0개 펼치기 완료||60개의 리뷰가 있네요\n",
      "o#o#o#o#o#o#o#o#o#o#o#o#o#o#o#o#o#o#o#o#o#o#o#o#o#o#o#o#o#o#o#o#o#o#o#o#o#o#o#o#o#o#o#o#o#o#o#o#o#o#o#o#o#o#o#o#o#o#o#o#\n",
      " 송파구 DINING 4343개 중간저장   <<로드락후라이드 송파방이점 60개 완료.>>\n",
      "--------------------------------------------------------------------------------\n",
      "61 322102609 후라이드참잘하는집 방이점 시작||3초 소요 로딩완료S||0개 펼치기 완료||43개의 리뷰가 있네요\n",
      "o#o#o#o#o#o#o#o#o#o#o#o#o#o#o#o#o#o#o#o#o#o#o#o#o#o#o#o#o#o#o#o#o#o#o#o#o#o#o#o#o#o#o#\n",
      " 송파구 DINING 4386개 중간저장   <<후라이드참잘하는집 방이점 43개 완료.>>\n",
      "--------------------------------------------------------------------------------\n",
      "62 1325191288 꾸브라꼬 숯불두마리치킨 방이점 시작||2초 소요 로딩완료S||1개 펼치기 완료||25개의 리뷰가 있네요\n",
      "o#o#o#o#o#o#o####o#o##o#o#o#o#o########\n",
      " 송파구 DINING 4411개 중간저장   <<꾸브라꼬 숯불두마리치킨 방이점 25개 완료.>>\n",
      "--------------------------------------------------------------------------------\n",
      "63 21047647 맘스터치 방이점 시작||20초 소요 로딩완료S||5개 펼치기 완료||294개의 리뷰가 있네요\n",
      "o#o#o#o#o#o#o#o#o#o#o#o#o#o#o#o#o#o#o#o#o#o#o#o#o#o#o#o#o#o#o#o#o#o#o#o#o#o#o#o#o#o#o#o#o#o#o#o#o#o#o#o#o#o#o#o#o#o#o#o#o#o#o#o#o#o#o#o#o#o#o#o#o#o#o#o#o#o#o#o#o#o#o#o#o#o#o#o#o#o#o#o#o#o#o#o#o#o#o#o#o#o#o#o#o#o#o#o#o#o#o#o#o#o#o#o#o#o#o#o#o#o#o#o#o#o#o#o#o#o#o#o#o#o#o#o#o#o#o#o#o#o#o#o#o#o#o#o#o#o#o#o#o#o#o#o#o#o#o#o#o#o#o#o#o#o#o#o#o#o#o#o#o#o#o#o#o#o#o#o#o#o#o#o#o#o#o#o#o#o#o#o#o#o#o#o#o#o#o#o#o#o#o#o#o#o#o#o#o#o#o#o#o#o#o#o#o#o#o#o#o#o#o#o#o#o#o#o#o#o#o#o#o#o#o#o#o#o#o#o#o#o#o#o#o#o#o#o#o#o#o#o#o#o#o#o#o#o#o#o#o#o#o#o#o#o#o#o#o#o#o#o#o#o#o#o#o#o#o#o#o#o#o#o#o#o#o#o#o#o#o#o#o#o#\n",
      " 송파구 DINING 4705개 중간저장   <<맘스터치 방이점 294개 완료.>>\n",
      "--------------------------------------------------------------------------------\n",
      "64 1968369603 바른치킨 송파오륜점 시작||3초 소요 로딩완료S||0개 펼치기 완료||43개의 리뷰가 있네요\n",
      "o#o#o#o#o#o#o#o#o#o#o#o#o#o#o#o#o#o#o#o#o#o#o#o#ro#o#o#o#o#ro#o#o#o#o#o#o#o#o#o#o#o#o#o#\n",
      " 송파구 DINING 4748개 중간저장   <<바른치킨 송파오륜점 43개 완료.>>\n",
      "--------------------------------------------------------------------------------\n",
      "65 20029520 교촌치킨 방이2호점 시작||18초 소요 로딩완료S||1개 펼치기 완료||266개의 리뷰가 있네요\n",
      "o#o#ro#o#o#o#o#o#o#o#o#o#o#o#o#o#o#o#o#o#o#o#o#o#o#o#o#o#o#o#o#o#o#o#o#o#o#o#o#o#o#ro#o#o#o#o#o#o#o#o#o#o#o#o#o#o#o#o#o#o#o#o#o#o#o#o#o#o#o#o#o#o#o#o#o#o#o#o#o#o#o#o#o#o#o#o#o#o#o#o#o#o#o#o#o#o#o#o#o#o#o#o#o#o#o#o#o#o#o#o#o#o#o#o#o#o#o#o#o#o#o#o#o#o#o#o#o#o#o#o#o#o#o#o#o#o#o#o#o#o#o#o#o#o#o#o#o#o#o#o#o#o#o#o#o#o#o#o#o#o#o#o#o#o#o#o#o#o#o#o#ro#o#o#o#o#o#o#o#o#o#o#o#o#o#o#o#o#o#o#ro#o#o#o#o#o#o#o#o#o#o#o#o#o#o#o#o#o#o#o#o#o#o#o#o#o#o#o#o#o#o#o#o#o#o#o#o#o#o#o#o#o#o#o#o#o#o#o#o#o#o#o#o#o#o#o#o#o#o#o#o#o#o#o#o#o#o#o#o#o#o#o#o#o#o#o#o#\n",
      " 송파구 DINING 5014개 중간저장   <<교촌치킨 방이2호점 266개 완료.>>\n",
      "--------------------------------------------------------------------------------\n",
      "66 35781703 맛닭꼬 방이시장점 시작||3초 소요 로딩완료S||0개 펼치기 완료||43개의 리뷰가 있네요\n",
      "o#o#o#o#o#o#o#o#o#o#o#o#o#o#o#o#o#o#o#o#o#o#o#o#o#o#o#o#o#o#o#o#o#o#o#o#o#o#o#o#o#o#o#\n",
      " 송파구 DINING 5057개 중간저장   <<맛닭꼬 방이시장점 43개 완료.>>\n",
      "--------------------------------------------------------------------------------\n",
      "67 11798901 BBQ치킨 방이점 시작||7초 소요 로딩완료S||2개 펼치기 완료||90개의 리뷰가 있네요\n",
      "o#o#o#o#o#o#o#o#o#o#o#o#o#o#o#o#o#o#o#ro#o#o#o#o#o#o#o#o#o#o#o#o#o#o#o#o#o#o#o#o#o#o#o#o#o#o#o#o#o#o#o#o#o#o#o#o#o#o#o#o#o#o#o#o#o#o#o#o#o#o#o#o#o#o#o#o#o#o#o#o#o#o#o#o#o#o#o#o#o#o#\n",
      " 송파구 DINING 5147개 중간저장   <<BBQ치킨 방이점 90개 완료.>>\n",
      "--------------------------------------------------------------------------------\n",
      "68 11575730 페리카나 방이2점 시작||2초 소요 로딩완료S||0개 펼치기 완료||26개의 리뷰가 있네요\n",
      "o#o#o#o#o#o#o#o#o#o#o#o#o#o#o#o#o#o#o#o#o#o#o#o#o#o#\n",
      " 송파구 DINING 5173개 중간저장   <<페리카나 방이2점 26개 완료.>>\n",
      "--------------------------------------------------------------------------------\n",
      "69 1475194153 깐부치킨 방이맛골점 시작||4초 소요 로딩완료S||0개 펼치기 완료||60개의 리뷰가 있네요\n",
      "o#o#o#o#o#o#o#o#o#o#o#o#o#ro#o#o#o#o#o#o#o#o#ro#o#o#o#o#o#o#o#o#o#ro#o#o#o#o#o#o#o#o#o#o#o#o#o#o#o#o#o#o#o#o#o#o#o#o#o#o#o#\n",
      " 송파구 DINING 5233개 중간저장   <<깐부치킨 방이맛골점 60개 완료.>>\n"
     ]
    },
    {
     "name": "stderr",
     "output_type": "stream",
     "text": [
      "[WDM] - \n",
      "\n",
      "[WDM] - ====== WebDriver manager ======\n",
      "[WDM] - Current google-chrome version is 95.0.4638\n",
      "[WDM] - Get LATEST driver version for 95.0.4638\n",
      "[WDM] - Driver [C:\\Users\\N\\.wdm\\drivers\\chromedriver\\win32\\95.0.4638.54\\chromedriver.exe] found in cache\n"
     ]
    },
    {
     "name": "stdout",
     "output_type": "stream",
     "text": [
      "reboot chrome\n",
      "리뷰 수집 데이터 확인해주세요~\n"
     ]
    },
    {
     "data": {
      "text/html": [
       "<div>\n",
       "<style scoped>\n",
       "    .dataframe tbody tr th:only-of-type {\n",
       "        vertical-align: middle;\n",
       "    }\n",
       "\n",
       "    .dataframe tbody tr th {\n",
       "        vertical-align: top;\n",
       "    }\n",
       "\n",
       "    .dataframe thead th {\n",
       "        text-align: right;\n",
       "    }\n",
       "</style>\n",
       "<table border=\"1\" class=\"dataframe\">\n",
       "  <thead>\n",
       "    <tr style=\"text-align: right;\">\n",
       "      <th></th>\n",
       "      <th>name</th>\n",
       "      <th>code_no</th>\n",
       "      <th>reviewer_info</th>\n",
       "      <th>r_score</th>\n",
       "      <th>r_date</th>\n",
       "      <th>r_times</th>\n",
       "      <th>proving</th>\n",
       "      <th>r_comments</th>\n",
       "      <th>owner_reply</th>\n",
       "    </tr>\n",
       "  </thead>\n",
       "  <tbody>\n",
       "    <tr>\n",
       "      <th>162022</th>\n",
       "      <td>깐부치킨 방이맛골점</td>\n",
       "      <td>1475194153</td>\n",
       "      <td>네이버 업데이트에 의한 삭제</td>\n",
       "      <td>별점\\n5</td>\n",
       "      <td>최근 방문일\\n20.5.28.목</td>\n",
       "      <td>1번째 방문</td>\n",
       "      <td>영수증</td>\n",
       "      <td>좋아요</td>\n",
       "      <td>NaN</td>\n",
       "    </tr>\n",
       "    <tr>\n",
       "      <th>162023</th>\n",
       "      <td>깐부치킨 방이맛골점</td>\n",
       "      <td>1475194153</td>\n",
       "      <td>네이버 업데이트에 의한 삭제</td>\n",
       "      <td>별점\\n5</td>\n",
       "      <td>최근 방문일\\n20.5.27.수</td>\n",
       "      <td>1번째 방문</td>\n",
       "      <td>영수증</td>\n",
       "      <td>내사랑 깐부 크리스피 제일 좋아함</td>\n",
       "      <td>NaN</td>\n",
       "    </tr>\n",
       "  </tbody>\n",
       "</table>\n",
       "</div>"
      ],
      "text/plain": [
       "              name     code_no    reviewer_info r_score             r_date  \\\n",
       "162022  깐부치킨 방이맛골점  1475194153  네이버 업데이트에 의한 삭제   별점\\n5  최근 방문일\\n20.5.28.목   \n",
       "162023  깐부치킨 방이맛골점  1475194153  네이버 업데이트에 의한 삭제   별점\\n5  최근 방문일\\n20.5.27.수   \n",
       "\n",
       "       r_times proving          r_comments owner_reply  \n",
       "162022  1번째 방문     영수증                 좋아요         NaN  \n",
       "162023  1번째 방문     영수증  내사랑 깐부 크리스피 제일 좋아함         NaN  "
      ]
     },
     "metadata": {},
     "output_type": "display_data"
    },
    {
     "name": "stdout",
     "output_type": "stream",
     "text": [
      "--------------------------------------------------------------------------------\n",
      "70 1893578146 멕시카나치킨 송파점 시작||1초 소요 로딩완료S||2개 펼치기 완료||17개의 리뷰가 있네요\n",
      "o#o#o#o#o#o#o#o#o#o#o#o#o#o#o#o#o#\n",
      " 송파구 DINING 5250개 중간저장   <<멕시카나치킨 송파점 17개 완료.>>\n",
      "--------------------------------------------------------------------------------\n",
      "71 1745889638 청 치킨 시작||2초 소요 로딩완료S||1개 펼치기 완료||38개의 리뷰가 있네요\n",
      "o#o#o#o#o#o#o#o#o#o#o#o#o#o#o#o#o#o#o#o#o#o###o##o#o#o#o#o#o#o#o#o#o#o#o#\n",
      " 송파구 DINING 5288개 중간저장   <<청 치킨 38개 완료.>>\n",
      "--------------------------------------------------------------------------------\n",
      "72 1949956304 치킨시즌 시작||3초 소요 로딩완료S||1개 펼치기 완료||54개의 리뷰가 있네요\n",
      "o#o#o#o#o#o#o#o#o#o#o#o#o#o#o#o#o#o#o#o#o#o#o#o#o#o#o#o#o#o#o#o#o#o#o#o#o#o#o#o#o#o#o#o#o#o#o#o#o#o#o#o#o#o#\n",
      " 송파구 DINING 5342개 중간저장   <<치킨시즌 54개 완료.>>\n",
      "--------------------------------------------------------------------------------\n",
      "73 1752647593 명가통닭 올림픽공원점 시작||3초 소요 로딩완료S||0개 펼치기 완료||53개의 리뷰가 있네요\n",
      "o#o#o#o#o#o#o#o#o#o#o#o#o#o#o#o#o#o#o#o#o#o#o#o#o#o#o#o#o#o#o#o#o#o#o#o#o#o#o#o#o#o#o#o#o#o#o#o#o#o#o#o#o#\n",
      " 송파구 DINING 5395개 중간저장   <<명가통닭 올림픽공원점 53개 완료.>>\n",
      "--------------------------------------------------------------------------------\n",
      "74 20404928 호치킨 방이시장점 시작||2초 소요 로딩완료S||0개 펼치기 완료||27개의 리뷰가 있네요\n",
      "o#o#o#o#o#o#o#o#o#o#o#o#o#o#o#o#o#o#o#o#o#o#o#o#o#o#o#\n",
      " 송파구 DINING 5422개 중간저장   <<호치킨 방이시장점 27개 완료.>>\n",
      "--------------------------------------------------------------------------------\n",
      "75 1435557668 BHC치킨 송파구청점 시작||3초 소요 로딩완료S||2개 펼치기 완료||57개의 리뷰가 있네요\n",
      "o#o#o#o#o#o#o#o#o#o#o#o#o#o#o#o#o#o#o#o#o#o#o#o#o#o#o#o#o#o#o#o#ro#o#o#o#o#o#o#o#o#o#o#o#o#o#o#o#o#o#o#o#o#o#o#o#o#\n",
      " 송파구 DINING 5479개 중간저장   <<BHC치킨 송파구청점 57개 완료.>>\n",
      "--------------------------------------------------------------------------------\n",
      "76 1291213054 바른치킨 방이점 시작||3초 소요 로딩완료S||3개 펼치기 완료||45개의 리뷰가 있네요\n",
      "o#o#o#o#o#o#o#o#o#o#o#o#o#o#o#o#o#o#o#o#o#o#o#o#o#o#o#o#o#o#o#o#o#o#o#o#o#ro#o#o#o#o#o#o#o#\n",
      " 송파구 DINING 5524개 중간저장   <<바른치킨 방이점 45개 완료.>>\n",
      "--------------------------------------------------------------------------------\n",
      "77 36173059 오꾸꼬 오금점 시작||2초 소요 로딩완료S||0개 펼치기 완료||24개의 리뷰가 있네요\n",
      "o#o#ro#o#o#o#o#o#o#o#o#o#o#o#o#o#o#o#o#o#o#o#o#o#\n",
      " 송파구 DINING 5548개 중간저장   <<오꾸꼬 오금점 24개 완료.>>\n",
      "--------------------------------------------------------------------------------\n",
      "78 38006871 60계 올림픽공원역점 시작||1초 소요 로딩완료S||1개 펼치기 완료||17개의 리뷰가 있네요\n",
      "o#o#o#o#o#o#o#o#o#o#o#o#o#o#o#o#o#\n",
      " 송파구 DINING 5565개 중간저장   <<60계 올림픽공원역점 17개 완료.>>\n",
      "--------------------------------------------------------------------------------\n",
      "79 37272036 호식이두마리치킨 방이점 시작||1초 소요 로딩완료S||0개 펼치기 완료||13개의 리뷰가 있네요\n",
      "o#o#o#o#o#ro#o#o#o#o#o#o#o#\n",
      " 송파구 DINING 5578개 중간저장   <<호식이두마리치킨 방이점 13개 완료.>>\n"
     ]
    },
    {
     "name": "stderr",
     "output_type": "stream",
     "text": [
      "[WDM] - \n",
      "\n",
      "[WDM] - ====== WebDriver manager ======\n",
      "[WDM] - Current google-chrome version is 95.0.4638\n",
      "[WDM] - Get LATEST driver version for 95.0.4638\n",
      "[WDM] - Driver [C:\\Users\\N\\.wdm\\drivers\\chromedriver\\win32\\95.0.4638.54\\chromedriver.exe] found in cache\n"
     ]
    },
    {
     "name": "stdout",
     "output_type": "stream",
     "text": [
      "reboot chrome\n",
      "리뷰 수집 데이터 확인해주세요~\n"
     ]
    },
    {
     "data": {
      "text/html": [
       "<div>\n",
       "<style scoped>\n",
       "    .dataframe tbody tr th:only-of-type {\n",
       "        vertical-align: middle;\n",
       "    }\n",
       "\n",
       "    .dataframe tbody tr th {\n",
       "        vertical-align: top;\n",
       "    }\n",
       "\n",
       "    .dataframe thead th {\n",
       "        text-align: right;\n",
       "    }\n",
       "</style>\n",
       "<table border=\"1\" class=\"dataframe\">\n",
       "  <thead>\n",
       "    <tr style=\"text-align: right;\">\n",
       "      <th></th>\n",
       "      <th>name</th>\n",
       "      <th>code_no</th>\n",
       "      <th>reviewer_info</th>\n",
       "      <th>r_score</th>\n",
       "      <th>r_date</th>\n",
       "      <th>r_times</th>\n",
       "      <th>proving</th>\n",
       "      <th>r_comments</th>\n",
       "      <th>owner_reply</th>\n",
       "    </tr>\n",
       "  </thead>\n",
       "  <tbody>\n",
       "    <tr>\n",
       "      <th>162367</th>\n",
       "      <td>호식이두마리치킨 방이점</td>\n",
       "      <td>37272036</td>\n",
       "      <td>네이버 업데이트에 의한 삭제</td>\n",
       "      <td>별점\\n4.5</td>\n",
       "      <td>최근 방문일\\n17.1.1.일</td>\n",
       "      <td>1번째 방문</td>\n",
       "      <td>영수증</td>\n",
       "      <td>굿</td>\n",
       "      <td>NaN</td>\n",
       "    </tr>\n",
       "    <tr>\n",
       "      <th>162368</th>\n",
       "      <td>호식이두마리치킨 방이점</td>\n",
       "      <td>37272036</td>\n",
       "      <td>네이버 업데이트에 의한 삭제</td>\n",
       "      <td>별점\\n4</td>\n",
       "      <td>최근 방문일\\n16.1.27.수</td>\n",
       "      <td>1번째 방문</td>\n",
       "      <td>영수증</td>\n",
       "      <td>맛있어요</td>\n",
       "      <td>NaN</td>\n",
       "    </tr>\n",
       "  </tbody>\n",
       "</table>\n",
       "</div>"
      ],
      "text/plain": [
       "                name   code_no    reviewer_info  r_score             r_date  \\\n",
       "162367  호식이두마리치킨 방이점  37272036  네이버 업데이트에 의한 삭제  별점\\n4.5   최근 방문일\\n17.1.1.일   \n",
       "162368  호식이두마리치킨 방이점  37272036  네이버 업데이트에 의한 삭제    별점\\n4  최근 방문일\\n16.1.27.수   \n",
       "\n",
       "       r_times proving r_comments owner_reply  \n",
       "162367  1번째 방문     영수증          굿         NaN  \n",
       "162368  1번째 방문     영수증       맛있어요         NaN  "
      ]
     },
     "metadata": {},
     "output_type": "display_data"
    },
    {
     "name": "stdout",
     "output_type": "stream",
     "text": [
      "--------------------------------------------------------------------------------\n",
      "80 1029712992 쭈아통치킨 시작||2초 소요 로딩완료S||3개 펼치기 완료||28개의 리뷰가 있네요\n",
      "o#o#o#o#o#o#o#o#o#o#o#o#o#o#o#o#o#o#o#o#o#o#o#o#o#o#o#o#\n",
      " 송파구 DINING 5606개 중간저장   <<쭈아통치킨 28개 완료.>>\n",
      "--------------------------------------------------------------------------------\n",
      "81 1042306437 큰집닭강정 방이점 시작||4초 소요 로딩완료S||1개 펼치기 완료||68개의 리뷰가 있네요\n",
      "o#o#o#o#o#o#o#o#o#o#o#o#o#o#o#o#o#o#o#o#o#o#o#o#o#o#o#o#o#o#o#o#o#o#o#o#o#o#o#o#o#o#o#o#o#o#o#o#o#o#o#o#o#o#o#o#o#o#o#o#o#o#o#o#o#o#o#o#\n",
      " 송파구 DINING 5674개 중간저장   <<큰집닭강정 방이점 68개 완료.>>\n",
      "--------------------------------------------------------------------------------\n",
      "82 19512511 BBQ치킨 잠실파크리오점 시작||8초 소요 로딩완료S||3개 펼치기 완료||139개의 리뷰가 있네요\n",
      "o#o#o#o#o#o#o#o#o#o#o#o#o#o#o#o#o#o#o#o#o#o#o#o#o#o#o#o#o#o#o#o#o#o#o#o#o#o#o#o#o#o#o#o#o#o#o#o#o#o#o#o#o#o#o#o#o#o#o#o#o#o#o#o#o#o#o#o#o#o#o#o#o#o#o#o#o#o#o#o#o#o#o#o#o#o#o#o#o#o#o#o#o#o#o#o#o#o#o#o#o#o#o#o#o#o#o#o#o#o#o#o#o#o#o#o#o#o#o#o#o#o#o#o#o#o#o#o#o#o#o#o#o#o#o#o#o#o#o#\n",
      " 송파구 DINING 5813개 중간저장   <<BBQ치킨 잠실파크리오점 139개 완료.>>\n",
      "--------------------------------------------------------------------------------\n",
      "83 1708268052 BBQ치킨 방이스타점 시작||1초 소요 로딩완료S||0개 펼치기 완료||2개의 리뷰가 있네요\n",
      "o#o#\n",
      " 송파구 DINING 5815개 중간저장   <<BBQ치킨 방이스타점 2개 완료.>>\n",
      "--------------------------------------------------------------------------------\n",
      "84 37349495 60계 잠실파크리오점 시작||3초 소요 로딩완료S||0개 펼치기 완료||50개의 리뷰가 있네요\n",
      "o#o#o#o#o#o#o#o#o#o#o#o#o#o#o#o#o#o#o#o#o#o#o#o#o#o#o#o#o#o#o#o#o#o#o#o#o#o#o#o#o#o#o#o#o#o#o#o#o#o#\n",
      " 송파구 DINING 5865개 중간저장   <<60계 잠실파크리오점 50개 완료.>>\n",
      "--------------------------------------------------------------------------------\n",
      "85 18529355 치킨뱅이 방이점 시작||5초 소요 로딩완료S||0개 펼치기 완료||68개의 리뷰가 있네요\n",
      "o#o#o#o#o#o#o#o#o#o#o#o#o#o#o#o#"
     ]
    }
   ],
   "source": [
    "업종= 'DINING'\n",
    "idx=0\n",
    "member='세원'\n",
    "# member='준혁'\n",
    "# member='승순'\n",
    "print(f'####################{member}님의 크롤링을 시작합니다#####################')\n",
    "\n",
    "for i in range(30):\n",
    "    try:\n",
    "        for 구이름 in member_dict[member]:\n",
    "            code_file = '가게코드_' + 구이름 + '_'+ 업종 + '.csv'\n",
    "            if check_file(code_path, code_file):\n",
    "                naver_review_scrapping(구이름, 업종, slow=1)\n",
    "            else:\n",
    "                print(f'{구이름} {업종}이 없습니다. ')\n",
    "    except:\n",
    "        time.sleep(idx**2)\n",
    "        idx+=1\n",
    "        print(f'{idx} 실패')\n",
    "        \n",
    "    if idx%10 == 0:\n",
    "        clear_screen()\n",
    "        \n",
    "    if idx>=30:\n",
    "        \n",
    "        break"
   ]
  },
  {
   "cell_type": "code",
   "execution_count": null,
   "metadata": {
    "ExecuteTime": {
     "start_time": "2021-10-30T10:46:18.329Z"
    }
   },
   "outputs": [],
   "source": [
    "df = pd.read_csv('data/리뷰/리뷰정보_강남구_DINING.csv')"
   ]
  },
  {
   "cell_type": "code",
   "execution_count": null,
   "metadata": {
    "ExecuteTime": {
     "start_time": "2021-10-30T10:46:18.331Z"
    }
   },
   "outputs": [],
   "source": [
    "df.shape"
   ]
  }
 ],
 "metadata": {
  "kernelspec": {
   "display_name": "Python 3",
   "language": "python",
   "name": "python3"
  },
  "language_info": {
   "codemirror_mode": {
    "name": "ipython",
    "version": 3
   },
   "file_extension": ".py",
   "mimetype": "text/x-python",
   "name": "python",
   "nbconvert_exporter": "python",
   "pygments_lexer": "ipython3",
   "version": "3.8.5"
  },
  "toc": {
   "base_numbering": 1,
   "nav_menu": {},
   "number_sections": true,
   "sideBar": true,
   "skip_h1_title": false,
   "title_cell": "Table of Contents",
   "title_sidebar": "Contents",
   "toc_cell": false,
   "toc_position": {
    "height": "calc(100% - 180px)",
    "left": "10px",
    "top": "150px",
    "width": "322.792px"
   },
   "toc_section_display": true,
   "toc_window_display": false
  }
 },
 "nbformat": 4,
 "nbformat_minor": 5
}
