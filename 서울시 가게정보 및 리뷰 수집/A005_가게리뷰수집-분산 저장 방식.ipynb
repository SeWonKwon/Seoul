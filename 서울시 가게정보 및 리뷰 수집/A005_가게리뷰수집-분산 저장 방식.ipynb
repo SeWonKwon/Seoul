{
 "cells": [
  {
   "cell_type": "markdown",
   "metadata": {},
   "source": [
    "<a href='https://github.com/SeWonKwon' ><div> <img src ='https://slid-capture.s3.ap-northeast-2.amazonaws.com/public/image_upload/6556674324ed41a289a354258718280d/964e5a8b-75ad-41fc-ae75-0ca66d06fbc7.png' align='left' /> </div></a>\n"
   ]
  },
  {
   "cell_type": "markdown",
   "metadata": {},
   "source": [
    "1. 네이버 자료\n",
    "\n",
    "2. 네이버 Place 코드\n",
    "    * 기준: 서울시 동별, 업종별\n",
    "    \n",
    "    \n",
    "3. 가게정보, 리뷰 정도 겟\n",
    "\n"
   ]
  },
  {
   "cell_type": "markdown",
   "metadata": {},
   "source": [
    "# 필요함수 및 라이브러리"
   ]
  },
  {
   "cell_type": "code",
   "execution_count": 1,
   "metadata": {
    "ExecuteTime": {
     "end_time": "2021-10-26T10:41:02.157323Z",
     "start_time": "2021-10-26T10:41:01.548054Z"
    }
   },
   "outputs": [],
   "source": [
    "import time\n",
    "import pandas as pd\n",
    "import numpy as np\n",
    "import json\n",
    "from tqdm import tqdm_notebook\n",
    "\n",
    "from selenium import webdriver\n",
    "from selenium.webdriver.common.keys import Keys\n",
    "from selenium.common.exceptions import NoSuchElementException\n",
    "from selenium.common.exceptions import ElementNotInteractableException\n",
    "from selenium.common.exceptions import StaleElementReferenceException\n",
    "from selenium.common.exceptions import ElementClickInterceptedException\n",
    "from webdriver_manager.chrome import ChromeDriverManager\n",
    "from selenium.webdriver.common.by import By\n",
    "\n",
    "import warnings\n",
    "warnings.filterwarnings(action = 'ignore')\n"
   ]
  },
  {
   "cell_type": "markdown",
   "metadata": {},
   "source": [
    "## 파일 관련"
   ]
  },
  {
   "cell_type": "code",
   "execution_count": 2,
   "metadata": {
    "ExecuteTime": {
     "end_time": "2021-10-26T10:41:02.172541Z",
     "start_time": "2021-10-26T10:41:02.160324Z"
    }
   },
   "outputs": [],
   "source": [
    "def get_today():\n",
    "    import datetime\n",
    "    now = datetime.datetime.now()\n",
    "    \n",
    "    nowDate = now.strftime('%Y-%m-%d')\n",
    "#     print(nowDate)      # 2015-04-19\n",
    " \n",
    "    nowTime = now.strftime('%H:%M:%S')\n",
    "#     print(nowTime)      # 12:11:32\n",
    "\n",
    "    nowDatetime = now.strftime('%Y-%m-%d %H:%M:%S')\n",
    "    return nowDate"
   ]
  },
  {
   "cell_type": "code",
   "execution_count": 3,
   "metadata": {
    "ExecuteTime": {
     "end_time": "2021-10-26T10:41:02.188365Z",
     "start_time": "2021-10-26T10:41:02.176545Z"
    }
   },
   "outputs": [],
   "source": [
    "import os\n",
    "def check_file(file_path, file_name):\n",
    "    return os.path.isfile(file_path+file_name)"
   ]
  },
  {
   "cell_type": "code",
   "execution_count": 4,
   "metadata": {
    "ExecuteTime": {
     "end_time": "2021-10-26T10:41:02.203649Z",
     "start_time": "2021-10-26T10:41:02.191375Z"
    }
   },
   "outputs": [],
   "source": [
    "def save_df(df, path, file_name):\n",
    "    df.to_csv(path+file_name, index=False)\n",
    "    print(f'{path+file_name} 저장 완료')"
   ]
  },
  {
   "cell_type": "code",
   "execution_count": 5,
   "metadata": {
    "ExecuteTime": {
     "end_time": "2021-10-26T10:41:02.219175Z",
     "start_time": "2021-10-26T10:41:02.205653Z"
    }
   },
   "outputs": [],
   "source": [
    "def read_csv_코드정보(code_path , code_file):\n",
    "    df = pd.read_csv(code_path + code_file )\n",
    "    return df"
   ]
  },
  {
   "cell_type": "code",
   "execution_count": 6,
   "metadata": {
    "ExecuteTime": {
     "end_time": "2021-10-26T10:41:02.235175Z",
     "start_time": "2021-10-26T10:41:02.221164Z"
    }
   },
   "outputs": [
    {
     "data": {
      "text/plain": [
       "'음식점:DINING, 카페: CAFE, 쇼핑: SHOPPING, 숙박: ACCOMMODATION, 병원의료: HOSPITAL, 은행: BANK,\\n   주요소:OIL, 마트슈퍼: MART, 편의점: STORE, 생활편의: CONVENIENCE, 명소: SIGHTS, 체육시설: SPORT, \\n   영화공연:CINEMA, 관공서:GOVERNMENT'"
      ]
     },
     "execution_count": 6,
     "metadata": {},
     "output_type": "execute_result"
    }
   ],
   "source": [
    "'''음식점:DINING, 카페: CAFE, 쇼핑: SHOPPING, 숙박: ACCOMMODATION, 병원의료: HOSPITAL, 은행: BANK,\n",
    "   주요소:OIL, 마트슈퍼: MART, 편의점: STORE, 생활편의: CONVENIENCE, 명소: SIGHTS, 체육시설: SPORT, \n",
    "   영화공연:CINEMA, 관공서:GOVERNMENT'''"
   ]
  },
  {
   "cell_type": "markdown",
   "metadata": {},
   "source": [
    "###### 서울시 동 load 관련"
   ]
  },
  {
   "cell_type": "code",
   "execution_count": 7,
   "metadata": {
    "ExecuteTime": {
     "end_time": "2021-10-26T10:41:02.251181Z",
     "start_time": "2021-10-26T10:41:02.237167Z"
    }
   },
   "outputs": [],
   "source": [
    "import pickle\n",
    "import collections\n",
    "\n",
    "def get_seoul_dong():\n",
    "    with open('data/서울시_구별_동정리.pickle','rb') as fw:\n",
    "        dong_dict = pickle.load( fw)\n",
    "\n",
    "    dong_key_list = list(dong_dict.keys())\n",
    "    dong_key_list.sort()\n",
    "    # dong_key_list\n",
    "\n",
    "    for 구이름 in dong_key_list:\n",
    "        dong_dict[구이름] = sorted(dong_dict[구이름])\n",
    "    \n",
    "    return dong_dict"
   ]
  },
  {
   "cell_type": "code",
   "execution_count": 8,
   "metadata": {
    "ExecuteTime": {
     "end_time": "2021-10-26T10:41:02.267187Z",
     "start_time": "2021-10-26T10:41:02.255173Z"
    }
   },
   "outputs": [],
   "source": [
    "dong_dict = get_seoul_dong()"
   ]
  },
  {
   "cell_type": "markdown",
   "metadata": {},
   "source": [
    "## 웹 조정 관련"
   ]
  },
  {
   "cell_type": "code",
   "execution_count": 9,
   "metadata": {
    "ExecuteTime": {
     "end_time": "2021-10-26T10:41:02.283190Z",
     "start_time": "2021-10-26T10:41:02.271171Z"
    }
   },
   "outputs": [],
   "source": [
    "from IPython.display import clear_output\n",
    "\n",
    "def clear_screen():\n",
    "    clear_output(wait=True)\n",
    "    print(\"Cleared Output\")"
   ]
  },
  {
   "cell_type": "code",
   "execution_count": 10,
   "metadata": {
    "ExecuteTime": {
     "end_time": "2021-10-26T10:41:02.299184Z",
     "start_time": "2021-10-26T10:41:02.285178Z"
    }
   },
   "outputs": [],
   "source": [
    "def is_clickable(wd):\n",
    "    return wd.is_enabled() and wd.is_displayed()"
   ]
  },
  {
   "cell_type": "code",
   "execution_count": 11,
   "metadata": {
    "ExecuteTime": {
     "end_time": "2021-10-26T10:41:02.315188Z",
     "start_time": "2021-10-26T10:41:02.301184Z"
    }
   },
   "outputs": [],
   "source": [
    "def scroll_down(wd,SCROLL_PAUSE_SEC = 1):\n",
    "\n",
    "    # 스크롤 높이 가져옴\n",
    "    last_height = wd.execute_script(\"return document.body.scrollHeight\")\n",
    "#     print(last_height)\n",
    "    while True:\n",
    "        # 끝까지 스크롤 다운\n",
    "        wd.execute_script(\"window.scrollTo(0, document.body.scrollHeight);\")\n",
    "\n",
    "        # 1초 대기\n",
    "        time.sleep(SCROLL_PAUSE_SEC)\n",
    "\n",
    "        # 스크롤 다운 후 스크롤 높이 다시 가져옴\n",
    "        new_height = wd.execute_script(\"return document.body.scrollHeight\")\n",
    "        if new_height == last_height:\n",
    "            break\n",
    "        last_height = new_height"
   ]
  },
  {
   "cell_type": "markdown",
   "metadata": {},
   "source": [
    "## 크롤링 에러 방지 관련"
   ]
  },
  {
   "cell_type": "code",
   "execution_count": 12,
   "metadata": {
    "ExecuteTime": {
     "end_time": "2021-10-26T10:41:02.331181Z",
     "start_time": "2021-10-26T10:41:02.317186Z"
    }
   },
   "outputs": [],
   "source": [
    "def try_none_text_by_class_name(wd,class_name, col='col'):\n",
    "    try:\n",
    "        return wd.find_element_by_class_name(class_name).text\n",
    "    except NoSuchElementException:\n",
    "        print(col, end='')\n",
    "        return np.NaN\n",
    "    except:\n",
    "        print('이상한 에러 try_none_text', col)\n",
    "        return np.NaN\n",
    "        "
   ]
  },
  {
   "cell_type": "code",
   "execution_count": 13,
   "metadata": {
    "ExecuteTime": {
     "end_time": "2021-10-26T10:41:02.347235Z",
     "start_time": "2021-10-26T10:41:02.333191Z"
    }
   },
   "outputs": [],
   "source": [
    "def strong_try_none_text_by_class_name(wd,class_name, col='col'):\n",
    "    try:\n",
    "        temps = wd.find_elements_by_class_name(class_name)\n",
    "        for temp in temps:\n",
    "            if temp.text.startswith('편의'):\n",
    "                return temp.text.split('\\n')[1]\n",
    "        else:\n",
    "            return np.NaN\n",
    "    except NoSuchElementException:\n",
    "#         print(col, end='')\n",
    "        return np.NaN\n",
    "        "
   ]
  },
  {
   "cell_type": "code",
   "execution_count": 14,
   "metadata": {
    "ExecuteTime": {
     "end_time": "2021-10-26T10:41:02.363248Z",
     "start_time": "2021-10-26T10:41:02.349226Z"
    }
   },
   "outputs": [],
   "source": [
    "def review_dict(s):\n",
    "    review_dict = {}\n",
    "#     print(s.split('평균 별점'))\n",
    "    s = s.split('평균 별점')\n",
    "    review_dict['평균_별점'] = s[-1].strip()\n",
    "    s = s[0].split('사진')\n",
    "    if len(s) >= 2:\n",
    "        review_dict['사진'] = int(s[-1])\n",
    "        review_dict['리뷰'] = s[0].split()[-1]\n",
    "    else:\n",
    "        review_dict['사진'] = np.NaN\n",
    "        review_dict['리뷰'] = s[0].split()[-1]\n",
    "# print(s)\n",
    "    return review_dict"
   ]
  },
  {
   "cell_type": "markdown",
   "metadata": {},
   "source": [
    "## get_store_info from naver.place by place_code"
   ]
  },
  {
   "cell_type": "code",
   "execution_count": 15,
   "metadata": {
    "ExecuteTime": {
     "end_time": "2021-10-26T10:41:02.378268Z",
     "start_time": "2021-10-26T10:41:02.366249Z"
    }
   },
   "outputs": [],
   "source": [
    "def get_review(review_block, name, code_no, show=False):\n",
    "    reviewer_info = '네이버 업데이트에 의한 삭제'\n",
    "\n",
    "    r_info_list = review_block.find_element_by_class_name('_3-LAD').find_elements_by_class_name('_1fvo3')\n",
    "\n",
    "    r_score = r_info_list[0].text\n",
    "    r_date = r_info_list[1].text\n",
    "    r_times = r_info_list[2].text\n",
    "    proving = r_info_list[3].text\n",
    "    r_comment = try_none_text_by_class_name(review_block,'_3vfQ6','r')   \n",
    "    owner_reply = try_none_text_by_class_name(review_block,'L-XXo','o')\n",
    "    \n",
    "    if show:    \n",
    "        print(len(r_info_list))\n",
    "        print('r_score',r_score)\n",
    "        print('r_date',r_date)\n",
    "        print('r_times',r_times)\n",
    "        print('proving',proving)\n",
    "        print('#### r_comment ####')\n",
    "        print(r_comment)\n",
    "        print('####owner_reply###')\n",
    "        print(owner_reply)\n",
    "        print('##################')\n",
    "    return name, code_no, reviewer_info, r_score, r_date, r_times, proving, r_comment, owner_reply"
   ]
  },
  {
   "cell_type": "code",
   "execution_count": 16,
   "metadata": {
    "ExecuteTime": {
     "end_time": "2021-10-26T10:41:02.394291Z",
     "start_time": "2021-10-26T10:41:02.380269Z"
    }
   },
   "outputs": [],
   "source": [
    "def get_review_none( name, code_no):\n",
    "\n",
    "    return name, code_no, np.NaN, np.NaN, np.NaN, np.NaN, np.NaN, np.NaN, np.NaN"
   ]
  },
  {
   "cell_type": "code",
   "execution_count": 17,
   "metadata": {
    "ExecuteTime": {
     "end_time": "2021-10-26T10:41:02.410296Z",
     "start_time": "2021-10-26T10:41:02.397294Z"
    }
   },
   "outputs": [],
   "source": [
    "code_path = 'data/코드/'\n",
    "구이름 = '강남구'\n",
    "업종 = 'DINING'\n",
    "code_file = '가게코드_' + 구이름 + '_'+ 업종 + '.csv'\n",
    "slow=1"
   ]
  },
  {
   "cell_type": "markdown",
   "metadata": {
    "ExecuteTime": {
     "end_time": "2021-10-25T09:32:41.019576Z",
     "start_time": "2021-10-25T09:32:41.005565Z"
    }
   },
   "source": [
    "code_df = pd.read_csv(code_path+code_file, dtype='str')"
   ]
  },
  {
   "cell_type": "markdown",
   "metadata": {
    "ExecuteTime": {
     "end_time": "2021-10-25T09:33:13.451848Z",
     "start_time": "2021-10-25T09:33:13.432831Z"
    }
   },
   "source": [
    "code_df['store_code'].to_list()"
   ]
  },
  {
   "cell_type": "code",
   "execution_count": 18,
   "metadata": {
    "ExecuteTime": {
     "end_time": "2021-10-26T10:41:02.457872Z",
     "start_time": "2021-10-26T10:41:02.412296Z"
    },
    "scrolled": false
   },
   "outputs": [],
   "source": [
    "def naver_review_scrapping(구이름, 업종, slow=1):\n",
    "\n",
    "    start_time = time.time()\n",
    "\n",
    "    options = webdriver.ChromeOptions()\n",
    "\n",
    "    options.add_argument(\"--start-maximized\")\n",
    "    wd = webdriver.Chrome(ChromeDriverManager().install(), options= options)  # chromedriver 열기\n",
    "    wd.implicitly_wait(0.001*slow)\n",
    "\n",
    "    code_path = 'data/코드/'\n",
    "    review_path = 'data/리뷰/'\n",
    "\n",
    "\n",
    "    code_file = '가게코드_' + 구이름 + '_'+ 업종 + '.csv'\n",
    "    review_file = '리뷰정보_' + 구이름 + '_'+ 업종 + '.csv'\n",
    "\n",
    "\n",
    "    code_df = pd.read_csv(code_path+code_file, dtype='str')\n",
    "\n",
    "    review_idx = 0\n",
    "    review_df = pd.DataFrame(columns=(\"name\", \"code_no\", \"reviewer_info\", \"r_score\", \"r_date\", 'r_times', 'proving', 'r_comments', 'owner_reply'))\n",
    "\n",
    "    # code_no = code_df.loc[3].values[0]\n",
    "    store_cnt = 0\n",
    "    done_idx = 0\n",
    "\n",
    "    if check_file(review_path, review_file):\n",
    "        review_df = pd.read_csv(review_path+review_file)\n",
    "        review_idx = review_df.shape[0]\n",
    "    done_list = list(set(review_df['code_no'].apply(lambda x: str(x)).values))\n",
    "\n",
    "    print(f'{구이름}  {업종} 업종 의 리뷰 정보 스크래핑을 시작합니다.')\n",
    "\n",
    "    print(f'{code_df.shape[0]}개의 가게코드가 있습니다.')\n",
    "\n",
    "    print(f'{len(done_list)}가게의 리뷰{review_idx}개가 이전에 완료 되었었습니다. 이어서 진행합니다.')\n",
    "    code_list = code_df['store_code'].to_list()\n",
    "    \n",
    "    for code_no_ in tqdm_notebook(code_list):\n",
    "        code_no = str(code_no_)\n",
    "        if code_no in done_list:\n",
    "#             print(code_no, '중복중복!!')\n",
    "            continue\n",
    "        store_cnt+=1\n",
    "        \n",
    "        place_url = 'https://pcmap.place.naver.com/restaurant/'+str(code_no)+'/review/visitor'\n",
    "        wd.get(place_url)\n",
    "        time.sleep(2*slow)\n",
    "        scroll_down(wd,2)\n",
    "        cnt_idx = 0\n",
    "        error_idx = 0 \n",
    "        wd.implicitly_wait(1*slow)\n",
    "        \n",
    "        # 삭제되거나 없어진 페이지 널값 처리\n",
    "        try:\n",
    "            if wd.find_element(By.CLASS_NAME, '_1--tV').text.startswith('요청하신'):\n",
    "                review_df.loc[review_idx] = get_review_none( '삭제된페이지', code_no)\n",
    "                wd.implicitly_wait(1*slow)\n",
    "                review_idx += 1\n",
    "                print('삭제된 페이지')\n",
    "                continue\n",
    "        except:\n",
    "            pass\n",
    "        \n",
    "\n",
    "        name = wd.find_element_by_class_name('_3XamX').text\n",
    "        print('-'*80)\n",
    "        print(f'{store_cnt} {code_no} {name} 시작', end='||')\n",
    "    #         print('name',name)\n",
    "    #         print('code_no',code_no)\n",
    "        scroll_start_time=time.time()\n",
    "        try:\n",
    "\n",
    "            while (time.time() - scroll_start_time) < 50: # 50권장 \n",
    "    #                 print(time.time() - scroll_start_time)\n",
    "\n",
    "                wd.find_element_by_class_name('_3iTUo').click()\n",
    "    #                 print('리뷰 더보기')\n",
    "                time.sleep(0.5*slow)\n",
    "            else:\n",
    "                print(f'{int(time.time() - scroll_start_time)}초 소요','로딩완료', end='||')\n",
    "\n",
    "        except NoSuchElementException:\n",
    "            print(f'{int(time.time() - scroll_start_time)}초 소요','로딩완료S', end='||')\n",
    "        except StaleElementReferenceException :\n",
    "            print(\"S_E_Exc\")\n",
    "            pass\n",
    "        except:\n",
    "            pass\n",
    "\n",
    "        펼_idx=0\n",
    "        for o_bnt in wd.find_elements_by_class_name('dX2wL'):\n",
    "            try:\n",
    "                o_bnt.find_element_by_xpath('..').find_element_by_xpath('..').click()\n",
    "                펼_idx+=1\n",
    "#                 print('펼', end='')\n",
    "\n",
    "            except:\n",
    "                pass\n",
    "        else:\n",
    "            print(f'{펼_idx}개 펼치기 완료', end='||')\n",
    "            \n",
    "        # 리뷰가 없는 경우\n",
    "        if wd.find_elements(By.CLASS_NAME, '_1jVSG'):\n",
    "#             print('리뷰가 있네용~')\n",
    "            pass\n",
    "        else:\n",
    "            print('가게의 리뷰가 없네용~')\n",
    "            review_df.loc[review_idx] = get_review_none( name, code_no)\n",
    "            wd.implicitly_wait(1*slow)\n",
    "            review_idx += 1\n",
    "            review_df.to_csv(review_path+review_file, index=False)\n",
    "            continue\n",
    "            \n",
    "        review_block_list = wd.find_elements(By.CLASS_NAME, '_1jVSG')[0].find_elements(By.CLASS_NAME, '_3FaRE')\n",
    "        \n",
    "        print(f'{len(review_block_list)}개의 리뷰가 있네요')\n",
    "\n",
    "        \n",
    "        for review_block in review_block_list:\n",
    "            try:\n",
    "                wd.implicitly_wait(0.0001*slow)\n",
    "                review_df.loc[review_idx] = get_review(review_block, name, code_no)\n",
    "                wd.implicitly_wait(1*slow)\n",
    "                review_idx += 1\n",
    "                cnt_idx += 1\n",
    "                done_idx += 1\n",
    "                print('#',end='')\n",
    "            except:\n",
    "                print('!',end='')\n",
    "                error_idx += 1\n",
    "                if (error_idx > 10) and (cnt_idx/error_idx < 1):\n",
    "                    break\n",
    "                pass\n",
    "\n",
    "    #             #############################\n",
    "    #             if cnt_idx > 5:\n",
    "    #                 break\n",
    "\n",
    "\n",
    "\n",
    "        ##################### save just in case:\n",
    "        review_df.to_csv(review_path+review_file, index=False)\n",
    "        print('\\n',구이름, 업종, f'{done_idx}개 중간저장', end='   ')\n",
    "        print(f'<<{name} {cnt_idx}개 완료.>>')\n",
    "\n",
    "        if (store_cnt+1)%10 == 0:\n",
    "            wd.close()\n",
    "            time.sleep(2*slow)\n",
    "            wd = webdriver.Chrome(ChromeDriverManager().install(), options= options)  # chromedriver 열기\n",
    "            wd.implicitly_wait(1*slow)\n",
    "            print('reboot chrome')\n",
    "            \n",
    "            print('리뷰 수집 데이터 확인해주세요~')\n",
    "            display(review_df.tail(2))\n",
    "        \n",
    "\n",
    "\n",
    "    review_df.to_csv(review_path+review_file, index=False)\n",
    "    print(f'{구이름} {업종} 의 리뷰 스크래핑을 완료했습니다.')\n",
    "    print(f'{review_idx} 개 수집완료, {time.time()-start_time}')\n",
    "    wd.close()"
   ]
  },
  {
   "cell_type": "markdown",
   "metadata": {
    "ExecuteTime": {
     "end_time": "2021-10-26T09:18:04.939225Z",
     "start_time": "2021-10-26T09:18:04.925554Z"
    }
   },
   "source": [
    "# 오류로 인한 리뷰 정보 null 값 드랍"
   ]
  },
  {
   "cell_type": "markdown",
   "metadata": {
    "ExecuteTime": {
     "end_time": "2021-10-26T09:18:26.313734Z",
     "start_time": "2021-10-26T09:18:26.151524Z"
    }
   },
   "source": [
    "import pandas as pd\n",
    "dfs = pd.read_csv('data/리뷰/리뷰정보_강남구_DINING.csv')\n",
    "dfs.shape\n",
    "dfs.dropna(axis=0, subset=['r_date', 'reviewer_info'], inplace=True)\n",
    "dfs.to_csv('data/리뷰/리뷰정보_강남구_DINING.csv',index=False)"
   ]
  },
  {
   "cell_type": "markdown",
   "metadata": {
    "ExecuteTime": {
     "start_time": "2021-10-26T10:03:05.876Z"
    }
   },
   "source": [
    "구이름 = '강남구'\n",
    "업종= 'DINING'\n",
    "naver_review_scrapping(구이름, 업종, slow=1)"
   ]
  },
  {
   "cell_type": "markdown",
   "metadata": {},
   "source": [
    "# 셋팅"
   ]
  },
  {
   "cell_type": "code",
   "execution_count": 19,
   "metadata": {
    "ExecuteTime": {
     "end_time": "2021-10-26T10:41:02.473868Z",
     "start_time": "2021-10-26T10:41:02.459861Z"
    }
   },
   "outputs": [],
   "source": [
    "code_path = 'data/코드/'\n",
    "store_path = 'data/가게/'\n",
    "review_path = 'data/리뷰/'\n",
    "# code_file = '가게코드_' + 구이름 + '_'+ 업종 + '.csv'\n",
    "# store_file = '가게정보_' + 구이름 +  '_'+ 업종 + '.csv'\n",
    "# review_file = '리뷰정보_' + 구이름 +  '_'+ 업종 + '.csv'"
   ]
  },
  {
   "cell_type": "code",
   "execution_count": 20,
   "metadata": {
    "ExecuteTime": {
     "end_time": "2021-10-26T10:41:02.489878Z",
     "start_time": "2021-10-26T10:41:02.475863Z"
    }
   },
   "outputs": [],
   "source": [
    "detail= True\n",
    "slow=1"
   ]
  },
  {
   "cell_type": "markdown",
   "metadata": {},
   "source": [
    "#  코드 수집 및 저장"
   ]
  },
  {
   "cell_type": "code",
   "execution_count": 21,
   "metadata": {
    "ExecuteTime": {
     "end_time": "2021-10-26T10:41:02.505870Z",
     "start_time": "2021-10-26T10:41:02.492868Z"
    }
   },
   "outputs": [
    {
     "name": "stdout",
     "output_type": "stream",
     "text": [
      "['강남구', '강동구', '강북구', '강서구', '관악구', '광진구', '구로구', '금천구', '노원구', '도봉구', '동대문구', '동작구', '마포구', '서대문구', '서초구', '성동구', '성북구', '송파구', '양천구', '영등포구', '용산구', '은평구', '종로구', '중구', '중랑구']\n"
     ]
    }
   ],
   "source": [
    "print(sorted(dong_dict.keys()))"
   ]
  },
  {
   "cell_type": "markdown",
   "metadata": {},
   "source": [
    "* '강남구' : **세원**\n",
    "\n",
    "* '강동구', '강북구', '강서구', '관악구' : **준혁**    \n",
    "\n",
    "\n",
    "* '광진구', '구로구', '금천구', '노원구', '도봉구', '동대문구' : 미정    \n",
    "\n",
    "\n",
    "* '동작구', '마포구', '서대문구', '서초구', '성동구', '성북구' : 미정    \n",
    "\n",
    "\n",
    "* '송파구', '양천구' : 미정    \n",
    "\n",
    "     \n",
    "* '영등포구', '용산구', '은평구', '종로구', '중구', '중랑구':**승순**   \n"
   ]
  },
  {
   "cell_type": "code",
   "execution_count": 22,
   "metadata": {
    "ExecuteTime": {
     "end_time": "2021-10-26T10:41:02.521873Z",
     "start_time": "2021-10-26T10:41:02.507870Z"
    }
   },
   "outputs": [],
   "source": [
    "세원_list=['강남구'] \n",
    "준혁_list=['강동구', '강북구', '강서구', '관악구'] \n",
    "승순_list=['영등포구', '용산구', '은평구','종로구', '중구', '중랑구'] "
   ]
  },
  {
   "cell_type": "code",
   "execution_count": null,
   "metadata": {
    "ExecuteTime": {
     "start_time": "2021-10-26T10:41:01.596Z"
    },
    "scrolled": false
   },
   "outputs": [
    {
     "name": "stderr",
     "output_type": "stream",
     "text": [
      "[WDM] - \n",
      "\n",
      "[WDM] - ====== WebDriver manager ======\n",
      "[WDM] - Current google-chrome version is 94.0.4606\n",
      "[WDM] - Get LATEST driver version for 94.0.4606\n",
      "[WDM] - Driver [C:\\Users\\N\\.wdm\\drivers\\chromedriver\\win32\\94.0.4606.61\\chromedriver.exe] found in cache\n"
     ]
    },
    {
     "name": "stdout",
     "output_type": "stream",
     "text": [
      "강남구  DINING 업종 의 리뷰 정보 스크래핑을 시작합니다.\n",
      "6863개의 가게코드가 있습니다.\n",
      "756가게의 리뷰50298개가 이전에 완료 되었었습니다. 이어서 진행합니다.\n"
     ]
    },
    {
     "data": {
      "application/vnd.jupyter.widget-view+json": {
       "model_id": "01d35adfca504c45a2eb5a793fd2a6f2",
       "version_major": 2,
       "version_minor": 0
      },
      "text/plain": [
       "HBox(children=(HTML(value=''), FloatProgress(value=0.0, max=6863.0), HTML(value='')))"
      ]
     },
     "metadata": {},
     "output_type": "display_data"
    },
    {
     "name": "stdout",
     "output_type": "stream",
     "text": [
      "--------------------------------------------------------------------------------\n",
      "1 1423945701 cyclo 쌀국수전문점 시작||1초 소요 로딩완료S||0개 펼치기 완료||가게의 리뷰가 없네용~\n",
      "--------------------------------------------------------------------------------\n",
      "2 1166920228 까사 메르시 시작||3초 소요 로딩완료S||0개 펼치기 완료||가게의 리뷰가 없네용~\n",
      "--------------------------------------------------------------------------------\n",
      "3 1964176852 올리브 그레인앤와인 시작||1초 소요 로딩완료S||0개 펼치기 완료||4개의 리뷰가 있네요\n",
      "ro#ro#ro#ro#\n",
      " 강남구 DINING 4개 중간저장   <<올리브 그레인앤와인 4개 완료.>>\n",
      "--------------------------------------------------------------------------------\n",
      "4 19748145 푸딩에프엔비 시작||1초 소요 로딩완료S||0개 펼치기 완료||가게의 리뷰가 없네용~\n",
      "--------------------------------------------------------------------------------\n",
      "5 21224916 바로쿡닷컴 시작||1초 소요 로딩완료S||0개 펼치기 완료||가게의 리뷰가 없네용~\n",
      "--------------------------------------------------------------------------------\n",
      "6 1277026321 더피자샵 시작||1초 소요 로딩완료S||0개 펼치기 완료||2개의 리뷰가 있네요\n",
      "ro#ro#\n",
      " 강남구 DINING 6개 중간저장   <<더피자샵 2개 완료.>>\n",
      "--------------------------------------------------------------------------------\n",
      "7 1270950802 테이블159 시작||1초 소요 로딩완료S||0개 펼치기 완료||3개의 리뷰가 있네요\n",
      "ro#ro#ro#\n",
      " 강남구 DINING 9개 중간저장   <<테이블159 3개 완료.>>\n",
      "--------------------------------------------------------------------------------\n",
      "8 38404623 루나리치 가맹본부 시작||1초 소요 로딩완료S||0개 펼치기 완료||가게의 리뷰가 없네용~\n",
      "--------------------------------------------------------------------------------\n",
      "9 1978338705 일마레 시작||1초 소요 로딩완료S||0개 펼치기 완료||가게의 리뷰가 없네용~\n",
      "--------------------------------------------------------------------------------\n",
      "10 1578074208 Lab 시작||1초 소요 로딩완료S||0개 펼치기 완료||가게의 리뷰가 없네용~\n",
      "--------------------------------------------------------------------------------\n",
      "11 1265491553 푸드빌 시작||1초 소요 로딩완료S||0개 펼치기 완료||가게의 리뷰가 없네용~\n",
      "--------------------------------------------------------------------------------\n",
      "12 1424574060 토마토 시작||1초 소요 로딩완료S||0개 펼치기 완료||1개의 리뷰가 있네요\n",
      "ro#\n",
      " 강남구 DINING 10개 중간저장   <<토마토 1개 완료.>>\n",
      "--------------------------------------------------------------------------------\n",
      "13 1891787259 딕훼밀리 시작||1초 소요 로딩완료S||0개 펼치기 완료||8개의 리뷰가 있네요\n",
      "ro#ro#ro#ro#ro#ro#ro#ro#\n",
      " 강남구 DINING 18개 중간저장   <<딕훼밀리 8개 완료.>>\n",
      "--------------------------------------------------------------------------------\n",
      "14 1778667587 무크 시작||1초 소요 로딩완료S||0개 펼치기 완료||3개의 리뷰가 있네요\n",
      "ro#ro#ro#\n",
      " 강남구 DINING 21개 중간저장   <<무크 3개 완료.>>\n",
      "--------------------------------------------------------------------------------\n",
      "15 1482868354 테이블온더문 시작||1초 소요 로딩완료S||0개 펼치기 완료||가게의 리뷰가 없네용~\n",
      "--------------------------------------------------------------------------------\n",
      "16 1582474051 개포동왕떡볶이 시작||1초 소요 로딩완료S||0개 펼치기 완료||1개의 리뷰가 있네요\n",
      "ro#\n",
      " 강남구 DINING 22개 중간저장   <<개포동왕떡볶이 1개 완료.>>\n",
      "--------------------------------------------------------------------------------\n",
      "17 1908278006 이모네깁밥 시작||1초 소요 로딩완료S||0개 펼치기 완료||5개의 리뷰가 있네요\n",
      "ro#ro#ro#ro#ro#\n",
      " 강남구 DINING 27개 중간저장   <<이모네깁밥 5개 완료.>>\n",
      "--------------------------------------------------------------------------------\n",
      "18 1223286191 신개념김밥전문점 시작||1초 소요 로딩완료S||0개 펼치기 완료||가게의 리뷰가 없네용~\n",
      "--------------------------------------------------------------------------------\n",
      "19 1928393608 샌드위밋 도곡점 시작||1초 소요 로딩완료S||0개 펼치기 완료||2개의 리뷰가 있네요\n",
      "ro#ro#\n",
      " 강남구 DINING 29개 중간저장   <<샌드위밋 도곡점 2개 완료.>>\n"
     ]
    },
    {
     "name": "stderr",
     "output_type": "stream",
     "text": [
      "[WDM] - \n",
      "\n",
      "[WDM] - ====== WebDriver manager ======\n",
      "[WDM] - Current google-chrome version is 94.0.4606\n",
      "[WDM] - Get LATEST driver version for 94.0.4606\n",
      "[WDM] - Driver [C:\\Users\\N\\.wdm\\drivers\\chromedriver\\win32\\94.0.4606.61\\chromedriver.exe] found in cache\n"
     ]
    },
    {
     "name": "stdout",
     "output_type": "stream",
     "text": [
      "reboot chrome\n",
      "리뷰 수집 데이터 확인해주세요~\n"
     ]
    },
    {
     "data": {
      "text/html": [
       "<div>\n",
       "<style scoped>\n",
       "    .dataframe tbody tr th:only-of-type {\n",
       "        vertical-align: middle;\n",
       "    }\n",
       "\n",
       "    .dataframe tbody tr th {\n",
       "        vertical-align: top;\n",
       "    }\n",
       "\n",
       "    .dataframe thead th {\n",
       "        text-align: right;\n",
       "    }\n",
       "</style>\n",
       "<table border=\"1\" class=\"dataframe\">\n",
       "  <thead>\n",
       "    <tr style=\"text-align: right;\">\n",
       "      <th></th>\n",
       "      <th>name</th>\n",
       "      <th>code_no</th>\n",
       "      <th>reviewer_info</th>\n",
       "      <th>r_score</th>\n",
       "      <th>r_date</th>\n",
       "      <th>r_times</th>\n",
       "      <th>proving</th>\n",
       "      <th>r_comments</th>\n",
       "      <th>owner_reply</th>\n",
       "    </tr>\n",
       "  </thead>\n",
       "  <tbody>\n",
       "    <tr>\n",
       "      <th>50335</th>\n",
       "      <td>샌드위밋 도곡점</td>\n",
       "      <td>1928393608</td>\n",
       "      <td>네이버 업데이트에 의한 삭제</td>\n",
       "      <td>별점\\n5</td>\n",
       "      <td>최근 방문일\\n20.12.28.월</td>\n",
       "      <td>1번째 방문</td>\n",
       "      <td>영수증</td>\n",
       "      <td>NaN</td>\n",
       "      <td>NaN</td>\n",
       "    </tr>\n",
       "    <tr>\n",
       "      <th>50336</th>\n",
       "      <td>샌드위밋 도곡점</td>\n",
       "      <td>1928393608</td>\n",
       "      <td>네이버 업데이트에 의한 삭제</td>\n",
       "      <td>별점\\n5</td>\n",
       "      <td>최근 방문일\\n19.12.13.금</td>\n",
       "      <td>1번째 방문</td>\n",
       "      <td>영수증</td>\n",
       "      <td>NaN</td>\n",
       "      <td>NaN</td>\n",
       "    </tr>\n",
       "  </tbody>\n",
       "</table>\n",
       "</div>"
      ],
      "text/plain": [
       "           name     code_no    reviewer_info r_score              r_date  \\\n",
       "50335  샌드위밋 도곡점  1928393608  네이버 업데이트에 의한 삭제   별점\\n5  최근 방문일\\n20.12.28.월   \n",
       "50336  샌드위밋 도곡점  1928393608  네이버 업데이트에 의한 삭제   별점\\n5  최근 방문일\\n19.12.13.금   \n",
       "\n",
       "      r_times proving r_comments owner_reply  \n",
       "50335  1번째 방문     영수증        NaN         NaN  \n",
       "50336  1번째 방문     영수증        NaN         NaN  "
      ]
     },
     "metadata": {},
     "output_type": "display_data"
    },
    {
     "name": "stdout",
     "output_type": "stream",
     "text": [
      "--------------------------------------------------------------------------------\n",
      "20 18593529 해마도 시작||1초 소요 로딩완료S||0개 펼치기 완료||가게의 리뷰가 없네용~\n",
      "--------------------------------------------------------------------------------\n",
      "21 1304810521 마리오피자 양재매헌점 시작||1초 소요 로딩완료S||0개 펼치기 완료||가게의 리뷰가 없네용~\n",
      "--------------------------------------------------------------------------------\n",
      "22 18420160 피자OK 시작||1초 소요 로딩완료S||0개 펼치기 완료||가게의 리뷰가 없네용~\n",
      "--------------------------------------------------------------------------------\n",
      "23 19474936 빅투치킨 개포동점 시작||1초 소요 로딩완료S||0개 펼치기 완료||3개의 리뷰가 있네요\n",
      "ro#ro#ro#\n",
      " 강남구 DINING 32개 중간저장   <<빅투치킨 개포동점 3개 완료.>>\n",
      "--------------------------------------------------------------------------------\n",
      "24 38299348 통닭사랑 시작||1초 소요 로딩완료S||0개 펼치기 완료||4개의 리뷰가 있네요\n",
      "ro#ro#ro#ro#\n",
      " 강남구 DINING 36개 중간저장   <<통닭사랑 4개 완료.>>\n",
      "--------------------------------------------------------------------------------\n",
      "25 19452573 베리웰 양재점 시작||1초 소요 로딩완료S||0개 펼치기 완료||가게의 리뷰가 없네용~\n",
      "--------------------------------------------------------------------------------\n",
      "26 1328025388 THE빙빙 시작||1초 소요 로딩완료S||0개 펼치기 완료||1개의 리뷰가 있네요\n",
      "ro#\n",
      " 강남구 DINING 37개 중간저장   <<THE빙빙 1개 완료.>>\n",
      "--------------------------------------------------------------------------------\n",
      "27 769648729 누릉지통닭구이양재점 시작||1초 소요 로딩완료S||0개 펼치기 완료||1개의 리뷰가 있네요\n",
      "ro#\n",
      " 강남구 DINING 38개 중간저장   <<누릉지통닭구이양재점 1개 완료.>>\n",
      "--------------------------------------------------------------------------------\n",
      "28 1373877829 비에이치씨양재점 시작||1초 소요 로딩완료S||0개 펼치기 완료||2개의 리뷰가 있네요\n",
      "ro#ro#\n",
      " 강남구 DINING 40개 중간저장   <<비에이치씨양재점 2개 완료.>>\n",
      "--------------------------------------------------------------------------------\n",
      "29 35287732 라이스치킨 시작||1초 소요 로딩완료S||0개 펼치기 완료||가게의 리뷰가 없네용~\n",
      "--------------------------------------------------------------------------------\n",
      "30 1207456246 개포차 시작||1초 소요 로딩완료S||0개 펼치기 완료||9개의 리뷰가 있네요\n",
      "ro#ro#ro#ro#ro#ro#ro#ro#ro#\n",
      " 강남구 DINING 49개 중간저장   <<개포차 9개 완료.>>\n",
      "--------------------------------------------------------------------------------\n",
      "31 38508524 J&J 시작||1초 소요 로딩완료S||0개 펼치기 완료||가게의 리뷰가 없네용~\n",
      "--------------------------------------------------------------------------------\n",
      "32 37168581 시그넷 드링킹 앤더슨 시작||1초 소요 로딩완료S||0개 펼치기 완료||2개의 리뷰가 있네요\n",
      "ro#ro#\n",
      " 강남구 DINING 51개 중간저장   <<시그넷 드링킹 앤더슨 2개 완료.>>\n",
      "--------------------------------------------------------------------------------\n",
      "33 1285833838 뎅 시작||1초 소요 로딩완료S||0개 펼치기 완료||1개의 리뷰가 있네요\n",
      "ro#\n",
      " 강남구 DINING 52개 중간저장   <<뎅 1개 완료.>>\n",
      "--------------------------------------------------------------------------------\n",
      "34 1382273270 스테이츠맨 시작||1초 소요 로딩완료S||0개 펼치기 완료||가게의 리뷰가 없네용~\n",
      "--------------------------------------------------------------------------------\n",
      "35 13107012 비어팩토리 시작||1초 소요 로딩완료S||0개 펼치기 완료||2개의 리뷰가 있네요\n",
      "ro#ro#\n",
      " 강남구 DINING 54개 중간저장   <<비어팩토리 2개 완료.>>\n",
      "--------------------------------------------------------------------------------\n",
      "36 1831858245 산전수전 시작||1초 소요 로딩완료S||0개 펼치기 완료||가게의 리뷰가 없네용~\n",
      "--------------------------------------------------------------------------------\n",
      "37 18799768 치어스개포점 시작||1초 소요 로딩완료S||0개 펼치기 완료||5개의 리뷰가 있네요\n",
      "ro#ro#ro#ro#ro#\n",
      " 강남구 DINING 59개 중간저장   <<치어스개포점 5개 완료.>>\n",
      "--------------------------------------------------------------------------------\n",
      "38 34326027 바보스 양재점 시작||1초 소요 로딩완료S||0개 펼치기 완료||2개의 리뷰가 있네요\n",
      "ro#ro#\n",
      " 강남구 DINING 61개 중간저장   <<바보스 양재점 2개 완료.>>\n",
      "--------------------------------------------------------------------------------\n",
      "39 18710976 리더스나인 시작||1초 소요 로딩완료S||0개 펼치기 완료||가게의 리뷰가 없네용~\n",
      "--------------------------------------------------------------------------------\n",
      "40 1541252540 덮덮밥 서울대치점 시작||1초 소요 로딩완료S||0개 펼치기 완료||가게의 리뷰가 없네용~\n",
      "--------------------------------------------------------------------------------\n",
      "41 38780230 공룡꼼장어&불닭 시작||1초 소요 로딩완료S||0개 펼치기 완료||가게의 리뷰가 없네용~\n",
      "--------------------------------------------------------------------------------\n",
      "42 38780324 삼시세끼한식 시작||1초 소요 로딩완료S||0개 펼치기 완료||가게의 리뷰가 없네용~\n",
      "--------------------------------------------------------------------------------\n",
      "43 932143280 FRESH HOLIC 시작||1초 소요 로딩완료S||0개 펼치기 완료||가게의 리뷰가 없네용~\n",
      "--------------------------------------------------------------------------------\n",
      "44 37433111 우인식당 시작||1초 소요 로딩완료S||0개 펼치기 완료||가게의 리뷰가 없네용~\n",
      "--------------------------------------------------------------------------------\n",
      "45 21406990 예도락 시작||1초 소요 로딩완료S||0개 펼치기 완료||1개의 리뷰가 있네요\n",
      "ro#\n",
      " 강남구 DINING 62개 중간저장   <<예도락 1개 완료.>>\n",
      "--------------------------------------------------------------------------------\n",
      "46 31689632 문가출장연회 시작||1초 소요 로딩완료S||0개 펼치기 완료||가게의 리뷰가 없네용~\n",
      "--------------------------------------------------------------------------------\n",
      "47 20631119 더부페클래식 시작||1초 소요 로딩완료S||0개 펼치기 완료||가게의 리뷰가 없네용~\n",
      "--------------------------------------------------------------------------------\n",
      "48 1331528479 강남회수산 시작||1초 소요 로딩완료S||0개 펼치기 완료||8개의 리뷰가 있네요\n",
      "ro#ro#ro#ro#ro#ro#ro#ro#\n",
      " 강남구 DINING 70개 중간저장   <<강남회수산 8개 완료.>>\n",
      "--------------------------------------------------------------------------------\n",
      "49 13160663 전주사철탕 시작||1초 소요 로딩완료S||0개 펼치기 완료||1개의 리뷰가 있네요\n",
      "ro#\n",
      " 강남구 DINING 71개 중간저장   <<전주사철탕 1개 완료.>>\n"
     ]
    },
    {
     "name": "stderr",
     "output_type": "stream",
     "text": [
      "[WDM] - \n",
      "\n",
      "[WDM] - ====== WebDriver manager ======\n",
      "[WDM] - Current google-chrome version is 94.0.4606\n",
      "[WDM] - Get LATEST driver version for 94.0.4606\n",
      "[WDM] - Driver [C:\\Users\\N\\.wdm\\drivers\\chromedriver\\win32\\94.0.4606.61\\chromedriver.exe] found in cache\n"
     ]
    },
    {
     "name": "stdout",
     "output_type": "stream",
     "text": [
      "reboot chrome\n",
      "리뷰 수집 데이터 확인해주세요~\n"
     ]
    },
    {
     "data": {
      "text/html": [
       "<div>\n",
       "<style scoped>\n",
       "    .dataframe tbody tr th:only-of-type {\n",
       "        vertical-align: middle;\n",
       "    }\n",
       "\n",
       "    .dataframe tbody tr th {\n",
       "        vertical-align: top;\n",
       "    }\n",
       "\n",
       "    .dataframe thead th {\n",
       "        text-align: right;\n",
       "    }\n",
       "</style>\n",
       "<table border=\"1\" class=\"dataframe\">\n",
       "  <thead>\n",
       "    <tr style=\"text-align: right;\">\n",
       "      <th></th>\n",
       "      <th>name</th>\n",
       "      <th>code_no</th>\n",
       "      <th>reviewer_info</th>\n",
       "      <th>r_score</th>\n",
       "      <th>r_date</th>\n",
       "      <th>r_times</th>\n",
       "      <th>proving</th>\n",
       "      <th>r_comments</th>\n",
       "      <th>owner_reply</th>\n",
       "    </tr>\n",
       "  </thead>\n",
       "  <tbody>\n",
       "    <tr>\n",
       "      <th>50393</th>\n",
       "      <td>강남회수산</td>\n",
       "      <td>1331528479</td>\n",
       "      <td>네이버 업데이트에 의한 삭제</td>\n",
       "      <td>별점\\n5</td>\n",
       "      <td>최근 방문일\\n20.9.8.화</td>\n",
       "      <td>1번째 방문</td>\n",
       "      <td>영수증</td>\n",
       "      <td>NaN</td>\n",
       "      <td>NaN</td>\n",
       "    </tr>\n",
       "    <tr>\n",
       "      <th>50394</th>\n",
       "      <td>전주사철탕</td>\n",
       "      <td>13160663</td>\n",
       "      <td>네이버 업데이트에 의한 삭제</td>\n",
       "      <td>별점\\n3.5</td>\n",
       "      <td>최근 방문일\\n9.17.금</td>\n",
       "      <td>1번째 방문</td>\n",
       "      <td>영수증</td>\n",
       "      <td>NaN</td>\n",
       "      <td>NaN</td>\n",
       "    </tr>\n",
       "  </tbody>\n",
       "</table>\n",
       "</div>"
      ],
      "text/plain": [
       "        name     code_no    reviewer_info  r_score            r_date r_times  \\\n",
       "50393  강남회수산  1331528479  네이버 업데이트에 의한 삭제    별점\\n5  최근 방문일\\n20.9.8.화  1번째 방문   \n",
       "50394  전주사철탕    13160663  네이버 업데이트에 의한 삭제  별점\\n3.5    최근 방문일\\n9.17.금  1번째 방문   \n",
       "\n",
       "      proving r_comments owner_reply  \n",
       "50393     영수증        NaN         NaN  \n",
       "50394     영수증        NaN         NaN  "
      ]
     },
     "metadata": {},
     "output_type": "display_data"
    },
    {
     "name": "stdout",
     "output_type": "stream",
     "text": [
      "--------------------------------------------------------------------------------\n",
      "50 1676441391 유미분식 시작||1초 소요 로딩완료S||0개 펼치기 완료||1개의 리뷰가 있네요\n",
      "ro#\n",
      " 강남구 DINING 72개 중간저장   <<유미분식 1개 완료.>>\n",
      "--------------------------------------------------------------------------------\n",
      "51 20870299 곤드레국수집 시작||1초 소요 로딩완료S||0개 펼치기 완료||가게의 리뷰가 없네용~\n",
      "--------------------------------------------------------------------------------\n",
      "52 896437819 심서방포차 시작||1초 소요 로딩완료S||0개 펼치기 완료||가게의 리뷰가 없네용~\n",
      "--------------------------------------------------------------------------------\n",
      "53 751778275 신의주순대국감자탕 시작||1초 소요 로딩완료S||0개 펼치기 완료||가게의 리뷰가 없네용~\n",
      "--------------------------------------------------------------------------------\n",
      "54 1721725150 시나브로 시작||1초 소요 로딩완료S||0개 펼치기 완료||8개의 리뷰가 있네요\n",
      "ro#ro#ro#ro#ro#ro#ro#ro#\n",
      " 강남구 DINING 80개 중간저장   <<시나브로 8개 완료.>>\n",
      "--------------------------------------------------------------------------------\n",
      "55 34906669 굿데이 시작||1초 소요 로딩완료S||0개 펼치기 완료||가게의 리뷰가 없네용~\n",
      "--------------------------------------------------------------------------------\n",
      "56 1497627760 사라치 시작||1초 소요 로딩완료S||0개 펼치기 완료||가게의 리뷰가 없네용~\n",
      "--------------------------------------------------------------------------------\n",
      "57 1347507049 밥먹자국밥집 시작||1초 소요 로딩완료S||0개 펼치기 완료||가게의 리뷰가 없네용~\n",
      "--------------------------------------------------------------------------------\n",
      "58 455193426 할매보쌈개포점 시작||1초 소요 로딩완료S||0개 펼치기 완료||가게의 리뷰가 없네용~\n",
      "--------------------------------------------------------------------------------\n",
      "59 1929326983 왕대박 시작||1초 소요 로딩완료S||0개 펼치기 완료||1개의 리뷰가 있네요\n",
      "ro#\n",
      " 강남구 DINING 81개 중간저장   <<왕대박 1개 완료.>>\n"
     ]
    },
    {
     "name": "stderr",
     "output_type": "stream",
     "text": [
      "[WDM] - \n",
      "\n",
      "[WDM] - ====== WebDriver manager ======\n",
      "[WDM] - Current google-chrome version is 94.0.4606\n",
      "[WDM] - Get LATEST driver version for 94.0.4606\n",
      "[WDM] - Driver [C:\\Users\\N\\.wdm\\drivers\\chromedriver\\win32\\94.0.4606.61\\chromedriver.exe] found in cache\n"
     ]
    },
    {
     "name": "stdout",
     "output_type": "stream",
     "text": [
      "reboot chrome\n",
      "리뷰 수집 데이터 확인해주세요~\n"
     ]
    },
    {
     "data": {
      "text/html": [
       "<div>\n",
       "<style scoped>\n",
       "    .dataframe tbody tr th:only-of-type {\n",
       "        vertical-align: middle;\n",
       "    }\n",
       "\n",
       "    .dataframe tbody tr th {\n",
       "        vertical-align: top;\n",
       "    }\n",
       "\n",
       "    .dataframe thead th {\n",
       "        text-align: right;\n",
       "    }\n",
       "</style>\n",
       "<table border=\"1\" class=\"dataframe\">\n",
       "  <thead>\n",
       "    <tr style=\"text-align: right;\">\n",
       "      <th></th>\n",
       "      <th>name</th>\n",
       "      <th>code_no</th>\n",
       "      <th>reviewer_info</th>\n",
       "      <th>r_score</th>\n",
       "      <th>r_date</th>\n",
       "      <th>r_times</th>\n",
       "      <th>proving</th>\n",
       "      <th>r_comments</th>\n",
       "      <th>owner_reply</th>\n",
       "    </tr>\n",
       "  </thead>\n",
       "  <tbody>\n",
       "    <tr>\n",
       "      <th>50410</th>\n",
       "      <td>할매보쌈개포점</td>\n",
       "      <td>455193426</td>\n",
       "      <td>NaN</td>\n",
       "      <td>NaN</td>\n",
       "      <td>NaN</td>\n",
       "      <td>NaN</td>\n",
       "      <td>NaN</td>\n",
       "      <td>NaN</td>\n",
       "      <td>NaN</td>\n",
       "    </tr>\n",
       "    <tr>\n",
       "      <th>50411</th>\n",
       "      <td>왕대박</td>\n",
       "      <td>1929326983</td>\n",
       "      <td>네이버 업데이트에 의한 삭제</td>\n",
       "      <td>별점\\n3</td>\n",
       "      <td>최근 방문일\\n8.25.수</td>\n",
       "      <td>1번째 방문</td>\n",
       "      <td>영수증</td>\n",
       "      <td>NaN</td>\n",
       "      <td>NaN</td>\n",
       "    </tr>\n",
       "  </tbody>\n",
       "</table>\n",
       "</div>"
      ],
      "text/plain": [
       "          name     code_no    reviewer_info r_score          r_date r_times  \\\n",
       "50410  할매보쌈개포점   455193426              NaN     NaN             NaN     NaN   \n",
       "50411      왕대박  1929326983  네이버 업데이트에 의한 삭제   별점\\n3  최근 방문일\\n8.25.수  1번째 방문   \n",
       "\n",
       "      proving r_comments owner_reply  \n",
       "50410     NaN        NaN         NaN  \n",
       "50411     영수증        NaN         NaN  "
      ]
     },
     "metadata": {},
     "output_type": "display_data"
    },
    {
     "name": "stdout",
     "output_type": "stream",
     "text": [
      "--------------------------------------------------------------------------------\n",
      "60 37426291 산야초맘반찬가게 시작||1초 소요 로딩완료S||0개 펼치기 완료||가게의 리뷰가 없네용~\n",
      "--------------------------------------------------------------------------------\n",
      "61 1543731336 대도회일식 시작||1초 소요 로딩완료S||0개 펼치기 완료||가게의 리뷰가 없네용~\n",
      "--------------------------------------------------------------------------------\n",
      "62 1476847605 돈까츠당 시작||1초 소요 로딩완료S||0개 펼치기 완료||1개의 리뷰가 있네요\n",
      "ro#\n",
      " 강남구 DINING 82개 중간저장   <<돈까츠당 1개 완료.>>\n",
      "--------------------------------------------------------------------------------\n",
      "63 1486133643 대한명품육회 유케야 시작||1초 소요 로딩완료S||0개 펼치기 완료||2개의 리뷰가 있네요\n",
      "ro#ro#\n",
      " 강남구 DINING 84개 중간저장   <<대한명품육회 유케야 2개 완료.>>\n",
      "--------------------------------------------------------------------------------\n",
      "64 34344781 취화선 시작||1초 소요 로딩완료S||0개 펼치기 완료||1개의 리뷰가 있네요\n",
      "ro#\n",
      " 강남구 DINING 85개 중간저장   <<취화선 1개 완료.>>\n",
      "--------------------------------------------------------------------------------\n",
      "65 20629623 파스타코코 시작||1초 소요 로딩완료S||0개 펼치기 완료||가게의 리뷰가 없네용~\n",
      "--------------------------------------------------------------------------------\n",
      "66 36177609 돼지오빠 시작||1초 소요 로딩완료S||0개 펼치기 완료||2개의 리뷰가 있네요\n",
      "ro#ro#\n",
      " 강남구 DINING 87개 중간저장   <<돼지오빠 2개 완료.>>\n",
      "--------------------------------------------------------------------------------\n",
      "67 1246272418 배떡 대치점 시작||1초 소요 로딩완료S||0개 펼치기 완료||5개의 리뷰가 있네요\n",
      "ro#ro#ro#ro#ro#\n",
      " 강남구 DINING 92개 중간저장   <<배떡 대치점 5개 완료.>>\n",
      "--------------------------------------------------------------------------------\n",
      "68 964354588 행복 Dream 토스트 시작||1초 소요 로딩완료S||0개 펼치기 완료||4개의 리뷰가 있네요\n",
      "ro#ro#ro#ro#\n",
      " 강남구 DINING 96개 중간저장   <<행복 Dream 토스트 4개 완료.>>\n",
      "--------------------------------------------------------------------------------\n",
      "69 38403842 먹쉬돈나 가맹본부 시작||1초 소요 로딩완료S||0개 펼치기 완료||가게의 리뷰가 없네용~\n",
      "--------------------------------------------------------------------------------\n",
      "70 1828939707 핫도그앤커피 엑소엑소 시작||1초 소요 로딩완료S||0개 펼치기 완료||가게의 리뷰가 없네용~\n",
      "--------------------------------------------------------------------------------\n",
      "71 38772346 누룽지통닭구이 시작||1초 소요 로딩완료S||0개 펼치기 완료||3개의 리뷰가 있네요\n",
      "ro#ro#ro#\n",
      " 강남구 DINING 99개 중간저장   <<누룽지통닭구이 3개 완료.>>\n",
      "--------------------------------------------------------------------------------\n",
      "72 37541336 뜨레봉두마리치킨 일원점 시작||1초 소요 로딩완료S||0개 펼치기 완료||1개의 리뷰가 있네요\n",
      "ro#\n",
      " 강남구 DINING 100개 중간저장   <<뜨레봉두마리치킨 일원점 1개 완료.>>\n",
      "--------------------------------------------------------------------------------\n",
      "73 1022983335 빠삭후라이드 치킨 시작||2초 소요 로딩완료S||0개 펼치기 완료||가게의 리뷰가 없네용~\n",
      "--------------------------------------------------------------------------------\n",
      "74 1190654899 혜화시장 일원점 시작||1초 소요 로딩완료S||0개 펼치기 완료||가게의 리뷰가 없네용~\n",
      "--------------------------------------------------------------------------------\n",
      "75 464274168 석탑호프치킨 시작||1초 소요 로딩완료S||0개 펼치기 완료||가게의 리뷰가 없네용~\n",
      "--------------------------------------------------------------------------------\n",
      "76 18596075 토크쇼 시작||1초 소요 로딩완료S||0개 펼치기 완료||2개의 리뷰가 있네요\n",
      "ro#ro#\n",
      " 강남구 DINING 102개 중간저장   <<토크쇼 2개 완료.>>\n",
      "--------------------------------------------------------------------------------\n",
      "77 20642445 원조실내포장마차 시작||1초 소요 로딩완료S||0개 펼치기 완료||가게의 리뷰가 없네용~\n",
      "--------------------------------------------------------------------------------\n",
      "78 18569925 핑클 시작||1초 소요 로딩완료S||0개 펼치기 완료||3개의 리뷰가 있네요\n",
      "ro#ro#ro#\n",
      " 강남구 DINING 105개 중간저장   <<핑클 3개 완료.>>\n",
      "--------------------------------------------------------------------------------\n",
      "79 1228771284 영심이네 실내포차 시작||1초 소요 로딩완료S||0개 펼치기 완료||1개의 리뷰가 있네요\n",
      "ro#\n",
      " 강남구 DINING 106개 중간저장   <<영심이네 실내포차 1개 완료.>>\n"
     ]
    },
    {
     "name": "stderr",
     "output_type": "stream",
     "text": [
      "[WDM] - \n",
      "\n",
      "[WDM] - ====== WebDriver manager ======\n",
      "[WDM] - Current google-chrome version is 94.0.4606\n",
      "[WDM] - Get LATEST driver version for 94.0.4606\n",
      "[WDM] - Driver [C:\\Users\\N\\.wdm\\drivers\\chromedriver\\win32\\94.0.4606.61\\chromedriver.exe] found in cache\n"
     ]
    },
    {
     "name": "stdout",
     "output_type": "stream",
     "text": [
      "reboot chrome\n",
      "리뷰 수집 데이터 확인해주세요~\n"
     ]
    },
    {
     "data": {
      "text/html": [
       "<div>\n",
       "<style scoped>\n",
       "    .dataframe tbody tr th:only-of-type {\n",
       "        vertical-align: middle;\n",
       "    }\n",
       "\n",
       "    .dataframe tbody tr th {\n",
       "        vertical-align: top;\n",
       "    }\n",
       "\n",
       "    .dataframe thead th {\n",
       "        text-align: right;\n",
       "    }\n",
       "</style>\n",
       "<table border=\"1\" class=\"dataframe\">\n",
       "  <thead>\n",
       "    <tr style=\"text-align: right;\">\n",
       "      <th></th>\n",
       "      <th>name</th>\n",
       "      <th>code_no</th>\n",
       "      <th>reviewer_info</th>\n",
       "      <th>r_score</th>\n",
       "      <th>r_date</th>\n",
       "      <th>r_times</th>\n",
       "      <th>proving</th>\n",
       "      <th>r_comments</th>\n",
       "      <th>owner_reply</th>\n",
       "    </tr>\n",
       "  </thead>\n",
       "  <tbody>\n",
       "    <tr>\n",
       "      <th>50444</th>\n",
       "      <td>핑클</td>\n",
       "      <td>18569925</td>\n",
       "      <td>네이버 업데이트에 의한 삭제</td>\n",
       "      <td>별점\\n4.5</td>\n",
       "      <td>최근 방문일\\n20.6.25.목</td>\n",
       "      <td>1번째 방문</td>\n",
       "      <td>영수증</td>\n",
       "      <td>NaN</td>\n",
       "      <td>NaN</td>\n",
       "    </tr>\n",
       "    <tr>\n",
       "      <th>50445</th>\n",
       "      <td>영심이네 실내포차</td>\n",
       "      <td>1228771284</td>\n",
       "      <td>네이버 업데이트에 의한 삭제</td>\n",
       "      <td>별점\\n4.5</td>\n",
       "      <td>최근 방문일\\n20.9.28.월</td>\n",
       "      <td>1번째 방문</td>\n",
       "      <td>영수증</td>\n",
       "      <td>NaN</td>\n",
       "      <td>NaN</td>\n",
       "    </tr>\n",
       "  </tbody>\n",
       "</table>\n",
       "</div>"
      ],
      "text/plain": [
       "            name     code_no    reviewer_info  r_score             r_date  \\\n",
       "50444         핑클    18569925  네이버 업데이트에 의한 삭제  별점\\n4.5  최근 방문일\\n20.6.25.목   \n",
       "50445  영심이네 실내포차  1228771284  네이버 업데이트에 의한 삭제  별점\\n4.5  최근 방문일\\n20.9.28.월   \n",
       "\n",
       "      r_times proving r_comments owner_reply  \n",
       "50444  1번째 방문     영수증        NaN         NaN  \n",
       "50445  1번째 방문     영수증        NaN         NaN  "
      ]
     },
     "metadata": {},
     "output_type": "display_data"
    },
    {
     "name": "stdout",
     "output_type": "stream",
     "text": [
      "--------------------------------------------------------------------------------\n",
      "80 1881556536 또바기포차 시작||1초 소요 로딩완료S||0개 펼치기 완료||가게의 리뷰가 없네용~\n",
      "--------------------------------------------------------------------------------\n",
      "81 1611963384 마당호프 시작||1초 소요 로딩완료S||0개 펼치기 완료||3개의 리뷰가 있네요\n",
      "ro#ro#ro#\n",
      " 강남구 DINING 109개 중간저장   <<마당호프 3개 완료.>>\n",
      "--------------------------------------------------------------------------------\n",
      "82 20632732 7080LIVEMUSIC 시작||1초 소요 로딩완료S||0개 펼치기 완료||가게의 리뷰가 없네용~\n",
      "--------------------------------------------------------------------------------\n",
      "83 20827549 Feeling 시작||1초 소요 로딩완료S||0개 펼치기 완료||가게의 리뷰가 없네용~\n",
      "--------------------------------------------------------------------------------\n",
      "84 18575228 휠링 시작||1초 소요 로딩완료S||0개 펼치기 완료||1개의 리뷰가 있네요\n",
      "ro#\n",
      " 강남구 DINING 110개 중간저장   <<휠링 1개 완료.>>\n",
      "--------------------------------------------------------------------------------\n",
      "85 32417451 파필리오 시작||1초 소요 로딩완료S||0개 펼치기 완료||1개의 리뷰가 있네요\n",
      "ro#\n",
      " 강남구 DINING 111개 중간저장   <<파필리오 1개 완료.>>\n",
      "--------------------------------------------------------------------------------\n",
      "86 11550824 잔치부페 시작||1초 소요 로딩완료S||0개 펼치기 완료||가게의 리뷰가 없네용~\n",
      "--------------------------------------------------------------------------------\n",
      "87 38780265 맛나곱창 시작||1초 소요 로딩완료S||0개 펼치기 완료||1개의 리뷰가 있네요\n",
      "ro#\n",
      " 강남구 DINING 112개 중간저장   <<맛나곱창 1개 완료.>>\n",
      "--------------------------------------------------------------------------------\n",
      "88 13486379 강남맛집 시작||1초 소요 로딩완료S||1개 펼치기 완료||가게의 리뷰가 없네용~\n",
      "--------------------------------------------------------------------------------\n",
      "89 1095669209 벤또랑 대치점 시작||1초 소요 로딩완료S||0개 펼치기 완료||가게의 리뷰가 없네용~\n",
      "--------------------------------------------------------------------------------\n",
      "90 1644138812 버텍스 대치점 시작||1초 소요 로딩완료S||0개 펼치기 완료||1개의 리뷰가 있네요\n",
      "ro#\n",
      " 강남구 DINING 113개 중간저장   <<버텍스 대치점 1개 완료.>>\n",
      "--------------------------------------------------------------------------------\n",
      "91 1485719894 원조부안집 양재점 시작||19초 소요 로딩완료S||23개 펼치기 완료||310개의 리뷰가 있네요\n",
      "o#o#o#o#o#o#o#o#o#o#o#o#o#o#o#o#o#o#o#o#o#o#o#o#o#o#o#o#o#o#o#o#o#o#o#o#o#o#o#o#o#o#o#o#o#o#o#o#o#o#o#o#o#o#o#o#o#o#o#o#o#o#o#o#o#o#o#o#o#o#o#o#o#o#o#o#o#o#o#o#o#o#o#o#o#o#o#o#o#o#o#o#o#o#o#o#o#o#o#o#o#o#o#o#o#o#o#o#o#o#o#o#o#o#o#o#o#o#o#o#o#o#o#o#o#o#o#o#o#o#o#o#o#o#o#o#o#o#o#o#o#o#o#o#o#o#o#o#o#o#o#o#o#o#o#o#o#o#o#o#o#o#o#o#o#o#o#o#o#o#o#o#o#o#o#o#o#o#o#o#o#o#o#o#o#o#o#o#o#o#o#o#o#o#o#o#o#o#o#o#o#o#o#o#o#o#o#o#o#o#o#o#o#o#o#o#o#o#o#o#o#o#o#o#o#o#o#o#o#o#o#o#o#o#o#o#o#o#o#o#o#o#o#o#o#o#o#o#o#o#o#o#o#o#o#o#o#o#o#o#o#o#o#o#o#o#o#o#o#o#o#o#o#o#o#o#o#o#o#o#o#o#o#o#o#o#o#o#o#o#o#o#o#o#o#o#o#o#o#o#o#o#o#o#o#o#o#o#o#o#\n",
      " 강남구 DINING 423개 중간저장   <<원조부안집 양재점 310개 완료.>>\n",
      "--------------------------------------------------------------------------------\n",
      "92 35136252 양재닭집 시작||8초 소요 로딩완료S||3개 펼치기 완료||121개의 리뷰가 있네요\n",
      "o#o#o#o#o#o#o#o#o#o#o#o#o#o#o#ro#o#o#o#o#o#o#o#o#o#o#o#o#o#ro#o#o#ro#o#o#ro#o#o#o#o#o#o#o#o#o#o#o#o#o#o#o#o#o#o#o#o#o#o#o#o#o#o#o#o#o#o#o#o#o#o#o#o#o#o#o#o#o#o#o#o#o#o#o#o#o#o#ro#o#o#o#o#o#o#o#o#o#o#o#o#o#o#o#o#o#o#o#o#o#o#o#o#o#o#o#o#o#o#o#o#o#o#\n",
      " 강남구 DINING 544개 중간저장   <<양재닭집 121개 완료.>>\n",
      "--------------------------------------------------------------------------------\n",
      "93 11679514 배나무골오리집 양재본점 시작||5초 소요 로딩완료S||2개 펼치기 완료||90개의 리뷰가 있네요\n",
      "o#o#o#o#o#o#o#o#o#o#o#o#o#o#o#o#o#o#o#o#o#o#o#o#o#o#o#o#o#o#o#o#o#o#ro#o#o#o#o#o#o#o#o#o#o#o#o#o#o#o#o#o#o#o#o#o#o#o#o#o#o#o#o#o#o#o#o#o#o#o#o#o#o#ro#o#o#o#o#o#o#o#o#o#o#o#o#o#o#o#o#\n",
      " 강남구 DINING 634개 중간저장   <<배나무골오리집 양재본점 90개 완료.>>\n",
      "--------------------------------------------------------------------------------\n",
      "94 1095244358 쌍다리돼지불백 양재점 시작||1초 소요 로딩완료S||0개 펼치기 완료||14개의 리뷰가 있네요\n",
      "o#o#o#o#ro#o#o#o#o#o#o#o#o#o#\n",
      " 강남구 DINING 648개 중간저장   <<쌍다리돼지불백 양재점 14개 완료.>>\n",
      "--------------------------------------------------------------------------------\n",
      "95 573699969 오선채 시작||3초 소요 로딩완료S||3개 펼치기 완료||60개의 리뷰가 있네요\n",
      "o#o#o#o#o#o#o#o#o#o#o#o#o#o#o#o#o#o#o#o#o#o#o#o#o#o#o#o#o#o#o#o#o#o#o#o#o#o#o#o#o#o#o#o#o#o#o#o#o#o#o#o#o#o#o#o#o#o#o#o#\n",
      " 강남구 DINING 708개 중간저장   <<오선채 60개 완료.>>\n",
      "--------------------------------------------------------------------------------\n",
      "96 37615255 THE맛있는곱창 시작||1초 소요 로딩완료S||1개 펼치기 완료||18개의 리뷰가 있네요\n",
      "o#o#o#o#o#o#o#o#o#o#o#o#o#o#o#o#o#o#\n",
      " 강남구 DINING 726개 중간저장   <<THE맛있는곱창 18개 완료.>>\n",
      "--------------------------------------------------------------------------------\n",
      "97 1646838473 고창식당 시작||1초 소요 로딩완료S||2개 펼치기 완료||12개의 리뷰가 있네요\n",
      "o#o#o#o#o#o#o#o#o#o#o#o#\n",
      " 강남구 DINING 738개 중간저장   <<고창식당 12개 완료.>>\n",
      "--------------------------------------------------------------------------------\n",
      "98 1516020578 만두랑 시작||3초 소요 로딩완료S||1개 펼치기 완료||60개의 리뷰가 있네요\n",
      "o#o#o#o#o#o#o#o#o#o#o#o#o#o#o#ro#o#o#o#o#o#o#o#o#o#o#o#o#o#o#o#o#o#o#o#o#o#o#o#o#o#o#o#o#o#o#o#o#o#o#o#o#o#o#o#o#o#o#o#o#\n",
      " 강남구 DINING 798개 중간저장   <<만두랑 60개 완료.>>\n",
      "--------------------------------------------------------------------------------\n",
      "99 1560571787 양평서울해장국큰아들집 양재점 시작||2초 소요 로딩완료S||1개 펼치기 완료||37개의 리뷰가 있네요\n",
      "ro#o#o#o#o#o#o#o#o#o#o#o#o#o#o#o#o#o#o#o#o#o#o#o#o#o#o#o#o#o#o#o#o#o#ro#o#o#\n",
      " 강남구 DINING 835개 중간저장   <<양평서울해장국큰아들집 양재점 37개 완료.>>\n"
     ]
    },
    {
     "name": "stderr",
     "output_type": "stream",
     "text": [
      "[WDM] - \n",
      "\n",
      "[WDM] - ====== WebDriver manager ======\n",
      "[WDM] - Current google-chrome version is 94.0.4606\n",
      "[WDM] - Get LATEST driver version for 94.0.4606\n",
      "[WDM] - Driver [C:\\Users\\N\\.wdm\\drivers\\chromedriver\\win32\\94.0.4606.61\\chromedriver.exe] found in cache\n"
     ]
    },
    {
     "name": "stdout",
     "output_type": "stream",
     "text": [
      "reboot chrome\n",
      "리뷰 수집 데이터 확인해주세요~\n"
     ]
    },
    {
     "data": {
      "text/html": [
       "<div>\n",
       "<style scoped>\n",
       "    .dataframe tbody tr th:only-of-type {\n",
       "        vertical-align: middle;\n",
       "    }\n",
       "\n",
       "    .dataframe tbody tr th {\n",
       "        vertical-align: top;\n",
       "    }\n",
       "\n",
       "    .dataframe thead th {\n",
       "        text-align: right;\n",
       "    }\n",
       "</style>\n",
       "<table border=\"1\" class=\"dataframe\">\n",
       "  <thead>\n",
       "    <tr style=\"text-align: right;\">\n",
       "      <th></th>\n",
       "      <th>name</th>\n",
       "      <th>code_no</th>\n",
       "      <th>reviewer_info</th>\n",
       "      <th>r_score</th>\n",
       "      <th>r_date</th>\n",
       "      <th>r_times</th>\n",
       "      <th>proving</th>\n",
       "      <th>r_comments</th>\n",
       "      <th>owner_reply</th>\n",
       "    </tr>\n",
       "  </thead>\n",
       "  <tbody>\n",
       "    <tr>\n",
       "      <th>51179</th>\n",
       "      <td>양평서울해장국큰아들집 양재점</td>\n",
       "      <td>1560571787</td>\n",
       "      <td>네이버 업데이트에 의한 삭제</td>\n",
       "      <td>별점\\n4</td>\n",
       "      <td>최근 방문일\\n19.5.5.일</td>\n",
       "      <td>1번째 방문</td>\n",
       "      <td>영수증</td>\n",
       "      <td>포이사거리 맛집. 혼밥하기에도 좋은.</td>\n",
       "      <td>NaN</td>\n",
       "    </tr>\n",
       "    <tr>\n",
       "      <th>51180</th>\n",
       "      <td>양평서울해장국큰아들집 양재점</td>\n",
       "      <td>1560571787</td>\n",
       "      <td>네이버 업데이트에 의한 삭제</td>\n",
       "      <td>별점\\n4</td>\n",
       "      <td>최근 방문일\\n19.2.27.수</td>\n",
       "      <td>1번째 방문</td>\n",
       "      <td>영수증</td>\n",
       "      <td>양평해장국의 원조입니다! 짭조름하며 내장 많이 주셔요!처음 접하신다면 조금 거부감이...</td>\n",
       "      <td>NaN</td>\n",
       "    </tr>\n",
       "  </tbody>\n",
       "</table>\n",
       "</div>"
      ],
      "text/plain": [
       "                  name     code_no    reviewer_info r_score  \\\n",
       "51179  양평서울해장국큰아들집 양재점  1560571787  네이버 업데이트에 의한 삭제   별점\\n4   \n",
       "51180  양평서울해장국큰아들집 양재점  1560571787  네이버 업데이트에 의한 삭제   별점\\n4   \n",
       "\n",
       "                  r_date r_times proving  \\\n",
       "51179   최근 방문일\\n19.5.5.일  1번째 방문     영수증   \n",
       "51180  최근 방문일\\n19.2.27.수  1번째 방문     영수증   \n",
       "\n",
       "                                              r_comments owner_reply  \n",
       "51179                               포이사거리 맛집. 혼밥하기에도 좋은.         NaN  \n",
       "51180  양평해장국의 원조입니다! 짭조름하며 내장 많이 주셔요!처음 접하신다면 조금 거부감이...         NaN  "
      ]
     },
     "metadata": {},
     "output_type": "display_data"
    },
    {
     "name": "stdout",
     "output_type": "stream",
     "text": [
      "--------------------------------------------------------------------------------\n",
      "100 13483829 평가옥 양재점 시작||4초 소요 로딩완료S||2개 펼치기 완료||62개의 리뷰가 있네요\n",
      "o#o#o#o#o#o#o#o#o#o#o#o#o#o#o#o#o#o#o#o#o#o#o#o#o#o#o#o#o#o#o#o#ro#o#o#o#o#o#o#o#o#o#o#o#o#o#ro#o#o#o#o#o#o#o#o#o#o#o#o#o#o#o#\n",
      " 강남구 DINING 897개 중간저장   <<평가옥 양재점 62개 완료.>>\n",
      "--------------------------------------------------------------------------------\n",
      "101 36459324 해우름 시작||1초 소요 로딩완료S||0개 펼치기 완료||19개의 리뷰가 있네요\n",
      "o#o#o#o#o#o#o#o#o#o#o#o#o#o#o#o#o#o#o#\n",
      " 강남구 DINING 916개 중간저장   <<해우름 19개 완료.>>\n",
      "--------------------------------------------------------------------------------\n",
      "102 1688063777 무초 시작||4초 소요 로딩완료S||0개 펼치기 완료||70개의 리뷰가 있네요\n",
      "o#o#o#o#o#o#o#o#o#o#o#o#o#o#o#o#o#o#o#o#o#o#o#o#o#o#ro#o#o#o#o#o#o#o#o#o#o#ro#o#o#o#o#o#o#o#o#o#ro#o#o#o#o#o#o#o#o#o#ro#o#o#o#o#o#o#o#o#o#ro#o#o#\n",
      " 강남구 DINING 986개 중간저장   <<무초 70개 완료.>>\n",
      "--------------------------------------------------------------------------------\n",
      "103 1000436386 새우닭 양재역점 시작||2초 소요 로딩완료S||0개 펼치기 완료||25개의 리뷰가 있네요\n",
      "o#o#o#o#o#o#o#o#o#o#o#o#o#o#o#o#o#o#o#o#o#o#o#o#o#\n",
      " 강남구 DINING 1011개 중간저장   <<새우닭 양재역점 25개 완료.>>\n",
      "--------------------------------------------------------------------------------\n",
      "104 38276649 호미곶 시작||1초 소요 로딩완료S||1개 펼치기 완료||17개의 리뷰가 있네요\n",
      "o#o#o#o#o#o#o#o#o#o#o#o#o#o#o#o#o#\n",
      " 강남구 DINING 1028개 중간저장   <<호미곶 17개 완료.>>\n",
      "--------------------------------------------------------------------------------\n",
      "105 79452707 족황상제 개포점 시작||2초 소요 로딩완료S||0개 펼치기 완료||35개의 리뷰가 있네요\n",
      "o#o#o#o#o#o#o#o#o#o#o#o#o#o#o#o#o#o#o#o#o#o#o#o#o#o#o#o#o#o#o#o#o#o#o#\n",
      " 강남구 DINING 1063개 중간저장   <<족황상제 개포점 35개 완료.>>\n",
      "--------------------------------------------------------------------------------\n",
      "106 399895808 생연어집 시작||3초 소요 로딩완료S||2개 펼치기 완료||53개의 리뷰가 있네요\n",
      "o#o#o#o#ro#o#o#o#o#o#o#o#o#o#o#o#o#o#o#o#o#o#o#o#o#o#o#o#o#o#o#o#o#o#o#o#o#o#o#o#o#o#o#ro#o#o#o#o#o#o#o#o#o#\n",
      " 강남구 DINING 1116개 중간저장   <<생연어집 53개 완료.>>\n",
      "--------------------------------------------------------------------------------\n",
      "107 1586186778 우산식당 시작||2초 소요 로딩완료S||2개 펼치기 완료||26개의 리뷰가 있네요\n",
      "o#o#o#o#o#o#o#o#o#o#o#o#o#o#o#o#o#o#o#o#o#o#o#o#o#o#\n",
      " 강남구 DINING 1142개 중간저장   <<우산식당 26개 완료.>>\n",
      "--------------------------------------------------------------------------------\n",
      "108 30975916 옛날농장 매헌점 시작||13초 소요 로딩완료S||2개 펼치기 완료||223개의 리뷰가 있네요\n",
      "o#!o#!o#o#o#o#o#o#o#o#o#o#o#o#o#o#o#o#o#o#o#o#o#o#o#o#o#o#o#o#o#o#o#o#o#o#o#o#o#o#o#o#o#o#o#o#o#o#o#o#o#o#o#o#o#o#o#o#o#o#o#o#o#o#o#o#o#o#o#o#o#o#o#o#o#o#o#o#o#o#o#o#o#o#o#o#o#o#o#o#o#o#o#o#o#o#o#o#o#o#o#o#o#o#o#o#o#o#o#o#o#o#o#o#o#o#o#o#o#o#o#o#o#o#o#o#o#o#o#o#o#o#o#o#o#o#o#o#o#o#o#o#o#o#o#o#o#o#o#o#o#o#o#o#o#o#o#o#o#o#o#o#o#o#o#o#o#o#o#o#o#o#o#o#o#o#o#o#o#o#o#o#o#o#o#o#o#o#o#o#o#o#o#o#o#o#o#o#o#o#o#o#o#o#o#o#o#o#o#o#o#o#o#o#o#o#o#o#o#o#o#\n",
      " 강남구 DINING 1363개 중간저장   <<옛날농장 매헌점 221개 완료.>>\n",
      "--------------------------------------------------------------------------------\n",
      "109 19873593 삼일정육식당 시작||3초 소요 로딩완료S||2개 펼치기 완료||56개의 리뷰가 있네요\n",
      "o#o#o#o#o#o#o#o#o#o#o#o#o#o#o#o#o#o#o#o#o#o#o#o#o#o#o#o#o#o#o#o#o#o#o#o#o#o#o#o#o#ro#o#o#o#o#o#o#o#o#o#o#o#o#o#o#\n",
      " 강남구 DINING 1419개 중간저장   <<삼일정육식당 56개 완료.>>\n"
     ]
    },
    {
     "name": "stderr",
     "output_type": "stream",
     "text": [
      "[WDM] - \n",
      "\n",
      "[WDM] - ====== WebDriver manager ======\n",
      "[WDM] - Current google-chrome version is 94.0.4606\n",
      "[WDM] - Get LATEST driver version for 94.0.4606\n",
      "[WDM] - Driver [C:\\Users\\N\\.wdm\\drivers\\chromedriver\\win32\\94.0.4606.61\\chromedriver.exe] found in cache\n"
     ]
    },
    {
     "name": "stdout",
     "output_type": "stream",
     "text": [
      "reboot chrome\n",
      "리뷰 수집 데이터 확인해주세요~\n"
     ]
    },
    {
     "data": {
      "text/html": [
       "<div>\n",
       "<style scoped>\n",
       "    .dataframe tbody tr th:only-of-type {\n",
       "        vertical-align: middle;\n",
       "    }\n",
       "\n",
       "    .dataframe tbody tr th {\n",
       "        vertical-align: top;\n",
       "    }\n",
       "\n",
       "    .dataframe thead th {\n",
       "        text-align: right;\n",
       "    }\n",
       "</style>\n",
       "<table border=\"1\" class=\"dataframe\">\n",
       "  <thead>\n",
       "    <tr style=\"text-align: right;\">\n",
       "      <th></th>\n",
       "      <th>name</th>\n",
       "      <th>code_no</th>\n",
       "      <th>reviewer_info</th>\n",
       "      <th>r_score</th>\n",
       "      <th>r_date</th>\n",
       "      <th>r_times</th>\n",
       "      <th>proving</th>\n",
       "      <th>r_comments</th>\n",
       "      <th>owner_reply</th>\n",
       "    </tr>\n",
       "  </thead>\n",
       "  <tbody>\n",
       "    <tr>\n",
       "      <th>51763</th>\n",
       "      <td>삼일정육식당</td>\n",
       "      <td>19873593</td>\n",
       "      <td>네이버 업데이트에 의한 삭제</td>\n",
       "      <td>별점\\n5</td>\n",
       "      <td>최근 방문일\\n19.5.10.금</td>\n",
       "      <td>2번째 방문</td>\n",
       "      <td>영수증</td>\n",
       "      <td>불백 이 매콤하고 맜있는집</td>\n",
       "      <td>NaN</td>\n",
       "    </tr>\n",
       "    <tr>\n",
       "      <th>51764</th>\n",
       "      <td>삼일정육식당</td>\n",
       "      <td>19873593</td>\n",
       "      <td>네이버 업데이트에 의한 삭제</td>\n",
       "      <td>별점\\n3</td>\n",
       "      <td>최근 방문일\\n19.2.27.수</td>\n",
       "      <td>1번째 방문</td>\n",
       "      <td>영수증</td>\n",
       "      <td>돼지불백 맛집 바쁠땐 불친절함</td>\n",
       "      <td>NaN</td>\n",
       "    </tr>\n",
       "  </tbody>\n",
       "</table>\n",
       "</div>"
      ],
      "text/plain": [
       "         name   code_no    reviewer_info r_score             r_date r_times  \\\n",
       "51763  삼일정육식당  19873593  네이버 업데이트에 의한 삭제   별점\\n5  최근 방문일\\n19.5.10.금  2번째 방문   \n",
       "51764  삼일정육식당  19873593  네이버 업데이트에 의한 삭제   별점\\n3  최근 방문일\\n19.2.27.수  1번째 방문   \n",
       "\n",
       "      proving        r_comments owner_reply  \n",
       "51763     영수증    불백 이 매콤하고 맜있는집         NaN  \n",
       "51764     영수증  돼지불백 맛집 바쁠땐 불친절함         NaN  "
      ]
     },
     "metadata": {},
     "output_type": "display_data"
    },
    {
     "name": "stdout",
     "output_type": "stream",
     "text": [
      "--------------------------------------------------------------------------------\n",
      "110 1014199464 단이네벌교꼬막 강남점 시작||3초 소요 로딩완료S||0개 펼치기 완료||43개의 리뷰가 있네요\n",
      "o#o#o#o#o#ro#o#o#o#ro#o#o#o#o#ro#o#o#o#o#o#o#ro#o#o#o#o#o#o#o#o#ro#o#o#o#o#o#o#o#o#o#o#o#o#\n",
      " 강남구 DINING 1462개 중간저장   <<단이네벌교꼬막 강남점 43개 완료.>>\n",
      "--------------------------------------------------------------------------------\n",
      "111 1906545583 아주방 시작||1초 소요 로딩완료S||0개 펼치기 완료||16개의 리뷰가 있네요\n",
      "o#o#o#o#o#o#o#o#o#o#o#o#o#o#o#o#\n",
      " 강남구 DINING 1478개 중간저장   <<아주방 16개 완료.>>\n",
      "--------------------------------------------------------------------------------\n",
      "112 1233423740 낭만삼겹살 시작||3초 소요 로딩완료S||0개 펼치기 완료||44개의 리뷰가 있네요\n",
      "o#o#o#o#o#o#o#o#o#o#o#o#o#o#ro#o#o#o#o#o#o#o#o#o#o#o#o#o#o#o#o#o#o#o#o#o#o#o#o##o####\n",
      " 강남구 DINING 1522개 중간저장   <<낭만삼겹살 44개 완료.>>\n",
      "--------------------------------------------------------------------------------\n",
      "113 1643112856 나오스시 시작||2초 소요 로딩완료S||1개 펼치기 완료||31개의 리뷰가 있네요\n",
      "o#o#o#o#o#o#o#o#o#o#o#o#o#o#o#o#o#o#o#o#o#o#o#o#o#o#o#o#o#o#o#\n",
      " 강남구 DINING 1553개 중간저장   <<나오스시 31개 완료.>>\n",
      "--------------------------------------------------------------------------------\n",
      "114 38264349 한양돈까스 시작||13초 소요 로딩완료S||6개 펼치기 완료||203개의 리뷰가 있네요\n",
      "o#o#o#o#o#o#ro#o#o#o#o#o#o#o#o#o#o#o#o#o#o#o#o#o#o#o#o#o#o#o#o#o#o#o#o#o#o#o#o#o#o#o#o#o#o#o#o#o#o#o#o#o#ro#o#o#o#o#o#o#o#o#o#o#o#o#o#o#o#o#o#o#o#o#o#o#o#o#o#o#o#o#o#o#o#o#o#o#o#o#o#o#o#o#o#o#o#o#o#o#o#ro#o#o#o#o#o#o#o#o#o#o#o#o#o#o#o#o#o#o#o#o#o#o#o#o#o#o#o#o#o#o#o#o#o#o#o#o#o#o#o#o#o#o#o#o#o#o#o#o#o#o#o#o#o#o#o#o#o#o#o#o#o#o#o#o#o#o#o#o#o#o#o#ro#o#o#o#o#o#o#o#o#o#o#o#o#ro#o#o#o#o#o#o#o#o#o#o#o#o#o#o#o#o#o#\n",
      " 강남구 DINING 1756개 중간저장   <<한양돈까스 203개 완료.>>\n",
      "--------------------------------------------------------------------------------\n",
      "115 1198510557 정석초밥 시작||5초 소요 로딩완료S||6개 펼치기 완료||85개의 리뷰가 있네요\n",
      "o#o#o#o#o#o#o#o#o#o#o#ro#o#o#o#o#o#o#o#o#o#o#o#o#o#o#o#ro#o#o#o#o#o#o#o#o#o#o#o#o#o#o#o#o#o#o#o#o#o#o#o#o#o#o#o#o#o#o#o#o#o#o#o#o#o#o#o#o#o#o#o#ro#o#o#o#o#o#o#o#ro#o#o#o#o#o#\n",
      " 강남구 DINING 1841개 중간저장   <<정석초밥 85개 완료.>>\n",
      "--------------------------------------------------------------------------------\n",
      "116 31044267 스시문 시작||3초 소요 로딩완료S||0개 펼치기 완료||42개의 리뷰가 있네요\n",
      "o#o#o#o#o#o#o#o#o#o#o#o#o#o#o#o#o#o#o#o#o#o#o#o#o#o#o#o#o#o#o#o#o#o#o#o#o#o#o#o#o#o#\n",
      " 강남구 DINING 1883개 중간저장   <<스시문 42개 완료.>>\n",
      "--------------------------------------------------------------------------------\n",
      "117 18249670 메차쿠차돈가스 양재본점 시작||3초 소요 로딩완료S||0개 펼치기 완료||56개의 리뷰가 있네요\n",
      "o#o#o#o#o#o#o#o#o#o#ro#o#o#o#o#o#o#o#o#o#o#o#o#o#o#o#o#o#o#o#o#o#o#o#o#o#o#o#ro#o#o#o#o#o#o#o#o#o#o#o#o#o#o#o#o#o#\n",
      " 강남구 DINING 1939개 중간저장   <<메차쿠차돈가스 양재본점 56개 완료.>>\n",
      "--------------------------------------------------------------------------------\n",
      "118 18248815 서린 시작||2초 소요 로딩완료S||0개 펼치기 완료||40개의 리뷰가 있네요\n",
      "o#o#o#o#o#o#o#o#o#o#o#o#o#o#o#o#o#o#o#o#o#o#o#o#o#o#o#o#o#o#o#o#o#o#o#o#o#o#o#o#\n",
      " 강남구 DINING 1979개 중간저장   <<서린 40개 완료.>>\n",
      "--------------------------------------------------------------------------------\n",
      "119 21642697 무샤 양재 시작||1초 소요 로딩완료S||0개 펼치기 완료||4개의 리뷰가 있네요\n",
      "o#o#o#o#\n",
      " 강남구 DINING 1983개 중간저장   <<무샤 양재 4개 완료.>>\n"
     ]
    },
    {
     "name": "stderr",
     "output_type": "stream",
     "text": [
      "[WDM] - \n",
      "\n",
      "[WDM] - ====== WebDriver manager ======\n",
      "[WDM] - Current google-chrome version is 94.0.4606\n",
      "[WDM] - Get LATEST driver version for 94.0.4606\n",
      "[WDM] - Driver [C:\\Users\\N\\.wdm\\drivers\\chromedriver\\win32\\94.0.4606.61\\chromedriver.exe] found in cache\n"
     ]
    },
    {
     "name": "stdout",
     "output_type": "stream",
     "text": [
      "reboot chrome\n",
      "리뷰 수집 데이터 확인해주세요~\n"
     ]
    },
    {
     "data": {
      "text/html": [
       "<div>\n",
       "<style scoped>\n",
       "    .dataframe tbody tr th:only-of-type {\n",
       "        vertical-align: middle;\n",
       "    }\n",
       "\n",
       "    .dataframe tbody tr th {\n",
       "        vertical-align: top;\n",
       "    }\n",
       "\n",
       "    .dataframe thead th {\n",
       "        text-align: right;\n",
       "    }\n",
       "</style>\n",
       "<table border=\"1\" class=\"dataframe\">\n",
       "  <thead>\n",
       "    <tr style=\"text-align: right;\">\n",
       "      <th></th>\n",
       "      <th>name</th>\n",
       "      <th>code_no</th>\n",
       "      <th>reviewer_info</th>\n",
       "      <th>r_score</th>\n",
       "      <th>r_date</th>\n",
       "      <th>r_times</th>\n",
       "      <th>proving</th>\n",
       "      <th>r_comments</th>\n",
       "      <th>owner_reply</th>\n",
       "    </tr>\n",
       "  </thead>\n",
       "  <tbody>\n",
       "    <tr>\n",
       "      <th>52327</th>\n",
       "      <td>무샤 양재</td>\n",
       "      <td>21642697</td>\n",
       "      <td>네이버 업데이트에 의한 삭제</td>\n",
       "      <td>별점\\n4</td>\n",
       "      <td>최근 방문일\\n20.6.25.목</td>\n",
       "      <td>2번째 방문</td>\n",
       "      <td>영수증</td>\n",
       "      <td>맛있어요</td>\n",
       "      <td>NaN</td>\n",
       "    </tr>\n",
       "    <tr>\n",
       "      <th>52328</th>\n",
       "      <td>무샤 양재</td>\n",
       "      <td>21642697</td>\n",
       "      <td>네이버 업데이트에 의한 삭제</td>\n",
       "      <td>별점\\n4</td>\n",
       "      <td>최근 방문일\\n20.6.19.금</td>\n",
       "      <td>1번째 방문</td>\n",
       "      <td>영수증</td>\n",
       "      <td>맛있어요</td>\n",
       "      <td>NaN</td>\n",
       "    </tr>\n",
       "  </tbody>\n",
       "</table>\n",
       "</div>"
      ],
      "text/plain": [
       "        name   code_no    reviewer_info r_score             r_date r_times  \\\n",
       "52327  무샤 양재  21642697  네이버 업데이트에 의한 삭제   별점\\n4  최근 방문일\\n20.6.25.목  2번째 방문   \n",
       "52328  무샤 양재  21642697  네이버 업데이트에 의한 삭제   별점\\n4  최근 방문일\\n20.6.19.금  1번째 방문   \n",
       "\n",
       "      proving r_comments owner_reply  \n",
       "52327     영수증       맛있어요         NaN  \n",
       "52328     영수증       맛있어요         NaN  "
      ]
     },
     "metadata": {},
     "output_type": "display_data"
    },
    {
     "name": "stdout",
     "output_type": "stream",
     "text": [
      "--------------------------------------------------------------------------------\n",
      "120 1085467807 강남돈가스 본점 시작||5초 소요 로딩완료S||0개 펼치기 완료||85개의 리뷰가 있네요\n",
      "o#o#o#o#o#o#o#o#o#o#o#o#o#o#o#o#o#o#o#o#o#o#o#o#o#o#o#o#o#o#o#o#o#o#o#o#o#o#o#o#o#o#o#o#o#o#o#o#o#o#o#o#o#o#o#o#o#o#o#o#o#o#o#o#o#o#o#o#o#o#o#o#o#o#o#o#o#o#o#o#o#o#o#o#o#\n",
      " 강남구 DINING 2068개 중간저장   <<강남돈가스 본점 85개 완료.>>\n",
      "--------------------------------------------------------------------------------\n",
      "121 974786839 무샤무샤 시작||19초 소요 로딩완료S||0개 펼치기 완료||258개의 리뷰가 있네요\n",
      "o#o#o#o#o#o#o#o#o#o#o#o#o#o#o#o#o#o#o#o#o#o#o#o#o#o#o#o#o#o#o#o#o#o#o#o#o#o#o#o#o#o#o#o#o#o#o#o#o#o#o#o#o#o#o#o#o#o#o#o#o#o#o#o#o#o#o#o#o#o#o#o#o#o#o#o#o#o#o#o#o#o#o#o#o#o#o#o#o#o#o#o#o#o#o#o#o#o#o#o#o#o#o#o#o#o#o#o#o#o#o#o#o#o#o#o#o#o#o#o#o#o#o#o#o#o#o#o#o#o#o#o#o#o#o#o#o#o#o#o#o#o#o#o#o#o#o#o#o#o#o#o#o#o#o#o#o#o#o#o#o#o#o#o#o#o#o#o#o#o#o#o#o#o#o#o#o#o#o#o#o#o#o#o#o#o#o#o#o#o#o#o#o#o#o#o#o#o#o#o#o#o#o#o#o#o#o#o#o#o#o#o#o#o#o#o#o#o#o#o#o#o#o#o#o#o#o#o#o#o#o#o#o#o#o#o#o#o#o#o#o#o#o#o#o#o#o#o#o#o#o#o#o#o#o#o#o#o#\n",
      " 강남구 DINING 2326개 중간저장   <<무샤무샤 258개 완료.>>\n",
      "--------------------------------------------------------------------------------\n",
      "122 11761360 미소야 양재점 시작||3초 소요 로딩완료S||0개 펼치기 완료||47개의 리뷰가 있네요\n",
      "o#o#o#o#o#o#o#o#o#o#o#o#o#o#o#o#o#o#o#o#o#o#o#o#o#o#o#o#o#o#o#o#o#o#o#o#o#o#o#o#o#o#o#o#o#o#o#\n",
      " 강남구 DINING 2373개 중간저장   <<미소야 양재점 47개 완료.>>\n",
      "--------------------------------------------------------------------------------\n",
      "123 20832211 왕돈까스&왕냉면 양재점 시작||3초 소요 로딩완료S||1개 펼치기 완료||58개의 리뷰가 있네요\n",
      "o#o#o#o#o#o#o#o#o#o#o#o#o#o#o#o#o#o#o#o#o#o#o#o#o#o#o#o#o#o#o#o#o#o#o#o#o#o#o#o#o#o#o#o#o#o#o#o#o#o#o#o#o#o#o#o#o#o#\n",
      " 강남구 DINING 2431개 중간저장   <<왕돈까스&왕냉면 양재점 58개 완료.>>\n",
      "--------------------------------------------------------------------------------\n",
      "124 1089059135 돈덴돈까스 시작||1초 소요 로딩완료S||0개 펼치기 완료||5개의 리뷰가 있네요\n",
      "o#o#o#o#o#\n",
      " 강남구 DINING 2436개 중간저장   <<돈덴돈까스 5개 완료.>>\n",
      "--------------------------------------------------------------------------------\n",
      "125 1450323274 명품수제돈까스 시작||1초 소요 로딩완료S||0개 펼치기 완료||1개의 리뷰가 있네요\n",
      "ro#\n",
      " 강남구 DINING 2437개 중간저장   <<명품수제돈까스 1개 완료.>>\n",
      "--------------------------------------------------------------------------------\n",
      "126 1914751690 수작카츠 양재점 시작||8초 소요 로딩완료S||6개 펼치기 완료||144개의 리뷰가 있네요\n",
      "o#o#o#o#o#o#o#o#o#o#o#o#o#o#o#o#o#o#o#ro#o#o#o#o#o#o#o#o#o#o#o#o#o#o#o#o#o#o#o#o#o#o#o#o#o#o#o#o#o#o#o#o#o#o#o#o#o#ro#o#o#o#o#o#o#o#o#o#o#o#o#o#o#o#o#o#o#o#o#o#o#o#o#o#o#o#o#o#o#o#o#o#o#o#o#o#o#ro#o#o#o#o#o#o#ro#o#o#o#o#o#o#o#o#o#o#o#o#o#o#o#ro#o#o#o#o#o#ro#o#o#o#o#ro#o#o#o#o#o#o#o#o#o#o#o#o#o#\n",
      " 강남구 DINING 2581개 중간저장   <<수작카츠 양재점 144개 완료.>>\n",
      "--------------------------------------------------------------------------------\n",
      "127 1905162168 제이드프러스 시작||1초 소요 로딩완료S||0개 펼치기 완료||3개의 리뷰가 있네요\n",
      "o#o#o#\n",
      " 강남구 DINING 2584개 중간저장   <<제이드프러스 3개 완료.>>\n",
      "--------------------------------------------------------------------------------\n",
      "128 760908381 압구정꼬치1991 신논현점 시작||1초 소요 로딩완료S||0개 펼치기 완료||가게의 리뷰가 없네용~\n",
      "--------------------------------------------------------------------------------\n",
      "129 1017653627 미면정 양재칼국수 샤브샤브 시작||18초 소요 로딩완료S||27개 펼치기 완료||276개의 리뷰가 있네요\n",
      "o#!o#o#o#o#o#o#o#o#o#o#o#o#o#o#o#o#ro#o#o#o#o#o#o#o#o#o#o#o#o#o#o#o#o#o##o#o#o#o#o#o#ro#o#o#o#o#o#o#o#o#o#ro#o#o#o#o#o#o#o#o#o#o#o#o#ro#o#o#o#o#o#o#o#o#o#o#o#o#o#o#o#o#o#ro#o#o#o#o#o#o#o#o#o#o#o#o#o#o#o#o#o#o#o#o#o#o#o#o#o#ro#o#o#o#o##ro#############o############o#####o##########o#o##o###############o#o##o#o###o########o#o####o#####o#o#o####o#o##o###############o###o#######o##################o######o##o########r########r#\n",
      " 강남구 DINING 2859개 중간저장   <<미면정 양재칼국수 샤브샤브 275개 완료.>>\n"
     ]
    },
    {
     "name": "stderr",
     "output_type": "stream",
     "text": [
      "[WDM] - \n",
      "\n",
      "[WDM] - ====== WebDriver manager ======\n",
      "[WDM] - Current google-chrome version is 94.0.4606\n",
      "[WDM] - Get LATEST driver version for 94.0.4606\n",
      "[WDM] - Driver [C:\\Users\\N\\.wdm\\drivers\\chromedriver\\win32\\94.0.4606.61\\chromedriver.exe] found in cache\n"
     ]
    },
    {
     "name": "stdout",
     "output_type": "stream",
     "text": [
      "reboot chrome\n",
      "리뷰 수집 데이터 확인해주세요~\n"
     ]
    },
    {
     "data": {
      "text/html": [
       "<div>\n",
       "<style scoped>\n",
       "    .dataframe tbody tr th:only-of-type {\n",
       "        vertical-align: middle;\n",
       "    }\n",
       "\n",
       "    .dataframe tbody tr th {\n",
       "        vertical-align: top;\n",
       "    }\n",
       "\n",
       "    .dataframe thead th {\n",
       "        text-align: right;\n",
       "    }\n",
       "</style>\n",
       "<table border=\"1\" class=\"dataframe\">\n",
       "  <thead>\n",
       "    <tr style=\"text-align: right;\">\n",
       "      <th></th>\n",
       "      <th>name</th>\n",
       "      <th>code_no</th>\n",
       "      <th>reviewer_info</th>\n",
       "      <th>r_score</th>\n",
       "      <th>r_date</th>\n",
       "      <th>r_times</th>\n",
       "      <th>proving</th>\n",
       "      <th>r_comments</th>\n",
       "      <th>owner_reply</th>\n",
       "    </tr>\n",
       "  </thead>\n",
       "  <tbody>\n",
       "    <tr>\n",
       "      <th>53204</th>\n",
       "      <td>미면정 양재칼국수 샤브샤브</td>\n",
       "      <td>1017653627</td>\n",
       "      <td>네이버 업데이트에 의한 삭제</td>\n",
       "      <td>별점\\n5</td>\n",
       "      <td>최근 방문일\\n1.10.일</td>\n",
       "      <td>1번째 방문</td>\n",
       "      <td>영수증</td>\n",
       "      <td>배추만두 전골 육수 조아요</td>\n",
       "      <td>미면정 양재칼국수 샤브샤브1.15.금\\n칭찬에 넘 감사드려요</td>\n",
       "    </tr>\n",
       "    <tr>\n",
       "      <th>53205</th>\n",
       "      <td>미면정 양재칼국수 샤브샤브</td>\n",
       "      <td>1017653627</td>\n",
       "      <td>네이버 업데이트에 의한 삭제</td>\n",
       "      <td>별점\\n5</td>\n",
       "      <td>최근 방문일\\n1.10.일</td>\n",
       "      <td>1번째 방문</td>\n",
       "      <td>영수증</td>\n",
       "      <td>NaN</td>\n",
       "      <td>미면정 양재칼국수 샤브샤브1.15.금\\n첫번째로 리뷰를 남겨주셔서 대단히 감사합니다..</td>\n",
       "    </tr>\n",
       "  </tbody>\n",
       "</table>\n",
       "</div>"
      ],
      "text/plain": [
       "                 name     code_no    reviewer_info r_score          r_date  \\\n",
       "53204  미면정 양재칼국수 샤브샤브  1017653627  네이버 업데이트에 의한 삭제   별점\\n5  최근 방문일\\n1.10.일   \n",
       "53205  미면정 양재칼국수 샤브샤브  1017653627  네이버 업데이트에 의한 삭제   별점\\n5  최근 방문일\\n1.10.일   \n",
       "\n",
       "      r_times proving      r_comments  \\\n",
       "53204  1번째 방문     영수증  배추만두 전골 육수 조아요   \n",
       "53205  1번째 방문     영수증             NaN   \n",
       "\n",
       "                                            owner_reply  \n",
       "53204                 미면정 양재칼국수 샤브샤브1.15.금\\n칭찬에 넘 감사드려요  \n",
       "53205  미면정 양재칼국수 샤브샤브1.15.금\\n첫번째로 리뷰를 남겨주셔서 대단히 감사합니다..  "
      ]
     },
     "metadata": {},
     "output_type": "display_data"
    },
    {
     "name": "stdout",
     "output_type": "stream",
     "text": [
      "--------------------------------------------------------------------------------\n",
      "130 1043792867 착한해물 시작||2초 소요 로딩완료S||0개 펼치기 완료||가게의 리뷰가 없네용~\n",
      "--------------------------------------------------------------------------------\n",
      "131 18755646 참치랜드 시작||1초 소요 로딩완료S||0개 펼치기 완료||10개의 리뷰가 있네요\n",
      "o#o#o#o#o#o#o#o#o#o#\n",
      " 강남구 DINING 2869개 중간저장   <<참치랜드 10개 완료.>>\n",
      "--------------------------------------------------------------------------------\n",
      "132 1145956305 오사카식당 양재점 시작||1초 소요 로딩완료S||0개 펼치기 완료||1개의 리뷰가 있네요\n",
      "ro#\n",
      " 강남구 DINING 2870개 중간저장   <<오사카식당 양재점 1개 완료.>>\n",
      "--------------------------------------------------------------------------------\n",
      "133 240373085 이가네양꼬치 양재2호직영점 시작||17초 소요 로딩완료S||12개 펼치기 완료||276개의 리뷰가 있네요\n",
      "o#o#o#o#o#o#o#o#o#o#o#o#o#o#o#o#o#o#o#o#o#o#o#o#o#o#o#o#o#o#o#o#o#o#o#o#ro#o#o#o#o#o#o#o#o#o#o#o#o#o#o#o#o#o#o#o#o#o#o#o#o#o#o#o#o#o#o#o#o#o#o#o#o#o#o#o#o#o#o#o#o#o#o#o#o#o#o#o#o#o#o#o#o#o#o#ro#o#o#o#o#o#o#o#o#o#o#o#o#o#o#o#o#o#o#o#o#o#o#o#o#o#o#o#o#o#o#ro#o#o#o#o#o#o#o#o#o#ro#o#o#o#ro#o#o#o#o#o#o#o#o#o#o#o#o#o#o#o#o#o#o#o#o#o#o#o#o#o#o#o#o#o#o#o#o#o#o#o#o#o#o#o#o#o#o#ro#o#o#o#o#o#o#o#o#o#o#o#o#o#o#o#o#o#o#o#o#o#o#o#o#o#o#o#o#o#o#o#o#o#o#o#o#o#o#o#o#o#o#o#o#o#o#ro#o#o#o#o#o#o#o#o#o#o#o#o#o#o#o#o#o#o#o#ro#o#o#o#o#o#o#o#o#o#o#o#o#o#o#o#o#o#o#o#o#o#o#o#o#o#\n",
      " 강남구 DINING 3146개 중간저장   <<이가네양꼬치 양재2호직영점 276개 완료.>>\n",
      "--------------------------------------------------------------------------------\n",
      "134 12072495 마오 양재점 시작||5초 소요 로딩완료S||8개 펼치기 완료||90개의 리뷰가 있네요\n",
      "o#o#o#o#o#o#o#o#o#o#o#o#o#o#o#o#o#o#o#o#o#o#o#o#o#o#o#o#o#o#o#o#o#o#o#o#o#o#o#o#o#o#o#o#o#o#o#o#o#o#o#o#o#o#o#o#o#o#o#o#o#o#o#o#o#o#o#o#o#o#o#o#o#o#o#o#o#o#o#o#o#o#o#o#o#ro#o#o#o#o#\n",
      " 강남구 DINING 3236개 중간저장   <<마오 양재점 90개 완료.>>\n",
      "--------------------------------------------------------------------------------\n",
      "135 193891932 화차이 시작||"
     ]
    }
   ],
   "source": [
    "업종= 'DINING'\n",
    "idx=0\n",
    "\n",
    "\n",
    "\n",
    "for i in range(10):\n",
    "    try:\n",
    "        for 구이름 in 세원_list:\n",
    "            code_file = '가게코드_' + 구이름 + '_'+ 업종 + '.csv'\n",
    "            if check_file(code_path, code_file):\n",
    "                naver_review_scrapping(구이름, 업종, slow=1)\n",
    "            else:\n",
    "                print(f'{구이름} {업종}이 없습니다. ')\n",
    "    except:\n",
    "        time.sleep(idx**2)\n",
    "        idx+=1\n",
    "        print(f'{idx} 실패')\n",
    "        \n",
    "    if idx%10 ==0:\n",
    "        clear_screen()\n",
    "        \n",
    "    if idx>=30:\n",
    "        \n",
    "        break"
   ]
  },
  {
   "cell_type": "code",
   "execution_count": null,
   "metadata": {
    "ExecuteTime": {
     "start_time": "2021-10-26T10:41:01.597Z"
    }
   },
   "outputs": [],
   "source": [
    "df = pd.read_csv('data/리뷰/리뷰정보_강남구_DINING.csv')"
   ]
  },
  {
   "cell_type": "code",
   "execution_count": null,
   "metadata": {
    "ExecuteTime": {
     "start_time": "2021-10-26T10:41:01.600Z"
    }
   },
   "outputs": [],
   "source": [
    "df.shape"
   ]
  },
  {
   "cell_type": "code",
   "execution_count": null,
   "metadata": {},
   "outputs": [],
   "source": []
  }
 ],
 "metadata": {
  "kernelspec": {
   "display_name": "Python 3",
   "language": "python",
   "name": "python3"
  },
  "language_info": {
   "codemirror_mode": {
    "name": "ipython",
    "version": 3
   },
   "file_extension": ".py",
   "mimetype": "text/x-python",
   "name": "python",
   "nbconvert_exporter": "python",
   "pygments_lexer": "ipython3",
   "version": "3.8.5"
  },
  "toc": {
   "base_numbering": 1,
   "nav_menu": {},
   "number_sections": true,
   "sideBar": true,
   "skip_h1_title": false,
   "title_cell": "Table of Contents",
   "title_sidebar": "Contents",
   "toc_cell": false,
   "toc_position": {
    "height": "calc(100% - 180px)",
    "left": "10px",
    "top": "150px",
    "width": "322.792px"
   },
   "toc_section_display": true,
   "toc_window_display": false
  }
 },
 "nbformat": 4,
 "nbformat_minor": 5
}
