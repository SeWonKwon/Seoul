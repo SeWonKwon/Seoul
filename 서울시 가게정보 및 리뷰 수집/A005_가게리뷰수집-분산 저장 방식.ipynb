{
 "cells": [
  {
   "cell_type": "markdown",
   "id": "34682007",
   "metadata": {},
   "source": [
    "<a href='https://github.com/SeWonKwon' ><div> <img src ='https://slid-capture.s3.ap-northeast-2.amazonaws.com/public/image_upload/6556674324ed41a289a354258718280d/964e5a8b-75ad-41fc-ae75-0ca66d06fbc7.png' align='left' /> </div></a>\n"
   ]
  },
  {
   "cell_type": "markdown",
   "id": "8e442582",
   "metadata": {},
   "source": [
    "1. 네이버 자료\n",
    "\n",
    "2. 네이버 Place 코드\n",
    "    * 기준: 서울시 동별, 업종별\n",
    "    \n",
    "    \n",
    "3. 가게정보, 리뷰 정도 겟\n",
    "\n"
   ]
  },
  {
   "cell_type": "markdown",
   "id": "8a5b0d31",
   "metadata": {},
   "source": [
    "# 필요함수 및 라이브러리"
   ]
  },
  {
   "cell_type": "code",
   "execution_count": 1,
   "id": "732e1ce8",
   "metadata": {
    "ExecuteTime": {
     "end_time": "2021-10-25T12:38:21.588654Z",
     "start_time": "2021-10-25T12:38:20.655635Z"
    }
   },
   "outputs": [],
   "source": [
    "import time\n",
    "import pandas as pd\n",
    "import numpy as np\n",
    "import json\n",
    "from tqdm import tqdm_notebook\n",
    "\n",
    "from selenium import webdriver\n",
    "from selenium.webdriver.common.keys import Keys\n",
    "from selenium.common.exceptions import NoSuchElementException\n",
    "from selenium.common.exceptions import ElementNotInteractableException\n",
    "from selenium.common.exceptions import StaleElementReferenceException\n",
    "from selenium.common.exceptions import ElementClickInterceptedException\n",
    "from webdriver_manager.chrome import ChromeDriverManager\n",
    "from selenium.webdriver.common.by import By\n",
    "\n",
    "import warnings\n",
    "warnings.filterwarnings(action = 'ignore')\n"
   ]
  },
  {
   "cell_type": "markdown",
   "id": "e8951b40",
   "metadata": {},
   "source": [
    "## 파일 관련"
   ]
  },
  {
   "cell_type": "code",
   "execution_count": 2,
   "id": "ad1b4f5d",
   "metadata": {
    "ExecuteTime": {
     "end_time": "2021-10-25T12:38:21.603667Z",
     "start_time": "2021-10-25T12:38:21.590654Z"
    }
   },
   "outputs": [],
   "source": [
    "def get_today():\n",
    "    import datetime\n",
    "    now = datetime.datetime.now()\n",
    "    \n",
    "    nowDate = now.strftime('%Y-%m-%d')\n",
    "#     print(nowDate)      # 2015-04-19\n",
    " \n",
    "    nowTime = now.strftime('%H:%M:%S')\n",
    "#     print(nowTime)      # 12:11:32\n",
    "\n",
    "    nowDatetime = now.strftime('%Y-%m-%d %H:%M:%S')\n",
    "    return nowDate"
   ]
  },
  {
   "cell_type": "code",
   "execution_count": 3,
   "id": "a1055cf1",
   "metadata": {
    "ExecuteTime": {
     "end_time": "2021-10-25T12:38:21.618680Z",
     "start_time": "2021-10-25T12:38:21.604668Z"
    }
   },
   "outputs": [],
   "source": [
    "import os\n",
    "def check_file(file_path, file_name):\n",
    "    return os.path.isfile(file_path+file_name)"
   ]
  },
  {
   "cell_type": "code",
   "execution_count": 4,
   "id": "4fb0add8",
   "metadata": {
    "ExecuteTime": {
     "end_time": "2021-10-25T12:38:21.633694Z",
     "start_time": "2021-10-25T12:38:21.619680Z"
    }
   },
   "outputs": [],
   "source": [
    "def save_df(df, path, file_name):\n",
    "    df.to_csv(path+file_name, index=False)\n",
    "    print(f'{path+file_name} 저장 완료')"
   ]
  },
  {
   "cell_type": "code",
   "execution_count": 5,
   "id": "332a1cb1",
   "metadata": {
    "ExecuteTime": {
     "end_time": "2021-10-25T12:38:21.648707Z",
     "start_time": "2021-10-25T12:38:21.634696Z"
    }
   },
   "outputs": [],
   "source": [
    "def read_csv_코드정보(code_path , code_file):\n",
    "    df = pd.read_csv(code_path + code_file )\n",
    "    return df"
   ]
  },
  {
   "cell_type": "code",
   "execution_count": 6,
   "id": "1e5c3553",
   "metadata": {
    "ExecuteTime": {
     "end_time": "2021-10-25T12:38:21.663731Z",
     "start_time": "2021-10-25T12:38:21.649708Z"
    }
   },
   "outputs": [
    {
     "data": {
      "text/plain": [
       "'음식점:DINING, 카페: CAFE, 쇼핑: SHOPPING, 숙박: ACCOMMODATION, 병원의료: HOSPITAL, 은행: BANK,\\n   주요소:OIL, 마트슈퍼: MART, 편의점: STORE, 생활편의: CONVENIENCE, 명소: SIGHTS, 체육시설: SPORT, \\n   영화공연:CINEMA, 관공서:GOVERNMENT'"
      ]
     },
     "execution_count": 6,
     "metadata": {},
     "output_type": "execute_result"
    }
   ],
   "source": [
    "'''음식점:DINING, 카페: CAFE, 쇼핑: SHOPPING, 숙박: ACCOMMODATION, 병원의료: HOSPITAL, 은행: BANK,\n",
    "   주요소:OIL, 마트슈퍼: MART, 편의점: STORE, 생활편의: CONVENIENCE, 명소: SIGHTS, 체육시설: SPORT, \n",
    "   영화공연:CINEMA, 관공서:GOVERNMENT'''"
   ]
  },
  {
   "cell_type": "markdown",
   "id": "599cb480",
   "metadata": {},
   "source": [
    "###### 서울시 동 load 관련"
   ]
  },
  {
   "cell_type": "code",
   "execution_count": 7,
   "id": "16a17d9e",
   "metadata": {
    "ExecuteTime": {
     "end_time": "2021-10-25T12:38:21.678744Z",
     "start_time": "2021-10-25T12:38:21.664731Z"
    }
   },
   "outputs": [],
   "source": [
    "import pickle\n",
    "import collections\n",
    "\n",
    "def get_seoul_dong():\n",
    "    with open('data/서울시_구별_동정리.pickle','rb') as fw:\n",
    "        dong_dict = pickle.load( fw)\n",
    "\n",
    "    dong_key_list = list(dong_dict.keys())\n",
    "    dong_key_list.sort()\n",
    "    # dong_key_list\n",
    "\n",
    "    for 구이름 in dong_key_list:\n",
    "        dong_dict[구이름] = sorted(dong_dict[구이름])\n",
    "    \n",
    "    return dong_dict"
   ]
  },
  {
   "cell_type": "code",
   "execution_count": 8,
   "id": "35f55cb3",
   "metadata": {
    "ExecuteTime": {
     "end_time": "2021-10-25T12:38:21.693759Z",
     "start_time": "2021-10-25T12:38:21.680745Z"
    }
   },
   "outputs": [],
   "source": [
    "dong_dict = get_seoul_dong()"
   ]
  },
  {
   "cell_type": "markdown",
   "id": "8ffef825",
   "metadata": {},
   "source": [
    "## 웹 조정 관련"
   ]
  },
  {
   "cell_type": "code",
   "execution_count": 9,
   "id": "c22c4a62",
   "metadata": {
    "ExecuteTime": {
     "end_time": "2021-10-25T12:38:21.708925Z",
     "start_time": "2021-10-25T12:38:21.694758Z"
    }
   },
   "outputs": [],
   "source": [
    "from IPython.display import clear_output\n",
    "\n",
    "def clear_screen():\n",
    "    clear_output(wait=True)\n",
    "    print(\"Cleared Output\")"
   ]
  },
  {
   "cell_type": "code",
   "execution_count": 10,
   "id": "c200a263",
   "metadata": {
    "ExecuteTime": {
     "end_time": "2021-10-25T12:38:21.723793Z",
     "start_time": "2021-10-25T12:38:21.711926Z"
    }
   },
   "outputs": [],
   "source": [
    "def is_clickable(wd):\n",
    "    return wd.is_enabled() and wd.is_displayed()"
   ]
  },
  {
   "cell_type": "code",
   "execution_count": 11,
   "id": "9327dafb",
   "metadata": {
    "ExecuteTime": {
     "end_time": "2021-10-25T12:38:21.738814Z",
     "start_time": "2021-10-25T12:38:21.724794Z"
    }
   },
   "outputs": [],
   "source": [
    "def scroll_down(wd,SCROLL_PAUSE_SEC = 1):\n",
    "\n",
    "    # 스크롤 높이 가져옴\n",
    "    last_height = wd.execute_script(\"return document.body.scrollHeight\")\n",
    "#     print(last_height)\n",
    "    while True:\n",
    "        # 끝까지 스크롤 다운\n",
    "        wd.execute_script(\"window.scrollTo(0, document.body.scrollHeight);\")\n",
    "\n",
    "        # 1초 대기\n",
    "        time.sleep(SCROLL_PAUSE_SEC)\n",
    "\n",
    "        # 스크롤 다운 후 스크롤 높이 다시 가져옴\n",
    "        new_height = wd.execute_script(\"return document.body.scrollHeight\")\n",
    "        if new_height == last_height:\n",
    "            break\n",
    "        last_height = new_height"
   ]
  },
  {
   "cell_type": "markdown",
   "id": "1f3d6db1",
   "metadata": {},
   "source": [
    "## 크롤링 에러 방지 관련"
   ]
  },
  {
   "cell_type": "code",
   "execution_count": 12,
   "id": "f6a80c13",
   "metadata": {
    "ExecuteTime": {
     "end_time": "2021-10-25T12:38:21.753826Z",
     "start_time": "2021-10-25T12:38:21.739814Z"
    }
   },
   "outputs": [],
   "source": [
    "def try_none_text_by_class_name(wd,class_name, col='col'):\n",
    "    try:\n",
    "        return wd.find_element_by_class_name(class_name).text\n",
    "    except NoSuchElementException:\n",
    "        print(col, end='')\n",
    "        return np.NaN\n",
    "        "
   ]
  },
  {
   "cell_type": "code",
   "execution_count": 13,
   "id": "5bc280ad",
   "metadata": {
    "ExecuteTime": {
     "end_time": "2021-10-25T12:38:21.768840Z",
     "start_time": "2021-10-25T12:38:21.754825Z"
    }
   },
   "outputs": [],
   "source": [
    "def strong_try_none_text_by_class_name(wd,class_name, col='col'):\n",
    "    try:\n",
    "        temps = wd.find_elements_by_class_name(class_name)\n",
    "        for temp in temps:\n",
    "            if temp.text.startswith('편의'):\n",
    "                return temp.text.split('\\n')[1]\n",
    "        else:\n",
    "            return np.NaN\n",
    "    except NoSuchElementException:\n",
    "#         print(col, end='')\n",
    "        return np.NaN\n",
    "        "
   ]
  },
  {
   "cell_type": "code",
   "execution_count": 14,
   "id": "43c0db17",
   "metadata": {
    "ExecuteTime": {
     "end_time": "2021-10-25T12:38:21.783853Z",
     "start_time": "2021-10-25T12:38:21.769841Z"
    }
   },
   "outputs": [],
   "source": [
    "def review_dict(s):\n",
    "    review_dict = {}\n",
    "#     print(s.split('평균 별점'))\n",
    "    s = s.split('평균 별점')\n",
    "    review_dict['평균_별점'] = s[-1].strip()\n",
    "    s = s[0].split('사진')\n",
    "    if len(s) >= 2:\n",
    "        review_dict['사진'] = int(s[-1])\n",
    "        review_dict['리뷰'] = s[0].split()[-1]\n",
    "    else:\n",
    "        review_dict['사진'] = np.NaN\n",
    "        review_dict['리뷰'] = s[0].split()[-1]\n",
    "# print(s)\n",
    "    return review_dict"
   ]
  },
  {
   "cell_type": "markdown",
   "id": "bc2ae05a",
   "metadata": {},
   "source": [
    "## get_store_info from naver.place by place_code"
   ]
  },
  {
   "cell_type": "code",
   "execution_count": 15,
   "id": "96399517",
   "metadata": {
    "ExecuteTime": {
     "end_time": "2021-10-25T12:38:21.798867Z",
     "start_time": "2021-10-25T12:38:21.784853Z"
    }
   },
   "outputs": [],
   "source": [
    "def get_review(review_block, name, code_no):\n",
    "    reviewer_info = review_block.find_element_by_class_name('ql4ZC').text.replace('\\n', ' ')\n",
    "    reviewer_info = review_dict(reviewer_info)\n",
    "#     print('reviewer_info',reviewer_info)\n",
    "\n",
    "    r_score = review_block.find_element_by_class_name('_2tObC').text\n",
    "#     print('r_score',r_score)\n",
    "\n",
    "    r_info_list = review_block.find_element_by_class_name('ZvQ8X').find_elements_by_class_name('_3WqoL')\n",
    "#     print(len(r_info_list))\n",
    "    r_date = r_info_list[0].text\n",
    "    r_times = r_info_list[1].text\n",
    "    proving = r_info_list[2].text\n",
    "#     print('r_date',r_date)\n",
    "#     print('r_times',r_times)\n",
    "#     print('proving',proving)\n",
    "\n",
    "    r_comment = try_none_text_by_class_name(review_block,'PVBo8','').replace('접기','r')            \n",
    "#     print('#### r_comment ####')\n",
    "#     print(r_comment)\n",
    "\n",
    "    owner_reply = try_none_text_by_class_name(review_block,'Dp7-j','o')\n",
    "#     print('####owner_reply###')\n",
    "#     print(owner_reply)\n",
    "\n",
    "#     print('##################')\n",
    "    return name, code_no, reviewer_info, r_score, r_date, r_times, proving, r_comment, owner_reply"
   ]
  },
  {
   "cell_type": "code",
   "execution_count": 16,
   "id": "7e251051",
   "metadata": {
    "ExecuteTime": {
     "end_time": "2021-10-25T12:38:21.813615Z",
     "start_time": "2021-10-25T12:38:21.800868Z"
    }
   },
   "outputs": [],
   "source": [
    "code_path = 'data/코드/'\n",
    "구이름 = '강남구'\n",
    "업종 = 'DINING'\n",
    "code_file = '가게코드_' + 구이름 + '_'+ 업종 + '.csv'\n",
    "slow=1"
   ]
  },
  {
   "cell_type": "code",
   "execution_count": null,
   "id": "5f4aa1e1",
   "metadata": {},
   "outputs": [],
   "source": []
  },
  {
   "cell_type": "markdown",
   "id": "d9e158e6",
   "metadata": {
    "ExecuteTime": {
     "end_time": "2021-10-25T09:32:41.019576Z",
     "start_time": "2021-10-25T09:32:41.005565Z"
    }
   },
   "source": [
    "code_df = pd.read_csv(code_path+code_file, dtype='str')"
   ]
  },
  {
   "cell_type": "markdown",
   "id": "49b58d64",
   "metadata": {
    "ExecuteTime": {
     "end_time": "2021-10-25T09:33:13.451848Z",
     "start_time": "2021-10-25T09:33:13.432831Z"
    }
   },
   "source": [
    "code_df['store_code'].to_list()"
   ]
  },
  {
   "cell_type": "code",
   "execution_count": 17,
   "id": "e4f7a2b4",
   "metadata": {
    "ExecuteTime": {
     "end_time": "2021-10-25T12:38:21.828629Z",
     "start_time": "2021-10-25T12:38:21.814617Z"
    },
    "scrolled": false
   },
   "outputs": [],
   "source": [
    "def naver_review_scrapping(구이름, 업종, slow=1):\n",
    "\n",
    "    start_time = time.time()\n",
    "\n",
    "    options = webdriver.ChromeOptions()\n",
    "\n",
    "    options.add_argument(\"--start-maximized\")\n",
    "    wd = webdriver.Chrome(ChromeDriverManager().install(), options= options)  # chromedriver 열기\n",
    "    wd.implicitly_wait(0.001*slow)\n",
    "\n",
    "    code_path = 'data/코드/'\n",
    "    review_path = 'data/리뷰/'\n",
    "\n",
    "\n",
    "    code_file = '가게코드_' + 구이름 + '_'+ 업종 + '.csv'\n",
    "    review_file = '리뷰정보_' + 구이름 + '_'+ 업종 + '.csv'\n",
    "\n",
    "\n",
    "    code_df = pd.read_csv(code_path+code_file, dtype='str')\n",
    "\n",
    "    review_idx = 0\n",
    "    review_df = pd.DataFrame(columns=(\"name\", \"code_no\", \"reviewer_info\", \"r_score\", \"r_date\", 'r_times', 'proving', 'r_comments', 'owner_reply'))\n",
    "\n",
    "    # code_no = code_df.loc[3].values[0]\n",
    "    store_cnt = 0\n",
    "    done_idx = 0\n",
    "\n",
    "    if check_file(review_path, review_file):\n",
    "        review_df = pd.read_csv(review_path+review_file)\n",
    "        review_idx = review_df.shape[0]\n",
    "    done_list = list(set(review_df['code_no'].apply(lambda x: str(x)).values))\n",
    "\n",
    "    print(f'{구이름}  {업종} 업종 의 리뷰 정보 스크래핑을 시작합니다.')\n",
    "\n",
    "    print(f'{code_df.shape[0]}개의 가게코드가 있습니다.')\n",
    "\n",
    "    print(f'{len(done_list)}가게의 리뷰{review_idx}개가 이전에 완료 되었었습니다. 이어서 진행합니다.')\n",
    "    code_list = code_df['store_code'].to_list()\n",
    "    \n",
    "    for code_no_ in tqdm_notebook(code_list):\n",
    "        code_no = str(code_no_)\n",
    "        if code_no in done_list:\n",
    "    #         print(code_no, '중복중복!!')\n",
    "            continue\n",
    "        store_cnt+=1\n",
    "\n",
    "        place_url = 'https://pcmap.place.naver.com/restaurant/'+str(code_no)+'/review/visitor'\n",
    "        wd.get(place_url)\n",
    "        time.sleep(2*slow)\n",
    "        scroll_down(wd,2)\n",
    "        cnt_idx = 0\n",
    "        error_idx = 0 \n",
    "        wd.implicitly_wait(1*slow)\n",
    "\n",
    "        name = wd.find_element_by_class_name('_3XamX').text\n",
    "        print(f'{store_cnt}번째 {name} 시작', end='\\t')\n",
    "    #         print('name',name)\n",
    "    #         print('code_no',code_no)\n",
    "        scroll_start_time=time.time()\n",
    "        try:\n",
    "\n",
    "            while (time.time() - scroll_start_time) < 50: # 50권장 \n",
    "    #                 print(time.time() - scroll_start_time)\n",
    "\n",
    "                wd.find_element_by_class_name('_3iTUo').click()\n",
    "    #                 print('리뷰 더보기')\n",
    "                time.sleep(0.5*slow)\n",
    "            else:\n",
    "                print(f'{int(time.time() - scroll_start_time)}초 소요','로딩완료', end='\\t')\n",
    "\n",
    "        except NoSuchElementException:\n",
    "            print(f'{int(time.time() - scroll_start_time)}초 소요','로딩완료S', end='\\t')\n",
    "        except StaleElementReferenceException :\n",
    "            print(\"S_E_Exc\")\n",
    "            pass\n",
    "        except:\n",
    "            pass\n",
    "\n",
    "\n",
    "        for o_bnt in wd.find_elements_by_class_name('dX2wL'):\n",
    "            try:\n",
    "                o_bnt.find_element_by_xpath('..').find_element_by_xpath('..').click()\n",
    "                print('펼', end='')\n",
    "            except:\n",
    "                pass\n",
    "        else:\n",
    "            print('펼치기 완료')\n",
    "        review_block_list = wd.find_elements_by_class_name('_2Cv-r')\n",
    "    #         print(len(review_block_list))\n",
    "        for review_block in review_block_list:\n",
    "\n",
    "            try:\n",
    "                wd.implicitly_wait(0.0001*slow)\n",
    "                review_df.loc[review_idx] = get_review(review_block, name, code_no)\n",
    "                wd.implicitly_wait(1*slow)\n",
    "                review_idx += 1\n",
    "                cnt_idx += 1\n",
    "                done_idx += 1\n",
    "                print('#',end='')\n",
    "            except:\n",
    "                print('!',end='')\n",
    "                error_idx += 1\n",
    "                if (error_idx > 10) and (cnt_idx/error_idx < 1):\n",
    "                    break\n",
    "                pass\n",
    "\n",
    "    #             #############################\n",
    "    #             if cnt_idx > 5:\n",
    "    #                 break\n",
    "\n",
    "\n",
    "        else:\n",
    "            review_df.to_csv(review_path+review_file, index=False)\n",
    "            print(구이름, 업종, f'{done_idx}개 중간저장')\n",
    "            print(f'    {name} {cnt_idx}개 완료.')\n",
    "\n",
    "        if (store_cnt+1)%15 == 0:\n",
    "            wd.close()\n",
    "            time.sleep(5*slow)\n",
    "            wd = webdriver.Chrome(ChromeDriverManager().install(), options= options)  # chromedriver 열기\n",
    "            wd.implicitly_wait(1*slow)\n",
    "            print('reboot chrome')\n",
    "                ##################### save just in case:\n",
    "\n",
    "\n",
    "\n",
    "    review_df.to_csv(review_path+review_file, index=False)\n",
    "    print(f'{구이름} {업종} 의 리뷰 스크래핑을 완료했습니다.')\n",
    "    print(f'{review_idx} 개 수집완료, {time.time()-start_time}')\n",
    "    wd.close()"
   ]
  },
  {
   "cell_type": "markdown",
   "id": "3153cdcb",
   "metadata": {},
   "source": [
    "# 셋팅"
   ]
  },
  {
   "cell_type": "code",
   "execution_count": 18,
   "id": "71e6e2c5",
   "metadata": {
    "ExecuteTime": {
     "end_time": "2021-10-25T12:38:21.843642Z",
     "start_time": "2021-10-25T12:38:21.829634Z"
    }
   },
   "outputs": [],
   "source": [
    "code_path = 'data/코드/'\n",
    "store_path = 'data/가게/'\n",
    "review_path = 'data/리뷰/'\n",
    "# code_file = '가게코드_' + 구이름 + '_'+ 업종 + '.csv'\n",
    "# store_file = '가게정보_' + 구이름 +  '_'+ 업종 + '.csv'\n",
    "# review_file = '리뷰정보_' + 구이름 +  '_'+ 업종 + '.csv'"
   ]
  },
  {
   "cell_type": "code",
   "execution_count": 19,
   "id": "f80c3ce9",
   "metadata": {
    "ExecuteTime": {
     "end_time": "2021-10-25T12:38:21.858664Z",
     "start_time": "2021-10-25T12:38:21.844643Z"
    }
   },
   "outputs": [],
   "source": [
    "detail= True\n",
    "slow=1"
   ]
  },
  {
   "cell_type": "markdown",
   "id": "ed4a5301",
   "metadata": {},
   "source": [
    "#  코드 수집 및 저장"
   ]
  },
  {
   "cell_type": "code",
   "execution_count": 20,
   "id": "a34c743e",
   "metadata": {
    "ExecuteTime": {
     "end_time": "2021-10-25T12:38:21.873681Z",
     "start_time": "2021-10-25T12:38:21.859664Z"
    }
   },
   "outputs": [
    {
     "name": "stdout",
     "output_type": "stream",
     "text": [
      "['강남구', '강동구', '강북구', '강서구', '관악구', '광진구', '구로구', '금천구', '노원구', '도봉구', '동대문구', '동작구', '마포구', '서대문구', '서초구', '성동구', '성북구', '송파구', '양천구', '영등포구', '용산구', '은평구', '종로구', '중구', '중랑구']\n"
     ]
    }
   ],
   "source": [
    "print(sorted(dong_dict.keys()))"
   ]
  },
  {
   "cell_type": "markdown",
   "id": "1a7b0d9c",
   "metadata": {},
   "source": [
    "* '강남구' : **세원**\n",
    "\n",
    "* '강동구', '강북구', '강서구', '관악구' : **준혁**    \n",
    "\n",
    "\n",
    "* '광진구', '구로구', '금천구', '노원구', '도봉구', '동대문구' : 미정    \n",
    "\n",
    "\n",
    "* '동작구', '마포구', '서대문구', '서초구', '성동구', '성북구' : 미정    \n",
    "\n",
    "\n",
    "* '송파구', '양천구' : 미정    \n",
    "\n",
    "     \n",
    "* '영등포구', '용산구', '은평구', '종로구', '중구', '중랑구':**승순**   \n"
   ]
  },
  {
   "cell_type": "code",
   "execution_count": 21,
   "id": "db50d078",
   "metadata": {
    "ExecuteTime": {
     "end_time": "2021-10-25T12:38:21.888942Z",
     "start_time": "2021-10-25T12:38:21.875684Z"
    }
   },
   "outputs": [],
   "source": [
    "세원_list=['강남구'] \n",
    "준혁_list=['강동구', '강북구', '강서구', '관악구'] \n",
    "승순_list=['영등포구', '용산구', '은평구','종로구', '중구', '중랑구'] "
   ]
  },
  {
   "cell_type": "code",
   "execution_count": null,
   "id": "1bf47c0d",
   "metadata": {
    "ExecuteTime": {
     "start_time": "2021-10-25T12:38:20.679Z"
    },
    "scrolled": true
   },
   "outputs": [
    {
     "name": "stderr",
     "output_type": "stream",
     "text": [
      "[WDM] - \n",
      "\n",
      "[WDM] - ====== WebDriver manager ======\n",
      "[WDM] - Current google-chrome version is 95.0.4638\n",
      "[WDM] - Get LATEST driver version for 95.0.4638\n",
      "[WDM] - Driver [C:\\Users\\bigne\\.wdm\\drivers\\chromedriver\\win32\\95.0.4638.17\\chromedriver.exe] found in cache\n"
     ]
    },
    {
     "name": "stdout",
     "output_type": "stream",
     "text": [
      "강남구  DINING 업종 의 리뷰 정보 스크래핑을 시작합니다.\n",
      "6863개의 가게코드가 있습니다.\n",
      "64가게의 리뷰13106개가 이전에 완료 되었었습니다. 이어서 진행합니다.\n"
     ]
    },
    {
     "data": {
      "application/vnd.jupyter.widget-view+json": {
       "model_id": "7f0f6cf53c724de4ab2c860f23f0d99c",
       "version_major": 2,
       "version_minor": 0
      },
      "text/plain": [
       "  0%|          | 0/6863 [00:00<?, ?it/s]"
      ]
     },
     "metadata": {},
     "output_type": "display_data"
    },
    {
     "name": "stdout",
     "output_type": "stream",
     "text": [
      "1번째 여민락 시작\t3초 소요 로딩완료S\t펼펼펼치기 완료\n",
      "o#o#o#o#o#o#o#o#o#o#o#o#o#o#o#o#o#o#o#o#o#o#o#o#o#o#o#o#o#o#o#o#o#o#o#o#o#o#!!o#o#o#o#o#o#강남구 DINING 44개 중간저장\n",
      "    여민락 44개 완료.\n",
      "2번째 양재박삼겹 시작\t1초 소요 로딩완료S\t펼치기 완료\n",
      "o#o#o#o#o#o#!o#o#강남구 DINING 52개 중간저장\n",
      "    양재박삼겹 8개 완료.\n",
      "3번째 생어거스틴 도곡점 시작\t21초 소요 로딩완료S\t펼펼펼펼펼펼펼펼펼펼펼펼펼펼펼펼펼펼펼펼펼펼펼펼펼펼펼펼펼펼치기 완료\n",
      "o#o#o#o#o#o#o#o#o#o#o#o#o#o#o#o#o#o#o#o#o#o#o#o#o#o#o#o#o#o#o#o#o#o#o#o#o#o#o#o#o#o#o#o#o#o#o#o#o#o#o#o#o#o#o#o#o#o#o#o#o#o#o#o#o#o#o#o#o#o#o#o#o#o#o#o#o#!o#o#o#o#o#o#o#o#o#o#o#o#o#o#o#o#o#o#o#o#o#o#o#o#o#o#o#o#o#o#o#o#o#o#o#o#o#o#o#o#o#o#o#o#o#o#o#o#o#o#o#o#o#o#o#o#o#o#o#o#o#o#o#o#o#o#o#o#o#o#o#o#o#o#o#o#o#o#o#o#o#o#o#o#o#o#o#o#o#o#o#o#o#o#o#o#o#o#o#o#o#o#o#o#o#o#o#o#o#o#o#o#o#o#o#o#o#o#o#o#o#o#o#o#o#o#o#o#o#o#o#o#o#o#o#o#o#o#o#o#o#o#o#o#o#o#o#o#o#o#o#o#o#o#o#o#o#o#o#o#o#o#o#o#o#o#o#o#o#o#o#o#o#o#o#o#o#o#o#o#o#o#o#o#o#o#o#o#o#o#o#o#o#o#o#o#o#o#o#o#o#o#o#o#o#o#o#o#o#o#o#o#o#o#o#o#o#o#o#o#o#o#o#o#o#o##o##o#o#o#o###강남구 DINING 364개 중간저장\n",
      "    생어거스틴 도곡점 312개 완료.\n",
      "4번째 연스시 시작\t3초 소요 로딩완료S\t펼펼펼펼치기 완료\n",
      "o#o#o#o#o#o#o#o#!o#o#o#o#o#o#o#o#o#o#o#o#o#o#o#o#o#o#o#o#o#o#o#o#o#o#o#o#o#o#o#o#o#o#o#o#o#o#o#o#강남구 DINING 412개 중간저장\n",
      "    연스시 48개 완료.\n",
      "5번째 오가네족발 본점 시작\t5초 소요 로딩완료S\t펼펼치기 완료\n",
      "o#o#o#o#o#o#o#o#o#o#o#o#o#o#o#o#o#o#o#o#o#o#o#o#o#o#o#!o#o#o#o#o#o#o#o#o#o#o#o#o#o#o#o#o#o#o#o#o#o#o#o#o#o#o#o#o#o#o#o#o#o#o#o#o#o#o#o#o#o#o#o#o#o#o#o#o#o#o#o#o#강남구 DINING 492개 중간저장\n",
      "    오가네족발 본점 80개 완료.\n",
      "6번째 이스트빌리지서울 대치점 시작\t1초 소요 로딩완료S\t펼치기 완료\n",
      "o#o#o#o#o#o#o#o#o#강남구 DINING 501개 중간저장\n",
      "    이스트빌리지서울 대치점 9개 완료.\n",
      "7번째 비스트로상수 시작\t10초 소요 로딩완료S\t펼펼펼펼펼펼펼펼펼펼펼펼펼펼펼펼펼펼펼펼펼펼펼펼펼펼펼펼치기 완료\n",
      "o#o#o#o#o#o#o#o#o#o#o#o#o#o#o#o#o#o#o#o#o#o#o#o#!o#o#o#o#o#o#o#o#o#o#o#o#o#o#o#o#o#o#o#o#o#o#o#o#o#o#o#o#o#o#!o#o#o#o#o#o#o#o#o#o#o#o#o#o#o#o#o#o#o#o#o#o#o#o#o#o#o#o#o#o#o#o#o#o#o#o#o#o#o#o#o#o#o#o#o#o#o#o#o#o#o#o#o#o#o#o#o#o#o#o#o#o#o#o#o#o#o#o#o#o#o#o#o#o#o#o#o#o#o#o#o#o#o#o#o#o#o#o#o#o#o#o#o#o#o#o#o#o#o#o#o#o#o#o#o#o#o#o#o#o#o#o#o#o#o#o#o#o#o#강남구 DINING 674개 중간저장\n",
      "    비스트로상수 173개 완료.\n",
      "8번째 레니 LP MUSIC BAR 시작\t2초 소요 로딩완료S\t펼펼펼치기 완료\n",
      "o#!o#o#o#o#o#o#o#o#o#o#o#o#o#o#o#o#o#o#o#o#o#o#강남구 DINING 697개 중간저장\n",
      "    레니 LP MUSIC BAR 23개 완료.\n",
      "9번째 빨간오뎅 부산어묵 시작\t42초 소요 로딩완료S\t펼펼펼펼펼펼펼펼펼펼펼펼펼펼펼펼치기 완료\n",
      "o#o#o#o#o#o#o#o#o#o#o#o#o#o#o#o#o#o#o#o#o#o#o#o#o#o#o#o#o#o#o#o#o#o#o#o#o#o#o#o#o#o#o#o#o#o#!o#o#o#o#o#o#o#o#o#o#o#o#o#o#o#o#o#o#o#o#o#o#o#o#o#o#o#o#o#o#o#o#o#o#o#o#o#o#o#o#o#o#o#o#o#o#o#o#o#o#o#o#o#o#o#o#!o#o#o#o#o#o#o#o#!o#o#o#o#o#o#o#o#o#o#o#o#o#o#o#o#o#o#o#o#o#o#o#o#o#o#o#o#o#o#o#o#o#o#o#o#o#o#o#o#o#o#o#o#o#o#o#o#o#o#o#o#o#o#o#o#o#o#o#o#o#o#o#o#o#o#o#o#o#o#o#o#o#o#o#o#o#o#o#o#o#o#o#o#o#o#o#o#o#o#o#o#o#o#o#o#o#o#o#o#o#o#o#o#o#o#o#o#o#o#o#o#o#o#o#o#o#o#o#o#o#o#o#o#o#o#o#o#o#o#o#o#o#o#o#o#o#o#o#o#o#o#o#o#o#o#o#o#o#o#o#o#o#o#o#o#o#o#o#o#o#o#o#o#o#o#o#o#o#o#o#o#o#o#o#o#o#o#o#o#o#o#o#o#o#o#o#o#o#o#o#o#o#o#o#o#o#o#o#o#o#o#o#o#o#o#o#o#o#o#o#o#o#o#o#o#o#o#o#o#o#o#o#o#o#o#o#o#o#o#o#o#o#o#o#o#o#o#o#o#o#o#o#o#o#o#o#o#o#o#o#o#o#o#o#o#o#o#o#o#o#o#o#o#o#o#o#o#o#o#o#o#o#o#o#o#o#o#o#o#o#o#o#o#o#o#o#o#o#o#o#o#o#o#o#o#o#o#o#o#o#o#o#o#o#o#o#o#o#o#o#o#o#o#o#o#o#o#o#o#o#o#o#o#o#o#o#o#o#o#o#o#o#o#o#o#!o#o#o#o#!o#o#o#o#o#o#o#o#o#o#o#o#o#o#o#o#o#o#o#o#o#o#o#o#o#o#o#o#o#o#o#o#o#o#o#o#o#o#o#o#o#o#o#o#o#o#o#o#o#o#o#o#o#o#o#o#o#o#o#o#o#강남구 DINING 1208개 중간저장\n",
      "    빨간오뎅 부산어묵 511개 완료.\n",
      "10번째 사월에보리밥 대치점 시작\t5초 소요 로딩완료S\t펼펼치기 완료\n",
      "o#o#o#o#o#o#o#o#o#o#o#o##o#o#o#o#o#o#o#o#o#o#o#o#o#o#o#o#o#o#o#o#o#o#o#o#o##o##o#o#o#o#o#o#o#o#o#o#o#o#o#!o#o##o#o###o#o#o#o####o#o#####o##o#o#o#o#o#o#o#o#o#o#o#o#o#o#o#o#o#o#o#강남구 DINING 1303개 중간저장\n",
      "    사월에보리밥 대치점 95개 완료.\n",
      "11번째 마봉양꼬치 매봉점 시작\t5초 소요 로딩완료S\t펼펼펼펼펼펼펼펼펼펼펼치기 완료\n",
      "o#o#o#o#o#o#o#o#o#o#o#o#o#o#o#o#o#o#o#o#!o#o#o#o#o#o#o#o##########o####o##########o#o#o#o#o#o##o#o##o#o#o#o#o#o#o#o###############################강남구 DINING 1402개 중간저장\n",
      "    마봉양꼬치 매봉점 99개 완료.\n",
      "12번째 봉피양 대치점 시작\t3초 소요 로딩완료S\t펼펼치기 완료\n",
      "o#o#o#o#o#o#o#o#o#!o#o#o#o#o#o#o#o#o#o#o#o#o#o#o#o#o#o#o#o#o#o#o#o#o#o#o#o#o#o#o#o#o#o#!o#o#o#o#o#o#o#o#o#o#o#강남구 DINING 1456개 중간저장\n",
      "    봉피양 대치점 54개 완료.\n",
      "13번째 도연하다 시작\t3초 소요 로딩완료S\t펼펼펼치기 완료\n",
      "o#o#o#o#o#o#o#!o#o#o#o#o#o#o#o#o#o#o#o#o#o#o#o#o#o#o#o#o#o#강남구 DINING 1485개 중간저장\n",
      "    도연하다 29개 완료.\n",
      "14번째 춘천명물닭갈비 제1호점 시작\t6초 소요 로딩완료S\t펼치기 완료\n",
      "o#o#!o#o#o#o#o#o#o#o#o#o#o#o#o#o#o#o#o#o#o#o#o#o#o#o#o#!o#o#!o#o#o#o#o#o#o#o#o#o#o#o#o#o#o#o#o#o#o#o#o#o#o#o#o#o#o#o#o#o#o#o#o#o#o#o#o#o#o#o#o#o#o#o#o#o#o#o#o#o#o#o#o#o#o#o#o#o#o#o#o#o#o#o#o#o#o#o##강남구 DINING 1583개 중간저장\n",
      "    춘천명물닭갈비 제1호점 98개 완료.\n"
     ]
    },
    {
     "name": "stderr",
     "output_type": "stream",
     "text": [
      "[WDM] - \n",
      "\n",
      "[WDM] - ====== WebDriver manager ======\n",
      "[WDM] - Current google-chrome version is 95.0.4638\n",
      "[WDM] - Get LATEST driver version for 95.0.4638\n",
      "[WDM] - Driver [C:\\Users\\bigne\\.wdm\\drivers\\chromedriver\\win32\\95.0.4638.17\\chromedriver.exe] found in cache\n"
     ]
    },
    {
     "name": "stdout",
     "output_type": "stream",
     "text": [
      "reboot chrome\n",
      "15번째 사람사는 고깃집 김일도 도곡점 시작\t8초 소요 로딩완료S\t펼펼펼펼펼펼펼펼펼펼치기 완료\n",
      "o#o#o#o#o#o#o#o#o#o#o#o#o#o#o#o#o##o#o#o#o#o#o#o#o#o#o#o#o#o#o#o#o#o#o#o#o#o#o##o#o#o#o#o#o#o#o#o#o#o#o#o#o#o#o#o#o#o#o#o#o#o#o#o#o#o#o#o#o#o#o#o#o#o#o#o##o##o###o###o##o###o#o##o#o#o#o##o#o#####o######o#o#o#o#o#o#o#o#o#o#o#o#o#o#o#o#o#o#o#o#o#o#o#o#o#o#o#o#o#o#o#o#o#o#o#o#o#o#강남구 DINING 1733개 중간저장\n",
      "    사람사는 고깃집 김일도 도곡점 150개 완료.\n",
      "16번째 설성목장 타워팰리스점 시작\t2초 소요 로딩완료S\t펼펼치기 완료\n",
      "o#o#o#o#o#o#o#o#o#o#o#o#o#o#o#o#o#o#o#o#o#강남구 DINING 1754개 중간저장\n",
      "    설성목장 타워팰리스점 21개 완료.\n",
      "17번째 명성이자자한국시집 시작\t3초 소요 로딩완료S\t펼치기 완료\n",
      "o#o#o#o#o#o#o#o#o#o#o#o#o#o#o#o#o#o#o#o#o#o#o#o#o#o#o#o#o#o#o#o#o#o#o#o#o#o#o#o#o#o#o#o#o#o#o#o#o#o#강남구 DINING 1804개 중간저장\n",
      "    명성이자자한국시집 50개 완료.\n",
      "18번째 일도씨닭갈비 대치점 시작\t6초 소요 로딩완료S\t펼펼펼펼펼펼펼펼펼펼펼펼펼펼치기 완료\n",
      "o#o#o#o#o#o#o#o#o#o#o#o#o#o#o#o#o#o#!o#o#o#o#o#o#o#o#o#o#o#o#o#o#o#o#o#o#o#o#o#o#o#o#o#o#o#o#o#o#o#o#o#o#o#o#o#o#o#o#o#o#o#o#o#o#o#o#o#o#o#o#o#o#o#o#o#o#!o#o#o#o#o#o#o#o#o#o#o#o#o#o#o#o#o#o#o#o#o#o#o#o#o#o#o#o#o#o#o#o#o#강남구 DINING 1913개 중간저장\n",
      "    일도씨닭갈비 대치점 109개 완료.\n",
      "19번째 순리대로 강남도곡본점 시작\t5초 소요 로딩완료S\t펼펼펼치기 완료\n",
      "o#o#o#o#o#o#o#o#o#o#o#o#o#o#o#o#o#o#o#o#o#o#o#o#o#o#o#o#o#o#o#o#o#o#o#o#o#o#o#o#o#o#o#o#o#o#o#o#o#o#o#o#o#o#o#o#o#o#o#o#o#o#o#o#o#o#o#o#o#o#o#o#o#o#o#o#o#o#o#o#o#o#o#o#o#o#o#o#o#o#o#o#o#o#o#강남구 DINING 2008개 중간저장\n",
      "    순리대로 강남도곡본점 95개 완료.\n",
      "20번째 호수삼계탕 도곡동직영점 시작\t10초 소요 로딩완료S\t펼펼펼펼펼펼펼펼펼펼펼펼펼치기 완료\n",
      "o#o#o#o#o#o#o#o#o#o#o#o#o#o#o#o#o#o#o#o#o#o#o#o#o#o#o#o#o#o#o#o#!o#o#o#o#o#o#o#o#o#o#o#o#o#o#o#o#o#o#o#o#o#o#o#o#o#o#o#o#o#o#o#o#o#o#o#o#o#o#o#o#o#o#o#o#o#o#o#!o#o#o#o#o#o#o#o#o#o#o#o#o#o#o#o#o#o#o#o#o#o#o#o#o#o#o#o#!o#o#o#o#o#o#o#o#o#o#o#o#o#o#o#o#o#o#o#o#o#o#o#o#o#o#o#o#o#o#o#o#o#o#o#o#o#o#o#o#o#o#o#o#o#o#o#o#o#o#o#o#o#강남구 DINING 2168개 중간저장\n",
      "    호수삼계탕 도곡동직영점 160개 완료.\n",
      "21번째 진대감 도곡점 시작\t13초 소요 로딩완료S\t펼펼펼펼펼펼펼펼펼펼펼펼펼펼펼펼치기 완료\n",
      "o#o#o#o#o#o#o#o#o#o#o#o#o#o#o#o#o#o##o#o#o#o#o##o#o#o#o#o#o#o#o#o#o#o#o#o#o#o#o#o#o#o#o##o#o#o#o#o#o#o#o#o#o#o#o#o#o##o#o#o#o#o#o#o#o#o#o#o#o#o#o#o#o#o#o#o#o#o#o#o#o#o#o#o#o#o#o#o#o#o#o#o#o#o#o#o#o#o#o#o#o#o#o#o#o#o#o#o#o#o#o#o#o#o#o#o#o#o#o#o#o#o#o#o#o#o#o#o#o#o#o#o#o#o#o#o#o#o#o#o#o#o#o#o#o#o#o#o#o#o#o#o#o#o#o#o#o#o#o#o#o#o#o#o#o#o#o#o#o#o#o#o#o#o#o#o#o#o#o#o#o#o#o#o#o#o#o#o#o#o#o#o#o#o#o#o#o#o#o#o#o#o#o#o#o#o#o#o#o#o#o#o#o#강남구 DINING 2385개 중간저장\n",
      "    진대감 도곡점 217개 완료.\n",
      "22번째 영산포홍어 시작\t2초 소요 로딩완료S\t펼펼펼펼펼펼펼펼치기 완료\n",
      "o#o#o#o#o#o#o#o#o#o#o#o#o#o#o#o#o#o#o#o#o#o#o#o#o#o#o#o#o#o#o#o#o#o#o#강남구 DINING 2420개 중간저장\n",
      "    영산포홍어 35개 완료.\n",
      "23번째 영동올뱅이집 시작\t8초 소요 로딩완료S\t펼펼펼치기 완료\n",
      "o#o#o#o#o#o#o#o#o#o#o#o#o#o#o#o#o#o#o#o#o#o#o#o#o#o#o#o#o#o#o#o#o#o#o#o#o#o#o#o#o#o#o#o#!o#o#o#o#o#o#o#o#o#!o#o#o#o#o#o#o#o#o#o#o#o#o#o#o#o#o#o#o#o#o#o#o#o#o#o#o#o#o#o#o#o#o#o#o#o#o#o#o#o#o#o#o#o#o#o#o#o#o#o#o#o#!o#o#o#o#o#o#o#o#o#o#o#o#o#o#o#o#o#o#!o#o#o#o#o#o#o#o#o#o#o#o#o#o#o#o#강남구 DINING 2559개 중간저장\n",
      "    영동올뱅이집 139개 완료.\n",
      "24번째 도곡 미주리 시작\t2초 소요 로딩완료S\t펼펼치기 완료\n",
      "o#o#o#!o#o#o#o#o#!o#o#o#o#o#o#o#o#o#o#o#o#o#o#o#o#!o#강남구 DINING 2584개 중간저장\n",
      "    도곡 미주리 25개 완료.\n",
      "25번째 사위식당 도곡점 시작\t3초 소요 로딩완료S\t펼치기 완료\n",
      "o#o#o#o#o#o#o#o#o#o#o#o#o#o#o#o#o#o#o#o##o####o#o#########################o###강남구 DINING 2638개 중간저장\n",
      "    사위식당 도곡점 54개 완료.\n",
      "26번째 효미역 도곡점 시작\t9초 소요 로딩완료S\t펼펼펼펼펼펼펼펼펼펼펼펼펼펼펼펼펼펼치기 완료\n",
      "o#o#o#!o#o#o#o#o#o#o#o#o#o#o#o#o#o#o#o#o#o#o#o#o#o#o#!o#o#o#o#o#o#o#o#o#o#o#o#o#o#o#o#o#o#o#o#o#o#o#o#o#o#o#o#o#o#o#o#o#o#o#o#o#o#o#o#o#o#o#o#o#o#o#o#o#o#o#o#o#o#o#o#o#o#o#o#o#o#!o#o#o#o#o#o#o#o#o#o#o#o#o#o#o#o#o#o#o#o#o#o#o#o#o#o#o#o#o#o#o#o#o#o#o#o#o#o#o#!o#o#o#o#o#o#o#o#o#o#o#o#o#o#o#o#o#o#o#o#o#o#o#o#o#o#o#o#강남구 DINING 2793개 중간저장\n",
      "    효미역 도곡점 155개 완료.\n",
      "27번째 양재오제섞어 양재본점 시작\t17초 소요 로딩완료S\t펼펼펼펼펼펼펼펼펼펼펼펼펼치기 완료\n",
      "o#o#o#o#o#o#o#o#o#o#o#o#o#o#o#o#o#o#o#o#o#o#o#o#o#o#o#o#o#o#o#o#o#o#o#o#o#o#o#o#o#o#o#o#o#o#o#o#o#o#o#o#o#o#o#o#o#o#o#o#o#o#o#o#o#o#o#o#o#o#o#o#o#o#o#o#o#o#o#o#o#o#o#o#o#o#o#o#o#o#o#o#o#o#o#o#o#o#o#o#o#o#o#o#o#o#o#o#o#o#o#o#o#o#o#o#o#o#o#o#o#o#o#o#o##o#o#o#o#o#o#o#o#o#o#o#o#o#o#o#o#o#o#o#o#o#o#o#o#o#o#o#o#o#o#o#o#o#o#o#o#o#o#o#o#o#o#o#o#o#o#o#o#o#o#o#o#o#o#o#o#o#o#o#o#o#o#o#o#o#o#o#o#o#o#o#o#o#o#o#o#o#o#o#o#o#o#o#o#o#o#o#o#o#o#o#o#o#o#o#o#o#o#o#o#o#o#o#o#o#o#o#o#o#o#o#o#o#o#o#o#o#o#o#o#o#o#o#o#o#o#o#o#o#!!o#o#o#o#o#o#o#o#o#o#o#o#o#o#o#o#o#o#o#o#o#o#o#강남구 DINING 3071개 중간저장\n",
      "    양재오제섞어 양재본점 278개 완료.\n",
      "28번째 아낙감 본점 시작\t5초 소요 로딩완료S\t펼펼펼펼펼펼펼펼펼펼펼펼펼펼펼펼치기 완료\n",
      "o#o#o#o##o###o#o#o#o#o#o#o########o##!######o##o#####o#o#o##o#o#o#o#o#o#o#o#o#o#o#o#!o#o#o#o#o#o#o#!o#o#o#o#o#o#o#o#o#o#o#o#o#o#o#o#o#o#o#o#o#o#o#o#o#강남구 DINING 3156개 중간저장\n",
      "    아낙감 본점 85개 완료.\n",
      "29번째 네모오징어 도곡본점 시작\t6초 소요 로딩완료S\t펼치기 완료\n",
      "o#o#o#o#o#o#o#o#o#o#o#!o#o#o#o#o#o#o#o#o#o#o#o#o#!o#o#o#o#o#o#o#o#o#o#o#o#o#o#o#o#o#o#o#o#o#!o#o#o#o#o#o#o#o#o#o#o#o#o#o#o#o#o#o#o#o#o#o#o#o#o#o#o#o#o#o#o#o#o#o#o#o#o#o#o#o#o#o#o#o#o#o#o#o#o#o#o#o#o#o#o#o#o#o#o#o#o#강남구 DINING 3262개 중간저장\n",
      "    네모오징어 도곡본점 106개 완료.\n"
     ]
    },
    {
     "name": "stderr",
     "output_type": "stream",
     "text": [
      "[WDM] - \n",
      "\n",
      "[WDM] - ====== WebDriver manager ======\n",
      "[WDM] - Current google-chrome version is 95.0.4638\n",
      "[WDM] - Get LATEST driver version for 95.0.4638\n",
      "[WDM] - Driver [C:\\Users\\bigne\\.wdm\\drivers\\chromedriver\\win32\\95.0.4638.17\\chromedriver.exe] found in cache\n"
     ]
    },
    {
     "name": "stdout",
     "output_type": "stream",
     "text": [
      "reboot chrome\n",
      "30번째 연안식당 도곡점 시작\t5초 소요 로딩완료S\t펼펼펼치기 완료\n",
      "o#o#o#o#o#o#o#o#o#o#o#o#o#o#o#o#o#o#o#o#o#o#o#o#o#o#o#o#o#o#o#o#o#o#o#o#o#o#o#o#o#o#o#o#o#o#o#o#o#o#o#o#o#o#o#o#o#o#o#o#o#o#o#o#o#o#o#o#o#o#o#o#o#o#o#o#o#o#o#o#o#o#o#o#o#o#o#o#강남구 DINING 3350개 중간저장\n",
      "    연안식당 도곡점 88개 완료.\n",
      "31번째 남도복국 매봉점 시작\t3초 소요 로딩완료S\t펼펼펼치기 완료\n",
      "o#o#o#o#o#o#o#o#o#o#o#########o######o##!###o#########o###강남구 DINING 3392개 중간저장\n",
      "    남도복국 매봉점 42개 완료.\n",
      "32번째 그집갈비탕&매운갈비찜 시작\t3초 소요 로딩완료S\t펼펼펼펼펼펼치기 완료\n",
      "o#o#o#o#o#o#o#o#o#o#o#o#o#o#o#o#o#o#o#o#o#o#o#o#o#o#o#o#o#o#o#o#o#o#o#o#o#o#o#o#o#o#o#o#o#o#o#o#o#o#o#o#o#o#o#o#o#o#o#강남구 DINING 3451개 중간저장\n",
      "    그집갈비탕&매운갈비찜 59개 완료.\n",
      "33번째 무쏘 도곡점 시작\t3초 소요 로딩완료S\t펼펼펼펼치기 완료\n",
      "o#o#o#o#o#o#o#o#o#o#o#o#o#o#!o#o#!o#o#o#o#o#o#o#o#o#o#o#o#o#o#o#o#o#o#o#o#o#o#o#o#o#o#o#o#o#o#o#o#o#강남구 DINING 3500개 중간저장\n",
      "    무쏘 도곡점 49개 완료.\n",
      "34번째 봉시김치찌개 시작\t3초 소요 로딩완료S\t펼치기 완료\n",
      "o#o#o#o#o#o#o#o#o#o#o#o#o#o#o#o#o#o#o#o#o#o#o#o#o#o#o#o#o#o#o#o#o#o#o#o#o#o#o#o#o#o#o#o#o#o#o#o#o#o#o#o#o#!!o#o#o#o#강남구 DINING 3557개 중간저장\n",
      "    봉시김치찌개 57개 완료.\n",
      "35번째 일상 시작\t4초 소요 로딩완료S\t펼펼펼펼펼펼펼펼펼펼펼펼펼치기 완료\n",
      "o#o#o#o#o#o#o#o#o#o#o#o#o#o#o#o#o#o#o#o#o#o#o#o#o#o#o#o#o#o#o#o#o#!o#o#o#o#o#o#o#o#o#o#o#o#o#o#o#o#o#o#o#o#o#o#o#o#o#o#o#o#o#o#강남구 DINING 3620개 중간저장\n",
      "    일상 63개 완료.\n",
      "36번째 양재불백 시작\t4초 소요 로딩완료S\t펼펼펼펼펼펼펼펼펼펼펼펼펼펼펼펼펼치기 완료\n",
      "o#o#o#o#o#o#o#o#o#o#o#o#o#o#o#o#o#o#o#o#o#o#o#o#o#o#o#o#o#o#o#o#o#o#o#o#o#o#o#o#o#o#o#o#o#o#o#o#o#o#!o#o#o#o#o#o####o#o#강남구 DINING 3681개 중간저장\n",
      "    양재불백 61개 완료.\n",
      "37번째 삼곱식당 개포점 시작\t2초 소요 로딩완료S\t펼치기 완료\n",
      "o#o#o#o#o#o#o#o#o#o#o#o#o#o#o#o#o#o#o#o#o#o#강남구 DINING 3703개 중간저장\n",
      "    삼곱식당 개포점 22개 완료.\n",
      "38번째 제주왕솥뚜껑삼겹살 시작\t2초 소요 로딩완료S\t펼펼펼펼펼펼펼치기 완료\n",
      "o#o#o#o#o#o#o#o#o#o#o#o#o#o#o#o#o#o#o#o#o#o#o#o#o#o#o#o#o#o#o#o#o#o#o#o#o#o#o#o#강남구 DINING 3743개 중간저장\n",
      "    제주왕솥뚜껑삼겹살 40개 완료.\n",
      "39번째 소호정 신관 시작\t9초 소요 로딩완료S\t펼펼펼펼펼펼펼펼펼펼치기 완료\n",
      "o#o#o#o#o#o#o#o#o#o#o#o#o#o#o#o#o#o#o#o#o#o#o#o#o#o#o#o#o#o#o#o#o#o#o#o#o#o#o#o#o#o#o#o#o#o#o#o#o#o#o#o#o#o#o#o#o#o#o#o#o#o#o#o#o#o#o#o#o#o#o#o#o#o#o#o#o#o#o#o#o#o#o#o#o#o#o#o#o#o#o#o#o#o#o#o#o#o#o#o#o#o#o#o#o#o#o#o#o#o#o#o#o#o#o#o#o#o#o#o#o#o#o#o#o#o#o#o#o#o#o#o#o#o#o#o#o#o#o#o#o#o#o#o#o#o#강남구 DINING 3889개 중간저장\n",
      "    소호정 신관 146개 완료.\n",
      "40번째 전주콩뿌리콩나물국밥 도곡점 시작\t10초 소요 로딩완료S\t펼펼펼치기 완료\n",
      "o#o#o#o#o#o#o#o#o#o#o#o#o#o#o#o#o#o#o#o#o#o#o#o#o#o#o#o#o#o#o#o#o#o#o#o#o#o#o#o#o#o#o#o#o#o#o#o#o#o#o#o#o#o#o#!o#o#o#o#o#o#o#o#o#!o#o#o#o#o#o#o#o#o#o#o#o#o#o#o#o#o#o#o#o#o#o#o#o#o#o#o#o#o#o#o#o#!o#o#o#o#o#o#o#o#o#!o#o#o#o#o#o#o#o#o#o#o#o#o#o#o#o#o#o#o#o#o#o#!o#o#o#o#o#o#o#o#o#o#!o#o#o#o#o#o#o#o#o#!o#o#o#o#o#o#o#o#o#o#o#강남구 DINING 4046개 중간저장\n",
      "    전주콩뿌리콩나물국밥 도곡점 157개 완료.\n",
      "41번째 원할머니보쌈족발 개포점 시작\t3초 소요 로딩완료S\t펼치기 완료\n",
      "o#o#o#o#o#o#o#o#o#o#o#o#o#o#o#o#o#o#o#!o#o#o#o#o#o#o#o#o#o#o#o#o#o#o#o#o#o#o#o#o#o#o#o#o#o#o#o#o#o#o#o#강남구 DINING 4097개 중간저장\n",
      "    원할머니보쌈족발 개포점 51개 완료.\n",
      "42번째 어반진지 도곡본점 시작\t4초 소요 로딩완료S\t펼치기 완료\n",
      "o#o#o#o#o#o#o#o#o#o#o#o#o#o#o#o#o#o#o#o#o#o#o#o#o#o#o#o#o#o#o#o#o#o#o#o#o#o#o#o#o#o#o#o#o#o#o#o#o#o#o#o#o#o#o#o#o#o#o#o#o#o#o#o#o#o#o#o#o#o#강남구 DINING 4167개 중간저장\n",
      "    어반진지 도곡본점 70개 완료.\n",
      "43번째 생고기원조소금구이 시작\t3초 소요 로딩완료S\t펼치기 완료\n",
      "o#o#o#o#o#o#o#o#o#o#o#o#o#o#o#o#o#o#o#o#o#o#o#o#o#o#!o#o#o#o#o#o#o#o#o#!o#o#o#o#o#o#o#o#o#o#o#o#o#o#o#o#o#o#o#o#o#o#o#강남구 DINING 4225개 중간저장\n",
      "    생고기원조소금구이 58개 완료.\n",
      "44번째 양촌리화로숯불구이 시작\t6초 소요 로딩완료S\t펼펼펼펼펼치기 완료\n",
      "o#o#o#o#o#o#o#o#o#o#o#o#o#o#o#o#o#o#o#o#o#o#o#o#o#o#o#o#o#o#o#o#o##o####o#o#o#o#o##o####o#o#o#o#o#o#o#o#o#o##o#o#o#o#o#o#o#o#o##o#o#o#o#o#o#o#o#o#o#o#o#o#o#o#o#o#o#o#o#o#o#o#o#o#o#o#o#o#o#o#o#o#o#o#o#o#o#o#o#o#강남구 DINING 4335개 중간저장\n",
      "    양촌리화로숯불구이 110개 완료.\n"
     ]
    },
    {
     "name": "stderr",
     "output_type": "stream",
     "text": [
      "[WDM] - \n",
      "\n",
      "[WDM] - ====== WebDriver manager ======\n",
      "[WDM] - Current google-chrome version is 95.0.4638\n",
      "[WDM] - Get LATEST driver version for 95.0.4638\n",
      "[WDM] - Driver [C:\\Users\\bigne\\.wdm\\drivers\\chromedriver\\win32\\95.0.4638.17\\chromedriver.exe] found in cache\n"
     ]
    },
    {
     "name": "stdout",
     "output_type": "stream",
     "text": [
      "reboot chrome\n",
      "45번째 형제곱창 포이점 시작\t1초 소요 로딩완료S\t펼치기 완료\n",
      "o#o#o#o#o#o#o#o#o#o#o#o#o#!o#o#o#o#강남구 DINING 4352개 중간저장\n",
      "    형제곱창 포이점 17개 완료.\n",
      "46번째 흙향 시작\t3초 소요 로딩완료S\t펼치기 완료\n",
      "o#o#o#o###o#o#o#o#o#o#o#o#o#o#o#o#o#o#o#o#o#o#o#o#o#o#o#o#o#o#o#o#o#o#o#o#o#o#o#o#o#o#o#o#o#강남구 DINING 4399개 중간저장\n",
      "    흙향 47개 완료.\n",
      "47번째 숙아채콩나물국밥 시작\t5초 소요 로딩완료S\t펼펼치기 완료\n",
      "o#o#o#o#o#o#o#o#o#o#o#o#o#o#o#o#o#o#o#o#o#o#o#o#o#o#o#o#o#o#o#o#o#o#o#o#o#o#o#o#o#o#o#o#o#o#o#o#o#o#o#o#o#o#o#o#o#o#o#o#o#o#o#o#o#o#o#o#o#o#o#o#o#o#o#o#o#o#!o#o#o#o#o#o#o#o#o#o#o#o#o#o#o#o#o#o#강남구 DINING 4495개 중간저장\n",
      "    숙아채콩나물국밥 96개 완료.\n",
      "48번째 신선설농탕 도곡점 시작\t15초 소요 로딩완료S\t펼펼펼펼치기 완료\n",
      "o#o#o#o#o#o#o#o#o#o#o#o#o#o#o#o#o#o#o#o#o#o#o#o#o#o#o#o#o#o#o#o#o#o#o#o#o#o#o#o#o#o#o#o#o#o#o#o#o#o#o#o#o#o#o#o#o#o#o#o#o#o#o#o#o#o#o#o#o#o#o#o#o#o#o#o#o#o#o#o#o#o#o#o#o#o#o#o#o#o#o#o#o#o#o#o#o#o#o#o#o#o#o#o#o#o#o#o#o#o#o#o#o#o#o#o#o#o#o#o#o#o#o#o#o#o#o#o#o#o#o#o#o#o#o#o#o#o#o#o#o#o#o#o#o#o#o#o#o#o#o#o#o#o#o#o#o#o#o#o#o#o#o#o#o#o#o#o#o#o#o#o#o#o#o#o#o#o#o#o#o#o#o#o#o#o#o#o#o#o#o#o#o#o#o#o#o#o#o#o#o#o#o#o#o#o#o#o#o#o#o#o#o#!o#o#o#o#o#o#o#o#o#o#o#o#o#o#o#o#o#o#o#o#o#o#o#o#o#o#o#강남구 DINING 4735개 중간저장\n",
      "    신선설농탕 도곡점 240개 완료.\n",
      "49번째 도반 시작\t6초 소요 로딩완료S\t펼펼펼펼펼펼펼펼펼펼펼치기 완료\n",
      "o#o#o#o#!o#o#o#o#o#o#o#o#o#o#o#o#o#o#o#o#o#o#o#o#o#o#o#o#o#o#o#o#o#o#o#o#o#o#o#o#o#o#o#o#o#o#o#o#o#o#o#o#o#o#o#o#o#o#o#o#o#o#o#o#o#o#o#o#o#o#o#o#o#o#o#o#o#o#o#o#o#o#o#o#####o########o####o#o#########강남구 DINING 4845개 중간저장\n",
      "    도반 110개 완료.\n",
      "50번째 두어마리 시작\t3초 소요 로딩완료S\t펼펼치기 완료\n",
      "o#o#o#o#o#o#o#o#o#o#o#o#o#o#o#o#o#o#o#o#o#o#o#o#o#o#o#o#o#o#o#o#o#o#o#o#o#o#o#o#o#o#o#o#o#o#o#o#o#o#강남구 DINING 4895개 중간저장\n",
      "    두어마리 50개 완료.\n",
      "51번째 도토리마을 포이점 시작\t3초 소요 로딩완료S\t펼치기 완료\n",
      "o#o#o#o#o#o#o#o#o#!o#o#o#o#o#o#o#o#o#o#o#o#o#o#o#o#o#o#o#o#o#o#o#o#o#o#o#o#o#o#o#o#o#o#o#o##강남구 DINING 4941개 중간저장\n",
      "    도토리마을 포이점 46개 완료.\n",
      "52번째 사리원 도곡점 시작\t3초 소요 로딩완료S\t펼펼치기 완료\n",
      "o#o#o#o#o#o#o#o#o#o#o#o#o#o#o#o#o#o#o#o#o#o#o#o#o#o#o#o#o#o#o#o#o#o#o#o#o#o#o#o#o#o#o#o#o#o#o#o#o#o#o#o#o#o#o#o#o#o#강남구 DINING 4999개 중간저장\n",
      "    사리원 도곡점 58개 완료.\n",
      "53번째 삼곱식당 양재점 시작\t4초 소요 로딩완료S\t펼치기 완료\n",
      "o#o#o#o#o#o#o#o#o#o#########o#o#o#o#o#o#o#o#o#o#o#o#o#o#o#o#o#o#o#o#o#o#o#o#o#o#o#o#o#강남구 DINING 5046개 중간저장\n",
      "    삼곱식당 양재점 47개 완료.\n",
      "54번째 부산양대창전문점 시작\t2초 소요 로딩완료S\t펼펼펼펼펼치기 완료\n",
      "o#o#o#o#o#o#o#o#o#!o#o#o#o#o#o#o#o#o#o#o#o#o#o#o#o#o#o#o#o#o#o#o#o#o#o#o#o#o#o#강남구 DINING 5085개 중간저장\n",
      "    부산양대창전문점 39개 완료.\n",
      "55번째 갯바위 시작\t1초 소요 로딩완료S\t펼치기 완료\n",
      "o#o#o#o#o#o#o#o#o#o#o#o#o#o#o#o#o#강남구 DINING 5102개 중간저장\n",
      "    갯바위 17개 완료.\n",
      "56번째 소도둑 양재동점 시작\t3초 소요 로딩완료S\t펼펼펼치기 완료\n",
      "o#o#o#o#o#o#o#o#o#o#o#o#o#o#o#o#o#o#o#o#o#o#o#o#o#o#o#o#o#o#o#o#o#o#o#o#o#o#o#o#o#o#o#o#o#o#o#o#강남구 DINING 5150개 중간저장\n",
      "    소도둑 양재동점 48개 완료.\n",
      "57번째 돈가네김치찌개 본사직영점 시작\t2초 소요 로딩완료S\t펼치기 완료\n",
      "o#o#o#o#o############################강남구 DINING 5182개 중간저장\n",
      "    돈가네김치찌개 본사직영점 32개 완료.\n",
      "58번째 개포동장군주먹고기 시작\t1초 소요 로딩완료S\t펼치기 완료\n",
      "o#o#o#o#o#o#o#o#o#o#o#o#강남구 DINING 5194개 중간저장\n",
      "    개포동장군주먹고기 12개 완료.\n",
      "59번째 봄에한우 시작\t4초 소요 로딩완료S\t펼펼펼치기 완료\n",
      "o#o#o#o#o#o#o#o#o#o#o#o#o#o#o#o#o#o#o#o#o#o#o#o#o#o#o#o#o#o#o#o#o#o#o#o#o#o#o#o#o#o#o#o#o##o#o##o#o#o#o#o#o#o#o#o#o#o#o#o#o#o#o#o#o#강남구 DINING 5261개 중간저장\n",
      "    봄에한우 67개 완료.\n"
     ]
    },
    {
     "name": "stderr",
     "output_type": "stream",
     "text": [
      "[WDM] - \n",
      "\n",
      "[WDM] - ====== WebDriver manager ======\n",
      "[WDM] - Current google-chrome version is 95.0.4638\n",
      "[WDM] - Get LATEST driver version for 95.0.4638\n",
      "[WDM] - Driver [C:\\Users\\bigne\\.wdm\\drivers\\chromedriver\\win32\\95.0.4638.17\\chromedriver.exe] found in cache\n"
     ]
    },
    {
     "name": "stdout",
     "output_type": "stream",
     "text": [
      "reboot chrome\n",
      "60번째 두부야 시작\t4초 소요 로딩완료S\t펼치기 완료\n",
      "o#o#o#o#o#o#o#o#o#o#o#o#!o#o#o#o#"
     ]
    }
   ],
   "source": [
    "업종= 'DINING'\n",
    "idx=1\n",
    "\n",
    "while True:\n",
    "    try:\n",
    "        for 구이름 in 세원_list:\n",
    "            code_file = '가게코드_' + 구이름 + '_'+ 업종 + '.csv'\n",
    "            if check_file(code_path, code_file):\n",
    "                naver_review_scrapping(구이름, 업종, slow=1)\n",
    "            else:\n",
    "                print(f'{구이름} {업종}이 없습니다. ')\n",
    "    except:\n",
    "        time.sleep(idx**2)\n",
    "        idx+=1\n",
    "        print(f'{idx} 실패')\n",
    "    if idx%10 ==0:\n",
    "        clear_screen()\n",
    "        \n",
    "    if idx>=30:\n",
    "        \n",
    "        break"
   ]
  },
  {
   "cell_type": "code",
   "execution_count": null,
   "id": "ce76d232",
   "metadata": {
    "ExecuteTime": {
     "start_time": "2021-10-25T12:38:20.680Z"
    }
   },
   "outputs": [],
   "source": [
    "df = pd.read_csv('data/리뷰/리뷰정보_강남구_DINING.csv')"
   ]
  },
  {
   "cell_type": "code",
   "execution_count": null,
   "id": "99fd266b",
   "metadata": {
    "ExecuteTime": {
     "start_time": "2021-10-25T12:38:20.680Z"
    }
   },
   "outputs": [],
   "source": [
    "df.shape"
   ]
  },
  {
   "cell_type": "code",
   "execution_count": null,
   "id": "1ec3b628",
   "metadata": {},
   "outputs": [],
   "source": []
  }
 ],
 "metadata": {
  "kernelspec": {
   "display_name": "Python 3 (ipykernel)",
   "language": "python",
   "name": "python3"
  },
  "language_info": {
   "codemirror_mode": {
    "name": "ipython",
    "version": 3
   },
   "file_extension": ".py",
   "mimetype": "text/x-python",
   "name": "python",
   "nbconvert_exporter": "python",
   "pygments_lexer": "ipython3",
   "version": "3.8.11"
  },
  "toc": {
   "base_numbering": 1,
   "nav_menu": {},
   "number_sections": true,
   "sideBar": true,
   "skip_h1_title": false,
   "title_cell": "Table of Contents",
   "title_sidebar": "Contents",
   "toc_cell": false,
   "toc_position": {
    "height": "calc(100% - 180px)",
    "left": "10px",
    "top": "150px",
    "width": "322.792px"
   },
   "toc_section_display": true,
   "toc_window_display": false
  }
 },
 "nbformat": 4,
 "nbformat_minor": 5
}
