{
 "cells": [
  {
   "cell_type": "markdown",
   "id": "34682007",
   "metadata": {},
   "source": [
    "<a href='https://github.com/SeWonKwon' ><div> <img src ='https://slid-capture.s3.ap-northeast-2.amazonaws.com/public/image_upload/6556674324ed41a289a354258718280d/964e5a8b-75ad-41fc-ae75-0ca66d06fbc7.png' align='left' /> </div></a>\n"
   ]
  },
  {
   "cell_type": "markdown",
   "id": "8e442582",
   "metadata": {},
   "source": [
    "1. 네이버 자료\n",
    "\n",
    "2. 네이버 Place 코드\n",
    "    * 기준: 서울시 동별, 업종별\n",
    "    \n",
    "    \n",
    "3. 가게정보, 리뷰 정도 겟\n",
    "\n"
   ]
  },
  {
   "cell_type": "markdown",
   "id": "8a5b0d31",
   "metadata": {},
   "source": [
    "# 필요함수 및 라이브러리"
   ]
  },
  {
   "cell_type": "code",
   "execution_count": 1,
   "id": "732e1ce8",
   "metadata": {
    "ExecuteTime": {
     "end_time": "2021-10-24T14:01:57.592825Z",
     "start_time": "2021-10-24T14:01:57.018301Z"
    }
   },
   "outputs": [],
   "source": [
    "import time\n",
    "import pandas as pd\n",
    "import numpy as np\n",
    "import json\n",
    "\n",
    "from selenium import webdriver\n",
    "from selenium.webdriver.common.keys import Keys\n",
    "from selenium.common.exceptions import NoSuchElementException\n",
    "from selenium.common.exceptions import ElementNotInteractableException\n",
    "from selenium.common.exceptions import StaleElementReferenceException\n",
    "from selenium.common.exceptions import ElementClickInterceptedException\n",
    "from webdriver_manager.chrome import ChromeDriverManager\n",
    "from selenium.webdriver.common.by import By\n",
    "\n",
    "import warnings\n",
    "warnings.filterwarnings(action = 'ignore')\n"
   ]
  },
  {
   "cell_type": "markdown",
   "id": "e8951b40",
   "metadata": {},
   "source": [
    "## 파일 관련"
   ]
  },
  {
   "cell_type": "code",
   "execution_count": 2,
   "id": "ad1b4f5d",
   "metadata": {
    "ExecuteTime": {
     "end_time": "2021-10-24T14:01:57.608286Z",
     "start_time": "2021-10-24T14:01:57.593830Z"
    }
   },
   "outputs": [],
   "source": [
    "def get_today():\n",
    "    import datetime\n",
    "    now = datetime.datetime.now()\n",
    "    \n",
    "    nowDate = now.strftime('%Y-%m-%d')\n",
    "#     print(nowDate)      # 2015-04-19\n",
    " \n",
    "    nowTime = now.strftime('%H:%M:%S')\n",
    "#     print(nowTime)      # 12:11:32\n",
    "\n",
    "    nowDatetime = now.strftime('%Y-%m-%d %H:%M:%S')\n",
    "    return nowDate"
   ]
  },
  {
   "cell_type": "code",
   "execution_count": 3,
   "id": "a1055cf1",
   "metadata": {
    "ExecuteTime": {
     "end_time": "2021-10-24T14:01:57.623721Z",
     "start_time": "2021-10-24T14:01:57.609287Z"
    }
   },
   "outputs": [],
   "source": [
    "import os\n",
    "def check_file(file_path, file_name):\n",
    "    return os.path.isfile(file_path+file_name)"
   ]
  },
  {
   "cell_type": "code",
   "execution_count": 4,
   "id": "4fb0add8",
   "metadata": {
    "ExecuteTime": {
     "end_time": "2021-10-24T14:01:57.638517Z",
     "start_time": "2021-10-24T14:01:57.624726Z"
    }
   },
   "outputs": [],
   "source": [
    "def save_df(df, path, file_name):\n",
    "    df.to_csv(path+file_name, index=False)\n",
    "    print(f'{path+file_name} 저장 완료')"
   ]
  },
  {
   "cell_type": "code",
   "execution_count": 5,
   "id": "332a1cb1",
   "metadata": {
    "ExecuteTime": {
     "end_time": "2021-10-24T14:01:57.653482Z",
     "start_time": "2021-10-24T14:01:57.639518Z"
    }
   },
   "outputs": [],
   "source": [
    "def read_csv_코드정보(code_path , code_file):\n",
    "    df = pd.read_csv(code_path + code_file )\n",
    "    return df"
   ]
  },
  {
   "cell_type": "code",
   "execution_count": 6,
   "id": "1e5c3553",
   "metadata": {
    "ExecuteTime": {
     "end_time": "2021-10-24T14:01:57.668495Z",
     "start_time": "2021-10-24T14:01:57.654481Z"
    }
   },
   "outputs": [
    {
     "data": {
      "text/plain": [
       "'음식점:DINING, 카페: CAFE, 쇼핑: SHOPPING, 숙박: ACCOMMODATION, 병원의료: HOSPITAL, 은행: BANK,\\n   주요소:OIL, 마트슈퍼: MART, 편의점: STORE, 생활편의: CONVENIENCE, 명소: SIGHTS, 체육시설: SPORT, \\n   영화공연:CINEMA, 관공서:GOVERNMENT'"
      ]
     },
     "execution_count": 6,
     "metadata": {},
     "output_type": "execute_result"
    }
   ],
   "source": [
    "'''음식점:DINING, 카페: CAFE, 쇼핑: SHOPPING, 숙박: ACCOMMODATION, 병원의료: HOSPITAL, 은행: BANK,\n",
    "   주요소:OIL, 마트슈퍼: MART, 편의점: STORE, 생활편의: CONVENIENCE, 명소: SIGHTS, 체육시설: SPORT, \n",
    "   영화공연:CINEMA, 관공서:GOVERNMENT'''"
   ]
  },
  {
   "cell_type": "markdown",
   "id": "599cb480",
   "metadata": {},
   "source": [
    "###### 서울시 동 load 관련"
   ]
  },
  {
   "cell_type": "code",
   "execution_count": 7,
   "id": "16a17d9e",
   "metadata": {
    "ExecuteTime": {
     "end_time": "2021-10-24T14:01:57.683511Z",
     "start_time": "2021-10-24T14:01:57.669497Z"
    }
   },
   "outputs": [],
   "source": [
    "import pickle\n",
    "import collections\n",
    "\n",
    "def get_seoul_dong():\n",
    "    with open('data/서울시_구별_동정리.pickle','rb') as fw:\n",
    "        dong_dict = pickle.load( fw)\n",
    "\n",
    "    dong_key_list = list(dong_dict.keys())\n",
    "    dong_key_list.sort()\n",
    "    # dong_key_list\n",
    "\n",
    "    for 구이름 in dong_key_list:\n",
    "        dong_dict[구이름] = sorted(dong_dict[구이름])\n",
    "    \n",
    "    return dong_dict"
   ]
  },
  {
   "cell_type": "code",
   "execution_count": 8,
   "id": "35f55cb3",
   "metadata": {
    "ExecuteTime": {
     "end_time": "2021-10-24T14:01:57.698529Z",
     "start_time": "2021-10-24T14:01:57.684512Z"
    }
   },
   "outputs": [],
   "source": [
    "dong_dict = get_seoul_dong()"
   ]
  },
  {
   "cell_type": "markdown",
   "id": "8ffef825",
   "metadata": {},
   "source": [
    "## 웹 조정 관련"
   ]
  },
  {
   "cell_type": "code",
   "execution_count": 9,
   "id": "c200a263",
   "metadata": {
    "ExecuteTime": {
     "end_time": "2021-10-24T14:01:57.713555Z",
     "start_time": "2021-10-24T14:01:57.698529Z"
    }
   },
   "outputs": [],
   "source": [
    "def is_clickable(wd):\n",
    "    return wd.is_enabled() and wd.is_displayed()"
   ]
  },
  {
   "cell_type": "code",
   "execution_count": 10,
   "id": "9327dafb",
   "metadata": {
    "ExecuteTime": {
     "end_time": "2021-10-24T14:01:57.728572Z",
     "start_time": "2021-10-24T14:01:57.715555Z"
    }
   },
   "outputs": [],
   "source": [
    "def scroll_down(wd,SCROLL_PAUSE_SEC = 1):\n",
    "\n",
    "    # 스크롤 높이 가져옴\n",
    "    last_height = wd.execute_script(\"return document.body.scrollHeight\")\n",
    "#     print(last_height)\n",
    "    while True:\n",
    "        # 끝까지 스크롤 다운\n",
    "        wd.execute_script(\"window.scrollTo(0, document.body.scrollHeight);\")\n",
    "\n",
    "        # 1초 대기\n",
    "        time.sleep(SCROLL_PAUSE_SEC)\n",
    "\n",
    "        # 스크롤 다운 후 스크롤 높이 다시 가져옴\n",
    "        new_height = wd.execute_script(\"return document.body.scrollHeight\")\n",
    "        if new_height == last_height:\n",
    "            break\n",
    "        last_height = new_height"
   ]
  },
  {
   "cell_type": "markdown",
   "id": "355be777",
   "metadata": {},
   "source": [
    "## 크롤링 에러 방지 관련"
   ]
  },
  {
   "cell_type": "code",
   "execution_count": 11,
   "id": "10060fb6",
   "metadata": {
    "ExecuteTime": {
     "end_time": "2021-10-24T14:01:57.743601Z",
     "start_time": "2021-10-24T14:01:57.729573Z"
    }
   },
   "outputs": [],
   "source": [
    "def try_none_text_by_class_name(wd,class_name, col='col'):\n",
    "    try:\n",
    "        return wd.find_element_by_class_name(class_name).text\n",
    "    except NoSuchElementException:\n",
    "        print(col, end=' ')\n",
    "        return np.NaN\n",
    "        "
   ]
  },
  {
   "cell_type": "code",
   "execution_count": 12,
   "id": "893bf2d0",
   "metadata": {
    "ExecuteTime": {
     "end_time": "2021-10-24T14:01:57.758636Z",
     "start_time": "2021-10-24T14:01:57.744603Z"
    }
   },
   "outputs": [],
   "source": [
    "def strong_try_none_text_by_class_name(wd,class_name, col='col'):\n",
    "    try:\n",
    "        temps = wd.find_elements_by_class_name(class_name)\n",
    "        for temp in temps:\n",
    "            if temp.text.startswith('편의'):\n",
    "                return temp.text.split('\\n')[1]\n",
    "        else:\n",
    "            return np.NaN\n",
    "    except NoSuchElementException:\n",
    "#         print(col, end='')\n",
    "        return np.NaN\n",
    "        "
   ]
  },
  {
   "cell_type": "code",
   "execution_count": 13,
   "id": "8fbc367f",
   "metadata": {
    "ExecuteTime": {
     "end_time": "2021-10-24T14:01:57.773642Z",
     "start_time": "2021-10-24T14:01:57.759640Z"
    }
   },
   "outputs": [],
   "source": [
    "def review_dict(s):\n",
    "    review_dict = {}\n",
    "#     print(s.split('평균 별점'))\n",
    "    s = s.split('평균 별점')\n",
    "    review_dict['평균_별점'] = s[-1].strip()\n",
    "    s = s[0].split('사진')\n",
    "    if len(s) >= 2:\n",
    "        review_dict['사진'] = int(s[-1])\n",
    "        review_dict['리뷰'] = s[0].split()[-1]\n",
    "    else:\n",
    "        review_dict['사진'] = np.NaN\n",
    "        review_dict['리뷰'] = s[0].split()[-1]\n",
    "# print(s)\n",
    "    return review_dict"
   ]
  },
  {
   "cell_type": "markdown",
   "id": "bc2ae05a",
   "metadata": {},
   "source": [
    "## get_store_info from naver.place by place_code"
   ]
  },
  {
   "cell_type": "code",
   "execution_count": 14,
   "id": "33e38c8d",
   "metadata": {
    "ExecuteTime": {
     "end_time": "2021-10-24T14:01:57.788660Z",
     "start_time": "2021-10-24T14:01:57.774642Z"
    }
   },
   "outputs": [],
   "source": [
    "def get_store_info(wd, code_no):\n",
    "    name = wd.find_element_by_class_name('_3XamX').text\n",
    "#     print(name)\n",
    "    r_type = try_none_text_by_class_name(wd,'_3ocDE','ty')\n",
    "#     print(r_type)\n",
    "    address = try_none_text_by_class_name(wd,'_2yqUQ','ad')\n",
    "#     print(address)\n",
    "    tel = try_none_text_by_class_name(wd,'_3ZA0S','tel') \n",
    "#     print(tel)\n",
    "    utility, detail = np.NaN, np.NaN\n",
    "    for i in wd.find_elements_by_class_name('_1M_Iz'):\n",
    "#         print(i.text)\n",
    "        if '편의' in i.text :\n",
    "            utility = i.text.replace('편의\\n','')\n",
    "        elif '설명' in i.text :\n",
    "            detail = i.text.replace('설명\\n', '')\n",
    "    \n",
    "#     print(code_no, utility, detail)\n",
    "    \n",
    "    nums_list = wd.find_elements_by_class_name('_1Y6hi')\n",
    "    try:\n",
    "        score = nums_list[0].find_element_by_tag_name('em').text\n",
    "    except:\n",
    "        score = np.NaN\n",
    "    try:\n",
    "        review_num = nums_list[1].find_element_by_tag_name('em').text\n",
    "    except:\n",
    "        review_num = np.NaN\n",
    "        \n",
    "    try:\n",
    "        blog_nums = nums_list[2].find_element_by_tag_name('em').text\n",
    "    except:\n",
    "        blog_nums = np.NaN\n",
    "#     print(score, review_num, blog_nums)\n",
    "    collected_date = get_today()\n",
    "\n",
    "    # 데이터 렙 펼치기\n",
    "    for i in wd.find_elements_by_class_name('_3iTUo'):\n",
    "        if i.text=='더보기':\n",
    "            i.send_keys('\\n')\n",
    "        else:\n",
    "            pass\n",
    "            \n",
    "    try:\n",
    "        datalab_1 = {}\n",
    "        datalab_list = wd.find_elements_by_class_name('_3Ryhx')\n",
    "        for datalab in datalab_list:\n",
    "            datalab_1[datalab.find_element_by_class_name('_3hvd9').text] = [x.text for x in datalab.find_elements_by_class_name('_2irYJ') if x.text != '']\n",
    "    except:\n",
    "        datalab_1 = np.NaN\n",
    "        print('d_1', end='')\n",
    "#     print(name, datalab_1)\n",
    "\n",
    "    try:\n",
    "        datalab_g = {}\n",
    "        datalab_block = wd.find_element_by_class_name('_250cA')\n",
    "        datalab_age_list = datalab_block.find_elements_by_class_name('_1Nyv0')\n",
    "        for age_info in datalab_age_list:\n",
    "            age = age_info.find_element_by_class_name('iO1iA').text\n",
    "            preference = age_info.find_element_by_class_name('place_blind').text.replace('%','')\n",
    "            datalab_g[age] = preference\n",
    "            \n",
    "        gender_preferance = wd.find_element_by_class_name('c3-chart-arc.c3-target.c3-target-female').text.replace('%',\"\")\n",
    "        datalab_g['female_pref'] = gender_preferance\n",
    "    except:\n",
    "        datalab_g = np.NaN\n",
    "        print('d_g', end=\"\")\n",
    "#     print(datalab_1, datalab_g)\n",
    "\n",
    "    return name, code_no, r_type, address,tel, score, utility, detail, datalab_1, datalab_g, review_num, blog_nums, collected_date"
   ]
  },
  {
   "cell_type": "code",
   "execution_count": 15,
   "id": "7e251051",
   "metadata": {
    "ExecuteTime": {
     "end_time": "2021-10-24T14:01:57.803666Z",
     "start_time": "2021-10-24T14:01:57.789665Z"
    }
   },
   "outputs": [],
   "source": [
    "code_path = 'data/코드/'\n",
    "구이름 = '강남구'\n",
    "업종 = 'DINING'\n",
    "code_file = '가게코드_' + 구이름 + '_'+ 업종 + '.csv'"
   ]
  },
  {
   "cell_type": "code",
   "execution_count": 16,
   "id": "f1eee300",
   "metadata": {
    "ExecuteTime": {
     "end_time": "2021-10-24T14:01:57.818684Z",
     "start_time": "2021-10-24T14:01:57.804666Z"
    }
   },
   "outputs": [],
   "source": [
    "code_df = read_csv_코드정보(code_path, code_file)"
   ]
  },
  {
   "cell_type": "code",
   "execution_count": 17,
   "id": "e2ada81e",
   "metadata": {
    "ExecuteTime": {
     "end_time": "2021-10-24T14:01:57.833694Z",
     "start_time": "2021-10-24T14:01:57.819684Z"
    }
   },
   "outputs": [
    {
     "data": {
      "text/plain": [
       "(6863, 2)"
      ]
     },
     "execution_count": 17,
     "metadata": {},
     "output_type": "execute_result"
    }
   ],
   "source": [
    "code_df.shape"
   ]
  },
  {
   "cell_type": "code",
   "execution_count": 18,
   "id": "552acffc",
   "metadata": {
    "ExecuteTime": {
     "end_time": "2021-10-24T14:01:57.848720Z",
     "start_time": "2021-10-24T14:01:57.834696Z"
    }
   },
   "outputs": [],
   "source": [
    "def naver_map_store_scrapping( 구이름, 업종, slow= 1):\n",
    "    start_time = time.time()\n",
    "\n",
    "    options = webdriver.ChromeOptions()\n",
    "\n",
    "    options.add_argument(\"--start-maximized\")\n",
    "    wd = webdriver.Chrome(ChromeDriverManager().install(), options= options)  # chromedriver 열기\n",
    "    wd.implicitly_wait(1*slow)\n",
    "    \n",
    "    code_path = 'data/코드/'\n",
    "    review_path = 'data/리뷰/'\n",
    "    store_path = 'data/가게/'\n",
    "\n",
    "    code_file = '가게코드_' + 구이름 + '_'+ 업종 + '.csv'\n",
    "    review_file = '리뷰정보_' + 구이름 + '_'+ 업종 + '.csv'\n",
    "    store_file = '가게정보_' + 구이름 + '_'+ 업종 + '.csv'\n",
    "    store_idx = 0\n",
    "    store_df = pd.DataFrame(columns=(\"name\", \"code_no\", \"r_type\",\"address\",\"tel\",\n",
    "                                     \"score\",\"utility\",\"detail\",\"datalab_1\", \"datalab_g\", \"review_num\",\n",
    "                                     \"blog_num\", \"collected_date\"))\n",
    "\n",
    "    current_num = 1\n",
    "\n",
    "    code_df = pd.read_csv(code_path+code_file, dtype='str')\n",
    "\n",
    "    print(f'{구이름}  {업종} 업종 의 가게 정보 스크래핑을 시작합니다.')\n",
    "\n",
    "    print(f'{code_df.shape[0]}개의 가게코드가 있습니다.')\n",
    "\n",
    "    for _, code_no_ in code_df.iterrows():\n",
    "        code_no = code_no_.values[1]\n",
    "\n",
    "        place_url = 'https://pcmap.place.naver.com/restaurant/'+str(code_no)\n",
    "\n",
    "        wd.get(place_url)\n",
    "        time.sleep(1*slow)\n",
    "        scroll_down(wd,0.5)\n",
    "        cnt_idx = 0\n",
    "\n",
    "        try:\n",
    "#             input('ddd')\n",
    "            wd.implicitly_wait(0.001*slow)\n",
    "            store_df.loc[store_idx] = get_store_info(wd,code_no)\n",
    "            wd.implicitly_wait(1*slow)\n",
    "            print(store_idx, end='#')\n",
    "            store_idx += 1\n",
    "            time.sleep(5)\n",
    "            \n",
    "        except:\n",
    "            print(store_idx, end='!!')\n",
    "            pass\n",
    "        \n",
    "        ##################### cooling down\n",
    "        if store_idx%100 == 0 :\n",
    "            wd.close()\n",
    "            wd = webdriver.Chrome(ChromeDriverManager().install(), options= options)  # chromedriver 열기\n",
    "            wd.implicitly_wait(1*slow)\n",
    "            time.sleep(1*slow)\n",
    "        ##################### Test Test Test\n",
    "#         if store_idx >=10:\n",
    "#             store_df.to_csv(store_path+store_file, index=False)\n",
    "#             print(구이름,업종, f'가게 {store_idx}개 완료' )\n",
    "#             print(f'{time.time()-start_time} 소요')\n",
    "#             wd.close()\n",
    "#             break\n",
    "    else:\n",
    "        store_df.to_csv(store_path+store_file, index=False)\n",
    "        print(구이름, 업종, f'가게 {store_idx}개 완료' )\n",
    "        print(f'{time.time()-start_time} 소요')\n",
    "        wd.close()\n",
    "        \n",
    "#     return store_df"
   ]
  },
  {
   "cell_type": "code",
   "execution_count": 18,
   "id": "1792ad9e",
   "metadata": {
    "ExecuteTime": {
     "end_time": "2021-10-24T14:01:57.848720Z",
     "start_time": "2021-10-24T14:01:57.834696Z"
    }
   },
   "outputs": [],
   "source": [
    "def naver_map_store_scrapping( 구이름, 업종, slow= 1):\n",
    "    start_time = time.time()\n",
    "\n",
    "    options = webdriver.ChromeOptions()\n",
    "\n",
    "    options.add_argument(\"--start-maximized\")\n",
    "    wd = webdriver.Chrome(ChromeDriverManager().install(), options= options)  # chromedriver 열기\n",
    "    wd.implicitly_wait(1*slow)\n",
    "    \n",
    "    code_path = 'data/코드/'\n",
    "    review_path = 'data/리뷰/'\n",
    "    store_path = 'data/가게/'\n",
    "\n",
    "    code_file = '가게코드_' + 구이름 + '_'+ 업종 + '.csv'\n",
    "    review_file = '리뷰정보_' + 구이름 + '_'+ 업종 + '.csv'\n",
    "    store_file = '가게정보_' + 구이름 + '_'+ 업종 + '.csv'\n",
    "    \n",
    "    store_idx = 0\n",
    "    store_df = pd.DataFrame(columns=(\"name\", \"code_no\", \"r_type\",\"address\",\"tel\",\n",
    "                                     \"score\",\"utility\",\"detail\",\"datalab_1\", \"datalab_g\", \"review_num\",\n",
    "                                     \"blog_num\", \"collected_date\"))\n",
    "    \n",
    "    if check_file(store_path, store_file):\n",
    "        store_df = pd.read_csv(store_path+store_file)\n",
    "        store_idx = store_df.shape[0]\n",
    "    done_list = store_df['code_no'].value.to_list()\n",
    "    code_df = pd.read_csv(code_path+code_file, dtype='str')\n",
    "\n",
    "    print(f'{구이름}  {업종} 업종 의 가게 정보 스크래핑을 시작합니다.')\n",
    "\n",
    "    print(f'{code_df.shape[0]}개의 가게코드가 있습니다.')\n",
    "    \n",
    "    print(f'{store_idx}가 이전에 완료 되었었습니다. 이어서 진행합니다.')\n",
    "\n",
    "    for _, code_no_ in code_df.iterrows():\n",
    "        code_no = code_no_.values[1]\n",
    "        if code_no in done_list:\n",
    "            print(code_no)\n",
    "            continue\n",
    "            \n",
    "        place_url = 'https://pcmap.place.naver.com/restaurant/'+str(code_no)\n",
    "\n",
    "        wd.get(place_url)\n",
    "        time.sleep(1*slow)\n",
    "        scroll_down(wd,0.5)\n",
    "        cnt_idx = 0\n",
    "\n",
    "        try:\n",
    "#             input('ddd')\n",
    "            wd.implicitly_wait(0.001*slow)\n",
    "            store_df.loc[store_idx] = get_store_info(wd,code_no)\n",
    "            wd.implicitly_wait(1*slow)\n",
    "            print(store_idx, end='#')\n",
    "            store_idx += 1\n",
    "            time.sleep(5)\n",
    "            \n",
    "        except:\n",
    "            print(store_idx, end='!!')\n",
    "            pass\n",
    "        \n",
    "        ##################### cooling down\n",
    "        if store_idx%100 == 0 :\n",
    "            wd.close()\n",
    "            wd = webdriver.Chrome(ChromeDriverManager().install(), options= options)  # chromedriver 열기\n",
    "            wd.implicitly_wait(1*slow)\n",
    "            time.sleep(1*slow)\n",
    "            \n",
    "        ##################### save just in case:\n",
    "        if store_idx%500 == 0 :\n",
    "            store_df.to_csv(store_path+store_file, index=False)\n",
    "            print(구이름, 업종, f'가게 {store_idx}개 중간저장')\n",
    "            print(f'{time.time()-start_time} 소요')\n",
    "        ##################### Test Test Test\n",
    "#         if store_idx >=10:\n",
    "#             store_df.to_csv(store_path+store_file, index=False)\n",
    "#             print(구이름,업종, f'가게 {store_idx}개 완료' )\n",
    "#             print(f'{time.time()-start_time} 소요')\n",
    "#             wd.close()\n",
    "#             break\n",
    "    else:\n",
    "        store_df.to_csv(store_path+store_file, index=False)\n",
    "        print(구이름, 업종, f'가게 {store_idx}개 완료' )\n",
    "        print(f'{time.time()-start_time} 소요')\n",
    "        wd.close()\n",
    "        \n",
    "#     return store_df"
   ]
  },
  {
   "cell_type": "markdown",
   "id": "3153cdcb",
   "metadata": {},
   "source": [
    "# 셋팅"
   ]
  },
  {
   "cell_type": "code",
   "execution_count": 19,
   "id": "261a8890",
   "metadata": {
    "ExecuteTime": {
     "end_time": "2021-10-24T14:01:57.863605Z",
     "start_time": "2021-10-24T14:01:57.849724Z"
    }
   },
   "outputs": [],
   "source": [
    "# code_path = 'data/코드/'\n",
    "# review_path = 'data/리뷰/'\n",
    "# store_path = 'data/가게/'\n",
    "\n",
    "# code_file = '가게코드_' + 구이름 + '_' + 동이름+ '_'+ 업종 + '.csv'\n",
    "# review_file = '리뷰정보_' + 구이름 + '_' + 동이름+ '_'+ 업종 + '.csv'\n",
    "# store_file = '가게정보_' + 구이름 + '_' + 동이름+ '_'+ 업종 + '.csv'"
   ]
  },
  {
   "cell_type": "code",
   "execution_count": 20,
   "id": "71e6e2c5",
   "metadata": {
    "ExecuteTime": {
     "end_time": "2021-10-24T14:01:57.878461Z",
     "start_time": "2021-10-24T14:01:57.864611Z"
    }
   },
   "outputs": [],
   "source": [
    "code_path = 'data/코드/'\n",
    "store_path = 'data/가게/'\n",
    "# code_file = '가게코드_' + 구이름 + '_'+ 업종 + '.csv'\n",
    "# store_file = '가게정보_' + 구이름 +  '_'+ 업종 + '.csv'"
   ]
  },
  {
   "cell_type": "code",
   "execution_count": 21,
   "id": "f80c3ce9",
   "metadata": {
    "ExecuteTime": {
     "end_time": "2021-10-24T14:01:57.893493Z",
     "start_time": "2021-10-24T14:01:57.879466Z"
    }
   },
   "outputs": [],
   "source": [
    "detail= True\n",
    "slow=1"
   ]
  },
  {
   "cell_type": "markdown",
   "id": "ed4a5301",
   "metadata": {},
   "source": [
    "#  코드 수집 및 저장"
   ]
  },
  {
   "cell_type": "code",
   "execution_count": 22,
   "id": "1bf47c0d",
   "metadata": {
    "ExecuteTime": {
     "end_time": "2021-10-24T15:16:16.004202Z",
     "start_time": "2021-10-24T14:01:57.894493Z"
    },
    "scrolled": false
   },
   "outputs": [
    {
     "name": "stderr",
     "output_type": "stream",
     "text": [
      "[WDM] - \n",
      "\n",
      "[WDM] - ====== WebDriver manager ======\n",
      "[WDM] - Current google-chrome version is 95.0.4638\n",
      "[WDM] - Get LATEST driver version for 95.0.4638\n",
      "[WDM] - Driver [C:\\Users\\bigne\\.wdm\\drivers\\chromedriver\\win32\\95.0.4638.17\\chromedriver.exe] found in cache\n"
     ]
    },
    {
     "name": "stdout",
     "output_type": "stream",
     "text": [
      "강남구 가게 정보 수집 완료\n",
      "강동구 DINING이 없습니다. \n",
      "강북구 DINING이 없습니다. \n",
      "강서구 DINING이 없습니다. \n",
      "관악구 DINING이 없습니다. \n",
      "광진구 DINING이 없습니다. \n",
      "구로구 DINING이 없습니다. \n",
      "금천구 DINING이 없습니다. \n",
      "노원구 DINING이 없습니다. \n",
      "도봉구 DINING이 없습니다. \n",
      "동대문구 DINING이 없습니다. \n",
      "동작구 DINING이 없습니다. \n",
      "마포구 DINING이 없습니다. \n",
      "서대문구 DINING이 없습니다. \n",
      "서초구 DINING이 없습니다. \n",
      "성동구 DINING이 없습니다. \n",
      "성북구 DINING이 없습니다. \n",
      "송파구 DINING이 없습니다. \n",
      "양천구 DINING이 없습니다. \n",
      "영등포구 DINING이 없습니다. \n",
      "용산구 DINING이 없습니다. \n",
      "은평구  DINING 업종 의 가게 정보 스크래핑을 시작합니다.\n",
      "3261개의 가게코드가 있습니다.\n",
      "0#1#2#3#4#5#6#7#8#9#10#11#12#13#14#15#16#17#18#19#20#21#22#23#24#25#26#27#28#29#30#31#32#33#34#35#36#37#38#39#40#41#42#43#44#45#46#47#48#49#50#51#52#53#54#55#56#57#58#59#60#61#62#63#64#d_g65#66#67#68#69#70#71#72#73#74#75#76#77#78#79#80#d_g81#82#83#d_g84#d_g85#86#87#d_g88#89#90#d_g91#92#d_g93#d_g94#d_g95#d_g96#d_g97#98#99#"
     ]
    },
    {
     "name": "stderr",
     "output_type": "stream",
     "text": [
      "[WDM] - \n",
      "\n",
      "[WDM] - ====== WebDriver manager ======\n",
      "[WDM] - Current google-chrome version is 95.0.4638\n",
      "[WDM] - Get LATEST driver version for 95.0.4638\n",
      "[WDM] - Driver [C:\\Users\\bigne\\.wdm\\drivers\\chromedriver\\win32\\95.0.4638.17\\chromedriver.exe] found in cache\n"
     ]
    },
    {
     "name": "stdout",
     "output_type": "stream",
     "text": [
      "100#d_g101#d_g102#d_g103#104#d_g105#d_g106#d_g107#108#d_g109#d_g110#d_g111#112#d_g113#114#d_g115#d_g116#117#d_g118#119#120#121#122#123#d_g124#125#d_g126#127#d_g128#d_g129#d_g130#131#d_g132#d_g133#d_g134#d_g135#136#137#d_g138#d_g139#d_g140#d_g141#d_g142#d_g143#d_g144#d_g145#d_g146#d_g147#148#d_g149#tel d_g150#d_g151#tel d_g152#tel d_g153#154#tel d_g155#156#d_g157#158#159#160#161#162#163#164#165#d_g166#d_g167#d_g168#d_g169#d_g170#d_g171#d_g172#d_g173#d_g174#d_g175#d_g176#d_g177#d_g178#d_g179#d_g180#d_g181#d_g182#d_g183#tel d_g184#d_g185#186#187#188#189#190#d_g191#d_g192#d_g193#194#d_g195#d_g196#197#d_g198#d_g199#"
     ]
    },
    {
     "name": "stderr",
     "output_type": "stream",
     "text": [
      "[WDM] - \n",
      "\n",
      "[WDM] - ====== WebDriver manager ======\n",
      "[WDM] - Current google-chrome version is 95.0.4638\n",
      "[WDM] - Get LATEST driver version for 95.0.4638\n",
      "[WDM] - Driver [C:\\Users\\bigne\\.wdm\\drivers\\chromedriver\\win32\\95.0.4638.17\\chromedriver.exe] found in cache\n"
     ]
    },
    {
     "name": "stdout",
     "output_type": "stream",
     "text": [
      "d_g200#201#d_g202#d_g203#204#205#d_g206#d_g207#d_g208#d_g209#d_g210#d_g211#d_g212#d_g213#d_g214#d_g215#d_g216#d_g217#d_g218#tel d_g219#d_g220#d_g221#d_g222#d_g223#d_g224#d_g225#d_g226#d_g227#d_g228#229#230#231#d_g232#d_g233#234#235#236#d_g237#238#d_g239#d_g240#d_g241#242#d_g243#d_g244#245#d_g246#d_g247#d_g248#d_g249#d_g250#d_g251#d_g252#d_g253#d_g254#d_g255#d_g256#d_g257#258#259#d_g260#d_g261#d_g262#d_g263#d_g264#d_g265#d_g266#d_g267#d_g268#269#270#d_g271#d_g272#d_g273#d_g274#d_g275#tel d_g276#277#d_g278#279#d_g280#281#d_g282#283#d_g284#d_g285#286#287#d_g288#d_g289#d_g290#291#d_g292#d_g293#294#d_g295#296#297#d_g298#299#"
     ]
    },
    {
     "name": "stderr",
     "output_type": "stream",
     "text": [
      "[WDM] - \n",
      "\n",
      "[WDM] - ====== WebDriver manager ======\n",
      "[WDM] - Current google-chrome version is 95.0.4638\n",
      "[WDM] - Get LATEST driver version for 95.0.4638\n",
      "[WDM] - Driver [C:\\Users\\bigne\\.wdm\\drivers\\chromedriver\\win32\\95.0.4638.17\\chromedriver.exe] found in cache\n"
     ]
    },
    {
     "name": "stdout",
     "output_type": "stream",
     "text": [
      "d_g300#d_g301#d_g302#303#d_g304#305#d_g306#d_g307#d_g308#d_g309#d_g310#d_g311#d_g312#d_g313#d_g314#d_g315#d_g316#d_g317#d_g318#tel d_g319#tel d_g320#d_g321#tel d_g322#d_g323#d_g324#d_g325#d_g326#tel d_g327#d_g328#d_g329#d_g330#d_g331#d_g332#d_g333#d_g334#d_g335#tel d_g336#tel d_g337#d_g338#d_g339#d_g340#d_g341#d_g342#d_g343#d_g344#d_g345#d_g346#d_g347#348#349#350#351#d_g352#d_g353#d_g354#355#356#d_g357#d_g358#d_g359#d_g360#d_g361#362#363#d_g364#d_g365#d_g366#d_g367#d_g368#d_g369#370#371#372#373#d_g374#d_g375#d_g376#tel d_g377#d_g378#379#d_g380#d_g381#d_g382#d_g383#d_g384#d_g385#d_g386#d_g387#388#d_g389#d_g390#d_g391#d_g392#d_g393#d_g394#395#d_g396#d_g397#398#399#"
     ]
    },
    {
     "name": "stderr",
     "output_type": "stream",
     "text": [
      "[WDM] - \n",
      "\n",
      "[WDM] - ====== WebDriver manager ======\n",
      "[WDM] - Current google-chrome version is 95.0.4638\n",
      "[WDM] - Get LATEST driver version for 95.0.4638\n",
      "[WDM] - Driver [C:\\Users\\bigne\\.wdm\\drivers\\chromedriver\\win32\\95.0.4638.17\\chromedriver.exe] found in cache\n"
     ]
    },
    {
     "name": "stdout",
     "output_type": "stream",
     "text": [
      "d_g400#d_g401#d_g402#d_g403#d_g404#d_g405#d_g406#d_g407#d_g408#d_g409#d_g410#d_g411#d_g412#d_g413#d_g414#d_g415#d_g416#d_g417#d_g418#419#d_g420#d_g421#422#d_g423#d_g424#425#d_g426#d_g427#d_g428#d_g429#d_g430#d_g431#d_g432#d_g433#d_g434#d_g435#d_g436#d_g437#d_g438#d_g439#d_g440#d_g441#d_g442#443#d_g444#d_g445#d_g446#d_g447#d_g448#d_g449#d_g450#d_g451#d_g452#d_g453#d_g454#d_g455#d_g456#d_g457#d_g458#d_g459#d_g460#d_g461#d_g462#d_g463#d_g464#d_g465#tel d_g466#d_g467#d_g468#d_g469#d_g470#471#d_g472#d_g473#474#d_g475#d_g476#d_g477#d_g478#d_g479#d_g480#d_g481#d_g482#d_g483#d_g484#d_g485#486#d_g487#d_g488#d_g489#d_g490#d_g491#d_g492#d_g493#d_g494#d_g495#d_g496#d_g497#d_g498#d_g499#"
     ]
    },
    {
     "name": "stderr",
     "output_type": "stream",
     "text": [
      "[WDM] - \n",
      "\n",
      "[WDM] - ====== WebDriver manager ======\n",
      "[WDM] - Current google-chrome version is 95.0.4638\n",
      "[WDM] - Get LATEST driver version for 95.0.4638\n",
      "[WDM] - Get LATEST driver version for 95.0.4638\n",
      "[WDM] - Trying to download new driver from https://chromedriver.storage.googleapis.com/95.0.4638.17/chromedriver_win32.zip\n",
      "[WDM] - Driver has been saved in cache [C:\\Users\\bigne\\.wdm\\drivers\\chromedriver\\win32\\95.0.4638.17]\n"
     ]
    },
    {
     "name": "stdout",
     "output_type": "stream",
     "text": [
      "d_g500#d_g501#502#d_g503#d_g504#d_g505#d_g506#d_g507#508#d_g509#d_g510#d_g511#d_g512#d_g513#d_g514#d_g515#d_g516#d_g517#518#d_g519#520#d_g521#d_g522#d_g523#d_g524#d_g525#d_g526#d_g527#d_g528#d_g529#d_g530#d_g531#d_g532#d_g533#534#d_g535#d_g536#d_g537#d_g538#d_g539#d_g540#d_g541#d_g542#d_g543#d_g544#d_g545#d_g546#d_g547#d_g548#d_g549#d_g550#d_g551#d_g552#d_g553#554#555#d_g556#d_g557#d_g558#d_g559#d_g560#d_g561#d_g562#d_g563#"
     ]
    },
    {
     "ename": "WebDriverException",
     "evalue": "Message: chrome not reachable\n  (Session info: chrome=95.0.4638.54)\n",
     "output_type": "error",
     "traceback": [
      "\u001b[1;31m-------------------------------------------------------------------------\u001b[0m",
      "\u001b[1;31mWebDriverException\u001b[0m                      Traceback (most recent call last)",
      "\u001b[1;32mC:\\Users\\Public\\Documents\\ESTsoft\\CreatorTemp/ipykernel_31928/2073821542.py\u001b[0m in \u001b[0;36m<module>\u001b[1;34m\u001b[0m\n\u001b[0;32m      9\u001b[0m             \u001b[1;32mpass\u001b[0m\u001b[1;33m\u001b[0m\u001b[1;33m\u001b[0m\u001b[0m\n\u001b[0;32m     10\u001b[0m         \u001b[1;32melse\u001b[0m\u001b[1;33m:\u001b[0m\u001b[1;33m\u001b[0m\u001b[1;33m\u001b[0m\u001b[0m\n\u001b[1;32m---> 11\u001b[1;33m             \u001b[0mnaver_map_store_scrapping\u001b[0m\u001b[1;33m(\u001b[0m \u001b[0m구이름\u001b[0m\u001b[1;33m,\u001b[0m \u001b[0m업종\u001b[0m\u001b[1;33m,\u001b[0m \u001b[0mslow\u001b[0m\u001b[1;33m=\u001b[0m \u001b[1;36m1\u001b[0m\u001b[1;33m)\u001b[0m\u001b[1;33m\u001b[0m\u001b[1;33m\u001b[0m\u001b[0m\n\u001b[0m\u001b[0;32m     12\u001b[0m     \u001b[1;32melse\u001b[0m\u001b[1;33m:\u001b[0m\u001b[1;33m\u001b[0m\u001b[1;33m\u001b[0m\u001b[0m\n\u001b[0;32m     13\u001b[0m         \u001b[0mprint\u001b[0m\u001b[1;33m(\u001b[0m\u001b[1;34mf'{구이름} {업종}이 없습니다. '\u001b[0m\u001b[1;33m)\u001b[0m\u001b[1;33m\u001b[0m\u001b[1;33m\u001b[0m\u001b[0m\n",
      "\u001b[1;32mC:\\Users\\Public\\Documents\\ESTsoft\\CreatorTemp/ipykernel_31928/249025925.py\u001b[0m in \u001b[0;36mnaver_map_store_scrapping\u001b[1;34m(구이름, 업종, slow)\u001b[0m\n\u001b[0;32m     33\u001b[0m         \u001b[0mplace_url\u001b[0m \u001b[1;33m=\u001b[0m \u001b[1;34m'https://pcmap.place.naver.com/restaurant/'\u001b[0m\u001b[1;33m+\u001b[0m\u001b[0mstr\u001b[0m\u001b[1;33m(\u001b[0m\u001b[0mcode_no\u001b[0m\u001b[1;33m)\u001b[0m\u001b[1;33m\u001b[0m\u001b[1;33m\u001b[0m\u001b[0m\n\u001b[0;32m     34\u001b[0m \u001b[1;33m\u001b[0m\u001b[0m\n\u001b[1;32m---> 35\u001b[1;33m         \u001b[0mwd\u001b[0m\u001b[1;33m.\u001b[0m\u001b[0mget\u001b[0m\u001b[1;33m(\u001b[0m\u001b[0mplace_url\u001b[0m\u001b[1;33m)\u001b[0m\u001b[1;33m\u001b[0m\u001b[1;33m\u001b[0m\u001b[0m\n\u001b[0m\u001b[0;32m     36\u001b[0m         \u001b[0mtime\u001b[0m\u001b[1;33m.\u001b[0m\u001b[0msleep\u001b[0m\u001b[1;33m(\u001b[0m\u001b[1;36m1\u001b[0m\u001b[1;33m*\u001b[0m\u001b[0mslow\u001b[0m\u001b[1;33m)\u001b[0m\u001b[1;33m\u001b[0m\u001b[1;33m\u001b[0m\u001b[0m\n\u001b[0;32m     37\u001b[0m         \u001b[0mscroll_down\u001b[0m\u001b[1;33m(\u001b[0m\u001b[0mwd\u001b[0m\u001b[1;33m,\u001b[0m\u001b[1;36m0.5\u001b[0m\u001b[1;33m)\u001b[0m\u001b[1;33m\u001b[0m\u001b[1;33m\u001b[0m\u001b[0m\n",
      "\u001b[1;32m~\\anaconda3\\lib\\site-packages\\selenium\\webdriver\\remote\\webdriver.py\u001b[0m in \u001b[0;36mget\u001b[1;34m(self, url)\u001b[0m\n\u001b[0;32m    331\u001b[0m         \u001b[0mLoads\u001b[0m \u001b[0ma\u001b[0m \u001b[0mweb\u001b[0m \u001b[0mpage\u001b[0m \u001b[1;32min\u001b[0m \u001b[0mthe\u001b[0m \u001b[0mcurrent\u001b[0m \u001b[0mbrowser\u001b[0m \u001b[0msession\u001b[0m\u001b[1;33m.\u001b[0m\u001b[1;33m\u001b[0m\u001b[1;33m\u001b[0m\u001b[0m\n\u001b[0;32m    332\u001b[0m         \"\"\"\n\u001b[1;32m--> 333\u001b[1;33m         \u001b[0mself\u001b[0m\u001b[1;33m.\u001b[0m\u001b[0mexecute\u001b[0m\u001b[1;33m(\u001b[0m\u001b[0mCommand\u001b[0m\u001b[1;33m.\u001b[0m\u001b[0mGET\u001b[0m\u001b[1;33m,\u001b[0m \u001b[1;33m{\u001b[0m\u001b[1;34m'url'\u001b[0m\u001b[1;33m:\u001b[0m \u001b[0murl\u001b[0m\u001b[1;33m}\u001b[0m\u001b[1;33m)\u001b[0m\u001b[1;33m\u001b[0m\u001b[1;33m\u001b[0m\u001b[0m\n\u001b[0m\u001b[0;32m    334\u001b[0m \u001b[1;33m\u001b[0m\u001b[0m\n\u001b[0;32m    335\u001b[0m     \u001b[1;33m@\u001b[0m\u001b[0mproperty\u001b[0m\u001b[1;33m\u001b[0m\u001b[1;33m\u001b[0m\u001b[0m\n",
      "\u001b[1;32m~\\anaconda3\\lib\\site-packages\\selenium\\webdriver\\remote\\webdriver.py\u001b[0m in \u001b[0;36mexecute\u001b[1;34m(self, driver_command, params)\u001b[0m\n\u001b[0;32m    319\u001b[0m         \u001b[0mresponse\u001b[0m \u001b[1;33m=\u001b[0m \u001b[0mself\u001b[0m\u001b[1;33m.\u001b[0m\u001b[0mcommand_executor\u001b[0m\u001b[1;33m.\u001b[0m\u001b[0mexecute\u001b[0m\u001b[1;33m(\u001b[0m\u001b[0mdriver_command\u001b[0m\u001b[1;33m,\u001b[0m \u001b[0mparams\u001b[0m\u001b[1;33m)\u001b[0m\u001b[1;33m\u001b[0m\u001b[1;33m\u001b[0m\u001b[0m\n\u001b[0;32m    320\u001b[0m         \u001b[1;32mif\u001b[0m \u001b[0mresponse\u001b[0m\u001b[1;33m:\u001b[0m\u001b[1;33m\u001b[0m\u001b[1;33m\u001b[0m\u001b[0m\n\u001b[1;32m--> 321\u001b[1;33m             \u001b[0mself\u001b[0m\u001b[1;33m.\u001b[0m\u001b[0merror_handler\u001b[0m\u001b[1;33m.\u001b[0m\u001b[0mcheck_response\u001b[0m\u001b[1;33m(\u001b[0m\u001b[0mresponse\u001b[0m\u001b[1;33m)\u001b[0m\u001b[1;33m\u001b[0m\u001b[1;33m\u001b[0m\u001b[0m\n\u001b[0m\u001b[0;32m    322\u001b[0m             response['value'] = self._unwrap_value(\n\u001b[0;32m    323\u001b[0m                 response.get('value', None))\n",
      "\u001b[1;32m~\\anaconda3\\lib\\site-packages\\selenium\\webdriver\\remote\\errorhandler.py\u001b[0m in \u001b[0;36mcheck_response\u001b[1;34m(self, response)\u001b[0m\n\u001b[0;32m    240\u001b[0m                 \u001b[0malert_text\u001b[0m \u001b[1;33m=\u001b[0m \u001b[0mvalue\u001b[0m\u001b[1;33m[\u001b[0m\u001b[1;34m'alert'\u001b[0m\u001b[1;33m]\u001b[0m\u001b[1;33m.\u001b[0m\u001b[0mget\u001b[0m\u001b[1;33m(\u001b[0m\u001b[1;34m'text'\u001b[0m\u001b[1;33m)\u001b[0m\u001b[1;33m\u001b[0m\u001b[1;33m\u001b[0m\u001b[0m\n\u001b[0;32m    241\u001b[0m             \u001b[1;32mraise\u001b[0m \u001b[0mexception_class\u001b[0m\u001b[1;33m(\u001b[0m\u001b[0mmessage\u001b[0m\u001b[1;33m,\u001b[0m \u001b[0mscreen\u001b[0m\u001b[1;33m,\u001b[0m \u001b[0mstacktrace\u001b[0m\u001b[1;33m,\u001b[0m \u001b[0malert_text\u001b[0m\u001b[1;33m)\u001b[0m\u001b[1;33m\u001b[0m\u001b[1;33m\u001b[0m\u001b[0m\n\u001b[1;32m--> 242\u001b[1;33m         \u001b[1;32mraise\u001b[0m \u001b[0mexception_class\u001b[0m\u001b[1;33m(\u001b[0m\u001b[0mmessage\u001b[0m\u001b[1;33m,\u001b[0m \u001b[0mscreen\u001b[0m\u001b[1;33m,\u001b[0m \u001b[0mstacktrace\u001b[0m\u001b[1;33m)\u001b[0m\u001b[1;33m\u001b[0m\u001b[1;33m\u001b[0m\u001b[0m\n\u001b[0m\u001b[0;32m    243\u001b[0m \u001b[1;33m\u001b[0m\u001b[0m\n\u001b[0;32m    244\u001b[0m     \u001b[1;32mdef\u001b[0m \u001b[0m_value_or_default\u001b[0m\u001b[1;33m(\u001b[0m\u001b[0mself\u001b[0m\u001b[1;33m,\u001b[0m \u001b[0mobj\u001b[0m\u001b[1;33m,\u001b[0m \u001b[0mkey\u001b[0m\u001b[1;33m,\u001b[0m \u001b[0mdefault\u001b[0m\u001b[1;33m)\u001b[0m\u001b[1;33m:\u001b[0m\u001b[1;33m\u001b[0m\u001b[1;33m\u001b[0m\u001b[0m\n",
      "\u001b[1;31mWebDriverException\u001b[0m: Message: chrome not reachable\n  (Session info: chrome=95.0.4638.54)\n"
     ]
    }
   ],
   "source": [
    "업종= 'DINING'\n",
    "\n",
    "for 구이름 in sorted(dong_dict.keys()):\n",
    "    code_file = '가게코드_' + 구이름 + '_'+ 업종 + '.csv'\n",
    "    if check_file(code_path, code_file):\n",
    "        store_file = '가게정보_' + 구이름 +  '_'+ 업종 + '.csv'\n",
    "        if check_file(store_path, store_file):\n",
    "            print(f'{구이름} 가게 정보 수집 완료')\n",
    "            pass\n",
    "        else:\n",
    "            naver_map_store_scrapping( 구이름, 업종, slow= 1)\n",
    "    else:\n",
    "        print(f'{구이름} {업종}이 없습니다. ')"
   ]
  },
  {
   "cell_type": "code",
   "execution_count": null,
   "id": "7eb2fff4",
   "metadata": {
    "ExecuteTime": {
     "end_time": "2021-10-24T15:16:16.005205Z",
     "start_time": "2021-10-24T15:16:16.005205Z"
    }
   },
   "outputs": [],
   "source": [
    "df = pd.read_csv('data/가게/가게정보_중랑구_DINING.csv')"
   ]
  },
  {
   "cell_type": "code",
   "execution_count": null,
   "id": "1621a5d5",
   "metadata": {
    "ExecuteTime": {
     "end_time": "2021-10-24T15:16:16.006205Z",
     "start_time": "2021-10-24T15:16:16.006205Z"
    },
    "scrolled": false
   },
   "outputs": [],
   "source": [
    "df"
   ]
  },
  {
   "cell_type": "code",
   "execution_count": null,
   "id": "8ad30d87",
   "metadata": {},
   "outputs": [],
   "source": []
  }
 ],
 "metadata": {
  "kernelspec": {
   "display_name": "Python 3 (ipykernel)",
   "language": "python",
   "name": "python3"
  },
  "language_info": {
   "codemirror_mode": {
    "name": "ipython",
    "version": 3
   },
   "file_extension": ".py",
   "mimetype": "text/x-python",
   "name": "python",
   "nbconvert_exporter": "python",
   "pygments_lexer": "ipython3",
   "version": "3.8.11"
  },
  "toc": {
   "base_numbering": 1,
   "nav_menu": {},
   "number_sections": true,
   "sideBar": true,
   "skip_h1_title": false,
   "title_cell": "Table of Contents",
   "title_sidebar": "Contents",
   "toc_cell": false,
   "toc_position": {
    "height": "calc(100% - 180px)",
    "left": "10px",
    "top": "150px",
    "width": "322.792px"
   },
   "toc_section_display": true,
   "toc_window_display": false
  }
 },
 "nbformat": 4,
 "nbformat_minor": 5
}
